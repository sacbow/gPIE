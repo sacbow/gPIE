{
 "cells": [
  {
   "cell_type": "code",
   "execution_count": 1,
   "id": "6db30db1",
   "metadata": {},
   "outputs": [],
   "source": [
    "import sys\n",
    "import os\n",
    "\n",
    "# プロジェクトルートを Python パスに追加\n",
    "project_root = os.path.abspath(os.path.join(os.getcwd(), \"..\"))\n",
    "if project_root not in sys.path:\n",
    "    sys.path.insert(0, project_root)"
   ]
  },
  {
   "cell_type": "code",
   "execution_count": 2,
   "id": "751b322c",
   "metadata": {},
   "outputs": [],
   "source": [
    "import numpy as np\n",
    "from graph.prior import GaussianPrior\n",
    "from graph.measurement import GaussianMeasurement\n",
    "from core.uncertain_array import UncertainArray as UA"
   ]
  },
  {
   "cell_type": "code",
   "execution_count": 3,
   "id": "b5fc9465",
   "metadata": {},
   "outputs": [
    {
     "name": "stdout",
     "output_type": "stream",
     "text": [
      "Mean:\n",
      " [[0.8430935 +0.05214924j 0.65292404-0.13560648j 0.90612983+0.12423163j\n",
      "  0.93301594-0.00706059j]\n",
      " [0.52408196-0.02614349j 0.61584401-0.09629798j 0.81807936+0.17289345j\n",
      "  0.75527654-0.02185377j]\n",
      " [0.79762396-0.0605747j  0.67936137-0.0497992j  0.92436565+0.07527989j\n",
      "  0.90999639+0.0516816j ]\n",
      " [0.80933815+0.05836921j 0.95941598+0.06092729j 0.86611581+0.30287471j\n",
      "  0.67847769-0.05747576j]]\n",
      "Precision:\n",
      " [[5. 5. 5. 5.]\n",
      " [5. 5. 5. 5.]\n",
      " [5. 5. 5. 5.]\n",
      " [5. 5. 5. 5.]]\n"
     ]
    }
   ],
   "source": [
    "# 1. Prior → X\n",
    "X = GaussianPrior(shape=(4, 4), mean=0, var=1.0, seed=42)\n",
    "\n",
    "# 2. X → Measurement（観測値 y）\n",
    "obs_data = np.ones((4, 4), dtype=np.complex128)\n",
    "meas = GaussianMeasurement(X, obs_data, var=0.25)\n",
    "\n",
    "# 3. メッセージ伝播\n",
    "X.parent.forward()   # Prior → X\n",
    "X.forward()          # X → Measurement\n",
    "meas.backward()      # Measurement → X\n",
    "X.compute_belief()   # Belief 更新\n",
    "\n",
    "# 4. 結果確認\n",
    "print(\"Mean:\\n\", X.belief.data)\n",
    "print(\"Precision:\\n\", X.belief.precision)"
   ]
  },
  {
   "cell_type": "code",
   "execution_count": 4,
   "id": "5ff19446",
   "metadata": {},
   "outputs": [
    {
     "name": "stdout",
     "output_type": "stream",
     "text": [
      "Mask (True = observed):\n",
      " [[0 1 0 1 0 1 0 1]\n",
      " [0 1 1 1 0 1 0 0]\n",
      " [1 1 0 1 0 0 1 1]\n",
      " [1 1 1 1 0 0 1 1]\n",
      " [0 1 1 1 1 1 0 0]\n",
      " [0 0 0 0 1 0 0 1]\n",
      " [0 1 1 0 1 1 0 0]\n",
      " [0 1 0 1 0 0 0 0]]\n",
      "Belief precision:\n",
      " [[2. 2. 2. 2. 2. 2. 2. 2.]\n",
      " [2. 2. 2. 2. 2. 2. 2. 2.]\n",
      " [2. 2. 2. 2. 2. 2. 2. 2.]\n",
      " [2. 2. 2. 2. 2. 2. 2. 2.]\n",
      " [2. 2. 2. 2. 2. 2. 2. 2.]\n",
      " [2. 2. 2. 2. 2. 2. 2. 2.]\n",
      " [2. 2. 2. 2. 2. 2. 2. 2.]\n",
      " [2. 2. 2. 2. 2. 2. 2. 2.]]\n",
      "Belief mean:\n",
      " [[ 0.17955626+0.41909428j  0.54410336+0.09349687j  0.44220761-0.20548822j\n",
      "   0.77751328-0.05448868j -1.14965851+0.50556714j  0.51320334-0.02254543j\n",
      "   0.07533068-0.75170537j  0.62939712-0.13355918j]\n",
      " [-0.00990018-0.54179246j  0.56613448+0.05859096j  0.77030471+0.01678503j\n",
      "   0.75833033+0.08137448j  0.03890896-0.25176104j  0.79951332+0.01868408j\n",
      "   0.27548252+0.36863267j -0.50634294-0.1822842j ]\n",
      " [ 0.71012436+0.05383148j  0.55366127-0.07800872j  0.5176318 -0.21393153j\n",
      "   0.66078284-0.04498824j -0.10893119-0.70465527j -0.40124158+0.28695129j\n",
      "   0.81074455-0.0553196j   0.64845519+0.00147245j]\n",
      " [ 0.61618775+0.05665654j  0.62516733+0.0526242j   0.72939991+0.07841639j\n",
      "   0.70973466-0.01160663j  0.24320502-0.24943092j  0.25386371-0.04697441j\n",
      "   0.91906226-0.19885427j  0.6187702 -0.17054384j]\n",
      " [-0.30184192-0.77940822j  0.57076263-0.11752667j  0.73926054+0.04711384j\n",
      "   0.79971733-0.10671173j  0.65323783-0.04456688j  0.56765328+0.15311552j\n",
      "  -0.48583022-0.20993056j  0.38336548+0.43458522j]\n",
      " [ 0.43796672-0.55013949j  0.32005672-0.12105524j -0.39215536-0.55980586j\n",
      "   0.13680237-0.19977716j  0.68041822+0.09903126j  0.12886349-1.01783332j\n",
      "   0.51349433+0.25598659j  0.69301765+0.02801741j]\n",
      " [ 0.40005365-0.35010622j  0.67463094-0.17041955j  0.70073971+0.00850054j\n",
      "   0.37199015-0.31200657j  0.49493921+0.02742115j  0.62899305+0.0025753j\n",
      "  -0.27716974+0.94385726j -0.37646238-0.14104166j]\n",
      " [-0.16212913-0.60310168j  0.84284719+0.02112784j -0.51019588+0.12963429j\n",
      "   0.78077937+0.16018179j -0.99164052+0.49209402j -0.1973329 +0.21028829j\n",
      "   0.09590316+0.8622595j   0.34543482-0.70048535j]]\n"
     ]
    }
   ],
   "source": [
    "import numpy as np\n",
    "\n",
    "# ライブラリのインポート\n",
    "from graph.prior import GaussianPrior\n",
    "from graph.measurement import MaskedGaussianMeasurement\n",
    "from core.uncertain_array import UncertainArray as UA\n",
    "from core.linalg_utils import random_binary_mask\n",
    "\n",
    "# 1. Prior によって Wave を生成\n",
    "X = GaussianPrior(shape=(8, 8), mean=0, var=1.0, seed=42)\n",
    "\n",
    "# 2. ランダムマスクを生成し、観測値を作る（全て 1+0j にする）\n",
    "mask = random_binary_mask((8, 8), subsampling_rate=0.5, seed=1)\n",
    "obs_data = np.ones((8, 8), dtype=np.complex128)\n",
    "\n",
    "# 3. マスク付き GaussianMeasurement を構築\n",
    "meas = MaskedGaussianMeasurement(X, observed_data=obs_data, var=0.25, mask=mask)\n",
    "\n",
    "# 4. メッセージ伝播を実行\n",
    "X.parent.forward()   # Prior → X\n",
    "X.forward()          # X → Measurement\n",
    "meas.backward()      # Measurement → X\n",
    "X.compute_belief()   # Belief 更新\n",
    "\n",
    "# 5. 結果表示\n",
    "print(\"Mask (True = observed):\\n\", mask.astype(int))\n",
    "print(\"Belief precision:\\n\", X.belief.precision)\n",
    "print(\"Belief mean:\\n\", X.belief.data)\n"
   ]
  },
  {
   "cell_type": "code",
   "execution_count": null,
   "id": "737513ec",
   "metadata": {},
   "outputs": [],
   "source": []
  }
 ],
 "metadata": {
  "kernelspec": {
   "display_name": "cupy-env",
   "language": "python",
   "name": "python3"
  },
  "language_info": {
   "codemirror_mode": {
    "name": "ipython",
    "version": 3
   },
   "file_extension": ".py",
   "mimetype": "text/x-python",
   "name": "python",
   "nbconvert_exporter": "python",
   "pygments_lexer": "ipython3",
   "version": "3.10.5"
  }
 },
 "nbformat": 4,
 "nbformat_minor": 5
}
