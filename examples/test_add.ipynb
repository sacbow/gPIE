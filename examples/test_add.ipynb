{
 "cells": [
  {
   "cell_type": "code",
   "execution_count": 1,
   "id": "a228f70c",
   "metadata": {},
   "outputs": [
    {
     "name": "stdout",
     "output_type": "stream",
     "text": [
      "PYTHONPATH manually set to: c:\\Users\\ndhaj\\Desktop\n"
     ]
    }
   ],
   "source": [
    "import os, sys\n",
    "\n",
    "project_root = os.path.abspath(os.path.join(os.getcwd(), '..', '..'))\n",
    "os.environ['PYTHONPATH'] = project_root\n",
    "if project_root not in sys.path:\n",
    "    sys.path.insert(0, project_root)\n",
    "\n",
    "print(\"PYTHONPATH manually set to:\", os.environ['PYTHONPATH'])"
   ]
  },
  {
   "cell_type": "markdown",
   "id": "289bfa0b",
   "metadata": {},
   "source": [
    "## Holography"
   ]
  },
  {
   "cell_type": "code",
   "execution_count": 3,
   "id": "4d87cb49",
   "metadata": {},
   "outputs": [
    {
     "name": "stdout",
     "output_type": "stream",
     "text": [
      "[t=0] PSE (sum) = 4.24499e-01\n",
      "[t=10] PSE (sum) = 1.25432e-03\n",
      "[t=20] PSE (sum) = 4.09658e-04\n",
      "[t=30] PSE (sum) = 4.08963e-04\n",
      "[t=40] PSE (sum) = 4.09031e-04\n",
      "[t=50] PSE (sum) = 4.09043e-04\n",
      "[t=60] PSE (sum) = 4.09044e-04\n",
      "[t=70] PSE (sum) = 4.09045e-04\n",
      "[t=80] PSE (sum) = 4.09045e-04\n",
      "[t=90] PSE (sum) = 4.09044e-04\n"
     ]
    }
   ],
   "source": [
    "import numpy as np\n",
    "from gpie import Graph, SupportPrior, ConstWave, fft2, AmplitudeMeasurement, mse\n",
    "from gpie.core.linalg_utils import circular_aperture, masked_random_array\n",
    "from numpy.typing import NDArray\n",
    "\n",
    "# ==== Setting Parameter ====\n",
    "H, W = 128, 128\n",
    "shape = (H, W)\n",
    "noise = 1e-4\n",
    "rng = np.random.default_rng(seed=42)\n",
    "support_x = circular_aperture(shape=shape, radius=0.2, center=(-0.2, -0.2))\n",
    "data_x = masked_random_array(support_x, dtype=np.complex128, rng=rng)\n",
    "support_y =  circular_aperture(shape=shape, radius=0.2, center=(0.2, 0.2))\n",
    "\n",
    "\n",
    "class Holography(Graph):\n",
    "    def __init__(self, var: np.float64,  ref_wave: NDArray[np.complex128], support: NDArray[np.bool_]) -> None:\n",
    "        super().__init__()\n",
    "        obj = ~SupportPrior(support=support, label=\"obj\", dtype = np.complex64)\n",
    "        with self.observe():\n",
    "            meas = AmplitudeMeasurement(var=var) @ (fft2(ref_wave + obj))\n",
    "        self.compile()\n",
    "\n",
    "\n",
    "g = Holography(var = noise, ref_wave = data_x, support = support_y)\n",
    "g.set_init_rng(np.random.default_rng(seed=11))\n",
    "g.generate_sample(rng=np.random.default_rng(seed=9), update_observed=True)\n",
    "\n",
    "true_obj = g.get_wave(\"obj\").get_sample()\n",
    "\n",
    "\n",
    "def monitor(graph, t):\n",
    "    x = graph.get_wave(\"obj\").compute_belief().data\n",
    "    err = mse(x, true_obj)\n",
    "    if t % 10 == 0:\n",
    "        print(f\"[t={t}] PSE (sum) = {err:.5e}\")\n",
    "\n",
    "g.run(n_iter=100, callback=monitor, verbose = False)\n"
   ]
  },
  {
   "cell_type": "code",
   "execution_count": 5,
   "id": "6e86f62a",
   "metadata": {},
   "outputs": [],
   "source": [
    "class Holography(Graph):\n",
    "    def __init__(self, var: np.float64,  ref_wave: NDArray[np.complex128], support: NDArray[np.bool_]) -> None:\n",
    "        super().__init__()\n",
    "        obj = ~SupportPrior(support=support, label=\"obj\", dtype = np.complex64)\n",
    "        with self.observe():\n",
    "            meas = AmplitudeMeasurement(var=var) @ (fft2(ref_wave + obj))\n",
    "        self.compile()\n",
    "\n",
    "\n",
    "g = Holography(var = noise, ref_wave = data_x, support = support_y)"
   ]
  },
  {
   "cell_type": "code",
   "execution_count": 11,
   "id": "842f76e8",
   "metadata": {},
   "outputs": [
    {
     "data": {
      "text/plain": [
       "AmplitudeMeas(gen=7, mode=scalar)"
      ]
     },
     "execution_count": 11,
     "metadata": {},
     "output_type": "execute_result"
    }
   ],
   "source": [
    "g.get_wave(\"obj\").children[0].output.children[0].output.children[0]"
   ]
  },
  {
   "cell_type": "code",
   "execution_count": null,
   "id": "d92641b1",
   "metadata": {},
   "outputs": [],
   "source": []
  }
 ],
 "metadata": {
  "kernelspec": {
   "display_name": "cupy-env",
   "language": "python",
   "name": "python3"
  },
  "language_info": {
   "codemirror_mode": {
    "name": "ipython",
    "version": 3
   },
   "file_extension": ".py",
   "mimetype": "text/x-python",
   "name": "python",
   "nbconvert_exporter": "python",
   "pygments_lexer": "ipython3",
   "version": "3.10.5"
  }
 },
 "nbformat": 4,
 "nbformat_minor": 5
}
