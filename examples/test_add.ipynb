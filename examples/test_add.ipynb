{
 "cells": [
  {
   "cell_type": "code",
   "execution_count": 2,
   "id": "a228f70c",
   "metadata": {},
   "outputs": [
    {
     "name": "stdout",
     "output_type": "stream",
     "text": [
      "PYTHONPATH manually set to: c:\\Users\\ndhaj\\Desktop\n"
     ]
    }
   ],
   "source": [
    "import os, sys\n",
    "\n",
    "project_root = os.path.abspath(os.path.join(os.getcwd(), '..', '..'))\n",
    "os.environ['PYTHONPATH'] = project_root\n",
    "if project_root not in sys.path:\n",
    "    sys.path.insert(0, project_root)\n",
    "\n",
    "print(\"PYTHONPATH manually set to:\", os.environ['PYTHONPATH'])"
   ]
  },
  {
   "cell_type": "markdown",
   "id": "289bfa0b",
   "metadata": {},
   "source": [
    "## Holography"
   ]
  },
  {
   "cell_type": "code",
   "execution_count": 5,
   "id": "4d87cb49",
   "metadata": {},
   "outputs": [
    {
     "name": "stdout",
     "output_type": "stream",
     "text": [
      "[t=0] PSE (sum) = 4.28104e-01\n",
      "[t=10] PSE (sum) = 1.31072e-03\n",
      "[t=20] PSE (sum) = 8.49448e-04\n",
      "[t=30] PSE (sum) = 8.01702e-04\n",
      "[t=40] PSE (sum) = 8.01840e-04\n",
      "[t=50] PSE (sum) = 8.01880e-04\n",
      "[t=60] PSE (sum) = 8.01892e-04\n",
      "[t=70] PSE (sum) = 8.01895e-04\n",
      "[t=80] PSE (sum) = 8.01896e-04\n",
      "[t=90] PSE (sum) = 8.01896e-04\n"
     ]
    }
   ],
   "source": [
    "import numpy as np\n",
    "import cupy as cp\n",
    "import gpie\n",
    "from gpie import Graph, SupportPrior, ConstWave, fft2, AmplitudeMeasurement, mse\n",
    "from gpie.core.linalg_utils import circular_aperture, masked_random_array\n",
    "from numpy.typing import NDArray\n",
    "\n",
    "gpie.set_backend(np)\n",
    "# ==== Setting Parameter ====\n",
    "H, W = 256, 256\n",
    "shape = (H, W)\n",
    "noise = 1e-4\n",
    "rng = np.random.default_rng(seed=42)\n",
    "support_x = circular_aperture(shape=shape, radius=0.2, center=(-0.2, -0.2))\n",
    "data_x = masked_random_array(support_x, dtype=np.complex64, rng=rng)\n",
    "support_y =  circular_aperture(shape=shape, radius=0.2, center=(0.2, 0.2))\n",
    "\n",
    "\n",
    "class Holography_with_Uncertainty(Graph):\n",
    "    def __init__(self, var: np.float64,  ref_wave: NDArray[np.complex64], support: NDArray[np.bool_]) -> None:\n",
    "        super().__init__()\n",
    "        obj = ~SupportPrior(support=support, label=\"obj\", dtype = np.complex64)\n",
    "        with self.observe():\n",
    "            meas = AmplitudeMeasurement(var=var) @ (fft2(ref_wave + obj))\n",
    "        self.compile()\n",
    "\n",
    "\n",
    "g = Holography_with_Uncertainty(var = noise, ref_wave = data_x, support = support_y)\n",
    "g.set_init_rng(np.random.default_rng(seed=11))\n",
    "g.generate_sample(rng=np.random.default_rng(seed=9), update_observed=True)\n",
    "\n",
    "true_obj = g.get_wave(\"obj\").get_sample()\n",
    "\n",
    "\n",
    "def monitor(graph, t):\n",
    "    x = graph.get_wave(\"obj\").compute_belief().data\n",
    "    err = mse(x, true_obj)\n",
    "    if t % 10 == 0:\n",
    "        print(f\"[t={t}] PSE (sum) = {err:.5e}\")\n",
    "\n",
    "g.run(n_iter=100, callback=monitor, verbose = False)\n"
   ]
  },
  {
   "cell_type": "code",
   "execution_count": 6,
   "id": "9ff3ac37",
   "metadata": {},
   "outputs": [],
   "source": [
    "gpie.set_backend(cp)\n",
    "g.to_backend()"
   ]
  },
  {
   "cell_type": "code",
   "execution_count": 8,
   "id": "3a0c6500",
   "metadata": {},
   "outputs": [],
   "source": [
    "g.run(n_iter=100, callback=None, verbose = False)"
   ]
  },
  {
   "cell_type": "markdown",
   "id": "5f02102c",
   "metadata": {},
   "source": [
    "## Holography with reference-wave correction"
   ]
  },
  {
   "cell_type": "code",
   "execution_count": 42,
   "id": "acfa066a",
   "metadata": {},
   "outputs": [
    {
     "name": "stdout",
     "output_type": "stream",
     "text": [
      "[t=0] PMSE (sum) = 7.01359e-01\n",
      "[t=10] PMSE (sum) = 7.83272e-04\n",
      "[t=20] PMSE (sum) = 6.96995e-04\n",
      "[t=30] PMSE (sum) = 6.97818e-04\n",
      "[t=40] PMSE (sum) = 6.97858e-04\n",
      "[t=50] PMSE (sum) = 6.97861e-04\n",
      "[t=60] PMSE (sum) = 6.97861e-04\n",
      "[t=70] PMSE (sum) = 6.97861e-04\n",
      "[t=80] PMSE (sum) = 6.97861e-04\n",
      "[t=90] PMSE (sum) = 6.97861e-04\n"
     ]
    }
   ],
   "source": [
    "import numpy as np\n",
    "from gpie import Graph, SupportPrior, ConstWave, fft2, AmplitudeMeasurement, pmse, mse\n",
    "from gpie.core.linalg_utils import circular_aperture, masked_random_array\n",
    "from numpy.typing import NDArray\n",
    "\n",
    "# ==== Setting Parameter ====\n",
    "H, W = 128, 128\n",
    "shape = (H, W)\n",
    "noise = 1e-4\n",
    "rng = np.random.default_rng(seed=42)\n",
    "support_ref = circular_aperture(shape=shape, radius=0.2, center=(-0.2, -0.2))\n",
    "ref = masked_random_array(support_x, dtype=np.complex64, rng=rng)\n",
    "support_obj =  circular_aperture(shape=shape, radius=0.2, center=(0.2, 0.2))\n",
    "\n",
    "\n",
    "class Holography(Graph):\n",
    "    def __init__(self, var: np.float64,  ref: NDArray[np.complex64], support: NDArray[np.bool_]) -> None:\n",
    "        super().__init__()\n",
    "        obj = ~SupportPrior(support=support, label=\"obj\", dtype = np.complex64)\n",
    "        ref_wave = ~ConstWave(data = ref, large_value=1e3, label = \"ref\")\n",
    "        with self.observe():\n",
    "            meas = AmplitudeMeasurement(var=var, damping = 0.0) @ (fft2(ref_wave + obj))\n",
    "        self.compile()\n",
    "\n",
    "\n",
    "g = Holography(var = noise, ref = ref, support = support_obj)\n",
    "g.set_init_rng(np.random.default_rng(seed=11))\n",
    "g.generate_sample(rng=np.random.default_rng(seed=9), update_observed=True)\n",
    "\n",
    "true_obj = g.get_wave(\"obj\").get_sample()\n",
    "\n",
    "\n",
    "def monitor(graph, t):\n",
    "    x = graph.get_wave(\"obj\").compute_belief().data\n",
    "    err = mse(x, true_obj)\n",
    "    if t % 10 == 0:\n",
    "        print(f\"[t={t}] PMSE (sum) = {err:.5e}\")\n",
    "\n",
    "g.run(n_iter=100, callback=monitor, verbose = False)\n"
   ]
  },
  {
   "cell_type": "code",
   "execution_count": 34,
   "id": "1012362a",
   "metadata": {},
   "outputs": [
    {
     "name": "stdout",
     "output_type": "stream",
     "text": [
      "36.04757222954459\n"
     ]
    }
   ],
   "source": [
    "print(-10 * np.log10(np.linalg.norm(ref - g.get_wave(\"ref\").get_sample())/np.prod(ref.shape)))"
   ]
  },
  {
   "cell_type": "code",
   "execution_count": 35,
   "id": "060dc4f0",
   "metadata": {},
   "outputs": [
    {
     "data": {
      "text/plain": [
       "np.float64(50.92511796920036)"
      ]
     },
     "execution_count": 35,
     "metadata": {},
     "output_type": "execute_result"
    }
   ],
   "source": [
    "-10 * np.log10(np.linalg.norm(ref - g.get_wave(\"ref\").compute_belief().data)/np.prod(ref.shape))"
   ]
  },
  {
   "cell_type": "code",
   "execution_count": null,
   "id": "43f05c29",
   "metadata": {},
   "outputs": [],
   "source": []
  }
 ],
 "metadata": {
  "kernelspec": {
   "display_name": "cupy-env",
   "language": "python",
   "name": "python3"
  },
  "language_info": {
   "codemirror_mode": {
    "name": "ipython",
    "version": 3
   },
   "file_extension": ".py",
   "mimetype": "text/x-python",
   "name": "python",
   "nbconvert_exporter": "python",
   "pygments_lexer": "ipython3",
   "version": "3.10.5"
  }
 },
 "nbformat": 4,
 "nbformat_minor": 5
}
