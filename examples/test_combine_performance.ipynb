{
 "cells": [
  {
   "cell_type": "code",
   "execution_count": 7,
   "id": "d226ee8c",
   "metadata": {},
   "outputs": [
    {
     "name": "stdout",
     "output_type": "stream",
     "text": [
      "Combine with scalar precision took 0.061914 seconds.\n",
      "Combine with array precision took 0.173718 seconds.\n"
     ]
    }
   ],
   "source": [
    "import time\n",
    "import numpy as np\n",
    "\n",
    "import sys, os\n",
    "sys.path.insert(0, os.path.abspath(\"..\"))\n",
    "from core.uncertain_array import UncertainArray\n",
    "\n",
    "# パラメータ設定\n",
    "num_arrays = 1000\n",
    "array_shape = (128, 128)\n",
    "\n",
    "# スカラー precision の UA のリストを生成\n",
    "scalar_uas = [UncertainArray.random(array_shape, precision=1.0) for _ in range(num_arrays)]\n",
    "\n",
    "# 配列 precision の UA のリストを生成\n",
    "array_prec = np.ones(array_shape, dtype=np.float64)\n",
    "array_uas = [UncertainArray.random(array_shape, precision=array_prec) for _ in range(num_arrays)]\n",
    "\n",
    "# スカラー precision の combine 実行時間\n",
    "start_time = time.time()\n",
    "combined_scalar = UncertainArray.combine(scalar_uas)\n",
    "scalar_time = time.time() - start_time\n",
    "print(f\"Combine with scalar precision took {scalar_time:.6f} seconds.\")\n",
    "\n",
    "# 配列 precision の combine 実行時間\n",
    "start_time = time.time()\n",
    "combined_array = UncertainArray.combine(array_uas)\n",
    "array_time = time.time() - start_time\n",
    "print(f\"Combine with array precision took {array_time:.6f} seconds.\")\n"
   ]
  },
  {
   "cell_type": "code",
   "execution_count": null,
   "id": "967400ba",
   "metadata": {},
   "outputs": [],
   "source": []
  }
 ],
 "metadata": {
  "kernelspec": {
   "display_name": "cupy-env",
   "language": "python",
   "name": "python3"
  },
  "language_info": {
   "codemirror_mode": {
    "name": "ipython",
    "version": 3
   },
   "file_extension": ".py",
   "mimetype": "text/x-python",
   "name": "python",
   "nbconvert_exporter": "python",
   "pygments_lexer": "ipython3",
   "version": "3.10.5"
  }
 },
 "nbformat": 4,
 "nbformat_minor": 5
}
