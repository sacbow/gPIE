{
 "cells": [
  {
   "cell_type": "markdown",
   "id": "818fade8",
   "metadata": {},
   "source": [
    "# 01: Basic Graph Construction with gPIE\n",
    "\n",
    "This notebook demonstrates the basic workflow of **gPIE** (Graph-based Probabilistic Inference Engine), a modular framework for structured probabilistic inference using **Expectation Propagation (EP)** on factor graphs.\n",
    "\n",
    "In this example, we will model and solve a **simple compressed sensing problem**:\n",
    "- We define a **sparse latent signal** as a probabilistic prior.\n",
    "- We model measurements as a **masked Fourier transform** with additive Gaussian noise.\n",
    "- We use EP to infer the latent signal from noisy, subsampled observations.\n",
    "\n",
    "This example introduces the core components of gPIE:\n",
    "- **Waves:** latent variables representing probabilistic quantities.\n",
    "- **Factors:** priors, propagators (e.g., FFT), and measurements linked together to form a factor graph.\n",
    "- **EP inference:** iterative message passing over the factor graph to approximate posterior beliefs.\n",
    "\n",
    "By the end of this notebook, you will learn how to:\n",
    "1. Construct a factor graph using `Wave` variables and factor nodes.\n",
    "2. Generate synthetic data samples from the graph.\n",
    "3. Run EP inference and monitor reconstruction error.\n",
    "4. Visualize the reconstructed signal.\n",
    "\n",
    "This minimal example serves as a foundation for more complex imaging models such as:\n",
    "- Holography\n",
    "- Coded Diffraction Patterns (CDP) \n",
    "- Coherent Diffractive Imaging (CDI) with Layered Optics\n",
    "- Ptychography"
   ]
  },
  {
   "cell_type": "markdown",
   "id": "810b67a4",
   "metadata": {},
   "source": [
    "### Setup"
   ]
  },
  {
   "cell_type": "code",
   "execution_count": 1,
   "id": "eb42d273",
   "metadata": {},
   "outputs": [
    {
     "ename": "ModuleNotFoundError",
     "evalue": "No module named 'gpie'",
     "output_type": "error",
     "traceback": [
      "\u001b[1;31m---------------------------------------------------------------------------\u001b[0m",
      "\u001b[1;31mModuleNotFoundError\u001b[0m                       Traceback (most recent call last)",
      "Cell \u001b[1;32mIn[1], line 3\u001b[0m\n\u001b[0;32m      1\u001b[0m \u001b[38;5;28;01mimport\u001b[39;00m\u001b[38;5;250m \u001b[39m\u001b[38;5;21;01mnumpy\u001b[39;00m\u001b[38;5;250m \u001b[39m\u001b[38;5;28;01mas\u001b[39;00m\u001b[38;5;250m \u001b[39m\u001b[38;5;21;01mnp\u001b[39;00m\n\u001b[0;32m      2\u001b[0m \u001b[38;5;28;01mfrom\u001b[39;00m\u001b[38;5;250m \u001b[39m\u001b[38;5;21;01mnumpy\u001b[39;00m\u001b[38;5;21;01m.\u001b[39;00m\u001b[38;5;21;01mrandom\u001b[39;00m\u001b[38;5;250m \u001b[39m\u001b[38;5;28;01mimport\u001b[39;00m default_rng\n\u001b[1;32m----> 3\u001b[0m \u001b[38;5;28;01mimport\u001b[39;00m\u001b[38;5;250m \u001b[39m\u001b[38;5;21;01mgpie\u001b[39;00m\n\u001b[0;32m      4\u001b[0m gpie\u001b[38;5;241m.\u001b[39mset_backend(np)\n\u001b[0;32m      6\u001b[0m \u001b[38;5;28;01mfrom\u001b[39;00m\u001b[38;5;250m \u001b[39m\u001b[38;5;21;01mgpie\u001b[39;00m\u001b[38;5;250m \u001b[39m\u001b[38;5;28;01mimport\u001b[39;00m Graph, SparsePrior, GaussianMeasurement, fft2, mse\n",
      "\u001b[1;31mModuleNotFoundError\u001b[0m: No module named 'gpie'"
     ]
    }
   ],
   "source": [
    "import numpy as np\n",
    "from numpy.random import default_rng\n",
    "import gpie\n",
    "gpie.set_backend(np)\n",
    "\n",
    "from gpie import Graph, SparsePrior, GaussianMeasurement, fft2, mse\n",
    "from gpie.core.linalg_utils import random_binary_mask"
   ]
  },
  {
   "cell_type": "code",
   "execution_count": null,
   "id": "9e90e7b6",
   "metadata": {},
   "outputs": [],
   "source": []
  }
 ],
 "metadata": {
  "kernelspec": {
   "display_name": "gpie-env",
   "language": "python",
   "name": "python3"
  },
  "language_info": {
   "codemirror_mode": {
    "name": "ipython",
    "version": 3
   },
   "file_extension": ".py",
   "mimetype": "text/x-python",
   "name": "python",
   "nbconvert_exporter": "python",
   "pygments_lexer": "ipython3",
   "version": "3.10.5"
  }
 },
 "nbformat": 4,
 "nbformat_minor": 5
}
