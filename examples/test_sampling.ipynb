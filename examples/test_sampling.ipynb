{
 "cells": [
  {
   "cell_type": "code",
   "execution_count": 1,
   "id": "2e819a8d",
   "metadata": {},
   "outputs": [
    {
     "name": "stdout",
     "output_type": "stream",
     "text": [
      "PYTHONPATH manually set to: c:\\Users\\ndhaj\\Desktop\\GraphicalPR\n"
     ]
    }
   ],
   "source": [
    "import os, sys\n",
    "\n",
    "project_root = os.path.abspath(os.path.join(os.getcwd(), '..'))\n",
    "os.environ['PYTHONPATH'] = project_root\n",
    "if project_root not in sys.path:\n",
    "    sys.path.insert(0, project_root)\n",
    "\n",
    "print(\"PYTHONPATH manually set to:\", os.environ['PYTHONPATH'])"
   ]
  },
  {
   "cell_type": "code",
   "execution_count": 2,
   "id": "e884a46e",
   "metadata": {},
   "outputs": [
    {
     "name": "stdout",
     "output_type": "stream",
     "text": [
      "Mean: -0.013-0.029j, Variance: 0.967\n"
     ]
    }
   ],
   "source": [
    "#Gaussian Prior\n",
    "import numpy as np\n",
    "from graph.structure.graph import Graph\n",
    "from graph.prior.gaussian_prior import GaussianPrior\n",
    "\n",
    "rng = np.random.default_rng(seed=42)\n",
    "X = GaussianPrior(shape = (512,))\n",
    "X.parent.generate_sample(rng)\n",
    "x = X.get_sample()\n",
    "print(f\"Mean: {np.mean(x):.3f}, Variance: {np.var(x):.3f}\")"
   ]
  },
  {
   "cell_type": "code",
   "execution_count": 3,
   "id": "b4a2b18d",
   "metadata": {},
   "outputs": [
    {
     "name": "stdout",
     "output_type": "stream",
     "text": [
      "Sample: [0.        +0.j         0.06870767-1.56091778j 0.        +0.j\n",
      " 0.        +0.j         0.        +0.j         0.23883884+0.00361637j\n",
      " 0.        +0.j         0.        +0.j         0.        +0.j\n",
      " 0.        +0.j        ]\n",
      "Nonzero count: 10\n",
      "Expected approx: 10\n"
     ]
    }
   ],
   "source": [
    "import numpy as np\n",
    "from graph.prior.sparse_prior import SparsePrior\n",
    "\n",
    "# パラメータ設定\n",
    "rho = 0.1\n",
    "shape = (100,)\n",
    "expected_nonzero = int(rho * np.prod(shape))\n",
    "\n",
    "# Priorインスタンスとランダム生成\n",
    "X = SparsePrior(rho=rho, shape=shape)\n",
    "rng = np.random.default_rng(seed=123)\n",
    "X.parent.generate_sample(rng)\n",
    "\n",
    "# サンプル取得とチェック\n",
    "x = X.get_sample()\n",
    "\n",
    "print(\"Sample:\", x[:10])  # 最初の10個だけ表示\n",
    "print(\"Nonzero count:\", np.count_nonzero(x))\n",
    "print(\"Expected approx:\", expected_nonzero)\n",
    "\n",
    "# 簡易アサーション（許容誤差 ±2）\n",
    "assert x.shape == shape\n",
    "assert x.dtype == np.complex128\n",
    "assert expected_nonzero - 2 <= np.count_nonzero(x) <= expected_nonzero + 2"
   ]
  },
  {
   "cell_type": "code",
   "execution_count": 4,
   "id": "ea32c271",
   "metadata": {},
   "outputs": [
    {
     "name": "stdout",
     "output_type": "stream",
     "text": [
      "x: [-0.26006444+0.91070069j  0.        +0.j          0.        +0.j\n",
      "  0.        +0.j          0.        +0.j          0.        +0.j\n",
      "  0.        +0.j          0.        +0.j        ]\n",
      "y: [-0.26006444+0.91070069j  0.        +0.j          0.        +0.j\n",
      "  0.        +0.j          0.        +0.j          0.        +0.j\n",
      "  0.        +0.j          0.        +0.j        ]\n",
      "U @ x: [-0.26006444+0.91070069j  0.        +0.j          0.        +0.j\n",
      "  0.        +0.j          0.        +0.j          0.        +0.j\n",
      "  0.        +0.j          0.        +0.j        ]\n"
     ]
    }
   ],
   "source": [
    "from graph.propagator.unitary_propagator import UnitaryPropagator\n",
    "from graph.prior.sparse_prior import SparsePrior\n",
    "\n",
    "# 入力をスパースベクトルに\n",
    "X = SparsePrior(rho=0.2, shape=(8,))\n",
    "U = np.eye(8, dtype=np.complex128)  # identity でも良い（単位行列）\n",
    "\n",
    "P = UnitaryPropagator(U)\n",
    "Y = P @ X\n",
    "\n",
    "rng = np.random.default_rng(seed=123)\n",
    "X.parent.generate_sample(rng)\n",
    "P.generate_sample(rng)\n",
    "\n",
    "x_sample = X.get_sample()\n",
    "y_sample = Y.get_sample()\n",
    "\n",
    "print(\"x:\", x_sample)\n",
    "print(\"y:\", y_sample)\n",
    "print(\"U @ x:\", U @ x_sample)\n",
    "assert np.allclose(y_sample, U @ x_sample)"
   ]
  },
  {
   "cell_type": "code",
   "execution_count": 5,
   "id": "a84f90ac",
   "metadata": {},
   "outputs": [
    {
     "name": "stdout",
     "output_type": "stream",
     "text": [
      "x (true signal): [-0.73537981+0.53064913j  0.        +0.j          0.        +0.j\n",
      "  0.        +0.j          0.        +0.j          0.        +0.j\n",
      "  0.        +0.j          0.        +0.j        ]\n",
      "y (noisy): [-7.28729017e-01+5.36148949e-01j -1.37959021e-02+4.66907540e-04j\n",
      " -9.20779960e-03+7.97079901e-03j  9.03968160e-04+3.30579026e-03j\n",
      " -2.23617282e-03-6.07611528e-03j -1.18802124e-04+2.60746180e-03j\n",
      " -6.03193146e-03-6.78032389e-03j  6.21828271e-03+6.21158165e-03j]\n",
      "observed (for inference): [-7.28729017e-01+5.36148949e-01j -1.37959021e-02+4.66907540e-04j\n",
      " -9.20779960e-03+7.97079901e-03j  9.03968160e-04+3.30579026e-03j\n",
      " -2.23617282e-03-6.07611528e-03j -1.18802124e-04+2.60746180e-03j\n",
      " -6.03193146e-03-6.78032389e-03j  6.21828271e-03+6.21158165e-03j]\n"
     ]
    }
   ],
   "source": [
    "import numpy as np\n",
    "from graph.prior.sparse_prior import SparsePrior\n",
    "from graph.measurement.gaussian_measurement import GaussianMeasurement\n",
    "\n",
    "# 1. グラフ構築\n",
    "X = SparsePrior(rho=0.2, shape=(8,))\n",
    "Z = GaussianMeasurement(X, var = 1e-4)\n",
    "\n",
    "# 2. サンプル生成\n",
    "rng = np.random.default_rng(seed=42)\n",
    "X.parent.generate_sample(rng)\n",
    "Z.generate_sample(rng)\n",
    "\n",
    "# 3. 観測値として反映\n",
    "Z.update_observed_from_sample()\n",
    "\n",
    "# 4. 確認\n",
    "x_true = X.get_sample()\n",
    "y_noisy = Z.get_sample()\n",
    "observed = Z.observed.data\n",
    "\n",
    "print(\"x (true signal):\", x_true)\n",
    "print(\"y (noisy):\", y_noisy)\n",
    "print(\"observed (for inference):\", observed)\n",
    "\n",
    "assert np.allclose(y_noisy, observed)\n"
   ]
  },
  {
   "cell_type": "code",
   "execution_count": 6,
   "id": "c1cac9ee",
   "metadata": {},
   "outputs": [
    {
     "name": "stdout",
     "output_type": "stream",
     "text": [
      "True signal x: [0.91070069+0.65070151j 0.        +0.j         0.        +0.j\n",
      " 0.        +0.j         0.        +0.j         0.13716063+0.408074j\n",
      " 0.        +0.j         0.        +0.j        ]\n",
      "Noisy observation y: [ 0.86569591+0.65757228j  0.        +0.j          0.03832181-0.10789957j\n",
      "  0.        +0.j          0.        +0.j          0.11477395+0.49237288j\n",
      " -0.02279635-0.04745321j  0.        +0.j        ]\n",
      "Observed (used in inference): [ 0.86569591+0.65757228j  0.        +0.j          0.03832181-0.10789957j\n",
      "  0.        +0.j          0.        +0.j          0.11477395+0.49237288j\n",
      " -0.02279635-0.04745321j  0.        +0.j        ]\n",
      "Mask: [1 0 1 0 0 1 1 0]\n"
     ]
    }
   ],
   "source": [
    "import numpy as np\n",
    "from graph.prior.sparse_prior import SparsePrior\n",
    "from graph.measurement.masked_gaussian_measurement import MaskedGaussianMeasurement\n",
    "from core.linalg_utils import random_binary_mask\n",
    "\n",
    "# --- パラメータ設定 ---\n",
    "n = 8\n",
    "rho = 0.25\n",
    "var = 1e-2\n",
    "mask = random_binary_mask(n, subsampling_rate=0.5, seed=0)\n",
    "\n",
    "# --- グラフ構築（観測データなしで初期化） ---\n",
    "X = SparsePrior(rho=rho, shape=(n,))\n",
    "Z = MaskedGaussianMeasurement(X, var=var, mask=mask)  # observed_data=None\n",
    "\n",
    "# --- サンプル生成 ---\n",
    "rng = np.random.default_rng(seed=123)\n",
    "X.parent.generate_sample(rng)\n",
    "Z.generate_sample(rng)\n",
    "Z.update_observed_from_sample()\n",
    "\n",
    "# --- 結果確認 ---\n",
    "x_true = X.get_sample()\n",
    "y_noisy = Z.get_sample()\n",
    "observed = Z.observed.data\n",
    "\n",
    "print(\"True signal x:\", x_true)\n",
    "print(\"Noisy observation y:\", y_noisy)\n",
    "print(\"Observed (used in inference):\", observed)\n",
    "print(\"Mask:\", mask.astype(int))\n",
    "\n",
    "# --- 整合性チェック ---\n",
    "assert y_noisy.shape == (n,)\n",
    "assert np.allclose(y_noisy, observed)\n",
    "assert np.all(Z.observed._precision == np.where(mask, 1.0 / var, 0.0))\n"
   ]
  },
  {
   "cell_type": "markdown",
   "id": "c50903de",
   "metadata": {},
   "source": [
    "## 結合テスト"
   ]
  },
  {
   "cell_type": "code",
   "execution_count": 7,
   "id": "d952250b",
   "metadata": {},
   "outputs": [
    {
     "name": "stdout",
     "output_type": "stream",
     "text": [
      "True signal x: [0.53064913-1.37959021j 0.        +0.j         0.        +0.j\n",
      " 0.        +0.j         0.        +0.j         0.        +0.j\n",
      " 0.66507969-0.92077996j 0.        +0.j        ]\n",
      "Noisy observation y: [ 5.31553098e-01-1.37628442e+00j -2.23617282e-03-6.07611528e-03j\n",
      " -1.18802124e-04+2.60746180e-03j -6.03193146e-03-6.78032389e-03j\n",
      "  6.21828271e-03+6.21158165e-03j  5.49981952e-03-3.53029502e-04j\n",
      "  6.65546597e-01-9.22087134e-01j  7.97079901e-03-4.81489898e-03j]\n",
      "Observed (used in inference): [ 5.31553098e-01-1.37628442e+00j -2.23617282e-03-6.07611528e-03j\n",
      " -1.18802124e-04+2.60746180e-03j -6.03193146e-03-6.78032389e-03j\n",
      "  6.21828271e-03+6.21158165e-03j  5.49981952e-03-3.53029502e-04j\n",
      "  6.65546597e-01-9.22087134e-01j  7.97079901e-03-4.81489898e-03j]\n"
     ]
    }
   ],
   "source": [
    "import numpy as np\n",
    "from graph.prior.sparse_prior import SparsePrior\n",
    "from graph.propagator.unitary_propagator import UnitaryPropagator\n",
    "from graph.measurement.gaussian_measurement import GaussianMeasurement\n",
    "\n",
    "# --- 1. パラメータ設定 ---\n",
    "n = 8\n",
    "rho = 0.3\n",
    "var = 1e-4\n",
    "rng = np.random.default_rng(seed=42)\n",
    "\n",
    "# --- 2. グラフ構築 ---\n",
    "X = SparsePrior(rho=rho, shape=(n,))\n",
    "U = np.eye(n, dtype=np.complex128)  # 単位行列でも可\n",
    "Y = UnitaryPropagator(U) @ X\n",
    "Z = GaussianMeasurement(Y, observed_array=None, var=var)\n",
    "\n",
    "# --- 3. generation順にgenerate_sampleを手動で呼び出す ---\n",
    "factors = [X.parent, Y.parent, Z]\n",
    "factors.sort(key=lambda f: f.generation)\n",
    "\n",
    "for f in factors:\n",
    "    f.generate_sample(rng)\n",
    "    if hasattr(f, \"update_observed_from_sample\"):\n",
    "        f.update_observed_from_sample()\n",
    "\n",
    "# --- 4. サンプル取得と確認 ---\n",
    "x_true = X.get_sample()\n",
    "y_noisy = Z.get_sample()\n",
    "observed = Z.observed.data\n",
    "\n",
    "print(\"True signal x:\", x_true)\n",
    "print(\"Noisy observation y:\", y_noisy)\n",
    "print(\"Observed (used in inference):\", observed)\n",
    "\n",
    "assert np.allclose(y_noisy, observed)"
   ]
  },
  {
   "cell_type": "code",
   "execution_count": 8,
   "id": "11665286",
   "metadata": {},
   "outputs": [
    {
     "name": "stdout",
     "output_type": "stream",
     "text": [
      "True signal x: [0.91070069+0.65070151j 0.        +0.j         0.        +0.j\n",
      " 0.        +0.j         0.        +0.j         0.13716063+0.408074j\n",
      " 0.        +0.j         0.        +0.j        ]\n",
      "Noisy observation y: [ 9.06200208e-01+0.65777448j  3.83218090e-03+0.00096394j\n",
      " -2.23866790e-03+0.01083311j -2.27963530e-03-0.00466669j\n",
      "  6.87076699e-04-0.00220472j  1.26370670e-01+0.41046239j\n",
      "  8.42988737e-03-0.01560918j -4.74532060e-03+0.00585429j]\n",
      "Observed (used in inference): [ 9.06200208e-01+0.65777448j  3.83218090e-03+0.00096394j\n",
      " -2.23866790e-03+0.01083311j -2.27963530e-03-0.00466669j\n",
      "  6.87076699e-04-0.00220472j  1.26370670e-01+0.41046239j\n",
      "  8.42988737e-03-0.01560918j -4.74532060e-03+0.00585429j]\n"
     ]
    }
   ],
   "source": [
    "import numpy as np\n",
    "from graph.prior.sparse_prior import SparsePrior\n",
    "from graph.propagator.unitary_propagator import UnitaryPropagator\n",
    "from graph.measurement.gaussian_measurement import GaussianMeasurement\n",
    "from graph.structure.graph import Graph\n",
    "\n",
    "# --- 1. パラメータ設定 ---\n",
    "n = 8\n",
    "rho = 0.3\n",
    "var = 1e-4\n",
    "rng = np.random.default_rng(seed=123)\n",
    "\n",
    "# --- 2. グラフ構築 ---\n",
    "class SimpleGraph(Graph):\n",
    "    def __init__(self, U, var, rho):\n",
    "        super().__init__()\n",
    "        self.X = SparsePrior(rho=rho, shape=(n,))\n",
    "        self.Y = UnitaryPropagator(U) @ self.X\n",
    "        self.Z = GaussianMeasurement(self.Y, observed_array=None, var=var)\n",
    "        self.compile()\n",
    "\n",
    "# --- 3. グラフ生成・サンプル生成 ---\n",
    "U = np.eye(n, dtype=np.complex128)\n",
    "graph = SimpleGraph(U, var=var, rho=rho)\n",
    "graph.generate_sample(rng)\n",
    "\n",
    "# --- 4. 結果確認 ---\n",
    "x_true = graph.X.get_sample()\n",
    "y_noisy = graph.Z.get_sample()\n",
    "observed = graph.Z.observed.data\n",
    "\n",
    "print(\"True signal x:\", x_true)\n",
    "print(\"Noisy observation y:\", y_noisy)\n",
    "print(\"Observed (used in inference):\", observed)\n",
    "\n",
    "# --- 5. 正常性チェック ---\n",
    "assert np.allclose(y_noisy, observed)\n",
    "assert x_true.shape == (n,)\n",
    "assert y_noisy.shape == (n,)\n"
   ]
  },
  {
   "cell_type": "code",
   "execution_count": 10,
   "id": "c5287fe8",
   "metadata": {},
   "outputs": [
    {
     "name": "stdout",
     "output_type": "stream",
     "text": [
      "[t=0] MSE = 3.81538e-01\n",
      "[t=5] MSE = 3.78325e-03\n",
      "[t=10] MSE = 5.57311e-05\n",
      "[t=15] MSE = 5.16503e-05\n",
      "\n",
      "Final MSE after 20 iterations: 5.14717e-05\n"
     ]
    }
   ],
   "source": [
    "import numpy as np\n",
    "from graph.prior.sparse_prior import SparsePrior\n",
    "from graph.propagator.unitary_propagator import UnitaryPropagator\n",
    "from graph.measurement.masked_gaussian_measurement import MaskedGaussianMeasurement\n",
    "from graph.structure.graph import Graph\n",
    "from core.metrics import mse\n",
    "from core.linalg_utils import random_unitary_matrix, random_binary_mask\n",
    "\n",
    "# --- ① パラメータ設定 & U, mask 生成 ---\n",
    "n = 512\n",
    "sparsity = 0.1\n",
    "noise_var = 1e-4\n",
    "mask_ratio = 0.3\n",
    "rng = np.random.default_rng(seed=42)\n",
    "\n",
    "U = random_unitary_matrix(n, seed=0)\n",
    "mask = random_binary_mask(n, subsampling_rate=mask_ratio, seed=0)\n",
    "\n",
    "# --- ② グラフ定義 ---\n",
    "class CompressiveSensingGraph(Graph):\n",
    "    def __init__(self, U, var, mask, rho):\n",
    "        super().__init__()\n",
    "        self.X = SparsePrior(rho=rho, shape=(n,), damping = 0.03)\n",
    "        self.Y = UnitaryPropagator(U) @ self.X\n",
    "        self.Z = MaskedGaussianMeasurement(self.Y, observed_data=None, var=var, mask=mask)\n",
    "        self.compile()\n",
    "\n",
    "graph = CompressiveSensingGraph(U=U, var=noise_var, mask=mask, rho=sparsity)\n",
    "\n",
    "# --- ③ サンプル生成（x, y, Z.sampleまで） ---\n",
    "graph.generate_sample(rng)\n",
    "\n",
    "# --- ④ 真の信号（Xのサンプル）を取得 ---\n",
    "true_x = graph.X.get_sample()\n",
    "\n",
    "# --- ⑤ Zの観測値を UncertainArray として構築 ---\n",
    "graph.Z.update_observed_from_sample()\n",
    "\n",
    "# --- ⑥ 推論実行とMSE表示 ---\n",
    "def monitor(graph, t):\n",
    "    x_est = graph.X.compute_belief().data\n",
    "    err = mse(x_est, true_x)\n",
    "    if t % 5 == 0:\n",
    "        print(f\"[t={t}] MSE = {err:.5e}\")\n",
    "\n",
    "graph.run(n_iter=20, callback=monitor)\n",
    "\n",
    "# --- 最終MSE表示 ---\n",
    "final_est = graph.X.compute_belief().data\n",
    "final_mse = mse(final_est, true_x)\n",
    "print(f\"\\nFinal MSE after 20 iterations: {final_mse:.5e}\")"
   ]
  },
  {
   "cell_type": "code",
   "execution_count": null,
   "id": "b2359d9b",
   "metadata": {},
   "outputs": [],
   "source": []
  }
 ],
 "metadata": {
  "kernelspec": {
   "display_name": "cupy-env",
   "language": "python",
   "name": "python3"
  },
  "language_info": {
   "codemirror_mode": {
    "name": "ipython",
    "version": 3
   },
   "file_extension": ".py",
   "mimetype": "text/x-python",
   "name": "python",
   "nbconvert_exporter": "python",
   "pygments_lexer": "ipython3",
   "version": "3.10.5"
  }
 },
 "nbformat": 4,
 "nbformat_minor": 5
}
