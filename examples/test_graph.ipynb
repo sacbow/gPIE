{
 "cells": [
  {
   "cell_type": "code",
   "execution_count": 5,
   "id": "5d9cda68",
   "metadata": {},
   "outputs": [
    {
     "name": "stdout",
     "output_type": "stream",
     "text": [
      "PYTHONPATH manually set to: c:\\Users\\ndhaj\\Desktop\n"
     ]
    }
   ],
   "source": [
    "import os, sys\n",
    "\n",
    "project_root = os.path.abspath(os.path.join(os.getcwd(), '..', '..'))\n",
    "os.environ['PYTHONPATH'] = project_root\n",
    "if project_root not in sys.path:\n",
    "    sys.path.insert(0, project_root)\n",
    "\n",
    "print(\"PYTHONPATH manually set to:\", os.environ['PYTHONPATH'])"
   ]
  },
  {
   "cell_type": "code",
   "execution_count": 6,
   "id": "6d7c331a",
   "metadata": {},
   "outputs": [],
   "source": [
    "import numpy as np\n",
    "from numpy.random import default_rng\n",
    "import gpie\n",
    "gpie.set_backend(np)\n",
    "from gpie import Graph, SparsePrior, GaussianMeasurement, fft2, mse\n",
    "from gpie.core.linalg_utils import random_binary_mask\n",
    "\n",
    "# 1. パラメータ設定\n",
    "shape = (256, 256)\n",
    "rho = 0.1          # sparsity\n",
    "var = 1e-4         # noise variance\n",
    "mask_ratio = 0.3  # percentage of observed entries\n",
    "\n",
    "# 2. ユニタリ行列 U の生成\n",
    "rng = default_rng(seed=12)\n",
    "mask = random_binary_mask(shape, subsampling_rate=mask_ratio, rng = rng)\n",
    "\n",
    "# 3. グラフ構築\n",
    "class CompressiveSensingGraph(Graph):\n",
    "    def __init__(self, shape, rho):\n",
    "        super().__init__()\n",
    "        x = ~SparsePrior(rho=rho, shape=shape, damping = 0.03, label = \"x\", dtype = np.complex64)\n",
    "        with self.observe():\n",
    "            GaussianMeasurement(var=var, mask=mask) @ (fft2(x))\n",
    "        self.compile()\n",
    "\n",
    "g = CompressiveSensingGraph(rho = rho, shape = shape)\n",
    "\n",
    "# 4. RNG設定（初期メッセージとサンプリングを分離）\n",
    "g.set_init_rng(np.random.default_rng(seed=11))\n",
    "g.generate_sample(rng=np.random.default_rng(seed=42))\n",
    "\n",
    "# 5. 真の信号と観測データを取得\n",
    "true_x = g.get_wave(\"x\").get_sample()"
   ]
  },
  {
   "cell_type": "code",
   "execution_count": 7,
   "id": "989166cc",
   "metadata": {},
   "outputs": [
    {
     "name": "stdout",
     "output_type": "stream",
     "text": [
      "[t=0] MSE = 4.28132e-01\n",
      "[t=5] MSE = 4.93058e-03\n",
      "[t=10] MSE = 5.68045e-05\n",
      "[t=15] MSE = 4.41228e-05\n",
      "[t=20] MSE = 4.41061e-05\n",
      "[t=25] MSE = 4.41046e-05\n",
      "Final MSE after 30 iterations: 4.41046e-05\n"
     ]
    }
   ],
   "source": [
    "# 6. 推論の実行\n",
    "def monitor(graph, t):\n",
    "    x = graph.get_wave(\"x\")\n",
    "    est = x.compute_belief().data\n",
    "    err = mse(est, true_x)\n",
    "    if t % 5 == 0:\n",
    "        print(f\"[t={t}] MSE = {err:.5e}\")\n",
    "\n",
    "g.run(n_iter=30, callback=monitor)\n",
    "\n",
    "# 8. 最終精度を表示\n",
    "final_est = g.get_wave(\"x\").compute_belief().data\n",
    "print(f\"Final MSE after 30 iterations: {mse(final_est, true_x):.5e}\")"
   ]
  }
 ],
 "metadata": {
  "kernelspec": {
   "display_name": "cupy-env",
   "language": "python",
   "name": "python3"
  },
  "language_info": {
   "codemirror_mode": {
    "name": "ipython",
    "version": 3
   },
   "file_extension": ".py",
   "mimetype": "text/x-python",
   "name": "python",
   "nbconvert_exporter": "python",
   "pygments_lexer": "ipython3",
   "version": "3.10.5"
  }
 },
 "nbformat": 4,
 "nbformat_minor": 5
}
