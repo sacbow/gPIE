{
 "cells": [
  {
   "cell_type": "code",
   "execution_count": 1,
   "id": "5d9cda68",
   "metadata": {},
   "outputs": [
    {
     "name": "stdout",
     "output_type": "stream",
     "text": [
      "PYTHONPATH manually set to: c:\\Users\\ndhaj\\Desktop\\GraphicalPR\n"
     ]
    }
   ],
   "source": [
    "import os, sys\n",
    "\n",
    "project_root = os.path.abspath(os.path.join(os.getcwd(), '..'))\n",
    "os.environ['PYTHONPATH'] = project_root\n",
    "if project_root not in sys.path:\n",
    "    sys.path.insert(0, project_root)\n",
    "\n",
    "print(\"PYTHONPATH manually set to:\", os.environ['PYTHONPATH'])"
   ]
  },
  {
   "cell_type": "code",
   "execution_count": 2,
   "id": "6d7c331a",
   "metadata": {},
   "outputs": [
    {
     "name": "stderr",
     "output_type": "stream",
     "text": [
      "BP Iteration: 100%|██████████| 30/30 [00:00<00:00, 825.01it/s]"
     ]
    },
    {
     "name": "stdout",
     "output_type": "stream",
     "text": [
      "[t=0] MSE = 4.19261e-01\n",
      "[t=5] MSE = 5.42152e-03\n",
      "[t=10] MSE = 5.22805e-05\n",
      "[t=15] MSE = 4.33186e-05\n",
      "[t=20] MSE = 4.37273e-05\n",
      "[t=25] MSE = 4.37302e-05\n",
      "Final MSE after 30 iterations: 4.37304e-05\n"
     ]
    },
    {
     "name": "stderr",
     "output_type": "stream",
     "text": [
      "\n"
     ]
    }
   ],
   "source": [
    "import numpy as np\n",
    "from numpy.random import default_rng\n",
    "from graph.structure.graph import Graph\n",
    "from graph.prior import SparsePrior\n",
    "from graph.propagator import UnitaryPropagator\n",
    "from graph.measurement import GaussianMeasurement\n",
    "from core.linalg_utils import random_unitary_matrix, random_binary_mask\n",
    "from core.metrics import mse\n",
    "\n",
    "# 1. パラメータ設定\n",
    "n = 1024\n",
    "rho = 0.1          # sparsity\n",
    "var = 1e-4         # noise variance\n",
    "mask_ratio = 0.3  # percentage of observed entries\n",
    "\n",
    "# 2. ユニタリ行列 U の生成\n",
    "rng = default_rng(seed=12)\n",
    "U = random_unitary_matrix(n, rng=rng)\n",
    "mask = random_binary_mask(n, subsampling_rate=mask_ratio, rng = rng)\n",
    "\n",
    "# 3. グラフ構築\n",
    "class CompressiveSensingGraph(Graph):\n",
    "    def __init__(self):\n",
    "        super().__init__()\n",
    "        x = ~SparsePrior(rho=rho, shape=(n,), damping = 0.03, label = \"x\", dtype = np.complex128)\n",
    "        y = UnitaryPropagator(U) @ x\n",
    "        self.meas = GaussianMeasurement(var=var, mask=mask) @ y\n",
    "        self.compile()\n",
    "\n",
    "g = CompressiveSensingGraph()\n",
    "\n",
    "# 4. RNG設定（初期メッセージとサンプリングを分離）\n",
    "g.set_init_rng(np.random.default_rng(seed=11))\n",
    "g.generate_sample(rng=np.random.default_rng(seed=42))\n",
    "\n",
    "# 5. 真の信号と観測データを取得\n",
    "true_x = g.get_wave(\"x\").get_sample()\n",
    "\n",
    "# 6. 推論の実行\n",
    "def monitor(graph, t):\n",
    "    x = graph.get_wave(\"x\")\n",
    "    est = x.compute_belief().data\n",
    "    err = mse(est, true_x)\n",
    "    if t % 5 == 0:\n",
    "        print(f\"[t={t}] MSE = {err:.5e}\")\n",
    "\n",
    "g.run(n_iter=30, callback=monitor)\n",
    "\n",
    "# 8. 最終精度を表示\n",
    "final_est = g.get_wave(\"x\").compute_belief().data\n",
    "print(f\"Final MSE after 30 iterations: {mse(final_est, true_x):.5e}\")"
   ]
  },
  {
   "cell_type": "code",
   "execution_count": 3,
   "id": "04d3cf02",
   "metadata": {},
   "outputs": [
    {
     "data": {
      "image/png": "[encoded data removed]",
      "text/plain": [
       "<Figure size 640x480 with 1 Axes>"
      ]
     },
     "metadata": {},
     "output_type": "display_data"
    }
   ],
   "source": [
    "g.visualize(layout=\"kamada_kawai\", font_size=6.5, scale=2.0)"
   ]
  },
  {
   "cell_type": "code",
   "execution_count": null,
   "id": "2536782a",
   "metadata": {},
   "outputs": [],
   "source": []
  },
  {
   "cell_type": "markdown",
   "id": "4b7b769d",
   "metadata": {},
   "source": [
    "### Profiling"
   ]
  },
  {
   "cell_type": "code",
   "execution_count": 4,
   "id": "d6ce5a6d",
   "metadata": {},
   "outputs": [
    {
     "name": "stdout",
     "output_type": "stream",
     "text": [
      " "
     ]
    },
    {
     "name": "stdout",
     "output_type": "stream",
     "text": [
      "         6766 function calls (6756 primitive calls) in 0.037 seconds\n",
      "\n",
      "   Ordered by: internal time\n",
      "   List reduced from 65 to 40 due to restriction <40>\n",
      "\n",
      "   ncalls  tottime  percall  cumtime  percall filename:lineno(function)\n",
      "       30    0.028    0.001    0.029    0.001 unitary_propagator.py:74(compute_belief)\n",
      "       30    0.002    0.000    0.003    0.000 sparse_prior.py:47(approximate_posterior)\n",
      "       90    0.001    0.000    0.002    0.000 uncertain_array.py:332(__truediv__)\n",
      "       60    0.001    0.000    0.002    0.000 linalg_utils.py:4(reduce_precision_to_scalar)\n",
      "      120    0.000    0.000    0.000    0.000 {method 'reduce' of 'numpy.ufunc' objects}\n",
      "      270    0.000    0.000    0.001    0.000 uncertain_array.py:58(__init__)\n",
      "       30    0.000    0.000    0.000    0.000 uncertain_array.py:365(damp_with)\n",
      "      540    0.000    0.000    0.001    0.000 numeric.py:1855(isscalar)\n",
      "       60    0.000    0.000    0.001    0.000 _methods.py:101(_mean)\n",
      "      270    0.000    0.000    0.000    0.000 uncertain_array.py:144(_set_precision_internal)\n",
      "       60    0.000    0.000    0.000    0.000 uncertain_array_tensor.py:120(__setitem__)\n",
      "       60    0.000    0.000    0.000    0.000 _methods.py:67(_count_reduce_items)\n",
      "      120    0.000    0.000    0.000    0.000 factor.py:160(receive_message)\n",
      "      870    0.000    0.000    0.000    0.000 {built-in method builtins.isinstance}\n",
      "       60    0.000    0.000    0.000    0.000 fromnumeric.py:71(_wrapreduction)\n",
      "      120    0.000    0.000    0.001    0.000 wave.py:170(receive_message)\n",
      "      120    0.000    0.000    0.000    0.000 uncertain_array.py:284(assert_compatible)\n",
      "       60    0.000    0.000    0.000    0.000 uncertain_array_tensor.py:85(assert_compatible)\n",
      "       30    0.000    0.000    0.031    0.001 unitary_propagator.py:128(backward)\n",
      "      300    0.000    0.000    0.000    0.000 uncertain_array.py:182(precision_mode)\n",
      "       30    0.000    0.000    0.032    0.001 graph.py:155(backward)\n",
      "      330    0.000    0.000    0.000    0.000 {built-in method numpy.asarray}\n",
      "       60    0.000    0.000    0.000    0.000 wave.py:245(backward)\n",
      "       30    0.000    0.000    0.004    0.000 sparse_prior.py:37(_compute_message)\n",
      "       60    0.000    0.000    0.000    0.000 uncertain_array_tensor.py:221(__getitem__)\n",
      "       60    0.000    0.000    0.000    0.000 numerictypes.py:357(issubdtype)\n",
      "       30    0.000    0.000    0.005    0.000 graph.py:150(forward)\n",
      "       60    0.000    0.000    0.001    0.000 fromnumeric.py:3385(mean)\n",
      "      120    0.000    0.000    0.000    0.000 numerictypes.py:283(issubclass_)\n",
      "       60    0.000    0.000    0.000    0.000 fromnumeric.py:2322(any)\n",
      "      300    0.000    0.000    0.000    0.000 {built-in method builtins.issubclass}\n",
      "       60    0.000    0.000    0.000    0.000 wave.py:228(forward)\n",
      "      180    0.000    0.000    0.000    0.000 {built-in method _abc._abc_instancecheck}\n",
      "      300    0.000    0.000    0.000    0.000 uncertain_array.py:194(shape)\n",
      "      180    0.000    0.000    0.000    0.000 abc.py:117(__instancecheck__)\n",
      "       30    0.000    0.000    0.000    0.000 base.py:140(backward)\n",
      "      390    0.000    0.000    0.000    0.000 uncertain_array.py:163(precision)\n",
      "        1    0.000    0.000    0.037    0.037 graph.py:160(run)\n",
      "       30    0.000    0.000    0.004    0.000 base.py:64(forward)\n",
      "        1    0.000    0.000    0.037    0.037 {built-in method builtins.exec}"
     ]
    }
   ],
   "source": [
    "%prun -l 40  g.run(n_iter=30, callback=None, verbose = None)"
   ]
  },
  {
   "cell_type": "code",
   "execution_count": null,
   "id": "49fb5a51",
   "metadata": {},
   "outputs": [],
   "source": []
  }
 ],
 "metadata": {
  "kernelspec": {
   "display_name": "cupy-env",
   "language": "python",
   "name": "python3"
  },
  "language_info": {
   "codemirror_mode": {
    "name": "ipython",
    "version": 3
   },
   "file_extension": ".py",
   "mimetype": "text/x-python",
   "name": "python",
   "nbconvert_exporter": "python",
   "pygments_lexer": "ipython3",
   "version": "3.10.5"
  }
 },
 "nbformat": 4,
 "nbformat_minor": 5
}
