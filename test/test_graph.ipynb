{
 "cells": [
  {
   "cell_type": "code",
   "execution_count": 13,
   "id": "5d9cda68",
   "metadata": {},
   "outputs": [
    {
     "name": "stdout",
     "output_type": "stream",
     "text": [
      "PYTHONPATH manually set to: c:\\Users\\ndhaj\\Desktop\\GraphicalPR\n"
     ]
    }
   ],
   "source": [
    "import os, sys\n",
    "\n",
    "project_root = os.path.abspath(os.path.join(os.getcwd(), '..'))\n",
    "os.environ['PYTHONPATH'] = project_root\n",
    "if project_root not in sys.path:\n",
    "    sys.path.insert(0, project_root)\n",
    "\n",
    "print(\"PYTHONPATH manually set to:\", os.environ['PYTHONPATH'])"
   ]
  },
  {
   "cell_type": "code",
   "execution_count": 14,
   "id": "19225611",
   "metadata": {},
   "outputs": [],
   "source": [
    "import numpy as np\n",
    "from graph.structure.graph import Graph\n",
    "from graph.prior.sparse_prior import SparsePrior\n",
    "from graph.propagator.unitary_propagator import UnitaryPropagator\n",
    "from graph.measurement.masked_gaussian_measurement import MaskedGaussianMeasurement\n",
    "from core.metrics import mse\n",
    "from core.linalg_utils import random_unitary_matrix, random_binary_mask"
   ]
  },
  {
   "cell_type": "code",
   "execution_count": 15,
   "id": "6b8d3d9f",
   "metadata": {},
   "outputs": [],
   "source": [
    "n = 512\n",
    "sparsity = 0.1\n",
    "noise_var = 1e-4\n",
    "mask_ratio = 0.3\n",
    "\n",
    "np.random.seed(0)\n",
    "true_x = np.zeros(n, dtype=np.complex128)\n",
    "nonzero = np.random.choice(n, int(n * sparsity), replace=False)\n",
    "true_x[nonzero] = (np.random.randn(len(nonzero)) + 1j * np.random.randn(len(nonzero))) / np.sqrt(2)\n",
    "\n",
    "U = random_unitary_matrix(n, seed=0)\n",
    "true_y = U @ true_x\n",
    "noise = (np.random.randn(n) + 1j * np.random.randn(n)) * np.sqrt(noise_var / 2)\n",
    "observed = true_y + noise\n",
    "mask = random_binary_mask(n, subsampling_rate=mask_ratio, seed=0)"
   ]
  },
  {
   "cell_type": "code",
   "execution_count": 16,
   "id": "7bbc3816",
   "metadata": {},
   "outputs": [],
   "source": [
    "class CompressiveSensingGraph(Graph):\n",
    "    def __init__(self, U, observed, var, mask, rho):\n",
    "        super().__init__()\n",
    "        self.X = SparsePrior(rho=rho, shape=(n,), damping=0.05)\n",
    "        self.Y = UnitaryPropagator(U) @ self.X\n",
    "        self.Z = MaskedGaussianMeasurement(self.Y, observed, var=var, mask=mask)\n",
    "        self.compile()\n",
    "\n",
    "cs_graph = CompressiveSensingGraph(U = U, observed = observed, var = noise_var, mask = mask, rho = sparsity)"
   ]
  },
  {
   "cell_type": "code",
   "execution_count": 17,
   "id": "c61db249",
   "metadata": {},
   "outputs": [
    {
     "name": "stdout",
     "output_type": "stream",
     "text": [
      "[t=0] MSE = 4.45855e-01\n",
      "[t=5] MSE = 4.83589e-03\n",
      "[t=10] MSE = 8.25197e-05\n",
      "[t=15] MSE = 4.09358e-05\n"
     ]
    }
   ],
   "source": [
    "def monitor(graph, t):\n",
    "    x_est = graph.X.compute_belief().data\n",
    "    err = mse(x_est, true_x)\n",
    "    if t % 5 == 0:\n",
    "        print(f\"[t={t}] MSE = {err:.5e}\")\n",
    "\n",
    "cs_graph.run(n_iter=20, callback=monitor)"
   ]
  },
  {
   "cell_type": "code",
   "execution_count": null,
   "id": "d5b91e2c",
   "metadata": {},
   "outputs": [],
   "source": []
  }
 ],
 "metadata": {
  "kernelspec": {
   "display_name": "cupy-env",
   "language": "python",
   "name": "python3"
  },
  "language_info": {
   "codemirror_mode": {
    "name": "ipython",
    "version": 3
   },
   "file_extension": ".py",
   "mimetype": "text/x-python",
   "name": "python",
   "nbconvert_exporter": "python",
   "pygments_lexer": "ipython3",
   "version": "3.10.5"
  }
 },
 "nbformat": 4,
 "nbformat_minor": 5
}
