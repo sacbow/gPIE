{
 "cells": [
  {
   "cell_type": "code",
   "execution_count": 10,
   "id": "5d9cda68",
   "metadata": {},
   "outputs": [
    {
     "name": "stdout",
     "output_type": "stream",
     "text": [
      "PYTHONPATH manually set to: c:\\Users\\ndhaj\\Desktop\\GraphicalPR\n"
     ]
    }
   ],
   "source": [
    "import os, sys\n",
    "\n",
    "project_root = os.path.abspath(os.path.join(os.getcwd(), '..'))\n",
    "os.environ['PYTHONPATH'] = project_root\n",
    "if project_root not in sys.path:\n",
    "    sys.path.insert(0, project_root)\n",
    "\n",
    "print(\"PYTHONPATH manually set to:\", os.environ['PYTHONPATH'])"
   ]
  },
  {
   "cell_type": "code",
   "execution_count": 11,
   "id": "6d7c331a",
   "metadata": {},
   "outputs": [],
   "source": [
    "import numpy as np\n",
    "from numpy.random import default_rng\n",
    "from graph.structure.graph import Graph\n",
    "from graph.prior import SparsePrior\n",
    "from graph.propagator import UnitaryPropagator\n",
    "from graph.measurement import MaskedGaussianMeasurement\n",
    "from core.linalg_utils import random_unitary_matrix, random_binary_mask\n",
    "from core.metrics import mse\n",
    "\n",
    "# 1. パラメータ設定\n",
    "n = 1024\n",
    "rho = 0.1          # sparsity\n",
    "var = 1e-4         # noise variance\n",
    "mask_ratio = 0.2   # percentage of observed entries\n",
    "\n",
    "# 2. ユニタリ行列 U の生成\n",
    "rng = default_rng(seed=12)\n",
    "U = random_unitary_matrix(n, rng=rng)\n",
    "mask = random_binary_mask(n, subsampling_rate=mask_ratio, rng = rng)"
   ]
  },
  {
   "cell_type": "code",
   "execution_count": 12,
   "id": "04d3cf02",
   "metadata": {},
   "outputs": [],
   "source": [
    "# 4. グラフ構築\n",
    "class CompressiveSensingGraph(Graph):\n",
    "    def __init__(self):\n",
    "        super().__init__()\n",
    "        self.X = SparsePrior(rho=rho, shape=(n,))\n",
    "        self.Y = UnitaryPropagator(U) @ self.X\n",
    "        self.Z = MaskedGaussianMeasurement(self.Y, var=var, mask=mask)\n",
    "        self.compile()\n",
    "\n",
    "g = CompressiveSensingGraph()\n",
    "\n",
    "# 5. RNG設定（初期メッセージとサンプリングを分離）\n",
    "g.set_init_rng(np.random.default_rng(seed=1))\n",
    "g.generate_sample(rng=np.random.default_rng(seed=42))\n",
    "\n",
    "# 6. 真の信号と観測データを取得\n",
    "true_x = g.X.get_sample()\n",
    "observed = g.Z.get_sample()"
   ]
  },
  {
   "cell_type": "code",
   "execution_count": 13,
   "id": "2536782a",
   "metadata": {},
   "outputs": [
    {
     "name": "stdout",
     "output_type": "stream",
     "text": [
      "[t=0] MSE = 4.03499e-01\n",
      "[t=5] MSE = 4.34849e-02\n",
      "[t=10] MSE = 1.24445e-02\n",
      "[t=15] MSE = 3.13326e-03\n",
      "[t=20] MSE = 3.85385e-04\n",
      "[t=25] MSE = 1.13057e-04\n",
      "Final MSE after 30 iterations: 1.03171e-04\n"
     ]
    }
   ],
   "source": [
    "# 7. 推論の実行\n",
    "def monitor(graph, t):\n",
    "    est = graph.X.compute_belief().data\n",
    "    err = mse(est, true_x)\n",
    "    if t % 5 == 0:\n",
    "        print(f\"[t={t}] MSE = {err:.5e}\")\n",
    "\n",
    "g.run(n_iter=30, callback=monitor)\n",
    "\n",
    "# 8. 最終精度を表示\n",
    "final_est = g.X.compute_belief().data\n",
    "print(f\"Final MSE after 30 iterations: {mse(final_est, true_x):.5e}\")"
   ]
  },
  {
   "cell_type": "code",
   "execution_count": 14,
   "id": "0bbc0892",
   "metadata": {},
   "outputs": [
    {
     "data": {
      "image/png": "[encoded data removed]",
      "text/plain": [
       "<Figure size 640x480 with 1 Axes>"
      ]
     },
     "metadata": {},
     "output_type": "display_data"
    }
   ],
   "source": [
    "g.visualize(layout=\"kamada_kawai\", font_size=6, scale=2.0)"
   ]
  },
  {
   "cell_type": "markdown",
   "id": "4b7b769d",
   "metadata": {},
   "source": [
    "### Profiling"
   ]
  },
  {
   "cell_type": "code",
   "execution_count": 15,
   "id": "d6ce5a6d",
   "metadata": {},
   "outputs": [
    {
     "name": "stdout",
     "output_type": "stream",
     "text": [
      "[t=0] MSE = 1.02590e-04\n",
      "[t=5] MSE = 1.01544e-04\n",
      "[t=10] MSE = 1.01563e-04\n",
      "[t=15] MSE = 1.01553e-04\n",
      "[t=20] MSE = 1.01552e-04\n",
      "[t=25] MSE = 1.01552e-04\n",
      " "
     ]
    },
    {
     "name": "stdout",
     "output_type": "stream",
     "text": [
      "         7561 function calls in 0.042 seconds\n",
      "\n",
      "   Ordered by: cumulative time\n",
      "   List reduced from 112 to 30 due to restriction <30>\n",
      "\n",
      "   ncalls  tottime  percall  cumtime  percall filename:lineno(function)\n",
      "        1    0.000    0.000    0.042    0.042 {built-in method builtins.exec}\n",
      "        1    0.000    0.000    0.042    0.042 <string>:1(<module>)\n",
      "        1    0.000    0.000    0.042    0.042 graph.py:58(run)\n",
      "       30    0.000    0.000    0.034    0.001 graph.py:53(backward)\n",
      "       30    0.000    0.000    0.034    0.001 unitary_propagator.py:64(backward)\n",
      "       30    0.031    0.001    0.033    0.001 unitary_propagator.py:30(compute_belief)\n",
      "       30    0.000    0.000    0.004    0.000 graph.py:48(forward)\n",
      "       30    0.000    0.000    0.004    0.000 2752585334.py:2(monitor)\n",
      "       30    0.000    0.000    0.003    0.000 sparse_prior.py:33(forward)\n",
      "       30    0.000    0.000    0.003    0.000 sparse_prior.py:17(_compute_message)\n",
      "       30    0.000    0.000    0.003    0.000 wave.py:62(compute_belief)\n",
      "       30    0.002    0.000    0.003    0.000 sparse_prior.py:45(approximate_posterior)\n",
      "       30    0.000    0.000    0.002    0.000 uncertain_array.py:131(combine)\n",
      "       90    0.001    0.000    0.002    0.000 uncertain_array.py:103(__truediv__)\n",
      "       60    0.001    0.000    0.002    0.000 linalg_utils.py:3(reduce_precision_to_scalar)\n",
      "       30    0.000    0.000    0.001    0.000 unitary_propagator.py:54(forward)\n",
      "       90    0.000    0.000    0.001    0.000 fromnumeric.py:3385(mean)\n",
      "       90    0.000    0.000    0.001    0.000 _methods.py:101(_mean)\n",
      "       30    0.001    0.000    0.001    0.000 numeric.py:932(tensordot)\n",
      "       30    0.000    0.000    0.001    0.000 metrics.py:3(mse)\n",
      "      240    0.001    0.000    0.001    0.000 {method 'reduce' of 'numpy.ufunc' objects}\n",
      "      240    0.000    0.000    0.001    0.000 uncertain_array.py:5(__init__)\n",
      "       90    0.000    0.000    0.001    0.000 fromnumeric.py:71(_wrapreduction)\n",
      "       30    0.000    0.000    0.001    0.000 shape_base.py:372(stack)\n",
      "       60    0.000    0.000    0.000    0.000 fromnumeric.py:2322(any)\n",
      "      630    0.000    0.000    0.000    0.000 numeric.py:1855(isscalar)\n",
      "        6    0.000    0.000    0.000    0.000 {built-in method builtins.print}\n",
      "       12    0.000    0.000    0.000    0.000 iostream.py:655(write)\n",
      "      240    0.000    0.000    0.000    0.000 uncertain_array.py:12(_set_precision_internal)\n",
      "       90    0.000    0.000    0.000    0.000 uncertain_array.py:37(precision)"
     ]
    }
   ],
   "source": [
    "%prun -l 30 -s cumulative g.run(n_iter=30, callback=monitor)"
   ]
  },
  {
   "cell_type": "code",
   "execution_count": null,
   "id": "90124791",
   "metadata": {},
   "outputs": [],
   "source": []
  }
 ],
 "metadata": {
  "kernelspec": {
   "display_name": "cupy-env",
   "language": "python",
   "name": "python3"
  },
  "language_info": {
   "codemirror_mode": {
    "name": "ipython",
    "version": 3
   },
   "file_extension": ".py",
   "mimetype": "text/x-python",
   "name": "python",
   "nbconvert_exporter": "python",
   "pygments_lexer": "ipython3",
   "version": "3.10.5"
  }
 },
 "nbformat": 4,
 "nbformat_minor": 5
}
