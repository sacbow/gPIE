{
 "cells": [
  {
   "cell_type": "code",
   "execution_count": 1,
   "id": "92560545",
   "metadata": {},
   "outputs": [
    {
     "name": "stdout",
     "output_type": "stream",
     "text": [
      "None\n"
     ]
    }
   ],
   "source": [
    "import sys, os\n",
    "\n",
    "# このノートブックが test/ にあると仮定\n",
    "notebook_dir = os.getcwd()\n",
    "project_root = os.path.abspath(os.path.join(notebook_dir, \"..\"))\n",
    "\n",
    "# GraphicalPR をモジュール検索パスに追加\n",
    "if project_root not in sys.path:\n",
    "    sys.path.insert(0, project_root)\n",
    "\n",
    "# パス追加後にインポート\n",
    "from graph import Wave\n",
    "from core import UncertainArray\n",
    "\n",
    "# テスト実行\n",
    "w = Wave()\n",
    "print(w.belief)"
   ]
  },
  {
   "cell_type": "code",
   "execution_count": null,
   "id": "9f8ae91f",
   "metadata": {},
   "outputs": [],
   "source": []
  }
 ],
 "metadata": {
  "kernelspec": {
   "display_name": "cupy-env",
   "language": "python",
   "name": "python3"
  },
  "language_info": {
   "codemirror_mode": {
    "name": "ipython",
    "version": 3
   },
   "file_extension": ".py",
   "mimetype": "text/x-python",
   "name": "python",
   "nbconvert_exporter": "python",
   "pygments_lexer": "ipython3",
   "version": "3.10.5"
  }
 },
 "nbformat": 4,
 "nbformat_minor": 5
}
