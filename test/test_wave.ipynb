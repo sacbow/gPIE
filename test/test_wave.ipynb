{
 "cells": [
  {
   "cell_type": "code",
   "execution_count": 4,
   "id": "9f8ae91f",
   "metadata": {},
   "outputs": [],
   "source": [
    "import sys, os\n",
    "sys.path.insert(0, os.path.abspath(\"..\"))\n",
    "\n",
    "import numpy as np\n",
    "from core.uncertain_array import UncertainArray\n",
    "from graph.wave import Wave\n",
    "\n",
    "\n",
    "# Dummy factor class for testing\n",
    "class DummyFactor:\n",
    "    def __init__(self, name):\n",
    "        self.name = name\n",
    "        self.last_received_message = None\n",
    "\n",
    "    def receive_message(self, wave, message):\n",
    "        print(f\"{self.name} received message from Wave: shape={message.shape}\")\n",
    "        self.last_received_message = message\n",
    "\n",
    "# Create a Wave with shape (2, 2)\n",
    "wave = Wave(shape=(2, 2), dtype=np.complex128)\n",
    "\n",
    "# Create dummy parent and children\n",
    "parent = DummyFactor(\"ParentFactor\")\n",
    "child1 = DummyFactor(\"ChildFactor1\")\n",
    "child2 = DummyFactor(\"ChildFactor2\")\n",
    "\n",
    "# Create UncertainArray messages\n",
    "msg_from_parent = UncertainArray.random((2, 2), precision=2.0)\n",
    "msg_from_child1 = UncertainArray.random((2, 2), precision=1.0)\n",
    "msg_from_child2 = UncertainArray.random((2, 2), precision=1.5)\n",
    "\n",
    "# Connect parent and children to the wave\n",
    "wave.set_parent(parent)\n",
    "wave.add_child(child1)\n",
    "wave.add_child(child2)"
   ]
  },
  {
   "cell_type": "code",
   "execution_count": 5,
   "id": "3ee1a6b6",
   "metadata": {},
   "outputs": [
    {
     "name": "stdout",
     "output_type": "stream",
     "text": [
      "Computed belief:\n",
      "Shape: (2, 2)\n",
      "Precision (as array):\n",
      "[[4.5 4.5]\n",
      " [4.5 4.5]]\n",
      "Belief computation test passed.\n"
     ]
    }
   ],
   "source": [
    "# メッセージの受信\n",
    "wave.receive_message(parent, msg_from_parent)\n",
    "wave.receive_message(child1, msg_from_child1)\n",
    "wave.receive_message(child2, msg_from_child2)\n",
    "\n",
    "# belief を計算\n",
    "belief = wave.compute_belief()\n",
    "\n",
    "# 結果の確認\n",
    "print(\"Computed belief:\")\n",
    "print(\"Shape:\", belief.shape)\n",
    "print(\"Precision (as array):\")\n",
    "print(belief.precision)\n",
    "\n",
    "# 精度チェック：全体形状と数値妥当性\n",
    "assert belief.shape == (2, 2), \"Belief shape mismatch\"\n",
    "assert np.all(belief.precision > 0), \"Belief precision must be positive\"\n",
    "\n",
    "# 単純な一致テスト： combine と同じ動作か\n",
    "expected = UncertainArray.combine([msg_from_parent, msg_from_child1, msg_from_child2])\n",
    "assert np.allclose(belief.data, expected.data), \"Belief data mismatch\"\n",
    "assert np.allclose(belief.precision, expected.precision), \"Belief precision mismatch\"\n",
    "\n",
    "print(\"Belief computation test passed.\")\n"
   ]
  },
  {
   "cell_type": "code",
   "execution_count": null,
   "id": "dcc379e1",
   "metadata": {},
   "outputs": [],
   "source": []
  }
 ],
 "metadata": {
  "kernelspec": {
   "display_name": "cupy-env",
   "language": "python",
   "name": "python3"
  },
  "language_info": {
   "codemirror_mode": {
    "name": "ipython",
    "version": 3
   },
   "file_extension": ".py",
   "mimetype": "text/x-python",
   "name": "python",
   "nbconvert_exporter": "python",
   "pygments_lexer": "ipython3",
   "version": "3.10.5"
  }
 },
 "nbformat": 4,
 "nbformat_minor": 5
}
