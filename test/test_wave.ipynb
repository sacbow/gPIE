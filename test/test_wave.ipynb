{
 "cells": [
  {
   "cell_type": "code",
   "execution_count": 1,
   "id": "92560545",
   "metadata": {},
   "outputs": [
    {
     "name": "stdout",
     "output_type": "stream",
     "text": [
      "None\n"
     ]
    }
   ],
   "source": [
    "import sys, os\n",
    "\n",
    "# このノートブックが test/ にあると仮定\n",
    "notebook_dir = os.getcwd()\n",
    "project_root = os.path.abspath(os.path.join(notebook_dir, \"..\"))\n",
    "\n",
    "# GraphicalPR をモジュール検索パスに追加\n",
    "if project_root not in sys.path:\n",
    "    sys.path.insert(0, project_root)\n",
    "\n",
    "# パス追加後にインポート\n",
    "from graph import Wave\n",
    "from core import UncertainArray\n",
    "\n",
    "# テスト実行\n",
    "w = Wave()\n",
    "print(w.belief)"
   ]
  },
  {
   "cell_type": "code",
   "execution_count": 1,
   "id": "9f8ae91f",
   "metadata": {},
   "outputs": [
    {
     "name": "stdout",
     "output_type": "stream",
     "text": [
      "Belief computed:\n",
      "[[ 0.4252217 -0.66334796j  0.26345419+0.42751126j]\n",
      " [-0.58450122+1.31164114j  0.40269413-0.01188743j]]\n",
      "Belief precision:\n",
      "[[4.5 4.5]\n",
      " [4.5 4.5]]\n",
      "ChildFactor1 received message from Wave: shape=(2, 2)\n",
      "ChildFactor2 received message from Wave: shape=(2, 2)\n",
      "ParentFactor received message from Wave: shape=(2, 2)\n",
      "Backward message received by parent factor.\n"
     ]
    }
   ],
   "source": [
    "import sys, os\n",
    "sys.path.insert(0, os.path.abspath(\"..\"))\n",
    "\n",
    "import numpy as np\n",
    "from core.uncertain_array import UncertainArray\n",
    "from graph.wave import Wave\n",
    "\n",
    "\n",
    "# Dummy factor class for testing\n",
    "class DummyFactor:\n",
    "    def __init__(self, name):\n",
    "        self.name = name\n",
    "        self.last_received_message = None\n",
    "\n",
    "    def receive_message(self, wave, message):\n",
    "        print(f\"{self.name} received message from Wave: shape={message.shape}\")\n",
    "        self.last_received_message = message\n",
    "\n",
    "# Create a Wave with shape (2, 2)\n",
    "wave = Wave(shape=(2, 2), dtype=np.complex128)\n",
    "\n",
    "# Create dummy parent and children\n",
    "parent = DummyFactor(\"ParentFactor\")\n",
    "child1 = DummyFactor(\"ChildFactor1\")\n",
    "child2 = DummyFactor(\"ChildFactor2\")\n",
    "\n",
    "# Create UncertainArray messages\n",
    "msg_from_parent = UncertainArray.random((2, 2), precision=2.0)\n",
    "msg_from_child1 = UncertainArray.random((2, 2), precision=1.0)\n",
    "msg_from_child2 = UncertainArray.random((2, 2), precision=1.5)\n",
    "\n",
    "# Connect parent and children to the wave\n",
    "wave.add_parent(parent, msg_from_parent)\n",
    "wave.add_child(child1, msg_from_child1)\n",
    "wave.add_child(child2, msg_from_child2)\n",
    "\n",
    "# Compute belief explicitly and inspect\n",
    "belief = wave.compute_belief()\n",
    "print(\"Belief computed:\")\n",
    "print(belief.data)\n",
    "print(\"Belief precision:\")\n",
    "print(belief.precision)\n",
    "\n",
    "# Run forward pass and check child factors received messages\n",
    "wave.forward()\n",
    "assert child1.last_received_message is not None\n",
    "assert child2.last_received_message is not None\n",
    "\n",
    "# Run backward pass and check parent received message\n",
    "wave.backward()\n",
    "assert parent.last_received_message is not None\n",
    "print(\"Backward message received by parent factor.\")\n"
   ]
  },
  {
   "cell_type": "code",
   "execution_count": null,
   "id": "3ee1a6b6",
   "metadata": {},
   "outputs": [],
   "source": []
  }
 ],
 "metadata": {
  "kernelspec": {
   "display_name": "cupy-env",
   "language": "python",
   "name": "python3"
  },
  "language_info": {
   "codemirror_mode": {
    "name": "ipython",
    "version": 3
   },
   "file_extension": ".py",
   "mimetype": "text/x-python",
   "name": "python",
   "nbconvert_exporter": "python",
   "pygments_lexer": "ipython3",
   "version": "3.10.5"
  }
 },
 "nbformat": 4,
 "nbformat_minor": 5
}
