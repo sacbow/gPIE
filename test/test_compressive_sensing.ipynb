{
 "cells": [
  {
   "cell_type": "code",
   "execution_count": 166,
   "id": "f2802cd1",
   "metadata": {},
   "outputs": [
    {
     "name": "stdout",
     "output_type": "stream",
     "text": [
      "PYTHONPATH manually set to: c:\\Users\\ndhaj\\Desktop\\GraphicalPR\n"
     ]
    }
   ],
   "source": [
    "import os, sys\n",
    "\n",
    "project_root = os.path.abspath(os.path.join(os.getcwd(), '..'))\n",
    "os.environ['PYTHONPATH'] = project_root\n",
    "if project_root not in sys.path:\n",
    "    sys.path.insert(0, project_root)\n",
    "\n",
    "print(\"PYTHONPATH manually set to:\", os.environ['PYTHONPATH'])"
   ]
  },
  {
   "cell_type": "code",
   "execution_count": 167,
   "id": "e8495797",
   "metadata": {},
   "outputs": [],
   "source": [
    "import numpy as np\n",
    "from core.uncertain_array import UncertainArray as UA\n",
    "from graph.prior import SparsePrior, GaussianPrior\n",
    "from graph.propagator.unitary_propagator import UnitaryPropagator\n",
    "from graph.measurement import MaskedGaussianMeasurement, GaussianMeasurement\n",
    "from core.linalg_utils import random_unitary_matrix\n",
    "from core.linalg_utils import random_binary_mask"
   ]
  },
  {
   "cell_type": "markdown",
   "id": "23eb8b17",
   "metadata": {},
   "source": [
    "## Gaussian Measurement & Gaussian Prior"
   ]
  },
  {
   "cell_type": "code",
   "execution_count": 168,
   "id": "1d3a8e30",
   "metadata": {},
   "outputs": [],
   "source": [
    "n = 128\n",
    "noise_var = 0.01\n",
    "np.random.seed(42)\n",
    "true_x = (np.random.randn(n) + 1j * np.random.randn(n)) * np.sqrt(1/2)\n",
    "U = random_unitary_matrix(n, seed=1)\n",
    "true_y = U @ true_x\n",
    "noise = (np.random.randn(n) + 1j * np.random.randn(n)) * np.sqrt(noise_var/2)\n",
    "observed = true_y + noise"
   ]
  },
  {
   "cell_type": "code",
   "execution_count": 169,
   "id": "1b4ab1a5",
   "metadata": {},
   "outputs": [],
   "source": [
    "X = GaussianPrior(shape = (n,))\n",
    "Y = UnitaryPropagator(U) @ X\n",
    "Z = GaussianMeasurement(Y, observed, var = noise_var)"
   ]
  },
  {
   "cell_type": "code",
   "execution_count": 170,
   "id": "82b93326",
   "metadata": {},
   "outputs": [
    {
     "name": "stdout",
     "output_type": "stream",
     "text": [
      "Reconstruction MSE: 0.009395119348457421\n",
      "Reconstruction MSE: 0.009285609456118827\n",
      "Reconstruction MSE: 0.009285609456118827\n",
      "Reconstruction MSE: 0.009285609456118827\n",
      "Reconstruction MSE: 0.009285609456118827\n"
     ]
    }
   ],
   "source": [
    "for _ in range(5):\n",
    "    X.parent.forward()\n",
    "    X.forward()\n",
    "    Y.parent.forward()\n",
    "    Y.forward()\n",
    "    Z.backward()\n",
    "    Y.backward()\n",
    "    Y.parent.backward()\n",
    "    X.backward()\n",
    "    x_belief = X.compute_belief()\n",
    "    print(\"Reconstruction MSE:\", np.mean(np.abs(x_belief.data - true_x) ** 2))"
   ]
  },
  {
   "cell_type": "markdown",
   "id": "d168be26",
   "metadata": {},
   "source": [
    "## Sparse Prior & GaussianMeasurement"
   ]
  },
  {
   "cell_type": "code",
   "execution_count": 171,
   "id": "86d78941",
   "metadata": {},
   "outputs": [],
   "source": [
    "# 1. パラメータと真のスパース信号\n",
    "n = 128\n",
    "sparsity = 0.1\n",
    "noise_var = 0.01\n",
    "mask_ratio = 0.5\n",
    "np.random.seed(42)\n",
    "\n",
    "true_x = np.zeros(n, dtype=np.complex128)\n",
    "nonzero_indices = np.random.choice(n, int(n * sparsity), replace=False)\n",
    "true_x[nonzero_indices] = np.random.randn(len(nonzero_indices)) + 1j * np.random.randn(len(nonzero_indices))\n",
    "\n",
    "# 2. ユニタリ行列と観測\n",
    "U = random_unitary_matrix(n, seed=1)\n",
    "true_y = U @ true_x\n",
    "noise = (np.random.randn(n) + 1j * np.random.randn(n)) * np.sqrt(noise_var/2)\n",
    "observed = true_y + noise"
   ]
  },
  {
   "cell_type": "code",
   "execution_count": 172,
   "id": "50ae02bc",
   "metadata": {},
   "outputs": [],
   "source": [
    "# 3. グラフ構築\n",
    "X = SparsePrior(rho=sparsity, shape=(n,), damping=0.02)\n",
    "Y = UnitaryPropagator(U) @ X\n",
    "Z = GaussianMeasurement(Y, observed, var=noise_var)"
   ]
  },
  {
   "cell_type": "code",
   "execution_count": 173,
   "id": "6a4da3b3",
   "metadata": {},
   "outputs": [
    {
     "name": "stdout",
     "output_type": "stream",
     "text": [
      "Reconstruction MSE: 0.01125754028023061\n",
      "Reconstruction MSE: 0.03092081738063377\n",
      "Reconstruction MSE: 0.004688572059539616\n",
      "Reconstruction MSE: 0.009060707341559233\n",
      "Reconstruction MSE: 0.0023533419011834925\n",
      "Reconstruction MSE: 0.00250700332388568\n",
      "Reconstruction MSE: 0.013572688527010093\n",
      "Reconstruction MSE: 0.002492859365482196\n",
      "Reconstruction MSE: 0.0023817755365728908\n",
      "Reconstruction MSE: 0.0024487957610066845\n"
     ]
    }
   ],
   "source": [
    "# 4. 推論ステップ（最小：1往復）\n",
    "for _ in range(10):\n",
    "    X.parent.forward()\n",
    "    X.forward()\n",
    "    Y.parent.forward()\n",
    "    Y.forward()\n",
    "    Z.backward()\n",
    "    Y.backward()\n",
    "    Y.parent.backward()\n",
    "    X.backward()\n",
    "    x_belief = X.compute_belief()\n",
    "    print(\"Reconstruction MSE:\", np.mean(np.abs(x_belief.data - true_x) ** 2))"
   ]
  },
  {
   "cell_type": "markdown",
   "id": "69f54bea",
   "metadata": {},
   "source": [
    "## SparsePrior & MaskedGaussianMeasurement"
   ]
  },
  {
   "cell_type": "code",
   "execution_count": 177,
   "id": "9f079b90",
   "metadata": {},
   "outputs": [],
   "source": [
    "# 1. パラメータと真のスパース信号\n",
    "n = 512\n",
    "sparsity = 0.1\n",
    "noise_var = 0.01\n",
    "mask_ratio = 0.8\n",
    "np.random.seed(21)\n",
    "\n",
    "true_x = np.zeros(n, dtype=np.complex128)\n",
    "nonzero_indices = np.random.choice(n, int(n * sparsity), replace=False)\n",
    "true_x[nonzero_indices] = np.random.randn(len(nonzero_indices)) + 1j * np.random.randn(len(nonzero_indices))\n",
    "\n",
    "# 2. ユニタリ行列と観測\n",
    "U = random_unitary_matrix(n, seed=1)\n",
    "true_y = U @ true_x\n",
    "noise = (np.random.randn(n) + 1j * np.random.randn(n)) * np.sqrt(noise_var/2)\n",
    "observed = true_y + noise\n",
    "#mask\n",
    "mask = random_binary_mask(n, subsampling_rate= mask_ratio, seed=None)"
   ]
  },
  {
   "cell_type": "code",
   "execution_count": 180,
   "id": "b8e05f39",
   "metadata": {},
   "outputs": [],
   "source": [
    "# 3. グラフ構築\n",
    "X = SparsePrior(rho=sparsity, shape=(n,), damping=0.1)\n",
    "Y = UnitaryPropagator(U) @ X\n",
    "Z = MaskedGaussianMeasurement(Y, observed, var=noise_var, mask = mask)"
   ]
  },
  {
   "cell_type": "code",
   "execution_count": 181,
   "id": "df9b673b",
   "metadata": {},
   "outputs": [
    {
     "name": "stdout",
     "output_type": "stream",
     "text": [
      "t =  0 Reconstruction MSE: 0.24573165885350093\n",
      "t =  5 Reconstruction MSE: 0.4848598810405721\n",
      "t =  10 Reconstruction MSE: 0.1961003112547678\n",
      "t =  15 Reconstruction MSE: 0.2575899458199481\n",
      "t =  20 Reconstruction MSE: 0.1847180786001826\n",
      "t =  25 Reconstruction MSE: 1.9455527769448753\n",
      "t =  30 Reconstruction MSE: 0.17837739810588266\n",
      "t =  35 Reconstruction MSE: 464.8650111139667\n",
      "t =  40 Reconstruction MSE: 0.1614783811845183\n",
      "t =  45 Reconstruction MSE: 0.18688552956213722\n"
     ]
    }
   ],
   "source": [
    "# 4. 推論ステップ（最小：1往復）\n",
    "for t in range(50):\n",
    "    X.parent.forward()\n",
    "    X.forward()\n",
    "    Y.parent.forward()\n",
    "    Y.forward()\n",
    "    Z.backward()\n",
    "    Y.backward()\n",
    "    Y.parent.backward()\n",
    "    X.backward()\n",
    "    if t % 5 == 0:\n",
    "        x_belief = X.compute_belief()\n",
    "        print(\"t = \", t, \"Reconstruction MSE:\", np.mean(np.abs(x_belief.data - true_x) ** 2))"
   ]
  },
  {
   "cell_type": "code",
   "execution_count": null,
   "id": "e1dd3c59",
   "metadata": {},
   "outputs": [],
   "source": []
  }
 ],
 "metadata": {
  "kernelspec": {
   "display_name": "cupy-env",
   "language": "python",
   "name": "python3"
  },
  "language_info": {
   "codemirror_mode": {
    "name": "ipython",
    "version": 3
   },
   "file_extension": ".py",
   "mimetype": "text/x-python",
   "name": "python",
   "nbconvert_exporter": "python",
   "pygments_lexer": "ipython3",
   "version": "3.10.5"
  }
 },
 "nbformat": 4,
 "nbformat_minor": 5
}
