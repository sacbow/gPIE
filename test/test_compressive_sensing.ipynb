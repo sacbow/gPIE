{
 "cells": [
  {
   "cell_type": "code",
   "execution_count": 1,
   "id": "f2802cd1",
   "metadata": {},
   "outputs": [
    {
     "name": "stdout",
     "output_type": "stream",
     "text": [
      "PYTHONPATH manually set to: c:\\Users\\ndhaj\\Desktop\\GraphicalPR\n"
     ]
    }
   ],
   "source": [
    "import os, sys\n",
    "\n",
    "project_root = os.path.abspath(os.path.join(os.getcwd(), '..'))\n",
    "os.environ['PYTHONPATH'] = project_root\n",
    "if project_root not in sys.path:\n",
    "    sys.path.insert(0, project_root)\n",
    "\n",
    "print(\"PYTHONPATH manually set to:\", os.environ['PYTHONPATH'])"
   ]
  },
  {
   "cell_type": "code",
   "execution_count": 2,
   "id": "e8495797",
   "metadata": {},
   "outputs": [],
   "source": [
    "import numpy as np\n",
    "from core.uncertain_array import UncertainArray as UA\n",
    "from graph.prior import SparsePrior, GaussianPrior\n",
    "from graph.propagator.unitary_propagator import UnitaryPropagator\n",
    "from graph.measurement import MaskedGaussianMeasurement, GaussianMeasurement\n",
    "from core.linalg_utils import random_unitary_matrix\n",
    "from core.linalg_utils import random_binary_mask"
   ]
  },
  {
   "cell_type": "markdown",
   "id": "69f54bea",
   "metadata": {},
   "source": [
    "## SparsePrior & MaskedGaussianMeasurement"
   ]
  },
  {
   "cell_type": "code",
   "execution_count": 3,
   "id": "9f079b90",
   "metadata": {},
   "outputs": [],
   "source": [
    "# 1. パラメータと真のスパース信号\n",
    "n = 512\n",
    "sparsity = 0.1\n",
    "noise_var = 1e-4\n",
    "mask_ratio = 0.2\n",
    "np.random.seed(15)\n",
    "\n",
    "true_x = np.zeros(n, dtype=np.complex128)\n",
    "nonzero_indices = np.random.choice(n, int(n * sparsity), replace=False)\n",
    "true_x[nonzero_indices] = (np.random.randn(len(nonzero_indices)) + 1j * np.random.randn(len(nonzero_indices)))*np.sqrt(1/2)\n",
    "\n",
    "# 2. ユニタリ行列と観測\n",
    "U = random_unitary_matrix(n, seed=3)\n",
    "true_y = U @ true_x\n",
    "noise = (np.random.randn(n) + 1j * np.random.randn(n)) * np.sqrt(noise_var/2)\n",
    "observed = true_y + noise\n",
    "mask = random_binary_mask(n, subsampling_rate= mask_ratio, seed=None)"
   ]
  },
  {
   "cell_type": "code",
   "execution_count": 4,
   "id": "b8e05f39",
   "metadata": {},
   "outputs": [],
   "source": [
    "# 3. グラフ構築\n",
    "X = SparsePrior(rho=sparsity, shape=(n,), damping=0.03)\n",
    "Y = UnitaryPropagator(U) @ X\n",
    "Z = MaskedGaussianMeasurement(Y, observed, var=noise_var, mask = mask)"
   ]
  },
  {
   "cell_type": "code",
   "execution_count": 5,
   "id": "91a39074",
   "metadata": {},
   "outputs": [
    {
     "name": "stdout",
     "output_type": "stream",
     "text": [
      "t =  0 Reconstruction MSE: 0.4124600700840233\n",
      "t =  5 Reconstruction MSE: 0.04990736956084199\n",
      "t =  10 Reconstruction MSE: 0.01804563784554417\n",
      "t =  15 Reconstruction MSE: 0.0014384438105604553\n"
     ]
    }
   ],
   "source": [
    "# 4. 推論ステップ（最小：1往復）\n",
    "for t in range(20):\n",
    "    X.parent.forward()\n",
    "    X.forward()\n",
    "    Y.parent.forward()\n",
    "    Y.forward()\n",
    "    Z.forward()\n",
    "    Z.backward()\n",
    "    Y.backward()\n",
    "    Y.parent.backward()\n",
    "    X.backward()\n",
    "    X.parent.backward()\n",
    "    if t % 5 == 0:\n",
    "        x_belief = X.compute_belief()\n",
    "        print(\"t = \", t, \"Reconstruction MSE:\", np.mean(np.abs(x_belief.data - true_x) ** 2))"
   ]
  }
 ],
 "metadata": {
  "kernelspec": {
   "display_name": "cupy-env",
   "language": "python",
   "name": "python3"
  },
  "language_info": {
   "codemirror_mode": {
    "name": "ipython",
    "version": 3
   },
   "file_extension": ".py",
   "mimetype": "text/x-python",
   "name": "python",
   "nbconvert_exporter": "python",
   "pygments_lexer": "ipython3",
   "version": "3.10.5"
  }
 },
 "nbformat": 4,
 "nbformat_minor": 5
}
