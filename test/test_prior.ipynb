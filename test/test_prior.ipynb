{
 "cells": [
  {
   "cell_type": "code",
   "execution_count": 2,
   "id": "fe5cb836",
   "metadata": {},
   "outputs": [],
   "source": [
    "import sys\n",
    "import os\n",
    "\n",
    "# このセルが実行されるノートブックのあるディレクトリからプロジェクトルートを計算\n",
    "project_root = os.path.abspath(os.path.join(os.getcwd(), '..'))\n",
    "if project_root not in sys.path:\n",
    "    sys.path.insert(0, project_root)"
   ]
  },
  {
   "cell_type": "code",
   "execution_count": 6,
   "id": "16dae3ad",
   "metadata": {},
   "outputs": [
    {
     "name": "stdout",
     "output_type": "stream",
     "text": [
      "Variance (approx): 1.9335824039716398\n",
      "Nonzero count: 128\n",
      "Expected count approx: 128\n"
     ]
    }
   ],
   "source": [
    "import numpy as np\n",
    "from graph.prior.gaussian_prior import GaussianPrior\n",
    "from graph.prior.sparse_prior import SparsePrior\n",
    "\n",
    "# RNG with fixed seed\n",
    "rng = np.random.default_rng(seed=42)\n",
    "\n",
    "# === Test GaussianPrior ===\n",
    "gp = GaussianPrior(var=2.0, shape=(512,))\n",
    "gp.parent.generate_sample(rng)\n",
    "x_gp = gp.get_sample()\n",
    "#print(\"GaussianPrior sample:\", x_gp)\n",
    "print(\"Variance (approx):\", np.var(x_gp))\n",
    "\n",
    "# === Test SparsePrior ===\n",
    "sp = SparsePrior(rho=0.25, shape=(512,))\n",
    "sp.parent.generate_sample(rng)\n",
    "x_sp = sp.get_sample()\n",
    "#print(\"\\nSparsePrior sample:\", x_sp)\n",
    "print(\"Nonzero count:\", np.count_nonzero(x_sp))\n",
    "print(\"Expected count approx:\", int(0.25 * 512))"
   ]
  },
  {
   "cell_type": "code",
   "execution_count": null,
   "id": "11d5cd63",
   "metadata": {},
   "outputs": [],
   "source": []
  }
 ],
 "metadata": {
  "kernelspec": {
   "display_name": "cupy-env",
   "language": "python",
   "name": "python3"
  },
  "language_info": {
   "codemirror_mode": {
    "name": "ipython",
    "version": 3
   },
   "file_extension": ".py",
   "mimetype": "text/x-python",
   "name": "python",
   "nbconvert_exporter": "python",
   "pygments_lexer": "ipython3",
   "version": "3.10.5"
  }
 },
 "nbformat": 4,
 "nbformat_minor": 5
}
