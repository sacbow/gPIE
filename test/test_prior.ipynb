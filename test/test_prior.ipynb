{
 "cells": [
  {
   "cell_type": "code",
   "execution_count": 1,
   "id": "fe5cb836",
   "metadata": {},
   "outputs": [],
   "source": [
    "import sys\n",
    "import os\n",
    "\n",
    "# このセルが実行されるノートブックのあるディレクトリからプロジェクトルートを計算\n",
    "project_root = os.path.abspath(os.path.join(os.getcwd(), '..'))\n",
    "if project_root not in sys.path:\n",
    "    sys.path.insert(0, project_root)"
   ]
  },
  {
   "cell_type": "code",
   "execution_count": 2,
   "id": "471b27df",
   "metadata": {},
   "outputs": [
    {
     "name": "stdout",
     "output_type": "stream",
     "text": [
      "Generation of Prior :  1\n",
      "Parent message received: UncertainArray(shape=(8, 8), precision=scalar)\n",
      "Message type: <class 'core.uncertain_array.UncertainArray'>\n"
     ]
    }
   ],
   "source": [
    "import numpy as np\n",
    "from graph.prior.base import Prior\n",
    "from core.uncertain_array import UncertainArray\n",
    "\n",
    "class DummyPrior(Prior):\n",
    "    def _compute_message(self, incoming: UncertainArray) -> UncertainArray:\n",
    "        # 単純に精度を保ったゼロメッセージを返す\n",
    "        return UncertainArray.zeros(self.shape, dtype=self.dtype, precision=incoming.to_scalar_precision())\n",
    "\n",
    "X = DummyPrior(shape=(8, 8))  # X は Wave インスタンス\n",
    "print(\"Generation of Prior : \", X.parent.generation)\n",
    "\n",
    "# forward を呼んでメッセージを送信\n",
    "X.parent.forward()\n",
    "\n",
    "# Wave X が親からメッセージを受け取ったか確認\n",
    "print(\"Parent message received:\", X.parent_message)\n",
    "print(\"Message type:\", type(X.parent_message))"
   ]
  },
  {
   "cell_type": "markdown",
   "id": "2a46ccdf",
   "metadata": {},
   "source": [
    "# Gaussian Prior"
   ]
  },
  {
   "cell_type": "code",
   "execution_count": 4,
   "id": "4460df6b",
   "metadata": {},
   "outputs": [
    {
     "name": "stdout",
     "output_type": "stream",
     "text": [
      "Wave(shape=(16, 16), gen=2)\n",
      "UncertainArray(shape=(16, 16), precision=scalar)\n"
     ]
    }
   ],
   "source": [
    "from graph.prior import GaussianPrior\n",
    "\n",
    "X = GaussianPrior(mean=0, var=1, shape=(16, 16))\n",
    "print(X)  # Wave instance\n",
    "X.parent.forward()\n",
    "print(X.parent_message)  # UA instance with zeros"
   ]
  },
  {
   "cell_type": "markdown",
   "id": "10048de6",
   "metadata": {},
   "source": [
    "# Sparse Prior"
   ]
  },
  {
   "cell_type": "code",
   "execution_count": 5,
   "id": "669f9ddc",
   "metadata": {},
   "outputs": [
    {
     "name": "stdout",
     "output_type": "stream",
     "text": [
      "Wave created: Wave(shape=(2, 2), gen=2)\n",
      "\n",
      "[Step 1] Initial random message\n",
      "Output message sent to Wave: UncertainArray(shape=(2, 2), precision=scalar)\n",
      "Belief (after first forward): UncertainArray(shape=(2, 2), precision=scalar)\n",
      "[[ 0.09743961+0.53304162j  0.76064132-0.63836193j]\n",
      " [-0.85928405-0.56567102j  0.47755934+0.64159729j]]\n",
      "[[-0.00207745-0.01136467j -0.06501102+0.05455996j]\n",
      " [ 0.0801122 +0.05273826j -0.02434792-0.03271124j]]\n",
      "[[3.98988417 2.49543996]\n",
      " [2.3869158  3.12381958]]\n",
      "\n",
      "[Step 2] After receiving explicit message and forward\n",
      "Incoming message to Prior: UncertainArray(shape=(2, 2), precision=scalar)\n",
      "New output message sent to Wave: UncertainArray(shape=(2, 2), precision=array)\n",
      "Updated belief (should reflect approximate posterior): UncertainArray(shape=(2, 2), precision=array)\n"
     ]
    }
   ],
   "source": [
    "import numpy as np\n",
    "from graph.prior import SparsePrior\n",
    "from core.uncertain_array import UncertainArray as UA\n",
    "np.random.seed(1)\n",
    "\n",
    "# スパース事前分布によるPriorを作成\n",
    "X = SparsePrior(rho=0.5, shape=(2, 2), damping=0.0)\n",
    "print(\"Wave created:\", X)\n",
    "\n",
    "# ---- 1回目の forward（output_message is None）----\n",
    "X.parent.forward()\n",
    "print(\"\\n[Step 1] Initial random message\")\n",
    "print(\"Output message sent to Wave:\", X.parent_message)\n",
    "print(\"Belief (after first forward):\", X.parent.belief)\n",
    "\n",
    "# ---- 2回目：明示的に Prior にメッセージを送ってから forward ----\n",
    "incoming = UA.random(shape=(2, 2), precision=1.0)  # よりシャープな観測を仮定\n",
    "print(incoming.data)\n",
    "X.parent.receive_message(X, incoming)\n",
    "X.parent.forward()\n",
    "print(X.parent_message.data)\n",
    "print(X.parent_message.precision)\n",
    "print(\"\\n[Step 2] After receiving explicit message and forward\")\n",
    "print(\"Incoming message to Prior:\", incoming)\n",
    "print(\"New output message sent to Wave:\", X.parent_message)\n",
    "print(\"Updated belief (should reflect approximate posterior):\", X.parent.belief)"
   ]
  },
  {
   "cell_type": "code",
   "execution_count": null,
   "id": "fe17e745",
   "metadata": {},
   "outputs": [
    {
     "name": "stdout",
     "output_type": "stream",
     "text": [
      "[Same Seed] Equal messages: True\n",
      "[Same Seed] Equal belief: True\n",
      "[Different Seed] Different from seed=42: True\n"
     ]
    }
   ],
   "source": [
    "import numpy as np\n",
    "from graph.prior import SparsePrior\n",
    "from core.uncertain_array import UncertainArray as UA\n",
    "\n",
    "# 同じ seed を使って 2 つの Prior を生成\n",
    "X1 = SparsePrior(rho=0.2, shape=(8, 8), damping=0.0, seed=42)\n",
    "X2 = SparsePrior(rho=0.2, shape=(8, 8), damping=0.0, seed=42)\n",
    "\n",
    "# 初回 forward（ランダムメッセージ生成）\n",
    "X1.parent.forward()\n",
    "X2.parent.forward()\n",
    "\n",
    "# 比較\n",
    "print(\"[Same Seed] Equal messages:\", np.allclose(X1.parent_message.data, X2.parent_message.data))\n",
    "print(\"[Same Seed] Equal belief:\", np.allclose(X1.parent.belief.data, X2.parent.belief.data))\n",
    "\n",
    "# 異なる seed を使ったケースも確認\n",
    "X3 = SparsePrior(rho=0.2, shape=(8, 8), damping=0.0, seed=123)\n",
    "X3.parent.forward()\n",
    "\n",
    "print(\"[Different Seed] Different from seed=42:\", not np.allclose(X1.parent_message.data, X3.parent_message.data))\n"
   ]
  }
 ],
 "metadata": {
  "kernelspec": {
   "display_name": "cupy-env",
   "language": "python",
   "name": "python3"
  },
  "language_info": {
   "codemirror_mode": {
    "name": "ipython",
    "version": 3
   },
   "file_extension": ".py",
   "mimetype": "text/x-python",
   "name": "python",
   "nbconvert_exporter": "python",
   "pygments_lexer": "ipython3",
   "version": "3.10.5"
  }
 },
 "nbformat": 4,
 "nbformat_minor": 5
}
