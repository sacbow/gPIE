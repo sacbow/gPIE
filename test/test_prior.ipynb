{
 "cells": [
  {
   "cell_type": "code",
   "execution_count": 1,
   "id": "fe5cb836",
   "metadata": {},
   "outputs": [],
   "source": [
    "import sys\n",
    "import os\n",
    "\n",
    "# このセルが実行されるノートブックのあるディレクトリからプロジェクトルートを計算\n",
    "project_root = os.path.abspath(os.path.join(os.getcwd(), '..'))\n",
    "if project_root not in sys.path:\n",
    "    sys.path.insert(0, project_root)"
   ]
  },
  {
   "cell_type": "code",
   "execution_count": 2,
   "id": "471b27df",
   "metadata": {},
   "outputs": [],
   "source": [
    "import numpy as np\n",
    "from graph.prior.base import Prior\n",
    "from core.uncertain_array import UncertainArray\n",
    "\n",
    "class DummyPrior(Prior):\n",
    "    def _compute_message(self, incoming: UncertainArray) -> UncertainArray:\n",
    "        # 単純に精度を保ったゼロメッセージを返す\n",
    "        return UncertainArray.zeros(self.shape, dtype=self.dtype, precision=incoming.to_scalar_precision())"
   ]
  },
  {
   "cell_type": "code",
   "execution_count": 3,
   "id": "fb600df2",
   "metadata": {},
   "outputs": [
    {
     "name": "stdout",
     "output_type": "stream",
     "text": [
      "Wave(shape=(8, 8), gen=1)\n"
     ]
    }
   ],
   "source": [
    "X = DummyPrior(shape=(8, 8))  # X は Wave インスタンス\n",
    "print(X)"
   ]
  },
  {
   "cell_type": "code",
   "execution_count": 4,
   "id": "74c716d1",
   "metadata": {},
   "outputs": [
    {
     "name": "stdout",
     "output_type": "stream",
     "text": [
      "0\n"
     ]
    }
   ],
   "source": [
    "print(X.parent.generation)"
   ]
  },
  {
   "cell_type": "code",
   "execution_count": 5,
   "id": "4728eca5",
   "metadata": {},
   "outputs": [
    {
     "name": "stdout",
     "output_type": "stream",
     "text": [
      "Parent message received: UncertainArray(shape=(8, 8), precision=scalar)\n",
      "Message type: <class 'core.uncertain_array.UncertainArray'>\n"
     ]
    }
   ],
   "source": [
    "# forward を呼んでメッセージを送信\n",
    "X.parent.forward()\n",
    "\n",
    "# Wave X が親からメッセージを受け取ったか確認\n",
    "print(\"Parent message received:\", X.parent_message)\n",
    "print(\"Message type:\", type(X.parent_message))"
   ]
  },
  {
   "cell_type": "code",
   "execution_count": 6,
   "id": "19fa4075",
   "metadata": {},
   "outputs": [
    {
     "data": {
      "text/plain": [
       "0.9902530254737346"
      ]
     },
     "execution_count": 6,
     "metadata": {},
     "output_type": "execute_result"
    }
   ],
   "source": [
    "np.std(X.parent_message.data)"
   ]
  },
  {
   "cell_type": "code",
   "execution_count": 7,
   "id": "b211a352",
   "metadata": {},
   "outputs": [],
   "source": [
    "X.parent.receive_message(X, UncertainArray.zeros(X.shape))"
   ]
  },
  {
   "cell_type": "code",
   "execution_count": 8,
   "id": "d36c7caa",
   "metadata": {},
   "outputs": [],
   "source": [
    "X.parent.forward()"
   ]
  },
  {
   "cell_type": "code",
   "execution_count": 9,
   "id": "8631963d",
   "metadata": {},
   "outputs": [
    {
     "name": "stdout",
     "output_type": "stream",
     "text": [
      "[[0.+0.j 0.+0.j 0.+0.j 0.+0.j 0.+0.j 0.+0.j 0.+0.j 0.+0.j]\n",
      " [0.+0.j 0.+0.j 0.+0.j 0.+0.j 0.+0.j 0.+0.j 0.+0.j 0.+0.j]\n",
      " [0.+0.j 0.+0.j 0.+0.j 0.+0.j 0.+0.j 0.+0.j 0.+0.j 0.+0.j]\n",
      " [0.+0.j 0.+0.j 0.+0.j 0.+0.j 0.+0.j 0.+0.j 0.+0.j 0.+0.j]\n",
      " [0.+0.j 0.+0.j 0.+0.j 0.+0.j 0.+0.j 0.+0.j 0.+0.j 0.+0.j]\n",
      " [0.+0.j 0.+0.j 0.+0.j 0.+0.j 0.+0.j 0.+0.j 0.+0.j 0.+0.j]\n",
      " [0.+0.j 0.+0.j 0.+0.j 0.+0.j 0.+0.j 0.+0.j 0.+0.j 0.+0.j]\n",
      " [0.+0.j 0.+0.j 0.+0.j 0.+0.j 0.+0.j 0.+0.j 0.+0.j 0.+0.j]]\n"
     ]
    }
   ],
   "source": [
    "print(X.parent_message.data)"
   ]
  },
  {
   "cell_type": "markdown",
   "id": "2a46ccdf",
   "metadata": {},
   "source": [
    "# Gaussian Prior"
   ]
  },
  {
   "cell_type": "code",
   "execution_count": 10,
   "id": "4460df6b",
   "metadata": {},
   "outputs": [
    {
     "name": "stdout",
     "output_type": "stream",
     "text": [
      "Wave(shape=(16, 16), gen=1)\n",
      "UncertainArray(shape=(16, 16), precision=scalar)\n"
     ]
    }
   ],
   "source": [
    "from graph.prior import GaussianPrior\n",
    "\n",
    "X = GaussianPrior(mean=0, var=1, shape=(16, 16))\n",
    "print(X)  # Wave instance\n",
    "X.parent.forward()\n",
    "print(X.parent_message)  # UA instance with zeros"
   ]
  },
  {
   "cell_type": "markdown",
   "id": "10048de6",
   "metadata": {},
   "source": [
    "# Sparse Prior"
   ]
  },
  {
   "cell_type": "code",
   "execution_count": 11,
   "id": "669f9ddc",
   "metadata": {},
   "outputs": [
    {
     "name": "stdout",
     "output_type": "stream",
     "text": [
      "Wave created: Wave(shape=(2, 2), gen=1)\n",
      "\n",
      "[Step 1] Initial random message\n",
      "Output message sent to Wave: UncertainArray(shape=(2, 2), precision=scalar)\n",
      "Belief (after first forward): UncertainArray(shape=(2, 2), precision=scalar)\n",
      "[[ 0.25857919+0.07176907j  0.43870724-0.53578489j]\n",
      " [ 0.14721498+0.48862675j -0.1883165 +0.16119851j]]\n",
      "[[-0.00050253-0.00013948j -0.00678268+0.00828356j]\n",
      " [-0.00112374-0.00372984j  0.00031083-0.00026607j]]\n",
      "[[15.89556733 11.08804485]\n",
      " [13.40461416 16.05181011]]\n",
      "\n",
      "[Step 2] After receiving explicit message and forward\n",
      "Incoming message to Prior: UncertainArray(shape=(2, 2), precision=scalar)\n",
      "New output message sent to Wave: UncertainArray(shape=(2, 2), precision=array)\n",
      "Updated belief (should reflect approximate posterior): UncertainArray(shape=(2, 2), precision=array)\n"
     ]
    }
   ],
   "source": [
    "import numpy as np\n",
    "from graph.prior import SparsePrior\n",
    "from core.uncertain_array import UncertainArray as UA\n",
    "np.random.seed(1)\n",
    "\n",
    "# スパース事前分布によるPriorを作成\n",
    "X = SparsePrior(rho=0.2, shape=(2, 2), damping=0.0)\n",
    "print(\"Wave created:\", X)\n",
    "\n",
    "# ---- 1回目の forward（output_message is None）----\n",
    "X.parent.forward()\n",
    "print(\"\\n[Step 1] Initial random message\")\n",
    "print(\"Output message sent to Wave:\", X.parent_message)\n",
    "print(\"Belief (after first forward):\", X.parent.belief)\n",
    "\n",
    "# ---- 2回目：明示的に Prior にメッセージを送ってから forward ----\n",
    "incoming = UA.random(shape=(2, 2), precision=1.0)  # よりシャープな観測を仮定\n",
    "print(incoming.data)\n",
    "X.parent.receive_message(X, incoming)\n",
    "X.parent.forward()\n",
    "print(X.parent_message.data)\n",
    "print(X.parent_message.precision)\n",
    "print(\"\\n[Step 2] After receiving explicit message and forward\")\n",
    "print(\"Incoming message to Prior:\", incoming)\n",
    "print(\"New output message sent to Wave:\", X.parent_message)\n",
    "print(\"Updated belief (should reflect approximate posterior):\", X.parent.belief)"
   ]
  },
  {
   "cell_type": "code",
   "execution_count": 12,
   "id": "fe17e745",
   "metadata": {},
   "outputs": [
    {
     "name": "stdout",
     "output_type": "stream",
     "text": [
      "[Same Seed] Equal messages: True\n",
      "[Same Seed] Equal belief: True\n",
      "[Different Seed] Different from seed=42: True\n"
     ]
    }
   ],
   "source": [
    "import numpy as np\n",
    "from graph.prior import SparsePrior\n",
    "from core.uncertain_array import UncertainArray as UA\n",
    "\n",
    "# 同じ seed を使って 2 つの Prior を生成\n",
    "X1 = SparsePrior(rho=0.2, shape=(8, 8), damping=0.0, seed=42)\n",
    "X2 = SparsePrior(rho=0.2, shape=(8, 8), damping=0.0, seed=42)\n",
    "\n",
    "# 初回 forward（ランダムメッセージ生成）\n",
    "X1.parent.forward()\n",
    "X2.parent.forward()\n",
    "\n",
    "# 比較\n",
    "print(\"[Same Seed] Equal messages:\", np.allclose(X1.parent_message.data, X2.parent_message.data))\n",
    "print(\"[Same Seed] Equal belief:\", np.allclose(X1.parent.belief.data, X2.parent.belief.data))\n",
    "\n",
    "# 異なる seed を使ったケースも確認\n",
    "X3 = SparsePrior(rho=0.2, shape=(8, 8), damping=0.0, seed=123)\n",
    "X3.parent.forward()\n",
    "\n",
    "print(\"[Different Seed] Different from seed=42:\", not np.allclose(X1.parent_message.data, X3.parent_message.data))\n"
   ]
  }
 ],
 "metadata": {
  "kernelspec": {
   "display_name": "cupy-env",
   "language": "python",
   "name": "python3"
  },
  "language_info": {
   "codemirror_mode": {
    "name": "ipython",
    "version": 3
   },
   "file_extension": ".py",
   "mimetype": "text/x-python",
   "name": "python",
   "nbconvert_exporter": "python",
   "pygments_lexer": "ipython3",
   "version": "3.10.5"
  }
 },
 "nbformat": 4,
 "nbformat_minor": 5
}
