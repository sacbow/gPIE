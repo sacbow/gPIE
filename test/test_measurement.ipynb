{
 "cells": [
  {
   "cell_type": "code",
   "execution_count": 1,
   "id": "6db30db1",
   "metadata": {},
   "outputs": [],
   "source": [
    "import sys\n",
    "import os\n",
    "\n",
    "# プロジェクトルートを Python パスに追加\n",
    "project_root = os.path.abspath(os.path.join(os.getcwd(), \"..\"))\n",
    "if project_root not in sys.path:\n",
    "    sys.path.insert(0, project_root)"
   ]
  },
  {
   "cell_type": "code",
   "execution_count": 2,
   "id": "751b322c",
   "metadata": {},
   "outputs": [],
   "source": [
    "import numpy as np\n",
    "from graph.prior import GaussianPrior\n",
    "from graph.measurement import GaussianMeasurement\n",
    "from core.uncertain_array import UncertainArray as UA"
   ]
  },
  {
   "cell_type": "code",
   "execution_count": 5,
   "id": "b5fc9465",
   "metadata": {},
   "outputs": [
    {
     "name": "stdout",
     "output_type": "stream",
     "text": [
      "Mean:\n",
      " [[0.8430935 +0.05214924j 0.65292404-0.13560648j 0.90612983+0.12423163j\n",
      "  0.93301594-0.00706059j]\n",
      " [0.52408196-0.02614349j 0.61584401-0.09629798j 0.81807936+0.17289345j\n",
      "  0.75527654-0.02185377j]\n",
      " [0.79762396-0.0605747j  0.67936137-0.0497992j  0.92436565+0.07527989j\n",
      "  0.90999639+0.0516816j ]\n",
      " [0.80933815+0.05836921j 0.95941598+0.06092729j 0.86611581+0.30287471j\n",
      "  0.67847769-0.05747576j]]\n",
      "Precision:\n",
      " [[5. 5. 5. 5.]\n",
      " [5. 5. 5. 5.]\n",
      " [5. 5. 5. 5.]\n",
      " [5. 5. 5. 5.]]\n"
     ]
    }
   ],
   "source": [
    "# 1. Prior → X\n",
    "X = GaussianPrior(shape=(4, 4), mean=0, var=1.0, seed=42)\n",
    "\n",
    "# 2. X → Measurement（観測値 y）\n",
    "obs_data = np.ones((4, 4), dtype=np.complex128)\n",
    "meas = GaussianMeasurement(X, obs_data, var=0.25)\n",
    "\n",
    "# 3. メッセージ伝播\n",
    "X.parent.forward()   # Prior → X\n",
    "X.forward()          # X → Measurement\n",
    "meas.backward()      # Measurement → X\n",
    "X.compute_belief()   # Belief 更新\n",
    "\n",
    "# 4. 結果確認\n",
    "print(\"Mean:\\n\", X.belief.data)\n",
    "print(\"Precision:\\n\", X.belief.precision)"
   ]
  },
  {
   "cell_type": "code",
   "execution_count": null,
   "id": "5ff19446",
   "metadata": {},
   "outputs": [],
   "source": []
  }
 ],
 "metadata": {
  "kernelspec": {
   "display_name": "cupy-env",
   "language": "python",
   "name": "python3"
  },
  "language_info": {
   "codemirror_mode": {
    "name": "ipython",
    "version": 3
   },
   "file_extension": ".py",
   "mimetype": "text/x-python",
   "name": "python",
   "nbconvert_exporter": "python",
   "pygments_lexer": "ipython3",
   "version": "3.10.5"
  }
 },
 "nbformat": 4,
 "nbformat_minor": 5
}
