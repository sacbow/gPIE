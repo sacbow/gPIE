{
 "cells": [
  {
   "cell_type": "code",
   "execution_count": 1,
   "id": "6db30db1",
   "metadata": {},
   "outputs": [],
   "source": [
    "import sys\n",
    "import os\n",
    "\n",
    "# プロジェクトルートを Python パスに追加\n",
    "project_root = os.path.abspath(os.path.join(os.getcwd(), \"..\"))\n",
    "if project_root not in sys.path:\n",
    "    sys.path.insert(0, project_root)"
   ]
  },
  {
   "cell_type": "code",
   "execution_count": 2,
   "id": "751b322c",
   "metadata": {},
   "outputs": [],
   "source": [
    "import numpy as np\n",
    "from graph.prior import GaussianPrior\n",
    "from graph.measurement import GaussianMeasurement\n",
    "from core.uncertain_array import UncertainArray as UA"
   ]
  },
  {
   "cell_type": "code",
   "execution_count": 3,
   "id": "b5fc9465",
   "metadata": {},
   "outputs": [
    {
     "name": "stdout",
     "output_type": "stream",
     "text": [
      "Mean:\n",
      " [[0.8430935 +0.05214924j 0.65292404-0.13560648j 0.90612983+0.12423163j\n",
      "  0.93301594-0.00706059j]\n",
      " [0.52408196-0.02614349j 0.61584401-0.09629798j 0.81807936+0.17289345j\n",
      "  0.75527654-0.02185377j]\n",
      " [0.79762396-0.0605747j  0.67936137-0.0497992j  0.92436565+0.07527989j\n",
      "  0.90999639+0.0516816j ]\n",
      " [0.80933815+0.05836921j 0.95941598+0.06092729j 0.86611581+0.30287471j\n",
      "  0.67847769-0.05747576j]]\n",
      "Precision:\n",
      " [[5. 5. 5. 5.]\n",
      " [5. 5. 5. 5.]\n",
      " [5. 5. 5. 5.]\n",
      " [5. 5. 5. 5.]]\n"
     ]
    }
   ],
   "source": [
    "# 1. Prior → X\n",
    "X = GaussianPrior(shape=(4, 4), mean=0, var=1.0, seed=42)\n",
    "\n",
    "# 2. X → Measurement（観測値 y）\n",
    "obs_data = np.ones((4, 4), dtype=np.complex128)\n",
    "meas = GaussianMeasurement(X, obs_data, var=0.25)\n",
    "\n",
    "# 3. メッセージ伝播\n",
    "X.parent.forward()   # Prior → X\n",
    "X.forward()          # X → Measurement\n",
    "meas.backward()      # Measurement → X\n",
    "X.compute_belief()   # Belief 更新\n",
    "\n",
    "# 4. 結果確認\n",
    "print(\"Mean:\\n\", X.belief.data)\n",
    "print(\"Precision:\\n\", X.belief.precision)"
   ]
  },
  {
   "cell_type": "code",
   "execution_count": 4,
   "id": "5ff19446",
   "metadata": {},
   "outputs": [
    {
     "name": "stdout",
     "output_type": "stream",
     "text": [
      "Mask (True = observed):\n",
      " [[0 1 0 1 0 1 0 1]\n",
      " [0 1 1 1 0 1 0 0]\n",
      " [1 1 0 1 0 0 1 1]\n",
      " [1 1 1 1 0 0 1 1]\n",
      " [0 1 1 1 1 1 0 0]\n",
      " [0 0 0 0 1 0 0 1]\n",
      " [0 1 1 0 1 1 0 0]\n",
      " [0 1 0 1 0 0 0 0]]\n",
      "Belief precision:\n",
      " [[1. 5. 1. 5. 1. 5. 1. 5.]\n",
      " [1. 5. 5. 5. 1. 5. 1. 1.]\n",
      " [5. 5. 1. 5. 1. 1. 5. 5.]\n",
      " [5. 5. 5. 5. 1. 1. 5. 5.]\n",
      " [1. 5. 5. 5. 5. 5. 1. 1.]\n",
      " [1. 1. 1. 1. 5. 1. 1. 5.]\n",
      " [1. 5. 5. 1. 5. 5. 1. 1.]\n",
      " [1. 5. 1. 5. 1. 1. 1. 1.]]\n",
      "Belief mean:\n",
      " [[ 0.21546751+0.50291314j  0.65292404+0.11219624j  0.53064913-0.24658586j\n",
      "   0.93301594-0.06538642j -1.37959021+0.60668056j  0.61584401-0.02705452j\n",
      "   0.09039682-0.90204645j  0.75527654-0.16027101j]\n",
      " [-0.01188021-0.65015095j  0.67936137+0.07030915j  0.92436565+0.02014204j\n",
      "   0.90999639+0.09764938j  0.04669075-0.30211324j  0.95941598+0.0224209j\n",
      "   0.33057903+0.44235921j -0.60761153-0.21874104j]\n",
      " [ 0.85214924+0.06459777j  0.66439352-0.09361046j  0.62115816-0.25671784j\n",
      "   0.79293941-0.05398589j -0.13071743-0.84558632j -0.4814899 +0.34434154j\n",
      "   0.97289345-0.06638352j  0.77814623+0.00176694j]\n",
      " [ 0.7394253 +0.06798784j  0.7502008 +0.06314904j  0.87527989+0.09409966j\n",
      "   0.8516816 -0.01392795j  0.29184603-0.29931711j  0.30463645-0.05636929j\n",
      "   1.10287471-0.23862512j  0.74252424-0.20465261j]\n",
      " [-0.36221031-0.93528987j  0.68491516-0.141032j    0.88711265+0.05653661j\n",
      "   0.95966079-0.12805408j  0.7838854 -0.05348026j  0.68118393+0.18373863j\n",
      "  -0.58299626-0.25191667j  0.46003857+0.52150226j]\n",
      " [ 0.52556006-0.66016739j  0.38406807-0.14526629j -0.47058643-0.67176704j\n",
      "   0.16416285-0.23973259j  0.81650187+0.11883752j  0.15463619-1.22139998j\n",
      "   0.6161932 +0.3071839j   0.83162119+0.03362089j]\n",
      " [ 0.48006438-0.42012746j  0.80955712-0.20450346j  0.84088766+0.01020065j\n",
      "   0.44638819-0.37440789j  0.59392705+0.03290539j  0.75479166+0.00309036j\n",
      "  -0.33260369+1.13262872j -0.45175486-0.16924999j]\n",
      " [-0.19455495-0.72372202j  1.01141663+0.0253534j  -0.61223505+0.15556115j\n",
      "   0.93693524+0.19221815j -1.18996863+0.59051283j -0.23679948+0.25234595j\n",
      "   0.1150838 +1.0347114j   0.41452179-0.84058242j]]\n"
     ]
    }
   ],
   "source": [
    "import numpy as np\n",
    "\n",
    "# ライブラリのインポート\n",
    "from graph.prior import GaussianPrior\n",
    "from graph.measurement import MaskedGaussianMeasurement\n",
    "from core.uncertain_array import UncertainArray as UA\n",
    "from core.linalg_utils import random_binary_mask\n",
    "\n",
    "# 1. Prior によって Wave を生成\n",
    "X = GaussianPrior(shape=(8, 8), mean=0, var=1.0, seed=42)\n",
    "\n",
    "# 2. ランダムマスクを生成し、観測値を作る（全て 1+0j にする）\n",
    "mask = random_binary_mask((8, 8), subsampling_rate=0.5, seed=1)\n",
    "obs_data = np.ones((8, 8), dtype=np.complex128)\n",
    "\n",
    "# 3. マスク付き GaussianMeasurement を構築\n",
    "meas = MaskedGaussianMeasurement(X, observed_data=obs_data, var=0.25, mask=mask)\n",
    "\n",
    "# 4. メッセージ伝播を実行\n",
    "X.parent.forward()   # Prior → X\n",
    "X.forward()          # X → Measurement\n",
    "meas.backward()      # Measurement → X\n",
    "X.compute_belief()   # Belief 更新\n",
    "\n",
    "# 5. 結果表示\n",
    "print(\"Mask (True = observed):\\n\", mask.astype(int))\n",
    "print(\"Belief precision:\\n\", X.belief.precision)\n",
    "print(\"Belief mean:\\n\", X.belief.data)\n"
   ]
  }
 ],
 "metadata": {
  "kernelspec": {
   "display_name": "cupy-env",
   "language": "python",
   "name": "python3"
  },
  "language_info": {
   "codemirror_mode": {
    "name": "ipython",
    "version": 3
   },
   "file_extension": ".py",
   "mimetype": "text/x-python",
   "name": "python",
   "nbconvert_exporter": "python",
   "pygments_lexer": "ipython3",
   "version": "3.10.5"
  }
 },
 "nbformat": 4,
 "nbformat_minor": 5
}
