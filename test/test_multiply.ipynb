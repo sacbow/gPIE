{
 "cells": [
  {
   "cell_type": "code",
   "execution_count": 13,
   "id": "2eefd8d2",
   "metadata": {},
   "outputs": [
    {
     "name": "stdout",
     "output_type": "stream",
     "text": [
      "PYTHONPATH manually set to: c:\\Users\\ndhaj\\Desktop\n"
     ]
    }
   ],
   "source": [
    "import os, sys\n",
    "\n",
    "project_root = os.path.abspath(os.path.join(os.getcwd(), '..', '..'))\n",
    "os.environ['PYTHONPATH'] = project_root\n",
    "if project_root not in sys.path:\n",
    "    sys.path.insert(0, project_root)\n",
    "\n",
    "print(\"PYTHONPATH manually set to:\", os.environ['PYTHONPATH'])"
   ]
  },
  {
   "cell_type": "code",
   "execution_count": 14,
   "id": "970fccd7",
   "metadata": {},
   "outputs": [
    {
     "name": "stdout",
     "output_type": "stream",
     "text": [
      "[t=0] PMSE = 1.39555e+00\n",
      "[t=1] PMSE = 1.59020e-04\n",
      "[t=2] PMSE = 1.59020e-04\n",
      "[t=3] PMSE = 1.59020e-04\n",
      "[t=4] PMSE = 1.59020e-04\n",
      "[t=5] PMSE = 1.59020e-04\n",
      "[t=6] PMSE = 1.59020e-04\n",
      "[t=7] PMSE = 1.59020e-04\n",
      "[t=8] PMSE = 1.59020e-04\n",
      "[t=9] PMSE = 1.59020e-04\n"
     ]
    }
   ],
   "source": [
    "# ==== Imports ====\n",
    "import numpy as np\n",
    "from gpie import Graph, ConstWave, SupportPrior, GaussianMeasurement, pmse\n",
    "from gpie.core.linalg_utils import random_phase_mask, circular_aperture, random_normal_array\n",
    "\n",
    "# ==== 1. パラメータ ====\n",
    "H, W = 128, 128\n",
    "shape = (H, W)\n",
    "var = 1e-4\n",
    "rng = np.random.default_rng(42)\n",
    "\n",
    "# Known input X\n",
    "x_ref = random_normal_array(shape, dtype=np.complex128, rng=rng)\n",
    "\n",
    "# Support for unknown Y\n",
    "support = circular_aperture(shape, radius=0.25)\n",
    "\n",
    "# ==== 2. グラフ定義 ====\n",
    "class MultiplyGraph(Graph):\n",
    "    def __init__(self):\n",
    "        super().__init__()\n",
    "        X = ~ConstWave(data=x_ref, label=\"X_ref\")\n",
    "        Y = ~SupportPrior(support=support, label=\"Y_unknown\")\n",
    "        Z = X * Y  # MultiplyPropagator via __mul__\n",
    "        with self.observe():\n",
    "            meas = GaussianMeasurement(var=var) @ Z\n",
    "        self.compile()\n",
    "\n",
    "# ==== 3. 初期化と推論 ====\n",
    "g = MultiplyGraph()\n",
    "g.set_init_rng(np.random.default_rng(seed=1))\n",
    "g.generate_sample(rng=np.random.default_rng(seed=123), update_observed=True)\n",
    "\n",
    "true_y = g.get_wave(\"Y_unknown\").get_sample()\n",
    "\n",
    "def monitor(graph, t):\n",
    "    est = graph.get_wave(\"Y_unknown\").compute_belief().data\n",
    "    err = pmse(est, true_y)\n",
    "    print(f\"[t={t}] PMSE = {err:.5e}\")\n",
    "\n",
    "g.run(n_iter=10, callback=monitor)\n",
    "\n"
   ]
  },
  {
   "cell_type": "code",
   "execution_count": 15,
   "id": "fd48d67c",
   "metadata": {},
   "outputs": [
    {
     "name": "stdout",
     "output_type": "stream",
     "text": [
      "[t=0] PMSE = 1.00767e-03\n",
      "[t=1] PMSE = 2.05594e-04\n",
      "[t=2] PMSE = 2.05594e-04\n",
      "[t=3] PMSE = 2.05594e-04\n",
      "[t=4] PMSE = 2.05594e-04\n",
      "[t=5] PMSE = 2.05594e-04\n",
      "[t=6] PMSE = 2.05594e-04\n",
      "[t=7] PMSE = 2.05594e-04\n",
      "[t=8] PMSE = 2.05594e-04\n",
      "[t=9] PMSE = 2.05594e-04\n"
     ]
    }
   ],
   "source": [
    "# ==== Imports ====\n",
    "import numpy as np\n",
    "from gpie import Graph, ConstWave, SupportPrior, GaussianMeasurement, pmse\n",
    "from gpie.core.linalg_utils import random_phase_mask, circular_aperture, random_normal_array\n",
    "\n",
    "# ==== 1. パラメータ ====\n",
    "H, W = 128, 128\n",
    "shape = (H, W)\n",
    "var = 1e-4\n",
    "large_value = 1e6\n",
    "rng = np.random.default_rng(42)\n",
    "\n",
    "# Known input X\n",
    "x_ref = random_normal_array(shape, dtype=np.complex128, rng=rng)\n",
    "\n",
    "# Support for unknown Y\n",
    "support = circular_aperture(shape, radius=0.25)\n",
    "\n",
    "# ==== 2. グラフ定義 ====\n",
    "class MultiplyGraph(Graph):\n",
    "    def __init__(self):\n",
    "        super().__init__()\n",
    "        Y = ~SupportPrior(support=support, label=\"Y_unknown\")\n",
    "        Z = x_ref * Y \n",
    "        with self.observe():\n",
    "            meas = GaussianMeasurement(var=var) @ Z\n",
    "        self.compile()\n",
    "\n",
    "# ==== 3. 初期化と推論 ====\n",
    "g = MultiplyGraph()\n",
    "g.set_init_rng(np.random.default_rng(seed=1))\n",
    "g.generate_sample(rng=np.random.default_rng(seed=123), update_observed=True)\n",
    "\n",
    "true_y = g.get_wave(\"Y_unknown\").get_sample()\n",
    "\n",
    "def monitor(graph, t):\n",
    "    est = graph.get_wave(\"Y_unknown\").compute_belief().data\n",
    "    err = pmse(est, true_y)\n",
    "    print(f\"[t={t}] PMSE = {err:.5e}\")\n",
    "\n",
    "g.run(n_iter=10, callback=monitor)\n"
   ]
  },
  {
   "cell_type": "code",
   "execution_count": 16,
   "id": "1fb107d9",
   "metadata": {},
   "outputs": [
    {
     "name": "stdout",
     "output_type": "stream",
     "text": [
      "[t=0] PMSE = 1.08220e+00\n",
      "[t=20] PMSE = 9.23174e-01\n",
      "[t=40] PMSE = 2.21821e-03\n",
      "[t=60] PMSE = 2.02464e-04\n",
      "[t=80] PMSE = 2.02458e-04\n",
      "[t=100] PMSE = 2.02459e-04\n",
      "[t=120] PMSE = 2.02459e-04\n",
      "[t=140] PMSE = 2.02459e-04\n",
      "[t=160] PMSE = 2.02459e-04\n",
      "[t=180] PMSE = 2.02459e-04\n"
     ]
    }
   ],
   "source": [
    "# ==== Imports ====\n",
    "import numpy as np\n",
    "from gpie import Graph, ConstWave, GaussianPrior, fft2, AmplitudeMeasurement, pmse\n",
    "from gpie.core.linalg_utils import random_phase_mask, random_normal_array\n",
    "\n",
    "# ==== 1. パラメータ ====\n",
    "H, W = 128, 128\n",
    "shape = (H, W)\n",
    "var = 1e-4\n",
    "rng = np.random.default_rng(123)\n",
    "\n",
    "# ==== 2. グラフ定義 ====\n",
    "class MixedMeasurementGraph(Graph):\n",
    "    def __init__(self, num_masks):\n",
    "        super().__init__()\n",
    "        x = ~GaussianPrior(shape = shape, label = \"object\")\n",
    "        for _ in range(num_masks):\n",
    "            mask = ~ConstWave(data = random_normal_array(shape, rng=rng))\n",
    "            with self.observe():\n",
    "                measurement = AmplitudeMeasurement(var = var, damping = 0.3) @ (fft2(mask * x))\n",
    "        self.compile()\n",
    "\n",
    "# ==== 3. 推論・初期化 ====\n",
    "g = MixedMeasurementGraph(num_masks = 4)\n",
    "g.set_init_rng(np.random.default_rng(seed=999))\n",
    "g.generate_sample(rng=np.random.default_rng(seed=100), update_observed=True)\n",
    "\n",
    "true_w = g.get_wave(\"object\").get_sample()\n",
    "\n",
    "def monitor(graph, t):\n",
    "    est = graph.get_wave(\"object\").compute_belief().data\n",
    "    err = pmse(est, true_w)\n",
    "    if t % 20 == 0:\n",
    "        print(f\"[t={t}] PMSE = {err:.5e}\")\n",
    "\n",
    "g.run(n_iter=200, callback=monitor, verbose = None)"
   ]
  },
  {
   "cell_type": "code",
   "execution_count": 17,
   "id": "84eb7336",
   "metadata": {},
   "outputs": [
    {
     "data": {
      "text/html": [
       "    <style>\n",
       "        .bk-notebook-logo {\n",
       "            display: block;\n",
       "            width: 20px;\n",
       "            height: 20px;\n",
       "            background-image: url(data:image/png;base64,iVBORw0KGgoAAAANSUhEUgAAABQAAAAUCAYAAACNiR0NAAAABHNCSVQICAgIfAhkiAAAAAlwSFlzAAALEgAACxIB0t1+/AAAABx0RVh0U29mdHdhcmUAQWRvYmUgRmlyZXdvcmtzIENTNui8sowAAAOkSURBVDiNjZRtaJVlGMd/1/08zzln5zjP1LWcU9N0NkN8m2CYjpgQYQXqSs0I84OLIC0hkEKoPtiH3gmKoiJDU7QpLgoLjLIQCpEsNJ1vqUOdO7ppbuec5+V+rj4ctwzd8IIbbi6u+8f1539dt3A78eXC7QizUF7gyV1fD1Yqg4JWz84yffhm0qkFqBogB9rM8tZdtwVsPUhWhGcFJngGeWrPzHm5oaMmkfEg1usvLFyc8jLRqDOMru7AyC8saQr7GG7f5fvDeH7Ej8CM66nIF+8yngt6HWaKh7k49Soy9nXurCi1o3qUbS3zWfrYeQDTB/Qj6kX6Ybhw4B+bOYoLKCC9H3Nu/leUTZ1JdRWkkn2ldcCamzrcf47KKXdAJllSlxAOkRgyHsGC/zRday5Qld9DyoM4/q/rUoy/CXh3jzOu3bHUVZeU+DEn8FInkPBFlu3+nW3Nw0mk6vCDiWg8CeJaxEwuHS3+z5RgY+YBR6V1Z1nxSOfoaPa4LASWxxdNp+VWTk7+4vzaou8v8PN+xo+KY2xsw6une2frhw05CTYOmQvsEhjhWjn0bmXPjpE1+kplmmkP3suftwTubK9Vq22qKmrBhpY4jvd5afdRA3wGjFAgcnTK2s4hY0/GPNIb0nErGMCRxWOOX64Z8RAC4oCXdklmEvcL8o0BfkNK4lUg9HTl+oPlQxdNo3Mg4Nv175e/1LDGzZen30MEjRUtmXSfiTVu1kK8W4txyV6BMKlbgk3lMwYCiusNy9fVfvvwMxv8Ynl6vxoByANLTWplvuj/nF9m2+PDtt1eiHPBr1oIfhCChQMBw6Aw0UulqTKZdfVvfG7VcfIqLG9bcldL/+pdWTLxLUy8Qq38heUIjh4XlzZxzQm19lLFlr8vdQ97rjZVOLf8nclzckbcD4wxXMidpX30sFd37Fv/GtwwhzhxGVAprjbg0gCAEeIgwCZyTV2Z1REEW8O4py0wsjeloKoMr6iCY6dP92H6Vw/oTyICIthibxjm/DfN9lVz8IqtqKYLUXfoKVMVQVVJOElGjrnnUt9T9wbgp8AyYKaGlqingHZU/uG2NTZSVqwHQTWkx9hxjkpWDaCg6Ckj5qebgBVbT3V3NNXMSiWSDdGV3hrtzla7J+duwPOToIg42ChPQOQjspnSlp1V+Gjdged7+8UN5CRAV7a5EdFNwCjEaBR27b3W890TE7g24NAP/mMDXRWrGoFPQI9ls/MWO2dWFAar/xcOIImbbpA3zgAAAABJRU5ErkJggg==);\n",
       "        }\n",
       "    </style>\n",
       "    <div>\n",
       "        <a href=\"https://bokeh.org\" target=\"_blank\" class=\"bk-notebook-logo\"></a>\n",
       "        <span id=\"f98749a1-9ed2-493b-9b47-fe23b048a0dd\">Loading BokehJS ...</span>\n",
       "    </div>\n"
      ]
     },
     "metadata": {},
     "output_type": "display_data"
    },
    {
     "data": {
      "application/javascript": "'use strict';\n(function(root) {\n  function now() {\n    return new Date();\n  }\n\n  const force = true;\n\n  if (typeof root._bokeh_onload_callbacks === \"undefined\" || force === true) {\n    root._bokeh_onload_callbacks = [];\n    root._bokeh_is_loading = undefined;\n  }\n\nconst JS_MIME_TYPE = 'application/javascript';\n  const HTML_MIME_TYPE = 'text/html';\n  const EXEC_MIME_TYPE = 'application/vnd.bokehjs_exec.v0+json';\n  const CLASS_NAME = 'output_bokeh rendered_html';\n\n  /**\n   * Render data to the DOM node\n   */\n  function render(props, node) {\n    const script = document.createElement(\"script\");\n    node.appendChild(script);\n  }\n\n  /**\n   * Handle when an output is cleared or removed\n   */\n  function handleClearOutput(event, handle) {\n    function drop(id) {\n      const view = Bokeh.index.get_by_id(id)\n      if (view != null) {\n        view.model.document.clear()\n        Bokeh.index.delete(view)\n      }\n    }\n\n    const cell = handle.cell;\n\n    const id = cell.output_area._bokeh_element_id;\n    const server_id = cell.output_area._bokeh_server_id;\n\n    // Clean up Bokeh references\n    if (id != null) {\n      drop(id)\n    }\n\n    if (server_id !== undefined) {\n      // Clean up Bokeh references\n      const cmd_clean = \"from bokeh.io.state import curstate; print(curstate().uuid_to_server['\" + server_id + \"'].get_sessions()[0].document.roots[0]._id)\";\n      cell.notebook.kernel.execute(cmd_clean, {\n        iopub: {\n          output: function(msg) {\n            const id = msg.content.text.trim()\n            drop(id)\n          }\n        }\n      });\n      // Destroy server and session\n      const cmd_destroy = \"import bokeh.io.notebook as ion; ion.destroy_server('\" + server_id + \"')\";\n      cell.notebook.kernel.execute(cmd_destroy);\n    }\n  }\n\n  /**\n   * Handle when a new output is added\n   */\n  function handleAddOutput(event, handle) {\n    const output_area = handle.output_area;\n    const output = handle.output;\n\n    // limit handleAddOutput to display_data with EXEC_MIME_TYPE content only\n    if ((output.output_type != \"display_data\") || (!Object.prototype.hasOwnProperty.call(output.data, EXEC_MIME_TYPE))) {\n      return\n    }\n\n    const toinsert = output_area.element.find(\".\" + CLASS_NAME.split(' ')[0]);\n\n    if (output.metadata[EXEC_MIME_TYPE][\"id\"] !== undefined) {\n      toinsert[toinsert.length - 1].firstChild.textContent = output.data[JS_MIME_TYPE];\n      // store reference to embed id on output_area\n      output_area._bokeh_element_id = output.metadata[EXEC_MIME_TYPE][\"id\"];\n    }\n    if (output.metadata[EXEC_MIME_TYPE][\"server_id\"] !== undefined) {\n      const bk_div = document.createElement(\"div\");\n      bk_div.innerHTML = output.data[HTML_MIME_TYPE];\n      const script_attrs = bk_div.children[0].attributes;\n      for (let i = 0; i < script_attrs.length; i++) {\n        toinsert[toinsert.length - 1].firstChild.setAttribute(script_attrs[i].name, script_attrs[i].value);\n        toinsert[toinsert.length - 1].firstChild.textContent = bk_div.children[0].textContent\n      }\n      // store reference to server id on output_area\n      output_area._bokeh_server_id = output.metadata[EXEC_MIME_TYPE][\"server_id\"];\n    }\n  }\n\n  function register_renderer(events, OutputArea) {\n\n    function append_mime(data, metadata, element) {\n      // create a DOM node to render to\n      const toinsert = this.create_output_subarea(\n        metadata,\n        CLASS_NAME,\n        EXEC_MIME_TYPE\n      );\n      this.keyboard_manager.register_events(toinsert);\n      // Render to node\n      const props = {data: data, metadata: metadata[EXEC_MIME_TYPE]};\n      render(props, toinsert[toinsert.length - 1]);\n      element.append(toinsert);\n      return toinsert\n    }\n\n    /* Handle when an output is cleared or removed */\n    events.on('clear_output.CodeCell', handleClearOutput);\n    events.on('delete.Cell', handleClearOutput);\n\n    /* Handle when a new output is added */\n    events.on('output_added.OutputArea', handleAddOutput);\n\n    /**\n     * Register the mime type and append_mime function with output_area\n     */\n    OutputArea.prototype.register_mime_type(EXEC_MIME_TYPE, append_mime, {\n      /* Is output safe? */\n      safe: true,\n      /* Index of renderer in `output_area.display_order` */\n      index: 0\n    });\n  }\n\n  // register the mime type if in Jupyter Notebook environment and previously unregistered\n  if (root.Jupyter !== undefined) {\n    const events = require('base/js/events');\n    const OutputArea = require('notebook/js/outputarea').OutputArea;\n\n    if (OutputArea.prototype.mime_types().indexOf(EXEC_MIME_TYPE) == -1) {\n      register_renderer(events, OutputArea);\n    }\n  }\n  if (typeof (root._bokeh_timeout) === \"undefined\" || force === true) {\n    root._bokeh_timeout = Date.now() + 5000;\n    root._bokeh_failed_load = false;\n  }\n\n  const NB_LOAD_WARNING = {'data': {'text/html':\n     \"<div style='background-color: #fdd'>\\n\"+\n     \"<p>\\n\"+\n     \"BokehJS does not appear to have successfully loaded. If loading BokehJS from CDN, this \\n\"+\n     \"may be due to a slow or bad network connection. Possible fixes:\\n\"+\n     \"</p>\\n\"+\n     \"<ul>\\n\"+\n     \"<li>re-rerun `output_notebook()` to attempt to load from CDN again, or</li>\\n\"+\n     \"<li>use INLINE resources instead, as so:</li>\\n\"+\n     \"</ul>\\n\"+\n     \"<code>\\n\"+\n     \"from bokeh.resources import INLINE\\n\"+\n     \"output_notebook(resources=INLINE)\\n\"+\n     \"</code>\\n\"+\n     \"</div>\"}};\n\n  function display_loaded(error = null) {\n    const el = document.getElementById(\"f98749a1-9ed2-493b-9b47-fe23b048a0dd\");\n    if (el != null) {\n      const html = (() => {\n        if (typeof root.Bokeh === \"undefined\") {\n          if (error == null) {\n            return \"BokehJS is loading ...\";\n          } else {\n            return \"BokehJS failed to load.\";\n          }\n        } else {\n          const prefix = `BokehJS ${root.Bokeh.version}`;\n          if (error == null) {\n            return `${prefix} successfully loaded.`;\n          } else {\n            return `${prefix} <b>encountered errors</b> while loading and may not function as expected.`;\n          }\n        }\n      })();\n      el.innerHTML = html;\n\n      if (error != null) {\n        const wrapper = document.createElement(\"div\");\n        wrapper.style.overflow = \"auto\";\n        wrapper.style.height = \"5em\";\n        wrapper.style.resize = \"vertical\";\n        const content = document.createElement(\"div\");\n        content.style.fontFamily = \"monospace\";\n        content.style.whiteSpace = \"pre-wrap\";\n        content.style.backgroundColor = \"rgb(255, 221, 221)\";\n        content.textContent = error.stack ?? error.toString();\n        wrapper.append(content);\n        el.append(wrapper);\n      }\n    } else if (Date.now() < root._bokeh_timeout) {\n      setTimeout(() => display_loaded(error), 100);\n    }\n  }\n\n  function run_callbacks() {\n    try {\n      root._bokeh_onload_callbacks.forEach(function(callback) {\n        if (callback != null)\n          callback();\n      });\n    } finally {\n      delete root._bokeh_onload_callbacks\n    }\n    console.debug(\"Bokeh: all callbacks have finished\");\n  }\n\n  function load_libs(css_urls, js_urls, callback) {\n    if (css_urls == null) css_urls = [];\n    if (js_urls == null) js_urls = [];\n\n    root._bokeh_onload_callbacks.push(callback);\n    if (root._bokeh_is_loading > 0) {\n      console.debug(\"Bokeh: BokehJS is being loaded, scheduling callback at\", now());\n      return null;\n    }\n    if (js_urls == null || js_urls.length === 0) {\n      run_callbacks();\n      return null;\n    }\n    console.debug(\"Bokeh: BokehJS not loaded, scheduling load and callback at\", now());\n    root._bokeh_is_loading = css_urls.length + js_urls.length;\n\n    function on_load() {\n      root._bokeh_is_loading--;\n      if (root._bokeh_is_loading === 0) {\n        console.debug(\"Bokeh: all BokehJS libraries/stylesheets loaded\");\n        run_callbacks()\n      }\n    }\n\n    function on_error(url) {\n      console.error(\"failed to load \" + url);\n    }\n\n    for (let i = 0; i < css_urls.length; i++) {\n      const url = css_urls[i];\n      const element = document.createElement(\"link\");\n      element.onload = on_load;\n      element.onerror = on_error.bind(null, url);\n      element.rel = \"stylesheet\";\n      element.type = \"text/css\";\n      element.href = url;\n      console.debug(\"Bokeh: injecting link tag for BokehJS stylesheet: \", url);\n      document.body.appendChild(element);\n    }\n\n    for (let i = 0; i < js_urls.length; i++) {\n      const url = js_urls[i];\n      const element = document.createElement('script');\n      element.onload = on_load;\n      element.onerror = on_error.bind(null, url);\n      element.async = false;\n      element.src = url;\n      console.debug(\"Bokeh: injecting script tag for BokehJS library: \", url);\n      document.head.appendChild(element);\n    }\n  };\n\n  function inject_raw_css(css) {\n    const element = document.createElement(\"style\");\n    element.appendChild(document.createTextNode(css));\n    document.body.appendChild(element);\n  }\n\n  const js_urls = [\"https://cdn.bokeh.org/bokeh/release/bokeh-3.7.3.min.js\", \"https://cdn.bokeh.org/bokeh/release/bokeh-gl-3.7.3.min.js\", \"https://cdn.bokeh.org/bokeh/release/bokeh-widgets-3.7.3.min.js\", \"https://cdn.bokeh.org/bokeh/release/bokeh-tables-3.7.3.min.js\", \"https://cdn.bokeh.org/bokeh/release/bokeh-mathjax-3.7.3.min.js\"];\n  const css_urls = [];\n\n  const inline_js = [    function(Bokeh) {\n      Bokeh.set_log_level(\"info\");\n    },\nfunction(Bokeh) {\n    }\n  ];\n\n  function run_inline_js() {\n    if (root.Bokeh !== undefined || force === true) {\n      try {\n            for (let i = 0; i < inline_js.length; i++) {\n      inline_js[i].call(root, root.Bokeh);\n    }\n\n      } catch (error) {display_loaded(error);throw error;\n      }if (force === true) {\n        display_loaded();\n      }} else if (Date.now() < root._bokeh_timeout) {\n      setTimeout(run_inline_js, 100);\n    } else if (!root._bokeh_failed_load) {\n      console.log(\"Bokeh: BokehJS failed to load within specified timeout.\");\n      root._bokeh_failed_load = true;\n    } else if (force !== true) {\n      const cell = $(document.getElementById(\"f98749a1-9ed2-493b-9b47-fe23b048a0dd\")).parents('.cell').data().cell;\n      cell.output_area.append_execute_result(NB_LOAD_WARNING)\n    }\n  }\n\n  if (root._bokeh_is_loading === 0) {\n    console.debug(\"Bokeh: BokehJS loaded, going straight to plotting\");\n    run_inline_js();\n  } else {\n    load_libs(css_urls, js_urls, function() {\n      console.debug(\"Bokeh: BokehJS plotting callback run at\", now());\n      run_inline_js();\n    });\n  }\n}(window));",
      "application/vnd.bokehjs_load.v0+json": ""
     },
     "metadata": {},
     "output_type": "display_data"
    },
    {
     "data": {
      "text/html": [
       "\n",
       "  <div id=\"dfa32478-f100-4ac6-a3c9-00cab55e8634\" data-root-id=\"p1444\" style=\"display: contents;\"></div>\n"
      ]
     },
     "metadata": {},
     "output_type": "display_data"
    },
    {
     "data": {
      "application/javascript": "(function(root) {\n  function embed_document(root) {\n  const docs_json = {\"ba32531d-fe19-4c23-aa03-854b826743a3\":{\"version\":\"3.7.3\",\"title\":\"Bokeh Application\",\"roots\":[{\"type\":\"object\",\"name\":\"Figure\",\"id\":\"p1444\",\"attributes\":{\"width\":800,\"x_range\":{\"type\":\"object\",\"name\":\"Range1d\",\"id\":\"p1454\",\"attributes\":{\"start\":0.5,\"end\":11.5}},\"y_range\":{\"type\":\"object\",\"name\":\"Range1d\",\"id\":\"p1455\",\"attributes\":{\"start\":-1.8,\"end\":1.8}},\"x_scale\":{\"type\":\"object\",\"name\":\"LinearScale\",\"id\":\"p1456\"},\"y_scale\":{\"type\":\"object\",\"name\":\"LinearScale\",\"id\":\"p1457\"},\"title\":{\"type\":\"object\",\"name\":\"Title\",\"id\":\"p1447\",\"attributes\":{\"text\":\"Computational Factor Graph\"}},\"renderers\":[{\"type\":\"object\",\"name\":\"GlyphRenderer\",\"id\":\"p1479\",\"attributes\":{\"data_source\":{\"type\":\"object\",\"name\":\"ColumnDataSource\",\"id\":\"p1435\",\"attributes\":{\"selected\":{\"type\":\"object\",\"name\":\"Selection\",\"id\":\"p1436\",\"attributes\":{\"indices\":[],\"line_indices\":[]}},\"selection_policy\":{\"type\":\"object\",\"name\":\"UnionRenderers\",\"id\":\"p1437\"},\"data\":{\"type\":\"map\",\"entries\":[[\"id\",[3199883148304,3199883146288,3199883140672,3199883140144,3199883148928,3199883140288,3199883142640,3199883140000,3199883140864,3199883143072,3199883139472,3199883138464,3199883139568]],[\"label\",[\"Wave\",\"object\",\"Wave\",\"Wave\",\"Wave\",\"Wave\",\"Wave\",\"Wave\",\"Wave\",\"Wave\",\"Wave\",\"Wave\",\"Wave\"]],[\"type\",[\"wave\",\"wave\",\"wave\",\"wave\",\"wave\",\"wave\",\"wave\",\"wave\",\"wave\",\"wave\",\"wave\",\"wave\",\"wave\"]],[\"x\",[9.0,3.0,6.0,3.0,9.0,6.0,3.0,6.0,3.0,3.0,6.0,9.0,9.0]],[\"y\",[-0.6000000000000001,-0.8,-0.6000000000000001,-0.4,-0.20000000000000007,-0.20000000000000007,0.0,0.19999999999999996,0.40000000000000013,0.8,0.6000000000000001,0.19999999999999996,0.6000000000000001]],[\"generation\",[6,2,4,2,6,4,2,4,2,2,4,6,6]]]}}},\"view\":{\"type\":\"object\",\"name\":\"CDSView\",\"id\":\"p1480\",\"attributes\":{\"filter\":{\"type\":\"object\",\"name\":\"AllIndices\",\"id\":\"p1481\"}}},\"glyph\":{\"type\":\"object\",\"name\":\"Scatter\",\"id\":\"p1476\",\"attributes\":{\"x\":{\"type\":\"field\",\"field\":\"x\"},\"y\":{\"type\":\"field\",\"field\":\"y\"},\"size\":{\"type\":\"value\",\"value\":20},\"line_color\":{\"type\":\"value\",\"value\":\"skyblue\"},\"fill_color\":{\"type\":\"value\",\"value\":\"skyblue\"},\"hatch_color\":{\"type\":\"value\",\"value\":\"skyblue\"}}},\"nonselection_glyph\":{\"type\":\"object\",\"name\":\"Scatter\",\"id\":\"p1477\",\"attributes\":{\"x\":{\"type\":\"field\",\"field\":\"x\"},\"y\":{\"type\":\"field\",\"field\":\"y\"},\"size\":{\"type\":\"value\",\"value\":20},\"line_color\":{\"type\":\"value\",\"value\":\"skyblue\"},\"line_alpha\":{\"type\":\"value\",\"value\":0.1},\"fill_color\":{\"type\":\"value\",\"value\":\"skyblue\"},\"fill_alpha\":{\"type\":\"value\",\"value\":0.1},\"hatch_color\":{\"type\":\"value\",\"value\":\"skyblue\"},\"hatch_alpha\":{\"type\":\"value\",\"value\":0.1}}},\"muted_glyph\":{\"type\":\"object\",\"name\":\"Scatter\",\"id\":\"p1478\",\"attributes\":{\"x\":{\"type\":\"field\",\"field\":\"x\"},\"y\":{\"type\":\"field\",\"field\":\"y\"},\"size\":{\"type\":\"value\",\"value\":20},\"line_color\":{\"type\":\"value\",\"value\":\"skyblue\"},\"line_alpha\":{\"type\":\"value\",\"value\":0.2},\"fill_color\":{\"type\":\"value\",\"value\":\"skyblue\"},\"fill_alpha\":{\"type\":\"value\",\"value\":0.2},\"hatch_color\":{\"type\":\"value\",\"value\":\"skyblue\"},\"hatch_alpha\":{\"type\":\"value\",\"value\":0.2}}}}},{\"type\":\"object\",\"name\":\"GlyphRenderer\",\"id\":\"p1490\",\"attributes\":{\"data_source\":{\"type\":\"object\",\"name\":\"ColumnDataSource\",\"id\":\"p1438\",\"attributes\":{\"selected\":{\"type\":\"object\",\"name\":\"Selection\",\"id\":\"p1439\",\"attributes\":{\"indices\":[],\"line_indices\":[]}},\"selection_policy\":{\"type\":\"object\",\"name\":\"UnionRenderers\",\"id\":\"p1440\"},\"data\":{\"type\":\"map\",\"entries\":[[\"id\",[3199883140192,3199883142256,3199883140480,3199883141248,3199883143888,3199883139808,3199883142880,3199883147008,3199883139856,3199883148544,3199883139904,3199883140432,3199883139952,3199883143552,3199883148688,3199883142064,3199883140576]],[\"label\",[\"measurement_3\",\"FFT2DPropagator\",\"ConstWave\",\"GaussianPrior\",\"MultiplyPropagator\",\"FFT2DPropagator\",\"MultiplyPropagator\",\"MultiplyPropagator\",\"ConstWave\",\"ConstWave\",\"measurement_2\",\"measurement_1\",\"MultiplyPropagator\",\"FFT2DPropagator\",\"ConstWave\",\"measurement_0\",\"FFT2DPropagator\"]],[\"type\",[\"factor\",\"factor\",\"factor\",\"factor\",\"factor\",\"factor\",\"factor\",\"factor\",\"factor\",\"factor\",\"factor\",\"factor\",\"factor\",\"factor\",\"factor\",\"factor\",\"factor\"]],[\"x\",[10.5,7.5,1.5,1.5,4.5,7.5,4.5,4.5,1.5,1.5,10.5,10.5,4.5,7.5,1.5,10.5,7.5]],[\"y\",[-0.6000000000000001,-0.6000000000000001,-0.8,-0.4,-0.6000000000000001,-0.20000000000000007,-0.20000000000000007,0.19999999999999996,0.0,0.40000000000000013,-0.20000000000000007,0.19999999999999996,0.6000000000000001,0.19999999999999996,0.8,0.6000000000000001,0.6000000000000001]],[\"generation\",[7,5,1,1,3,5,3,3,1,1,7,7,3,5,1,7,5]]]}}},\"view\":{\"type\":\"object\",\"name\":\"CDSView\",\"id\":\"p1491\",\"attributes\":{\"filter\":{\"type\":\"object\",\"name\":\"AllIndices\",\"id\":\"p1492\"}}},\"glyph\":{\"type\":\"object\",\"name\":\"Scatter\",\"id\":\"p1487\",\"attributes\":{\"x\":{\"type\":\"field\",\"field\":\"x\"},\"y\":{\"type\":\"field\",\"field\":\"y\"},\"size\":{\"type\":\"value\",\"value\":20},\"line_color\":{\"type\":\"value\",\"value\":\"lightgreen\"},\"fill_color\":{\"type\":\"value\",\"value\":\"lightgreen\"},\"hatch_color\":{\"type\":\"value\",\"value\":\"lightgreen\"},\"marker\":{\"type\":\"value\",\"value\":\"square\"}}},\"nonselection_glyph\":{\"type\":\"object\",\"name\":\"Scatter\",\"id\":\"p1488\",\"attributes\":{\"x\":{\"type\":\"field\",\"field\":\"x\"},\"y\":{\"type\":\"field\",\"field\":\"y\"},\"size\":{\"type\":\"value\",\"value\":20},\"line_color\":{\"type\":\"value\",\"value\":\"lightgreen\"},\"line_alpha\":{\"type\":\"value\",\"value\":0.1},\"fill_color\":{\"type\":\"value\",\"value\":\"lightgreen\"},\"fill_alpha\":{\"type\":\"value\",\"value\":0.1},\"hatch_color\":{\"type\":\"value\",\"value\":\"lightgreen\"},\"hatch_alpha\":{\"type\":\"value\",\"value\":0.1},\"marker\":{\"type\":\"value\",\"value\":\"square\"}}},\"muted_glyph\":{\"type\":\"object\",\"name\":\"Scatter\",\"id\":\"p1489\",\"attributes\":{\"x\":{\"type\":\"field\",\"field\":\"x\"},\"y\":{\"type\":\"field\",\"field\":\"y\"},\"size\":{\"type\":\"value\",\"value\":20},\"line_color\":{\"type\":\"value\",\"value\":\"lightgreen\"},\"line_alpha\":{\"type\":\"value\",\"value\":0.2},\"fill_color\":{\"type\":\"value\",\"value\":\"lightgreen\"},\"fill_alpha\":{\"type\":\"value\",\"value\":0.2},\"hatch_color\":{\"type\":\"value\",\"value\":\"lightgreen\"},\"hatch_alpha\":{\"type\":\"value\",\"value\":0.2},\"marker\":{\"type\":\"value\",\"value\":\"square\"}}}}}],\"toolbar\":{\"type\":\"object\",\"name\":\"Toolbar\",\"id\":\"p1453\",\"attributes\":{\"tools\":[{\"type\":\"object\",\"name\":\"PanTool\",\"id\":\"p1468\"},{\"type\":\"object\",\"name\":\"ZoomInTool\",\"id\":\"p1469\",\"attributes\":{\"renderers\":\"auto\"}},{\"type\":\"object\",\"name\":\"ZoomOutTool\",\"id\":\"p1470\",\"attributes\":{\"renderers\":\"auto\"}},{\"type\":\"object\",\"name\":\"ResetTool\",\"id\":\"p1471\"},{\"type\":\"object\",\"name\":\"SaveTool\",\"id\":\"p1472\"}]}},\"left\":[{\"type\":\"object\",\"name\":\"LinearAxis\",\"id\":\"p1463\",\"attributes\":{\"visible\":false,\"ticker\":{\"type\":\"object\",\"name\":\"BasicTicker\",\"id\":\"p1464\",\"attributes\":{\"mantissas\":[1,2,5]}},\"formatter\":{\"type\":\"object\",\"name\":\"BasicTickFormatter\",\"id\":\"p1465\"},\"major_label_policy\":{\"type\":\"object\",\"name\":\"AllLabels\",\"id\":\"p1466\"}}}],\"below\":[{\"type\":\"object\",\"name\":\"LinearAxis\",\"id\":\"p1458\",\"attributes\":{\"visible\":false,\"ticker\":{\"type\":\"object\",\"name\":\"BasicTicker\",\"id\":\"p1459\",\"attributes\":{\"mantissas\":[1,2,5]}},\"formatter\":{\"type\":\"object\",\"name\":\"BasicTickFormatter\",\"id\":\"p1460\"},\"major_label_policy\":{\"type\":\"object\",\"name\":\"AllLabels\",\"id\":\"p1461\"}}}],\"center\":[{\"type\":\"object\",\"name\":\"Grid\",\"id\":\"p1462\",\"attributes\":{\"visible\":false,\"axis\":{\"id\":\"p1458\"}}},{\"type\":\"object\",\"name\":\"Grid\",\"id\":\"p1467\",\"attributes\":{\"visible\":false,\"dimension\":1,\"axis\":{\"id\":\"p1463\"}}},{\"type\":\"object\",\"name\":\"Legend\",\"id\":\"p1482\",\"attributes\":{\"items\":[{\"type\":\"object\",\"name\":\"LegendItem\",\"id\":\"p1483\",\"attributes\":{\"label\":{\"type\":\"value\",\"value\":\"Wave\"},\"renderers\":[{\"id\":\"p1479\"}]}},{\"type\":\"object\",\"name\":\"LegendItem\",\"id\":\"p1493\",\"attributes\":{\"label\":{\"type\":\"value\",\"value\":\"Factor\"},\"renderers\":[{\"id\":\"p1490\"}]}}]}},{\"type\":\"object\",\"name\":\"LabelSet\",\"id\":\"p1494\",\"attributes\":{\"source\":{\"type\":\"object\",\"name\":\"ColumnDataSource\",\"id\":\"p1441\",\"attributes\":{\"selected\":{\"type\":\"object\",\"name\":\"Selection\",\"id\":\"p1442\",\"attributes\":{\"indices\":[],\"line_indices\":[]}},\"selection_policy\":{\"type\":\"object\",\"name\":\"UnionRenderers\",\"id\":\"p1443\"},\"data\":{\"type\":\"map\",\"entries\":[[\"id\",[3199883148304,3199883146288,3199883140672,3199883140144,3199883148928,3199883140288,3199883142640,3199883140000,3199883140864,3199883143072,3199883139472,3199883138464,3199883139568,3199883140192,3199883142256,3199883140480,3199883141248,3199883143888,3199883139808,3199883142880,3199883147008,3199883139856,3199883148544,3199883139904,3199883140432,3199883139952,3199883143552,3199883148688,3199883142064,3199883140576]],[\"label\",[\"Wave\",\"object\",\"Wave\",\"Wave\",\"Wave\",\"Wave\",\"Wave\",\"Wave\",\"Wave\",\"Wave\",\"Wave\",\"Wave\",\"Wave\",\"measurement_3\",\"FFT2DPropagator\",\"ConstWave\",\"GaussianPrior\",\"MultiplyPropagator\",\"FFT2DPropagator\",\"MultiplyPropagator\",\"MultiplyPropagator\",\"ConstWave\",\"ConstWave\",\"measurement_2\",\"measurement_1\",\"MultiplyPropagator\",\"FFT2DPropagator\",\"ConstWave\",\"measurement_0\",\"FFT2DPropagator\"]],[\"type\",[\"wave\",\"wave\",\"wave\",\"wave\",\"wave\",\"wave\",\"wave\",\"wave\",\"wave\",\"wave\",\"wave\",\"wave\",\"wave\",\"factor\",\"factor\",\"factor\",\"factor\",\"factor\",\"factor\",\"factor\",\"factor\",\"factor\",\"factor\",\"factor\",\"factor\",\"factor\",\"factor\",\"factor\",\"factor\",\"factor\"]],[\"x\",[9.0,3.0,6.0,3.0,9.0,6.0,3.0,6.0,3.0,3.0,6.0,9.0,9.0,10.5,7.5,1.5,1.5,4.5,7.5,4.5,4.5,1.5,1.5,10.5,10.5,4.5,7.5,1.5,10.5,7.5]],[\"y\",[-0.6000000000000001,-0.8,-0.6000000000000001,-0.4,-0.20000000000000007,-0.20000000000000007,0.0,0.19999999999999996,0.40000000000000013,0.8,0.6000000000000001,0.19999999999999996,0.6000000000000001,-0.6000000000000001,-0.6000000000000001,-0.8,-0.4,-0.6000000000000001,-0.20000000000000007,-0.20000000000000007,0.19999999999999996,0.0,0.40000000000000013,-0.20000000000000007,0.19999999999999996,0.6000000000000001,0.19999999999999996,0.8,0.6000000000000001,0.6000000000000001]],[\"generation\",[6,2,4,2,6,4,2,4,2,2,4,6,6,7,5,1,1,3,5,3,3,1,1,7,7,3,5,1,7,5]]]}}},\"x\":{\"type\":\"field\",\"field\":\"x\"},\"y\":{\"type\":\"field\",\"field\":\"y\"},\"text\":{\"type\":\"field\",\"field\":\"label\"},\"y_offset\":{\"type\":\"value\",\"value\":10},\"text_font_size\":{\"type\":\"value\",\"value\":\"9pt\"},\"text_align\":{\"type\":\"value\",\"value\":\"center\"}}},{\"type\":\"object\",\"name\":\"Arrow\",\"id\":\"p1499\",\"attributes\":{\"source\":{\"type\":\"object\",\"name\":\"ColumnDataSource\",\"id\":\"p1501\",\"attributes\":{\"selected\":{\"type\":\"object\",\"name\":\"Selection\",\"id\":\"p1502\",\"attributes\":{\"indices\":[],\"line_indices\":[]}},\"selection_policy\":{\"type\":\"object\",\"name\":\"UnionRenderers\",\"id\":\"p1503\"},\"data\":{\"type\":\"map\"}}},\"x_start\":{\"type\":\"value\",\"value\":9.0},\"y_start\":{\"type\":\"value\",\"value\":-0.6000000000000001},\"x_end\":{\"type\":\"value\",\"value\":10.5},\"y_end\":{\"type\":\"value\",\"value\":-0.6000000000000001},\"end\":{\"type\":\"object\",\"name\":\"NormalHead\",\"id\":\"p1498\",\"attributes\":{\"size\":{\"type\":\"value\",\"value\":8}}},\"line_color\":{\"type\":\"value\",\"value\":\"gray\"},\"line_width\":{\"type\":\"value\",\"value\":1.5}}},{\"type\":\"object\",\"name\":\"Arrow\",\"id\":\"p1505\",\"attributes\":{\"source\":{\"type\":\"object\",\"name\":\"ColumnDataSource\",\"id\":\"p1507\",\"attributes\":{\"selected\":{\"type\":\"object\",\"name\":\"Selection\",\"id\":\"p1508\",\"attributes\":{\"indices\":[],\"line_indices\":[]}},\"selection_policy\":{\"type\":\"object\",\"name\":\"UnionRenderers\",\"id\":\"p1509\"},\"data\":{\"type\":\"map\"}}},\"x_start\":{\"type\":\"value\",\"value\":6.0},\"y_start\":{\"type\":\"value\",\"value\":0.19999999999999996},\"x_end\":{\"type\":\"value\",\"value\":7.5},\"y_end\":{\"type\":\"value\",\"value\":-0.6000000000000001},\"end\":{\"type\":\"object\",\"name\":\"NormalHead\",\"id\":\"p1504\",\"attributes\":{\"size\":{\"type\":\"value\",\"value\":8}}},\"line_color\":{\"type\":\"value\",\"value\":\"gray\"},\"line_width\":{\"type\":\"value\",\"value\":1.5}}},{\"type\":\"object\",\"name\":\"Arrow\",\"id\":\"p1511\",\"attributes\":{\"source\":{\"type\":\"object\",\"name\":\"ColumnDataSource\",\"id\":\"p1513\",\"attributes\":{\"selected\":{\"type\":\"object\",\"name\":\"Selection\",\"id\":\"p1514\",\"attributes\":{\"indices\":[],\"line_indices\":[]}},\"selection_policy\":{\"type\":\"object\",\"name\":\"UnionRenderers\",\"id\":\"p1515\"},\"data\":{\"type\":\"map\"}}},\"x_start\":{\"type\":\"value\",\"value\":7.5},\"y_start\":{\"type\":\"value\",\"value\":-0.6000000000000001},\"x_end\":{\"type\":\"value\",\"value\":9.0},\"y_end\":{\"type\":\"value\",\"value\":-0.20000000000000007},\"end\":{\"type\":\"object\",\"name\":\"NormalHead\",\"id\":\"p1510\",\"attributes\":{\"size\":{\"type\":\"value\",\"value\":8}}},\"line_color\":{\"type\":\"value\",\"value\":\"gray\"},\"line_width\":{\"type\":\"value\",\"value\":1.5}}},{\"type\":\"object\",\"name\":\"Arrow\",\"id\":\"p1517\",\"attributes\":{\"source\":{\"type\":\"object\",\"name\":\"ColumnDataSource\",\"id\":\"p1519\",\"attributes\":{\"selected\":{\"type\":\"object\",\"name\":\"Selection\",\"id\":\"p1520\",\"attributes\":{\"indices\":[],\"line_indices\":[]}},\"selection_policy\":{\"type\":\"object\",\"name\":\"UnionRenderers\",\"id\":\"p1521\"},\"data\":{\"type\":\"map\"}}},\"x_start\":{\"type\":\"value\",\"value\":1.5},\"y_start\":{\"type\":\"value\",\"value\":-0.8},\"x_end\":{\"type\":\"value\",\"value\":3.0},\"y_end\":{\"type\":\"value\",\"value\":-0.4},\"end\":{\"type\":\"object\",\"name\":\"NormalHead\",\"id\":\"p1516\",\"attributes\":{\"size\":{\"type\":\"value\",\"value\":8}}},\"line_color\":{\"type\":\"value\",\"value\":\"gray\"},\"line_width\":{\"type\":\"value\",\"value\":1.5}}},{\"type\":\"object\",\"name\":\"Arrow\",\"id\":\"p1523\",\"attributes\":{\"source\":{\"type\":\"object\",\"name\":\"ColumnDataSource\",\"id\":\"p1525\",\"attributes\":{\"selected\":{\"type\":\"object\",\"name\":\"Selection\",\"id\":\"p1526\",\"attributes\":{\"indices\":[],\"line_indices\":[]}},\"selection_policy\":{\"type\":\"object\",\"name\":\"UnionRenderers\",\"id\":\"p1527\"},\"data\":{\"type\":\"map\"}}},\"x_start\":{\"type\":\"value\",\"value\":1.5},\"y_start\":{\"type\":\"value\",\"value\":-0.4},\"x_end\":{\"type\":\"value\",\"value\":3.0},\"y_end\":{\"type\":\"value\",\"value\":-0.8},\"end\":{\"type\":\"object\",\"name\":\"NormalHead\",\"id\":\"p1522\",\"attributes\":{\"size\":{\"type\":\"value\",\"value\":8}}},\"line_color\":{\"type\":\"value\",\"value\":\"gray\"},\"line_width\":{\"type\":\"value\",\"value\":1.5}}},{\"type\":\"object\",\"name\":\"Arrow\",\"id\":\"p1529\",\"attributes\":{\"source\":{\"type\":\"object\",\"name\":\"ColumnDataSource\",\"id\":\"p1531\",\"attributes\":{\"selected\":{\"type\":\"object\",\"name\":\"Selection\",\"id\":\"p1532\",\"attributes\":{\"indices\":[],\"line_indices\":[]}},\"selection_policy\":{\"type\":\"object\",\"name\":\"UnionRenderers\",\"id\":\"p1533\"},\"data\":{\"type\":\"map\"}}},\"x_start\":{\"type\":\"value\",\"value\":3.0},\"y_start\":{\"type\":\"value\",\"value\":0.0},\"x_end\":{\"type\":\"value\",\"value\":4.5},\"y_end\":{\"type\":\"value\",\"value\":-0.6000000000000001},\"end\":{\"type\":\"object\",\"name\":\"NormalHead\",\"id\":\"p1528\",\"attributes\":{\"size\":{\"type\":\"value\",\"value\":8}}},\"line_color\":{\"type\":\"value\",\"value\":\"gray\"},\"line_width\":{\"type\":\"value\",\"value\":1.5}}},{\"type\":\"object\",\"name\":\"Arrow\",\"id\":\"p1535\",\"attributes\":{\"source\":{\"type\":\"object\",\"name\":\"ColumnDataSource\",\"id\":\"p1537\",\"attributes\":{\"selected\":{\"type\":\"object\",\"name\":\"Selection\",\"id\":\"p1538\",\"attributes\":{\"indices\":[],\"line_indices\":[]}},\"selection_policy\":{\"type\":\"object\",\"name\":\"UnionRenderers\",\"id\":\"p1539\"},\"data\":{\"type\":\"map\"}}},\"x_start\":{\"type\":\"value\",\"value\":3.0},\"y_start\":{\"type\":\"value\",\"value\":-0.8},\"x_end\":{\"type\":\"value\",\"value\":4.5},\"y_end\":{\"type\":\"value\",\"value\":-0.6000000000000001},\"end\":{\"type\":\"object\",\"name\":\"NormalHead\",\"id\":\"p1534\",\"attributes\":{\"size\":{\"type\":\"value\",\"value\":8}}},\"line_color\":{\"type\":\"value\",\"value\":\"gray\"},\"line_width\":{\"type\":\"value\",\"value\":1.5}}},{\"type\":\"object\",\"name\":\"Arrow\",\"id\":\"p1541\",\"attributes\":{\"source\":{\"type\":\"object\",\"name\":\"ColumnDataSource\",\"id\":\"p1543\",\"attributes\":{\"selected\":{\"type\":\"object\",\"name\":\"Selection\",\"id\":\"p1544\",\"attributes\":{\"indices\":[],\"line_indices\":[]}},\"selection_policy\":{\"type\":\"object\",\"name\":\"UnionRenderers\",\"id\":\"p1545\"},\"data\":{\"type\":\"map\"}}},\"x_start\":{\"type\":\"value\",\"value\":4.5},\"y_start\":{\"type\":\"value\",\"value\":-0.6000000000000001},\"x_end\":{\"type\":\"value\",\"value\":6.0},\"y_end\":{\"type\":\"value\",\"value\":-0.20000000000000007},\"end\":{\"type\":\"object\",\"name\":\"NormalHead\",\"id\":\"p1540\",\"attributes\":{\"size\":{\"type\":\"value\",\"value\":8}}},\"line_color\":{\"type\":\"value\",\"value\":\"gray\"},\"line_width\":{\"type\":\"value\",\"value\":1.5}}},{\"type\":\"object\",\"name\":\"Arrow\",\"id\":\"p1547\",\"attributes\":{\"source\":{\"type\":\"object\",\"name\":\"ColumnDataSource\",\"id\":\"p1549\",\"attributes\":{\"selected\":{\"type\":\"object\",\"name\":\"Selection\",\"id\":\"p1550\",\"attributes\":{\"indices\":[],\"line_indices\":[]}},\"selection_policy\":{\"type\":\"object\",\"name\":\"UnionRenderers\",\"id\":\"p1551\"},\"data\":{\"type\":\"map\"}}},\"x_start\":{\"type\":\"value\",\"value\":6.0},\"y_start\":{\"type\":\"value\",\"value\":0.6000000000000001},\"x_end\":{\"type\":\"value\",\"value\":7.5},\"y_end\":{\"type\":\"value\",\"value\":-0.20000000000000007},\"end\":{\"type\":\"object\",\"name\":\"NormalHead\",\"id\":\"p1546\",\"attributes\":{\"size\":{\"type\":\"value\",\"value\":8}}},\"line_color\":{\"type\":\"value\",\"value\":\"gray\"},\"line_width\":{\"type\":\"value\",\"value\":1.5}}},{\"type\":\"object\",\"name\":\"Arrow\",\"id\":\"p1553\",\"attributes\":{\"source\":{\"type\":\"object\",\"name\":\"ColumnDataSource\",\"id\":\"p1555\",\"attributes\":{\"selected\":{\"type\":\"object\",\"name\":\"Selection\",\"id\":\"p1556\",\"attributes\":{\"indices\":[],\"line_indices\":[]}},\"selection_policy\":{\"type\":\"object\",\"name\":\"UnionRenderers\",\"id\":\"p1557\"},\"data\":{\"type\":\"map\"}}},\"x_start\":{\"type\":\"value\",\"value\":7.5},\"y_start\":{\"type\":\"value\",\"value\":-0.20000000000000007},\"x_end\":{\"type\":\"value\",\"value\":9.0},\"y_end\":{\"type\":\"value\",\"value\":0.6000000000000001},\"end\":{\"type\":\"object\",\"name\":\"NormalHead\",\"id\":\"p1552\",\"attributes\":{\"size\":{\"type\":\"value\",\"value\":8}}},\"line_color\":{\"type\":\"value\",\"value\":\"gray\"},\"line_width\":{\"type\":\"value\",\"value\":1.5}}},{\"type\":\"object\",\"name\":\"Arrow\",\"id\":\"p1559\",\"attributes\":{\"source\":{\"type\":\"object\",\"name\":\"ColumnDataSource\",\"id\":\"p1561\",\"attributes\":{\"selected\":{\"type\":\"object\",\"name\":\"Selection\",\"id\":\"p1562\",\"attributes\":{\"indices\":[],\"line_indices\":[]}},\"selection_policy\":{\"type\":\"object\",\"name\":\"UnionRenderers\",\"id\":\"p1563\"},\"data\":{\"type\":\"map\"}}},\"x_start\":{\"type\":\"value\",\"value\":3.0},\"y_start\":{\"type\":\"value\",\"value\":0.40000000000000013},\"x_end\":{\"type\":\"value\",\"value\":4.5},\"y_end\":{\"type\":\"value\",\"value\":-0.20000000000000007},\"end\":{\"type\":\"object\",\"name\":\"NormalHead\",\"id\":\"p1558\",\"attributes\":{\"size\":{\"type\":\"value\",\"value\":8}}},\"line_color\":{\"type\":\"value\",\"value\":\"gray\"},\"line_width\":{\"type\":\"value\",\"value\":1.5}}},{\"type\":\"object\",\"name\":\"Arrow\",\"id\":\"p1565\",\"attributes\":{\"source\":{\"type\":\"object\",\"name\":\"ColumnDataSource\",\"id\":\"p1567\",\"attributes\":{\"selected\":{\"type\":\"object\",\"name\":\"Selection\",\"id\":\"p1568\",\"attributes\":{\"indices\":[],\"line_indices\":[]}},\"selection_policy\":{\"type\":\"object\",\"name\":\"UnionRenderers\",\"id\":\"p1569\"},\"data\":{\"type\":\"map\"}}},\"x_start\":{\"type\":\"value\",\"value\":3.0},\"y_start\":{\"type\":\"value\",\"value\":-0.8},\"x_end\":{\"type\":\"value\",\"value\":4.5},\"y_end\":{\"type\":\"value\",\"value\":-0.20000000000000007},\"end\":{\"type\":\"object\",\"name\":\"NormalHead\",\"id\":\"p1564\",\"attributes\":{\"size\":{\"type\":\"value\",\"value\":8}}},\"line_color\":{\"type\":\"value\",\"value\":\"gray\"},\"line_width\":{\"type\":\"value\",\"value\":1.5}}},{\"type\":\"object\",\"name\":\"Arrow\",\"id\":\"p1571\",\"attributes\":{\"source\":{\"type\":\"object\",\"name\":\"ColumnDataSource\",\"id\":\"p1573\",\"attributes\":{\"selected\":{\"type\":\"object\",\"name\":\"Selection\",\"id\":\"p1574\",\"attributes\":{\"indices\":[],\"line_indices\":[]}},\"selection_policy\":{\"type\":\"object\",\"name\":\"UnionRenderers\",\"id\":\"p1575\"},\"data\":{\"type\":\"map\"}}},\"x_start\":{\"type\":\"value\",\"value\":4.5},\"y_start\":{\"type\":\"value\",\"value\":-0.20000000000000007},\"x_end\":{\"type\":\"value\",\"value\":6.0},\"y_end\":{\"type\":\"value\",\"value\":-0.6000000000000001},\"end\":{\"type\":\"object\",\"name\":\"NormalHead\",\"id\":\"p1570\",\"attributes\":{\"size\":{\"type\":\"value\",\"value\":8}}},\"line_color\":{\"type\":\"value\",\"value\":\"gray\"},\"line_width\":{\"type\":\"value\",\"value\":1.5}}},{\"type\":\"object\",\"name\":\"Arrow\",\"id\":\"p1577\",\"attributes\":{\"source\":{\"type\":\"object\",\"name\":\"ColumnDataSource\",\"id\":\"p1579\",\"attributes\":{\"selected\":{\"type\":\"object\",\"name\":\"Selection\",\"id\":\"p1580\",\"attributes\":{\"indices\":[],\"line_indices\":[]}},\"selection_policy\":{\"type\":\"object\",\"name\":\"UnionRenderers\",\"id\":\"p1581\"},\"data\":{\"type\":\"map\"}}},\"x_start\":{\"type\":\"value\",\"value\":3.0},\"y_start\":{\"type\":\"value\",\"value\":0.8},\"x_end\":{\"type\":\"value\",\"value\":4.5},\"y_end\":{\"type\":\"value\",\"value\":0.19999999999999996},\"end\":{\"type\":\"object\",\"name\":\"NormalHead\",\"id\":\"p1576\",\"attributes\":{\"size\":{\"type\":\"value\",\"value\":8}}},\"line_color\":{\"type\":\"value\",\"value\":\"gray\"},\"line_width\":{\"type\":\"value\",\"value\":1.5}}},{\"type\":\"object\",\"name\":\"Arrow\",\"id\":\"p1583\",\"attributes\":{\"source\":{\"type\":\"object\",\"name\":\"ColumnDataSource\",\"id\":\"p1585\",\"attributes\":{\"selected\":{\"type\":\"object\",\"name\":\"Selection\",\"id\":\"p1586\",\"attributes\":{\"indices\":[],\"line_indices\":[]}},\"selection_policy\":{\"type\":\"object\",\"name\":\"UnionRenderers\",\"id\":\"p1587\"},\"data\":{\"type\":\"map\"}}},\"x_start\":{\"type\":\"value\",\"value\":3.0},\"y_start\":{\"type\":\"value\",\"value\":-0.8},\"x_end\":{\"type\":\"value\",\"value\":4.5},\"y_end\":{\"type\":\"value\",\"value\":0.19999999999999996},\"end\":{\"type\":\"object\",\"name\":\"NormalHead\",\"id\":\"p1582\",\"attributes\":{\"size\":{\"type\":\"value\",\"value\":8}}},\"line_color\":{\"type\":\"value\",\"value\":\"gray\"},\"line_width\":{\"type\":\"value\",\"value\":1.5}}},{\"type\":\"object\",\"name\":\"Arrow\",\"id\":\"p1589\",\"attributes\":{\"source\":{\"type\":\"object\",\"name\":\"ColumnDataSource\",\"id\":\"p1591\",\"attributes\":{\"selected\":{\"type\":\"object\",\"name\":\"Selection\",\"id\":\"p1592\",\"attributes\":{\"indices\":[],\"line_indices\":[]}},\"selection_policy\":{\"type\":\"object\",\"name\":\"UnionRenderers\",\"id\":\"p1593\"},\"data\":{\"type\":\"map\"}}},\"x_start\":{\"type\":\"value\",\"value\":4.5},\"y_start\":{\"type\":\"value\",\"value\":0.19999999999999996},\"x_end\":{\"type\":\"value\",\"value\":6.0},\"y_end\":{\"type\":\"value\",\"value\":0.6000000000000001},\"end\":{\"type\":\"object\",\"name\":\"NormalHead\",\"id\":\"p1588\",\"attributes\":{\"size\":{\"type\":\"value\",\"value\":8}}},\"line_color\":{\"type\":\"value\",\"value\":\"gray\"},\"line_width\":{\"type\":\"value\",\"value\":1.5}}},{\"type\":\"object\",\"name\":\"Arrow\",\"id\":\"p1595\",\"attributes\":{\"source\":{\"type\":\"object\",\"name\":\"ColumnDataSource\",\"id\":\"p1597\",\"attributes\":{\"selected\":{\"type\":\"object\",\"name\":\"Selection\",\"id\":\"p1598\",\"attributes\":{\"indices\":[],\"line_indices\":[]}},\"selection_policy\":{\"type\":\"object\",\"name\":\"UnionRenderers\",\"id\":\"p1599\"},\"data\":{\"type\":\"map\"}}},\"x_start\":{\"type\":\"value\",\"value\":1.5},\"y_start\":{\"type\":\"value\",\"value\":0.0},\"x_end\":{\"type\":\"value\",\"value\":3.0},\"y_end\":{\"type\":\"value\",\"value\":0.0},\"end\":{\"type\":\"object\",\"name\":\"NormalHead\",\"id\":\"p1594\",\"attributes\":{\"size\":{\"type\":\"value\",\"value\":8}}},\"line_color\":{\"type\":\"value\",\"value\":\"gray\"},\"line_width\":{\"type\":\"value\",\"value\":1.5}}},{\"type\":\"object\",\"name\":\"Arrow\",\"id\":\"p1601\",\"attributes\":{\"source\":{\"type\":\"object\",\"name\":\"ColumnDataSource\",\"id\":\"p1603\",\"attributes\":{\"selected\":{\"type\":\"object\",\"name\":\"Selection\",\"id\":\"p1604\",\"attributes\":{\"indices\":[],\"line_indices\":[]}},\"selection_policy\":{\"type\":\"object\",\"name\":\"UnionRenderers\",\"id\":\"p1605\"},\"data\":{\"type\":\"map\"}}},\"x_start\":{\"type\":\"value\",\"value\":1.5},\"y_start\":{\"type\":\"value\",\"value\":0.40000000000000013},\"x_end\":{\"type\":\"value\",\"value\":3.0},\"y_end\":{\"type\":\"value\",\"value\":0.40000000000000013},\"end\":{\"type\":\"object\",\"name\":\"NormalHead\",\"id\":\"p1600\",\"attributes\":{\"size\":{\"type\":\"value\",\"value\":8}}},\"line_color\":{\"type\":\"value\",\"value\":\"gray\"},\"line_width\":{\"type\":\"value\",\"value\":1.5}}},{\"type\":\"object\",\"name\":\"Arrow\",\"id\":\"p1607\",\"attributes\":{\"source\":{\"type\":\"object\",\"name\":\"ColumnDataSource\",\"id\":\"p1609\",\"attributes\":{\"selected\":{\"type\":\"object\",\"name\":\"Selection\",\"id\":\"p1610\",\"attributes\":{\"indices\":[],\"line_indices\":[]}},\"selection_policy\":{\"type\":\"object\",\"name\":\"UnionRenderers\",\"id\":\"p1611\"},\"data\":{\"type\":\"map\"}}},\"x_start\":{\"type\":\"value\",\"value\":9.0},\"y_start\":{\"type\":\"value\",\"value\":-0.20000000000000007},\"x_end\":{\"type\":\"value\",\"value\":10.5},\"y_end\":{\"type\":\"value\",\"value\":-0.20000000000000007},\"end\":{\"type\":\"object\",\"name\":\"NormalHead\",\"id\":\"p1606\",\"attributes\":{\"size\":{\"type\":\"value\",\"value\":8}}},\"line_color\":{\"type\":\"value\",\"value\":\"gray\"},\"line_width\":{\"type\":\"value\",\"value\":1.5}}},{\"type\":\"object\",\"name\":\"Arrow\",\"id\":\"p1613\",\"attributes\":{\"source\":{\"type\":\"object\",\"name\":\"ColumnDataSource\",\"id\":\"p1615\",\"attributes\":{\"selected\":{\"type\":\"object\",\"name\":\"Selection\",\"id\":\"p1616\",\"attributes\":{\"indices\":[],\"line_indices\":[]}},\"selection_policy\":{\"type\":\"object\",\"name\":\"UnionRenderers\",\"id\":\"p1617\"},\"data\":{\"type\":\"map\"}}},\"x_start\":{\"type\":\"value\",\"value\":9.0},\"y_start\":{\"type\":\"value\",\"value\":0.6000000000000001},\"x_end\":{\"type\":\"value\",\"value\":10.5},\"y_end\":{\"type\":\"value\",\"value\":0.19999999999999996},\"end\":{\"type\":\"object\",\"name\":\"NormalHead\",\"id\":\"p1612\",\"attributes\":{\"size\":{\"type\":\"value\",\"value\":8}}},\"line_color\":{\"type\":\"value\",\"value\":\"gray\"},\"line_width\":{\"type\":\"value\",\"value\":1.5}}},{\"type\":\"object\",\"name\":\"Arrow\",\"id\":\"p1619\",\"attributes\":{\"source\":{\"type\":\"object\",\"name\":\"ColumnDataSource\",\"id\":\"p1621\",\"attributes\":{\"selected\":{\"type\":\"object\",\"name\":\"Selection\",\"id\":\"p1622\",\"attributes\":{\"indices\":[],\"line_indices\":[]}},\"selection_policy\":{\"type\":\"object\",\"name\":\"UnionRenderers\",\"id\":\"p1623\"},\"data\":{\"type\":\"map\"}}},\"x_start\":{\"type\":\"value\",\"value\":3.0},\"y_start\":{\"type\":\"value\",\"value\":-0.4},\"x_end\":{\"type\":\"value\",\"value\":4.5},\"y_end\":{\"type\":\"value\",\"value\":0.6000000000000001},\"end\":{\"type\":\"object\",\"name\":\"NormalHead\",\"id\":\"p1618\",\"attributes\":{\"size\":{\"type\":\"value\",\"value\":8}}},\"line_color\":{\"type\":\"value\",\"value\":\"gray\"},\"line_width\":{\"type\":\"value\",\"value\":1.5}}},{\"type\":\"object\",\"name\":\"Arrow\",\"id\":\"p1625\",\"attributes\":{\"source\":{\"type\":\"object\",\"name\":\"ColumnDataSource\",\"id\":\"p1627\",\"attributes\":{\"selected\":{\"type\":\"object\",\"name\":\"Selection\",\"id\":\"p1628\",\"attributes\":{\"indices\":[],\"line_indices\":[]}},\"selection_policy\":{\"type\":\"object\",\"name\":\"UnionRenderers\",\"id\":\"p1629\"},\"data\":{\"type\":\"map\"}}},\"x_start\":{\"type\":\"value\",\"value\":3.0},\"y_start\":{\"type\":\"value\",\"value\":-0.8},\"x_end\":{\"type\":\"value\",\"value\":4.5},\"y_end\":{\"type\":\"value\",\"value\":0.6000000000000001},\"end\":{\"type\":\"object\",\"name\":\"NormalHead\",\"id\":\"p1624\",\"attributes\":{\"size\":{\"type\":\"value\",\"value\":8}}},\"line_color\":{\"type\":\"value\",\"value\":\"gray\"},\"line_width\":{\"type\":\"value\",\"value\":1.5}}},{\"type\":\"object\",\"name\":\"Arrow\",\"id\":\"p1631\",\"attributes\":{\"source\":{\"type\":\"object\",\"name\":\"ColumnDataSource\",\"id\":\"p1633\",\"attributes\":{\"selected\":{\"type\":\"object\",\"name\":\"Selection\",\"id\":\"p1634\",\"attributes\":{\"indices\":[],\"line_indices\":[]}},\"selection_policy\":{\"type\":\"object\",\"name\":\"UnionRenderers\",\"id\":\"p1635\"},\"data\":{\"type\":\"map\"}}},\"x_start\":{\"type\":\"value\",\"value\":4.5},\"y_start\":{\"type\":\"value\",\"value\":0.6000000000000001},\"x_end\":{\"type\":\"value\",\"value\":6.0},\"y_end\":{\"type\":\"value\",\"value\":0.19999999999999996},\"end\":{\"type\":\"object\",\"name\":\"NormalHead\",\"id\":\"p1630\",\"attributes\":{\"size\":{\"type\":\"value\",\"value\":8}}},\"line_color\":{\"type\":\"value\",\"value\":\"gray\"},\"line_width\":{\"type\":\"value\",\"value\":1.5}}},{\"type\":\"object\",\"name\":\"Arrow\",\"id\":\"p1637\",\"attributes\":{\"source\":{\"type\":\"object\",\"name\":\"ColumnDataSource\",\"id\":\"p1639\",\"attributes\":{\"selected\":{\"type\":\"object\",\"name\":\"Selection\",\"id\":\"p1640\",\"attributes\":{\"indices\":[],\"line_indices\":[]}},\"selection_policy\":{\"type\":\"object\",\"name\":\"UnionRenderers\",\"id\":\"p1641\"},\"data\":{\"type\":\"map\"}}},\"x_start\":{\"type\":\"value\",\"value\":6.0},\"y_start\":{\"type\":\"value\",\"value\":-0.20000000000000007},\"x_end\":{\"type\":\"value\",\"value\":7.5},\"y_end\":{\"type\":\"value\",\"value\":0.19999999999999996},\"end\":{\"type\":\"object\",\"name\":\"NormalHead\",\"id\":\"p1636\",\"attributes\":{\"size\":{\"type\":\"value\",\"value\":8}}},\"line_color\":{\"type\":\"value\",\"value\":\"gray\"},\"line_width\":{\"type\":\"value\",\"value\":1.5}}},{\"type\":\"object\",\"name\":\"Arrow\",\"id\":\"p1643\",\"attributes\":{\"source\":{\"type\":\"object\",\"name\":\"ColumnDataSource\",\"id\":\"p1645\",\"attributes\":{\"selected\":{\"type\":\"object\",\"name\":\"Selection\",\"id\":\"p1646\",\"attributes\":{\"indices\":[],\"line_indices\":[]}},\"selection_policy\":{\"type\":\"object\",\"name\":\"UnionRenderers\",\"id\":\"p1647\"},\"data\":{\"type\":\"map\"}}},\"x_start\":{\"type\":\"value\",\"value\":7.5},\"y_start\":{\"type\":\"value\",\"value\":0.19999999999999996},\"x_end\":{\"type\":\"value\",\"value\":9.0},\"y_end\":{\"type\":\"value\",\"value\":-0.6000000000000001},\"end\":{\"type\":\"object\",\"name\":\"NormalHead\",\"id\":\"p1642\",\"attributes\":{\"size\":{\"type\":\"value\",\"value\":8}}},\"line_color\":{\"type\":\"value\",\"value\":\"gray\"},\"line_width\":{\"type\":\"value\",\"value\":1.5}}},{\"type\":\"object\",\"name\":\"Arrow\",\"id\":\"p1649\",\"attributes\":{\"source\":{\"type\":\"object\",\"name\":\"ColumnDataSource\",\"id\":\"p1651\",\"attributes\":{\"selected\":{\"type\":\"object\",\"name\":\"Selection\",\"id\":\"p1652\",\"attributes\":{\"indices\":[],\"line_indices\":[]}},\"selection_policy\":{\"type\":\"object\",\"name\":\"UnionRenderers\",\"id\":\"p1653\"},\"data\":{\"type\":\"map\"}}},\"x_start\":{\"type\":\"value\",\"value\":1.5},\"y_start\":{\"type\":\"value\",\"value\":0.8},\"x_end\":{\"type\":\"value\",\"value\":3.0},\"y_end\":{\"type\":\"value\",\"value\":0.8},\"end\":{\"type\":\"object\",\"name\":\"NormalHead\",\"id\":\"p1648\",\"attributes\":{\"size\":{\"type\":\"value\",\"value\":8}}},\"line_color\":{\"type\":\"value\",\"value\":\"gray\"},\"line_width\":{\"type\":\"value\",\"value\":1.5}}},{\"type\":\"object\",\"name\":\"Arrow\",\"id\":\"p1655\",\"attributes\":{\"source\":{\"type\":\"object\",\"name\":\"ColumnDataSource\",\"id\":\"p1657\",\"attributes\":{\"selected\":{\"type\":\"object\",\"name\":\"Selection\",\"id\":\"p1658\",\"attributes\":{\"indices\":[],\"line_indices\":[]}},\"selection_policy\":{\"type\":\"object\",\"name\":\"UnionRenderers\",\"id\":\"p1659\"},\"data\":{\"type\":\"map\"}}},\"x_start\":{\"type\":\"value\",\"value\":9.0},\"y_start\":{\"type\":\"value\",\"value\":0.19999999999999996},\"x_end\":{\"type\":\"value\",\"value\":10.5},\"y_end\":{\"type\":\"value\",\"value\":0.6000000000000001},\"end\":{\"type\":\"object\",\"name\":\"NormalHead\",\"id\":\"p1654\",\"attributes\":{\"size\":{\"type\":\"value\",\"value\":8}}},\"line_color\":{\"type\":\"value\",\"value\":\"gray\"},\"line_width\":{\"type\":\"value\",\"value\":1.5}}},{\"type\":\"object\",\"name\":\"Arrow\",\"id\":\"p1661\",\"attributes\":{\"source\":{\"type\":\"object\",\"name\":\"ColumnDataSource\",\"id\":\"p1663\",\"attributes\":{\"selected\":{\"type\":\"object\",\"name\":\"Selection\",\"id\":\"p1664\",\"attributes\":{\"indices\":[],\"line_indices\":[]}},\"selection_policy\":{\"type\":\"object\",\"name\":\"UnionRenderers\",\"id\":\"p1665\"},\"data\":{\"type\":\"map\"}}},\"x_start\":{\"type\":\"value\",\"value\":6.0},\"y_start\":{\"type\":\"value\",\"value\":-0.6000000000000001},\"x_end\":{\"type\":\"value\",\"value\":7.5},\"y_end\":{\"type\":\"value\",\"value\":0.6000000000000001},\"end\":{\"type\":\"object\",\"name\":\"NormalHead\",\"id\":\"p1660\",\"attributes\":{\"size\":{\"type\":\"value\",\"value\":8}}},\"line_color\":{\"type\":\"value\",\"value\":\"gray\"},\"line_width\":{\"type\":\"value\",\"value\":1.5}}},{\"type\":\"object\",\"name\":\"Arrow\",\"id\":\"p1667\",\"attributes\":{\"source\":{\"type\":\"object\",\"name\":\"ColumnDataSource\",\"id\":\"p1669\",\"attributes\":{\"selected\":{\"type\":\"object\",\"name\":\"Selection\",\"id\":\"p1670\",\"attributes\":{\"indices\":[],\"line_indices\":[]}},\"selection_policy\":{\"type\":\"object\",\"name\":\"UnionRenderers\",\"id\":\"p1671\"},\"data\":{\"type\":\"map\"}}},\"x_start\":{\"type\":\"value\",\"value\":7.5},\"y_start\":{\"type\":\"value\",\"value\":0.6000000000000001},\"x_end\":{\"type\":\"value\",\"value\":9.0},\"y_end\":{\"type\":\"value\",\"value\":0.19999999999999996},\"end\":{\"type\":\"object\",\"name\":\"NormalHead\",\"id\":\"p1666\",\"attributes\":{\"size\":{\"type\":\"value\",\"value\":8}}},\"line_color\":{\"type\":\"value\",\"value\":\"gray\"},\"line_width\":{\"type\":\"value\",\"value\":1.5}}}]}}]}};\n  const render_items = [{\"docid\":\"ba32531d-fe19-4c23-aa03-854b826743a3\",\"roots\":{\"p1444\":\"dfa32478-f100-4ac6-a3c9-00cab55e8634\"},\"root_ids\":[\"p1444\"]}];\n  void root.Bokeh.embed.embed_items_notebook(docs_json, render_items);\n  }\n  if (root.Bokeh !== undefined) {\n    embed_document(root);\n  } else {\n    let attempts = 0;\n    const timer = setInterval(function(root) {\n      if (root.Bokeh !== undefined) {\n        clearInterval(timer);\n        embed_document(root);\n      } else {\n        attempts++;\n        if (attempts > 100) {\n          clearInterval(timer);\n          console.log(\"Bokeh: ERROR: Unable to run BokehJS code because BokehJS library is missing\");\n        }\n      }\n    }, 10, root)\n  }\n})(window);",
      "application/vnd.bokehjs_exec.v0+json": ""
     },
     "metadata": {
      "application/vnd.bokehjs_exec.v0+json": {
       "id": "p1444"
      }
     },
     "output_type": "display_data"
    }
   ],
   "source": [
    "g.visualize()"
   ]
  }
 ],
 "metadata": {
  "kernelspec": {
   "display_name": "cupy-env",
   "language": "python",
   "name": "python3"
  },
  "language_info": {
   "codemirror_mode": {
    "name": "ipython",
    "version": 3
   },
   "file_extension": ".py",
   "mimetype": "text/x-python",
   "name": "python",
   "nbconvert_exporter": "python",
   "pygments_lexer": "ipython3",
   "version": "3.10.5"
  }
 },
 "nbformat": 4,
 "nbformat_minor": 5
}
