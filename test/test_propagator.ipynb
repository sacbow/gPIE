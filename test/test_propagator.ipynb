{
 "cells": [
  {
   "cell_type": "code",
   "execution_count": 1,
   "id": "fad5cabf",
   "metadata": {},
   "outputs": [],
   "source": [
    "import sys\n",
    "import os\n",
    "\n",
    "# プロジェクトルートを Python パスに追加\n",
    "project_root = os.path.abspath(os.path.join(os.getcwd(), \"..\"))\n",
    "if project_root not in sys.path:\n",
    "    sys.path.insert(0, project_root)"
   ]
  },
  {
   "cell_type": "code",
   "execution_count": 2,
   "id": "95f076ed",
   "metadata": {},
   "outputs": [],
   "source": [
    "import numpy as np\n",
    "from core.linalg_utils import random_unitary_matrix\n",
    "from graph.prior.gaussian_prior import GaussianPrior\n",
    "from graph.propagator.unitary_propagator import UnitaryPropagator\n",
    "from graph.measurement.gaussian_measurement import GaussianMeasurement"
   ]
  },
  {
   "cell_type": "code",
   "execution_count": 9,
   "id": "3a3a07a2",
   "metadata": {},
   "outputs": [],
   "source": [
    "# 1. グラフ構築（X = GaussianPrior(); Y = U @ X; Measurement）\n",
    "n = 8\n",
    "U = random_unitary_matrix(n, seed=42)\n",
    "\n",
    "# 真のデータと観測値を準備\n",
    "true_x = np.ones((n,), dtype=np.complex128)\n",
    "true_y = U @ true_x\n",
    "noise = np.random.normal(scale=0.1, size=(n,)) + 1j * np.random.normal(scale=0.1, size=(n,))\n",
    "observed = true_y + noise\n",
    "\n",
    "# グラフ構築\n",
    "X = GaussianPrior(shape=(n,), mean=0.0, var=1.0, seed=123)\n",
    "Y = UnitaryPropagator(U) @ X\n",
    "measurement = GaussianMeasurement(Y, observed_array=observed, var=0.01)"
   ]
  },
  {
   "cell_type": "code",
   "execution_count": 14,
   "id": "455fd44f",
   "metadata": {},
   "outputs": [
    {
     "name": "stdout",
     "output_type": "stream",
     "text": [
      "X belief mean:\n",
      " [0.9726733 +0.02267031j 0.96381884+0.02602988j 0.92152467+0.01257714j\n",
      " 1.20903688-0.08806878j 1.07980163-0.11212723j 1.11169636+0.04237791j\n",
      " 0.96141277-0.09707071j 1.10886572-0.05603513j]\n",
      "X belief precision:\n",
      " [101. 101. 101. 101. 101. 101. 101. 101.]\n"
     ]
    }
   ],
   "source": [
    "# 1. Forward pass\n",
    "X.parent.forward()     # Prior → X\n",
    "X.forward()            # X → UnitaryPropagator\n",
    "Y.parent.forward()\n",
    "Y.forward()            # Ux → Y\n",
    "\n",
    "# 2. Backward pass\n",
    "measurement.backward() # Measurement → Y\n",
    "Y.backward()           # Y → UnitaryPropagator\n",
    "Y.parent.backward()\n",
    "X.backward()           # U†y → X\n",
    "\n",
    "# 3. Compute belief at X\n",
    "x_belief = X.compute_belief()\n",
    "\n",
    "# 4. 結果表示\n",
    "print(\"X belief mean:\\n\", x_belief.data)\n",
    "print(\"X belief precision:\\n\", x_belief.precision)"
   ]
  },
  {
   "cell_type": "code",
   "execution_count": null,
   "id": "ae151706",
   "metadata": {},
   "outputs": [],
   "source": []
  }
 ],
 "metadata": {
  "kernelspec": {
   "display_name": "cupy-env",
   "language": "python",
   "name": "python3"
  },
  "language_info": {
   "codemirror_mode": {
    "name": "ipython",
    "version": 3
   },
   "file_extension": ".py",
   "mimetype": "text/x-python",
   "name": "python",
   "nbconvert_exporter": "python",
   "pygments_lexer": "ipython3",
   "version": "3.10.5"
  }
 },
 "nbformat": 4,
 "nbformat_minor": 5
}
