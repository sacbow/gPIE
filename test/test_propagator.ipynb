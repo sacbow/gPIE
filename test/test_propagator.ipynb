{
 "cells": [
  {
   "cell_type": "code",
   "execution_count": 1,
   "id": "fad5cabf",
   "metadata": {},
   "outputs": [],
   "source": [
    "import sys\n",
    "import os\n",
    "\n",
    "# プロジェクトルートを Python パスに追加\n",
    "project_root = os.path.abspath(os.path.join(os.getcwd(), \"..\"))\n",
    "if project_root not in sys.path:\n",
    "    sys.path.insert(0, project_root)"
   ]
  },
  {
   "cell_type": "code",
   "execution_count": 3,
   "id": "95f076ed",
   "metadata": {},
   "outputs": [
    {
     "name": "stdout",
     "output_type": "stream",
     "text": [
      "Input wave shape: (8, 8)\n",
      "Output wave shape: (8, 8)\n",
      "Propagator generation: 2\n",
      "Connected input wave generation: 1\n"
     ]
    }
   ],
   "source": [
    "import numpy as np\n",
    "\n",
    "# 基本モジュール\n",
    "from graph.prior import GaussianPrior\n",
    "from graph.propagator import MatrixPropagator\n",
    "\n",
    "# テスト設定\n",
    "shape = (8, 8)\n",
    "A = np.eye(np.prod(shape)).reshape(shape + shape)  # 恒等変換を模した行列（実際には簡易に）\n",
    "\n",
    "# 入力 Wave を生成\n",
    "X = GaussianPrior(mean=0.0, var=1.0, shape=shape)\n",
    "\n",
    "# Propagator を接続し、出力 Wave を生成\n",
    "Y = MatrixPropagator(A) @ X\n",
    "\n",
    "# 構造確認\n",
    "print(\"Input wave shape:\", X.shape)\n",
    "print(\"Output wave shape:\", Y.shape)\n",
    "print(\"Propagator generation:\", Y.parent.generation)\n",
    "print(\"Connected input wave generation:\", Y.parent.inputs[\"input\"].generation)"
   ]
  },
  {
   "cell_type": "code",
   "execution_count": null,
   "id": "3a3a07a2",
   "metadata": {},
   "outputs": [],
   "source": []
  }
 ],
 "metadata": {
  "kernelspec": {
   "display_name": "cupy-env",
   "language": "python",
   "name": "python3"
  },
  "language_info": {
   "codemirror_mode": {
    "name": "ipython",
    "version": 3
   },
   "file_extension": ".py",
   "mimetype": "text/x-python",
   "name": "python",
   "nbconvert_exporter": "python",
   "pygments_lexer": "ipython3",
   "version": "3.10.5"
  }
 },
 "nbformat": 4,
 "nbformat_minor": 5
}
