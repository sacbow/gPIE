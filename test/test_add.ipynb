{
 "cells": [
  {
   "cell_type": "code",
   "execution_count": 1,
   "id": "a228f70c",
   "metadata": {},
   "outputs": [
    {
     "name": "stdout",
     "output_type": "stream",
     "text": [
      "PYTHONPATH manually set to: c:\\Users\\ndhaj\\Desktop\n"
     ]
    }
   ],
   "source": [
    "import os, sys\n",
    "\n",
    "project_root = os.path.abspath(os.path.join(os.getcwd(), '..', '..'))\n",
    "os.environ['PYTHONPATH'] = project_root\n",
    "if project_root not in sys.path:\n",
    "    sys.path.insert(0, project_root)\n",
    "\n",
    "print(\"PYTHONPATH manually set to:\", os.environ['PYTHONPATH'])"
   ]
  },
  {
   "cell_type": "markdown",
   "id": "289bfa0b",
   "metadata": {},
   "source": [
    "## Holography"
   ]
  },
  {
   "cell_type": "code",
   "execution_count": 5,
   "id": "4d87cb49",
   "metadata": {},
   "outputs": [
    {
     "name": "stdout",
     "output_type": "stream",
     "text": [
      "[t=0] PMSE (sum) = 6.93560e-01\n",
      "[t=100] PMSE (sum) = 5.44096e-04\n",
      "[t=200] PMSE (sum) = 5.44095e-04\n",
      "[t=300] PMSE (sum) = 5.44095e-04\n",
      "[t=400] PMSE (sum) = 5.44095e-04\n"
     ]
    }
   ],
   "source": [
    "import numpy as np\n",
    "from gpie import Graph, SupportPrior, ConstWave, fft2, AmplitudeMeasurement, pmse\n",
    "from gpie.core.linalg_utils import circular_aperture, masked_random_array\n",
    "\n",
    "# ==== Setting Parameter ====\n",
    "H, W = 256, 256\n",
    "shape = (H, W)\n",
    "var = 1e-4\n",
    "rng = np.random.default_rng(seed=42)\n",
    "support_x = circular_aperture(shape=shape, radius=0.2, center=(-0.2, -0.2))\n",
    "data_x = masked_random_array(support_x, dtype=np.complex128, rng=rng)\n",
    "support_y =  circular_aperture(shape=shape, radius=0.2, center=(0.2, 0.2))\n",
    "\n",
    "# ==== Graph ====\n",
    "class HolographicCDI(Graph):\n",
    "    def __init__(self):\n",
    "        super().__init__()\n",
    "        # known and unknown wave\n",
    "        X = ~ConstWave(data_x, label=\"X\")\n",
    "        Y = ~SupportPrior(support = support_y, label=\"Y\")\n",
    "        # diffraction measurement\n",
    "        with self.observe():\n",
    "            meas = AmplitudeMeasurement(var = var, damping = 0.1) @ (fft2(X + Y))\n",
    "        self.compile()\n",
    "\n",
    "# ==== グラフ構築・サンプル生成 ====\n",
    "g = HolographicCDI()\n",
    "g.set_init_rng(np.random.default_rng(seed=12))\n",
    "g.generate_sample(rng=np.random.default_rng(seed=99), update_observed=True)\n",
    "\n",
    "true_x = g.get_wave(\"X\").get_sample()\n",
    "true_y = g.get_wave(\"Y\").get_sample()\n",
    "\n",
    "# ==== 推論ループ ====\n",
    "def monitor(graph, t):\n",
    "    y = graph.get_wave(\"Y\").compute_belief().data\n",
    "    err = pmse(y, true_y)\n",
    "    if t % 100 == 0:\n",
    "        print(f\"[t={t}] PMSE (sum) = {err:.5e}\")\n",
    "\n",
    "g.run(n_iter=500, callback=monitor, verbose = False)\n"
   ]
  },
  {
   "cell_type": "code",
   "execution_count": 3,
   "id": "6e86f62a",
   "metadata": {},
   "outputs": [
    {
     "data": {
      "text/html": [
       "    <style>\n",
       "        .bk-notebook-logo {\n",
       "            display: block;\n",
       "            width: 20px;\n",
       "            height: 20px;\n",
       "            background-image: url(data:image/png;base64,iVBORw0KGgoAAAANSUhEUgAAABQAAAAUCAYAAACNiR0NAAAABHNCSVQICAgIfAhkiAAAAAlwSFlzAAALEgAACxIB0t1+/AAAABx0RVh0U29mdHdhcmUAQWRvYmUgRmlyZXdvcmtzIENTNui8sowAAAOkSURBVDiNjZRtaJVlGMd/1/08zzln5zjP1LWcU9N0NkN8m2CYjpgQYQXqSs0I84OLIC0hkEKoPtiH3gmKoiJDU7QpLgoLjLIQCpEsNJ1vqUOdO7ppbuec5+V+rj4ctwzd8IIbbi6u+8f1539dt3A78eXC7QizUF7gyV1fD1Yqg4JWz84yffhm0qkFqBogB9rM8tZdtwVsPUhWhGcFJngGeWrPzHm5oaMmkfEg1usvLFyc8jLRqDOMru7AyC8saQr7GG7f5fvDeH7Ej8CM66nIF+8yngt6HWaKh7k49Soy9nXurCi1o3qUbS3zWfrYeQDTB/Qj6kX6Ybhw4B+bOYoLKCC9H3Nu/leUTZ1JdRWkkn2ldcCamzrcf47KKXdAJllSlxAOkRgyHsGC/zRday5Qld9DyoM4/q/rUoy/CXh3jzOu3bHUVZeU+DEn8FInkPBFlu3+nW3Nw0mk6vCDiWg8CeJaxEwuHS3+z5RgY+YBR6V1Z1nxSOfoaPa4LASWxxdNp+VWTk7+4vzaou8v8PN+xo+KY2xsw6une2frhw05CTYOmQvsEhjhWjn0bmXPjpE1+kplmmkP3suftwTubK9Vq22qKmrBhpY4jvd5afdRA3wGjFAgcnTK2s4hY0/GPNIb0nErGMCRxWOOX64Z8RAC4oCXdklmEvcL8o0BfkNK4lUg9HTl+oPlQxdNo3Mg4Nv175e/1LDGzZen30MEjRUtmXSfiTVu1kK8W4txyV6BMKlbgk3lMwYCiusNy9fVfvvwMxv8Ynl6vxoByANLTWplvuj/nF9m2+PDtt1eiHPBr1oIfhCChQMBw6Aw0UulqTKZdfVvfG7VcfIqLG9bcldL/+pdWTLxLUy8Qq38heUIjh4XlzZxzQm19lLFlr8vdQ97rjZVOLf8nclzckbcD4wxXMidpX30sFd37Fv/GtwwhzhxGVAprjbg0gCAEeIgwCZyTV2Z1REEW8O4py0wsjeloKoMr6iCY6dP92H6Vw/oTyICIthibxjm/DfN9lVz8IqtqKYLUXfoKVMVQVVJOElGjrnnUt9T9wbgp8AyYKaGlqingHZU/uG2NTZSVqwHQTWkx9hxjkpWDaCg6Ckj5qebgBVbT3V3NNXMSiWSDdGV3hrtzla7J+duwPOToIg42ChPQOQjspnSlp1V+Gjdged7+8UN5CRAV7a5EdFNwCjEaBR27b3W890TE7g24NAP/mMDXRWrGoFPQI9ls/MWO2dWFAar/xcOIImbbpA3zgAAAABJRU5ErkJggg==);\n",
       "        }\n",
       "    </style>\n",
       "    <div>\n",
       "        <a href=\"https://bokeh.org\" target=\"_blank\" class=\"bk-notebook-logo\"></a>\n",
       "        <span id=\"c6679033-6856-4f91-82a8-623dd461b0e4\">Loading BokehJS ...</span>\n",
       "    </div>\n"
      ]
     },
     "metadata": {},
     "output_type": "display_data"
    },
    {
     "data": {
      "application/javascript": "'use strict';\n(function(root) {\n  function now() {\n    return new Date();\n  }\n\n  const force = true;\n\n  if (typeof root._bokeh_onload_callbacks === \"undefined\" || force === true) {\n    root._bokeh_onload_callbacks = [];\n    root._bokeh_is_loading = undefined;\n  }\n\nconst JS_MIME_TYPE = 'application/javascript';\n  const HTML_MIME_TYPE = 'text/html';\n  const EXEC_MIME_TYPE = 'application/vnd.bokehjs_exec.v0+json';\n  const CLASS_NAME = 'output_bokeh rendered_html';\n\n  /**\n   * Render data to the DOM node\n   */\n  function render(props, node) {\n    const script = document.createElement(\"script\");\n    node.appendChild(script);\n  }\n\n  /**\n   * Handle when an output is cleared or removed\n   */\n  function handleClearOutput(event, handle) {\n    function drop(id) {\n      const view = Bokeh.index.get_by_id(id)\n      if (view != null) {\n        view.model.document.clear()\n        Bokeh.index.delete(view)\n      }\n    }\n\n    const cell = handle.cell;\n\n    const id = cell.output_area._bokeh_element_id;\n    const server_id = cell.output_area._bokeh_server_id;\n\n    // Clean up Bokeh references\n    if (id != null) {\n      drop(id)\n    }\n\n    if (server_id !== undefined) {\n      // Clean up Bokeh references\n      const cmd_clean = \"from bokeh.io.state import curstate; print(curstate().uuid_to_server['\" + server_id + \"'].get_sessions()[0].document.roots[0]._id)\";\n      cell.notebook.kernel.execute(cmd_clean, {\n        iopub: {\n          output: function(msg) {\n            const id = msg.content.text.trim()\n            drop(id)\n          }\n        }\n      });\n      // Destroy server and session\n      const cmd_destroy = \"import bokeh.io.notebook as ion; ion.destroy_server('\" + server_id + \"')\";\n      cell.notebook.kernel.execute(cmd_destroy);\n    }\n  }\n\n  /**\n   * Handle when a new output is added\n   */\n  function handleAddOutput(event, handle) {\n    const output_area = handle.output_area;\n    const output = handle.output;\n\n    // limit handleAddOutput to display_data with EXEC_MIME_TYPE content only\n    if ((output.output_type != \"display_data\") || (!Object.prototype.hasOwnProperty.call(output.data, EXEC_MIME_TYPE))) {\n      return\n    }\n\n    const toinsert = output_area.element.find(\".\" + CLASS_NAME.split(' ')[0]);\n\n    if (output.metadata[EXEC_MIME_TYPE][\"id\"] !== undefined) {\n      toinsert[toinsert.length - 1].firstChild.textContent = output.data[JS_MIME_TYPE];\n      // store reference to embed id on output_area\n      output_area._bokeh_element_id = output.metadata[EXEC_MIME_TYPE][\"id\"];\n    }\n    if (output.metadata[EXEC_MIME_TYPE][\"server_id\"] !== undefined) {\n      const bk_div = document.createElement(\"div\");\n      bk_div.innerHTML = output.data[HTML_MIME_TYPE];\n      const script_attrs = bk_div.children[0].attributes;\n      for (let i = 0; i < script_attrs.length; i++) {\n        toinsert[toinsert.length - 1].firstChild.setAttribute(script_attrs[i].name, script_attrs[i].value);\n        toinsert[toinsert.length - 1].firstChild.textContent = bk_div.children[0].textContent\n      }\n      // store reference to server id on output_area\n      output_area._bokeh_server_id = output.metadata[EXEC_MIME_TYPE][\"server_id\"];\n    }\n  }\n\n  function register_renderer(events, OutputArea) {\n\n    function append_mime(data, metadata, element) {\n      // create a DOM node to render to\n      const toinsert = this.create_output_subarea(\n        metadata,\n        CLASS_NAME,\n        EXEC_MIME_TYPE\n      );\n      this.keyboard_manager.register_events(toinsert);\n      // Render to node\n      const props = {data: data, metadata: metadata[EXEC_MIME_TYPE]};\n      render(props, toinsert[toinsert.length - 1]);\n      element.append(toinsert);\n      return toinsert\n    }\n\n    /* Handle when an output is cleared or removed */\n    events.on('clear_output.CodeCell', handleClearOutput);\n    events.on('delete.Cell', handleClearOutput);\n\n    /* Handle when a new output is added */\n    events.on('output_added.OutputArea', handleAddOutput);\n\n    /**\n     * Register the mime type and append_mime function with output_area\n     */\n    OutputArea.prototype.register_mime_type(EXEC_MIME_TYPE, append_mime, {\n      /* Is output safe? */\n      safe: true,\n      /* Index of renderer in `output_area.display_order` */\n      index: 0\n    });\n  }\n\n  // register the mime type if in Jupyter Notebook environment and previously unregistered\n  if (root.Jupyter !== undefined) {\n    const events = require('base/js/events');\n    const OutputArea = require('notebook/js/outputarea').OutputArea;\n\n    if (OutputArea.prototype.mime_types().indexOf(EXEC_MIME_TYPE) == -1) {\n      register_renderer(events, OutputArea);\n    }\n  }\n  if (typeof (root._bokeh_timeout) === \"undefined\" || force === true) {\n    root._bokeh_timeout = Date.now() + 5000;\n    root._bokeh_failed_load = false;\n  }\n\n  const NB_LOAD_WARNING = {'data': {'text/html':\n     \"<div style='background-color: #fdd'>\\n\"+\n     \"<p>\\n\"+\n     \"BokehJS does not appear to have successfully loaded. If loading BokehJS from CDN, this \\n\"+\n     \"may be due to a slow or bad network connection. Possible fixes:\\n\"+\n     \"</p>\\n\"+\n     \"<ul>\\n\"+\n     \"<li>re-rerun `output_notebook()` to attempt to load from CDN again, or</li>\\n\"+\n     \"<li>use INLINE resources instead, as so:</li>\\n\"+\n     \"</ul>\\n\"+\n     \"<code>\\n\"+\n     \"from bokeh.resources import INLINE\\n\"+\n     \"output_notebook(resources=INLINE)\\n\"+\n     \"</code>\\n\"+\n     \"</div>\"}};\n\n  function display_loaded(error = null) {\n    const el = document.getElementById(\"c6679033-6856-4f91-82a8-623dd461b0e4\");\n    if (el != null) {\n      const html = (() => {\n        if (typeof root.Bokeh === \"undefined\") {\n          if (error == null) {\n            return \"BokehJS is loading ...\";\n          } else {\n            return \"BokehJS failed to load.\";\n          }\n        } else {\n          const prefix = `BokehJS ${root.Bokeh.version}`;\n          if (error == null) {\n            return `${prefix} successfully loaded.`;\n          } else {\n            return `${prefix} <b>encountered errors</b> while loading and may not function as expected.`;\n          }\n        }\n      })();\n      el.innerHTML = html;\n\n      if (error != null) {\n        const wrapper = document.createElement(\"div\");\n        wrapper.style.overflow = \"auto\";\n        wrapper.style.height = \"5em\";\n        wrapper.style.resize = \"vertical\";\n        const content = document.createElement(\"div\");\n        content.style.fontFamily = \"monospace\";\n        content.style.whiteSpace = \"pre-wrap\";\n        content.style.backgroundColor = \"rgb(255, 221, 221)\";\n        content.textContent = error.stack ?? error.toString();\n        wrapper.append(content);\n        el.append(wrapper);\n      }\n    } else if (Date.now() < root._bokeh_timeout) {\n      setTimeout(() => display_loaded(error), 100);\n    }\n  }\n\n  function run_callbacks() {\n    try {\n      root._bokeh_onload_callbacks.forEach(function(callback) {\n        if (callback != null)\n          callback();\n      });\n    } finally {\n      delete root._bokeh_onload_callbacks\n    }\n    console.debug(\"Bokeh: all callbacks have finished\");\n  }\n\n  function load_libs(css_urls, js_urls, callback) {\n    if (css_urls == null) css_urls = [];\n    if (js_urls == null) js_urls = [];\n\n    root._bokeh_onload_callbacks.push(callback);\n    if (root._bokeh_is_loading > 0) {\n      console.debug(\"Bokeh: BokehJS is being loaded, scheduling callback at\", now());\n      return null;\n    }\n    if (js_urls == null || js_urls.length === 0) {\n      run_callbacks();\n      return null;\n    }\n    console.debug(\"Bokeh: BokehJS not loaded, scheduling load and callback at\", now());\n    root._bokeh_is_loading = css_urls.length + js_urls.length;\n\n    function on_load() {\n      root._bokeh_is_loading--;\n      if (root._bokeh_is_loading === 0) {\n        console.debug(\"Bokeh: all BokehJS libraries/stylesheets loaded\");\n        run_callbacks()\n      }\n    }\n\n    function on_error(url) {\n      console.error(\"failed to load \" + url);\n    }\n\n    for (let i = 0; i < css_urls.length; i++) {\n      const url = css_urls[i];\n      const element = document.createElement(\"link\");\n      element.onload = on_load;\n      element.onerror = on_error.bind(null, url);\n      element.rel = \"stylesheet\";\n      element.type = \"text/css\";\n      element.href = url;\n      console.debug(\"Bokeh: injecting link tag for BokehJS stylesheet: \", url);\n      document.body.appendChild(element);\n    }\n\n    for (let i = 0; i < js_urls.length; i++) {\n      const url = js_urls[i];\n      const element = document.createElement('script');\n      element.onload = on_load;\n      element.onerror = on_error.bind(null, url);\n      element.async = false;\n      element.src = url;\n      console.debug(\"Bokeh: injecting script tag for BokehJS library: \", url);\n      document.head.appendChild(element);\n    }\n  };\n\n  function inject_raw_css(css) {\n    const element = document.createElement(\"style\");\n    element.appendChild(document.createTextNode(css));\n    document.body.appendChild(element);\n  }\n\n  const js_urls = [\"https://cdn.bokeh.org/bokeh/release/bokeh-3.7.3.min.js\", \"https://cdn.bokeh.org/bokeh/release/bokeh-gl-3.7.3.min.js\", \"https://cdn.bokeh.org/bokeh/release/bokeh-widgets-3.7.3.min.js\", \"https://cdn.bokeh.org/bokeh/release/bokeh-tables-3.7.3.min.js\", \"https://cdn.bokeh.org/bokeh/release/bokeh-mathjax-3.7.3.min.js\"];\n  const css_urls = [];\n\n  const inline_js = [    function(Bokeh) {\n      Bokeh.set_log_level(\"info\");\n    },\nfunction(Bokeh) {\n    }\n  ];\n\n  function run_inline_js() {\n    if (root.Bokeh !== undefined || force === true) {\n      try {\n            for (let i = 0; i < inline_js.length; i++) {\n      inline_js[i].call(root, root.Bokeh);\n    }\n\n      } catch (error) {display_loaded(error);throw error;\n      }if (force === true) {\n        display_loaded();\n      }} else if (Date.now() < root._bokeh_timeout) {\n      setTimeout(run_inline_js, 100);\n    } else if (!root._bokeh_failed_load) {\n      console.log(\"Bokeh: BokehJS failed to load within specified timeout.\");\n      root._bokeh_failed_load = true;\n    } else if (force !== true) {\n      const cell = $(document.getElementById(\"c6679033-6856-4f91-82a8-623dd461b0e4\")).parents('.cell').data().cell;\n      cell.output_area.append_execute_result(NB_LOAD_WARNING)\n    }\n  }\n\n  if (root._bokeh_is_loading === 0) {\n    console.debug(\"Bokeh: BokehJS loaded, going straight to plotting\");\n    run_inline_js();\n  } else {\n    load_libs(css_urls, js_urls, function() {\n      console.debug(\"Bokeh: BokehJS plotting callback run at\", now());\n      run_inline_js();\n    });\n  }\n}(window));",
      "application/vnd.bokehjs_load.v0+json": ""
     },
     "metadata": {},
     "output_type": "display_data"
    },
    {
     "data": {
      "text/html": [
       "\n",
       "  <div id=\"fb2c3b4f-8110-4afb-9b40-dcdd7307cd67\" data-root-id=\"p1012\" style=\"display: contents;\"></div>\n"
      ]
     },
     "metadata": {},
     "output_type": "display_data"
    },
    {
     "data": {
      "application/javascript": "(function(root) {\n  function embed_document(root) {\n  const docs_json = {\"996fa164-83a3-44bd-ad6d-18d8291e89bf\":{\"version\":\"3.7.3\",\"title\":\"Bokeh Application\",\"roots\":[{\"type\":\"object\",\"name\":\"Figure\",\"id\":\"p1012\",\"attributes\":{\"width\":800,\"x_range\":{\"type\":\"object\",\"name\":\"Range1d\",\"id\":\"p1022\",\"attributes\":{\"start\":0.5,\"end\":11.5}},\"y_range\":{\"type\":\"object\",\"name\":\"Range1d\",\"id\":\"p1023\",\"attributes\":{\"start\":-1.2,\"end\":1.2}},\"x_scale\":{\"type\":\"object\",\"name\":\"LinearScale\",\"id\":\"p1024\"},\"y_scale\":{\"type\":\"object\",\"name\":\"LinearScale\",\"id\":\"p1025\"},\"title\":{\"type\":\"object\",\"name\":\"Title\",\"id\":\"p1015\",\"attributes\":{\"text\":\"Computational Factor Graph\"}},\"renderers\":[{\"type\":\"object\",\"name\":\"GlyphRenderer\",\"id\":\"p1047\",\"attributes\":{\"data_source\":{\"type\":\"object\",\"name\":\"ColumnDataSource\",\"id\":\"p1003\",\"attributes\":{\"selected\":{\"type\":\"object\",\"name\":\"Selection\",\"id\":\"p1004\",\"attributes\":{\"indices\":[],\"line_indices\":[]}},\"selection_policy\":{\"type\":\"object\",\"name\":\"UnionRenderers\",\"id\":\"p1005\"},\"data\":{\"type\":\"map\",\"entries\":[[\"id\",[2583310878848,2583311407504,2583311407648,2583310893264]],[\"label\",[\"Y\",\"Wave\",\"Wave\",\"X\"]],[\"type\",[\"wave\",\"wave\",\"wave\",\"wave\"]],[\"x\",[3.0,6.0,9.0,3.0]],[\"y\",[-0.2,0.0,0.0,0.2]],[\"generation\",[2,4,6,2]]]}}},\"view\":{\"type\":\"object\",\"name\":\"CDSView\",\"id\":\"p1048\",\"attributes\":{\"filter\":{\"type\":\"object\",\"name\":\"AllIndices\",\"id\":\"p1049\"}}},\"glyph\":{\"type\":\"object\",\"name\":\"Scatter\",\"id\":\"p1044\",\"attributes\":{\"x\":{\"type\":\"field\",\"field\":\"x\"},\"y\":{\"type\":\"field\",\"field\":\"y\"},\"size\":{\"type\":\"value\",\"value\":20},\"line_color\":{\"type\":\"value\",\"value\":\"skyblue\"},\"fill_color\":{\"type\":\"value\",\"value\":\"skyblue\"},\"hatch_color\":{\"type\":\"value\",\"value\":\"skyblue\"}}},\"nonselection_glyph\":{\"type\":\"object\",\"name\":\"Scatter\",\"id\":\"p1045\",\"attributes\":{\"x\":{\"type\":\"field\",\"field\":\"x\"},\"y\":{\"type\":\"field\",\"field\":\"y\"},\"size\":{\"type\":\"value\",\"value\":20},\"line_color\":{\"type\":\"value\",\"value\":\"skyblue\"},\"line_alpha\":{\"type\":\"value\",\"value\":0.1},\"fill_color\":{\"type\":\"value\",\"value\":\"skyblue\"},\"fill_alpha\":{\"type\":\"value\",\"value\":0.1},\"hatch_color\":{\"type\":\"value\",\"value\":\"skyblue\"},\"hatch_alpha\":{\"type\":\"value\",\"value\":0.1}}},\"muted_glyph\":{\"type\":\"object\",\"name\":\"Scatter\",\"id\":\"p1046\",\"attributes\":{\"x\":{\"type\":\"field\",\"field\":\"x\"},\"y\":{\"type\":\"field\",\"field\":\"y\"},\"size\":{\"type\":\"value\",\"value\":20},\"line_color\":{\"type\":\"value\",\"value\":\"skyblue\"},\"line_alpha\":{\"type\":\"value\",\"value\":0.2},\"fill_color\":{\"type\":\"value\",\"value\":\"skyblue\"},\"fill_alpha\":{\"type\":\"value\",\"value\":0.2},\"hatch_color\":{\"type\":\"value\",\"value\":\"skyblue\"},\"hatch_alpha\":{\"type\":\"value\",\"value\":0.2}}}}},{\"type\":\"object\",\"name\":\"GlyphRenderer\",\"id\":\"p1058\",\"attributes\":{\"data_source\":{\"type\":\"object\",\"name\":\"ColumnDataSource\",\"id\":\"p1006\",\"attributes\":{\"selected\":{\"type\":\"object\",\"name\":\"Selection\",\"id\":\"p1007\",\"attributes\":{\"indices\":[],\"line_indices\":[]}},\"selection_policy\":{\"type\":\"object\",\"name\":\"UnionRenderers\",\"id\":\"p1008\"},\"data\":{\"type\":\"map\",\"entries\":[[\"id\",[2583310893168,2582534610688,2583311417248,2583310878656,2583311407600]],[\"label\",[\"SupportPrior\",\"ConstWave\",\"AddPropagator\",\"measurement_0\",\"FFT2DPropagator\"]],[\"type\",[\"factor\",\"factor\",\"factor\",\"factor\",\"factor\"]],[\"x\",[1.5,1.5,4.5,10.5,7.5]],[\"y\",[-0.2,0.2,0.0,0.0,0.0]],[\"generation\",[1,1,3,7,5]]]}}},\"view\":{\"type\":\"object\",\"name\":\"CDSView\",\"id\":\"p1059\",\"attributes\":{\"filter\":{\"type\":\"object\",\"name\":\"AllIndices\",\"id\":\"p1060\"}}},\"glyph\":{\"type\":\"object\",\"name\":\"Scatter\",\"id\":\"p1055\",\"attributes\":{\"x\":{\"type\":\"field\",\"field\":\"x\"},\"y\":{\"type\":\"field\",\"field\":\"y\"},\"size\":{\"type\":\"value\",\"value\":20},\"line_color\":{\"type\":\"value\",\"value\":\"lightgreen\"},\"fill_color\":{\"type\":\"value\",\"value\":\"lightgreen\"},\"hatch_color\":{\"type\":\"value\",\"value\":\"lightgreen\"},\"marker\":{\"type\":\"value\",\"value\":\"square\"}}},\"nonselection_glyph\":{\"type\":\"object\",\"name\":\"Scatter\",\"id\":\"p1056\",\"attributes\":{\"x\":{\"type\":\"field\",\"field\":\"x\"},\"y\":{\"type\":\"field\",\"field\":\"y\"},\"size\":{\"type\":\"value\",\"value\":20},\"line_color\":{\"type\":\"value\",\"value\":\"lightgreen\"},\"line_alpha\":{\"type\":\"value\",\"value\":0.1},\"fill_color\":{\"type\":\"value\",\"value\":\"lightgreen\"},\"fill_alpha\":{\"type\":\"value\",\"value\":0.1},\"hatch_color\":{\"type\":\"value\",\"value\":\"lightgreen\"},\"hatch_alpha\":{\"type\":\"value\",\"value\":0.1},\"marker\":{\"type\":\"value\",\"value\":\"square\"}}},\"muted_glyph\":{\"type\":\"object\",\"name\":\"Scatter\",\"id\":\"p1057\",\"attributes\":{\"x\":{\"type\":\"field\",\"field\":\"x\"},\"y\":{\"type\":\"field\",\"field\":\"y\"},\"size\":{\"type\":\"value\",\"value\":20},\"line_color\":{\"type\":\"value\",\"value\":\"lightgreen\"},\"line_alpha\":{\"type\":\"value\",\"value\":0.2},\"fill_color\":{\"type\":\"value\",\"value\":\"lightgreen\"},\"fill_alpha\":{\"type\":\"value\",\"value\":0.2},\"hatch_color\":{\"type\":\"value\",\"value\":\"lightgreen\"},\"hatch_alpha\":{\"type\":\"value\",\"value\":0.2},\"marker\":{\"type\":\"value\",\"value\":\"square\"}}}}}],\"toolbar\":{\"type\":\"object\",\"name\":\"Toolbar\",\"id\":\"p1021\",\"attributes\":{\"tools\":[{\"type\":\"object\",\"name\":\"PanTool\",\"id\":\"p1036\"},{\"type\":\"object\",\"name\":\"ZoomInTool\",\"id\":\"p1037\",\"attributes\":{\"renderers\":\"auto\"}},{\"type\":\"object\",\"name\":\"ZoomOutTool\",\"id\":\"p1038\",\"attributes\":{\"renderers\":\"auto\"}},{\"type\":\"object\",\"name\":\"ResetTool\",\"id\":\"p1039\"},{\"type\":\"object\",\"name\":\"SaveTool\",\"id\":\"p1040\"}]}},\"left\":[{\"type\":\"object\",\"name\":\"LinearAxis\",\"id\":\"p1031\",\"attributes\":{\"visible\":false,\"ticker\":{\"type\":\"object\",\"name\":\"BasicTicker\",\"id\":\"p1032\",\"attributes\":{\"mantissas\":[1,2,5]}},\"formatter\":{\"type\":\"object\",\"name\":\"BasicTickFormatter\",\"id\":\"p1033\"},\"major_label_policy\":{\"type\":\"object\",\"name\":\"AllLabels\",\"id\":\"p1034\"}}}],\"below\":[{\"type\":\"object\",\"name\":\"LinearAxis\",\"id\":\"p1026\",\"attributes\":{\"visible\":false,\"ticker\":{\"type\":\"object\",\"name\":\"BasicTicker\",\"id\":\"p1027\",\"attributes\":{\"mantissas\":[1,2,5]}},\"formatter\":{\"type\":\"object\",\"name\":\"BasicTickFormatter\",\"id\":\"p1028\"},\"major_label_policy\":{\"type\":\"object\",\"name\":\"AllLabels\",\"id\":\"p1029\"}}}],\"center\":[{\"type\":\"object\",\"name\":\"Grid\",\"id\":\"p1030\",\"attributes\":{\"visible\":false,\"axis\":{\"id\":\"p1026\"}}},{\"type\":\"object\",\"name\":\"Grid\",\"id\":\"p1035\",\"attributes\":{\"visible\":false,\"dimension\":1,\"axis\":{\"id\":\"p1031\"}}},{\"type\":\"object\",\"name\":\"Legend\",\"id\":\"p1050\",\"attributes\":{\"items\":[{\"type\":\"object\",\"name\":\"LegendItem\",\"id\":\"p1051\",\"attributes\":{\"label\":{\"type\":\"value\",\"value\":\"Wave\"},\"renderers\":[{\"id\":\"p1047\"}]}},{\"type\":\"object\",\"name\":\"LegendItem\",\"id\":\"p1061\",\"attributes\":{\"label\":{\"type\":\"value\",\"value\":\"Factor\"},\"renderers\":[{\"id\":\"p1058\"}]}}]}},{\"type\":\"object\",\"name\":\"LabelSet\",\"id\":\"p1062\",\"attributes\":{\"source\":{\"type\":\"object\",\"name\":\"ColumnDataSource\",\"id\":\"p1009\",\"attributes\":{\"selected\":{\"type\":\"object\",\"name\":\"Selection\",\"id\":\"p1010\",\"attributes\":{\"indices\":[],\"line_indices\":[]}},\"selection_policy\":{\"type\":\"object\",\"name\":\"UnionRenderers\",\"id\":\"p1011\"},\"data\":{\"type\":\"map\",\"entries\":[[\"id\",[2583310878848,2583311407504,2583311407648,2583310893264,2583310893168,2582534610688,2583311417248,2583310878656,2583311407600]],[\"label\",[\"Y\",\"Wave\",\"Wave\",\"X\",\"SupportPrior\",\"ConstWave\",\"AddPropagator\",\"measurement_0\",\"FFT2DPropagator\"]],[\"type\",[\"wave\",\"wave\",\"wave\",\"wave\",\"factor\",\"factor\",\"factor\",\"factor\",\"factor\"]],[\"x\",[3.0,6.0,9.0,3.0,1.5,1.5,4.5,10.5,7.5]],[\"y\",[-0.2,0.0,0.0,0.2,-0.2,0.2,0.0,0.0,0.0]],[\"generation\",[2,4,6,2,1,1,3,7,5]]]}}},\"x\":{\"type\":\"field\",\"field\":\"x\"},\"y\":{\"type\":\"field\",\"field\":\"y\"},\"text\":{\"type\":\"field\",\"field\":\"label\"},\"y_offset\":{\"type\":\"value\",\"value\":10},\"text_font_size\":{\"type\":\"value\",\"value\":\"9pt\"},\"text_align\":{\"type\":\"value\",\"value\":\"center\"}}},{\"type\":\"object\",\"name\":\"Arrow\",\"id\":\"p1067\",\"attributes\":{\"source\":{\"type\":\"object\",\"name\":\"ColumnDataSource\",\"id\":\"p1069\",\"attributes\":{\"selected\":{\"type\":\"object\",\"name\":\"Selection\",\"id\":\"p1070\",\"attributes\":{\"indices\":[],\"line_indices\":[]}},\"selection_policy\":{\"type\":\"object\",\"name\":\"UnionRenderers\",\"id\":\"p1071\"},\"data\":{\"type\":\"map\"}}},\"x_start\":{\"type\":\"value\",\"value\":1.5},\"y_start\":{\"type\":\"value\",\"value\":-0.2},\"x_end\":{\"type\":\"value\",\"value\":3.0},\"y_end\":{\"type\":\"value\",\"value\":-0.2},\"end\":{\"type\":\"object\",\"name\":\"NormalHead\",\"id\":\"p1066\",\"attributes\":{\"size\":{\"type\":\"value\",\"value\":8}}},\"line_color\":{\"type\":\"value\",\"value\":\"gray\"},\"line_width\":{\"type\":\"value\",\"value\":1.5}}},{\"type\":\"object\",\"name\":\"Arrow\",\"id\":\"p1073\",\"attributes\":{\"source\":{\"type\":\"object\",\"name\":\"ColumnDataSource\",\"id\":\"p1075\",\"attributes\":{\"selected\":{\"type\":\"object\",\"name\":\"Selection\",\"id\":\"p1076\",\"attributes\":{\"indices\":[],\"line_indices\":[]}},\"selection_policy\":{\"type\":\"object\",\"name\":\"UnionRenderers\",\"id\":\"p1077\"},\"data\":{\"type\":\"map\"}}},\"x_start\":{\"type\":\"value\",\"value\":1.5},\"y_start\":{\"type\":\"value\",\"value\":0.2},\"x_end\":{\"type\":\"value\",\"value\":3.0},\"y_end\":{\"type\":\"value\",\"value\":0.2},\"end\":{\"type\":\"object\",\"name\":\"NormalHead\",\"id\":\"p1072\",\"attributes\":{\"size\":{\"type\":\"value\",\"value\":8}}},\"line_color\":{\"type\":\"value\",\"value\":\"gray\"},\"line_width\":{\"type\":\"value\",\"value\":1.5}}},{\"type\":\"object\",\"name\":\"Arrow\",\"id\":\"p1079\",\"attributes\":{\"source\":{\"type\":\"object\",\"name\":\"ColumnDataSource\",\"id\":\"p1081\",\"attributes\":{\"selected\":{\"type\":\"object\",\"name\":\"Selection\",\"id\":\"p1082\",\"attributes\":{\"indices\":[],\"line_indices\":[]}},\"selection_policy\":{\"type\":\"object\",\"name\":\"UnionRenderers\",\"id\":\"p1083\"},\"data\":{\"type\":\"map\"}}},\"x_start\":{\"type\":\"value\",\"value\":3.0},\"y_start\":{\"type\":\"value\",\"value\":0.2},\"x_end\":{\"type\":\"value\",\"value\":4.5},\"y_end\":{\"type\":\"value\",\"value\":0.0},\"end\":{\"type\":\"object\",\"name\":\"NormalHead\",\"id\":\"p1078\",\"attributes\":{\"size\":{\"type\":\"value\",\"value\":8}}},\"line_color\":{\"type\":\"value\",\"value\":\"gray\"},\"line_width\":{\"type\":\"value\",\"value\":1.5}}},{\"type\":\"object\",\"name\":\"Arrow\",\"id\":\"p1085\",\"attributes\":{\"source\":{\"type\":\"object\",\"name\":\"ColumnDataSource\",\"id\":\"p1087\",\"attributes\":{\"selected\":{\"type\":\"object\",\"name\":\"Selection\",\"id\":\"p1088\",\"attributes\":{\"indices\":[],\"line_indices\":[]}},\"selection_policy\":{\"type\":\"object\",\"name\":\"UnionRenderers\",\"id\":\"p1089\"},\"data\":{\"type\":\"map\"}}},\"x_start\":{\"type\":\"value\",\"value\":3.0},\"y_start\":{\"type\":\"value\",\"value\":-0.2},\"x_end\":{\"type\":\"value\",\"value\":4.5},\"y_end\":{\"type\":\"value\",\"value\":0.0},\"end\":{\"type\":\"object\",\"name\":\"NormalHead\",\"id\":\"p1084\",\"attributes\":{\"size\":{\"type\":\"value\",\"value\":8}}},\"line_color\":{\"type\":\"value\",\"value\":\"gray\"},\"line_width\":{\"type\":\"value\",\"value\":1.5}}},{\"type\":\"object\",\"name\":\"Arrow\",\"id\":\"p1091\",\"attributes\":{\"source\":{\"type\":\"object\",\"name\":\"ColumnDataSource\",\"id\":\"p1093\",\"attributes\":{\"selected\":{\"type\":\"object\",\"name\":\"Selection\",\"id\":\"p1094\",\"attributes\":{\"indices\":[],\"line_indices\":[]}},\"selection_policy\":{\"type\":\"object\",\"name\":\"UnionRenderers\",\"id\":\"p1095\"},\"data\":{\"type\":\"map\"}}},\"x_start\":{\"type\":\"value\",\"value\":4.5},\"y_start\":{\"type\":\"value\",\"value\":0.0},\"x_end\":{\"type\":\"value\",\"value\":6.0},\"y_end\":{\"type\":\"value\",\"value\":0.0},\"end\":{\"type\":\"object\",\"name\":\"NormalHead\",\"id\":\"p1090\",\"attributes\":{\"size\":{\"type\":\"value\",\"value\":8}}},\"line_color\":{\"type\":\"value\",\"value\":\"gray\"},\"line_width\":{\"type\":\"value\",\"value\":1.5}}},{\"type\":\"object\",\"name\":\"Arrow\",\"id\":\"p1097\",\"attributes\":{\"source\":{\"type\":\"object\",\"name\":\"ColumnDataSource\",\"id\":\"p1099\",\"attributes\":{\"selected\":{\"type\":\"object\",\"name\":\"Selection\",\"id\":\"p1100\",\"attributes\":{\"indices\":[],\"line_indices\":[]}},\"selection_policy\":{\"type\":\"object\",\"name\":\"UnionRenderers\",\"id\":\"p1101\"},\"data\":{\"type\":\"map\"}}},\"x_start\":{\"type\":\"value\",\"value\":9.0},\"y_start\":{\"type\":\"value\",\"value\":0.0},\"x_end\":{\"type\":\"value\",\"value\":10.5},\"y_end\":{\"type\":\"value\",\"value\":0.0},\"end\":{\"type\":\"object\",\"name\":\"NormalHead\",\"id\":\"p1096\",\"attributes\":{\"size\":{\"type\":\"value\",\"value\":8}}},\"line_color\":{\"type\":\"value\",\"value\":\"gray\"},\"line_width\":{\"type\":\"value\",\"value\":1.5}}},{\"type\":\"object\",\"name\":\"Arrow\",\"id\":\"p1103\",\"attributes\":{\"source\":{\"type\":\"object\",\"name\":\"ColumnDataSource\",\"id\":\"p1105\",\"attributes\":{\"selected\":{\"type\":\"object\",\"name\":\"Selection\",\"id\":\"p1106\",\"attributes\":{\"indices\":[],\"line_indices\":[]}},\"selection_policy\":{\"type\":\"object\",\"name\":\"UnionRenderers\",\"id\":\"p1107\"},\"data\":{\"type\":\"map\"}}},\"x_start\":{\"type\":\"value\",\"value\":6.0},\"y_start\":{\"type\":\"value\",\"value\":0.0},\"x_end\":{\"type\":\"value\",\"value\":7.5},\"y_end\":{\"type\":\"value\",\"value\":0.0},\"end\":{\"type\":\"object\",\"name\":\"NormalHead\",\"id\":\"p1102\",\"attributes\":{\"size\":{\"type\":\"value\",\"value\":8}}},\"line_color\":{\"type\":\"value\",\"value\":\"gray\"},\"line_width\":{\"type\":\"value\",\"value\":1.5}}},{\"type\":\"object\",\"name\":\"Arrow\",\"id\":\"p1109\",\"attributes\":{\"source\":{\"type\":\"object\",\"name\":\"ColumnDataSource\",\"id\":\"p1111\",\"attributes\":{\"selected\":{\"type\":\"object\",\"name\":\"Selection\",\"id\":\"p1112\",\"attributes\":{\"indices\":[],\"line_indices\":[]}},\"selection_policy\":{\"type\":\"object\",\"name\":\"UnionRenderers\",\"id\":\"p1113\"},\"data\":{\"type\":\"map\"}}},\"x_start\":{\"type\":\"value\",\"value\":7.5},\"y_start\":{\"type\":\"value\",\"value\":0.0},\"x_end\":{\"type\":\"value\",\"value\":9.0},\"y_end\":{\"type\":\"value\",\"value\":0.0},\"end\":{\"type\":\"object\",\"name\":\"NormalHead\",\"id\":\"p1108\",\"attributes\":{\"size\":{\"type\":\"value\",\"value\":8}}},\"line_color\":{\"type\":\"value\",\"value\":\"gray\"},\"line_width\":{\"type\":\"value\",\"value\":1.5}}}]}}]}};\n  const render_items = [{\"docid\":\"996fa164-83a3-44bd-ad6d-18d8291e89bf\",\"roots\":{\"p1012\":\"fb2c3b4f-8110-4afb-9b40-dcdd7307cd67\"},\"root_ids\":[\"p1012\"]}];\n  void root.Bokeh.embed.embed_items_notebook(docs_json, render_items);\n  }\n  if (root.Bokeh !== undefined) {\n    embed_document(root);\n  } else {\n    let attempts = 0;\n    const timer = setInterval(function(root) {\n      if (root.Bokeh !== undefined) {\n        clearInterval(timer);\n        embed_document(root);\n      } else {\n        attempts++;\n        if (attempts > 100) {\n          clearInterval(timer);\n          console.log(\"Bokeh: ERROR: Unable to run BokehJS code because BokehJS library is missing\");\n        }\n      }\n    }, 10, root)\n  }\n})(window);",
      "application/vnd.bokehjs_exec.v0+json": ""
     },
     "metadata": {
      "application/vnd.bokehjs_exec.v0+json": {
       "id": "p1012"
      }
     },
     "output_type": "display_data"
    }
   ],
   "source": [
    "g.visualize()"
   ]
  },
  {
   "cell_type": "code",
   "execution_count": 6,
   "id": "5a4a54da",
   "metadata": {},
   "outputs": [
    {
     "name": "stdout",
     "output_type": "stream",
     "text": [
      "[t=0] PMSE (sum) = 4.21300e-01\n",
      "[t=100] PMSE (sum) = 2.78487e-04\n",
      "[t=200] PMSE (sum) = 2.78494e-04\n",
      "[t=300] PMSE (sum) = 2.78494e-04\n",
      "[t=400] PMSE (sum) = 2.78494e-04\n"
     ]
    }
   ],
   "source": [
    "import numpy as np\n",
    "from gpie import Graph, SupportPrior, fft2, AmplitudeMeasurement, pmse\n",
    "from gpie.core.linalg_utils import circular_aperture, masked_random_array\n",
    "\n",
    "# ==== Setting Parameters ====\n",
    "H, W = 256, 256\n",
    "shape = (H, W)\n",
    "var = 1e-4\n",
    "rng = np.random.default_rng(seed=42)\n",
    "\n",
    "# known & unknown wave generation\n",
    "support_x = circular_aperture(shape=shape, radius=0.2, center=(-0.2, -0.2))\n",
    "data_x = masked_random_array(support_x, dtype=np.complex128, rng=rng)\n",
    "\n",
    "support_y = circular_aperture(shape=shape, radius=0.2, center=(0.2, 0.2))\n",
    "\n",
    "\n",
    "# ==== Graph ====\n",
    "class HolographicCDI(Graph):\n",
    "    def __init__(self):\n",
    "        super().__init__()\n",
    "\n",
    "        # Y is unknown; X is added as a constant array\n",
    "        Y = ~SupportPrior(support=support_y, label=\"Y\")\n",
    "        with self.observe():\n",
    "            meas = AmplitudeMeasurement(var=var, damping=0.1) @ (fft2(data_x + Y))  # ← ndarray + Wave triggers AddConstPropagator\n",
    "\n",
    "        self.compile()\n",
    "\n",
    "\n",
    "# ==== Run Inference ====\n",
    "g = HolographicCDI()\n",
    "g.set_init_rng(np.random.default_rng(seed=12))\n",
    "g.generate_sample(rng=np.random.default_rng(seed=99), update_observed=True)\n",
    "\n",
    "true_y = g.get_wave(\"Y\").get_sample()\n",
    "\n",
    "\n",
    "def monitor(graph, t):\n",
    "    y = graph.get_wave(\"Y\").compute_belief().data\n",
    "    err = pmse(y, true_y)\n",
    "    if t % 100 == 0:\n",
    "        print(f\"[t={t}] PMSE (sum) = {err:.5e}\")\n",
    "\n",
    "\n",
    "g.run(n_iter=500, callback=monitor, verbose=False)\n"
   ]
  },
  {
   "cell_type": "code",
   "execution_count": 7,
   "id": "bbb043fa",
   "metadata": {},
   "outputs": [
    {
     "name": "stdout",
     "output_type": "stream",
     "text": [
      "[t=0] PMSE (sum) = 2.78494e-04\n",
      "[t=100] PMSE (sum) = 2.78494e-04\n",
      "[t=200] PMSE (sum) = 2.78494e-04\n",
      "[t=300] PMSE (sum) = 2.78494e-04\n",
      "[t=400] PMSE (sum) = 2.78494e-04\n",
      " "
     ]
    },
    {
     "name": "stdout",
     "output_type": "stream",
     "text": [
      "         261660 function calls in 7.202 seconds\n",
      "\n",
      "   Ordered by: internal time\n",
      "\n",
      "   ncalls  tottime  percall  cumtime  percall filename:lineno(function)\n",
      "     1500    1.535    0.001    1.552    0.001 uncertain_array.py:333(__truediv__)\n",
      "     2000    1.158    0.001    1.159    0.001 _pocketfft.py:51(_raw_fft)\n",
      "      500    0.575    0.001    0.582    0.001 metrics.py:40(phase_align)\n",
      "      500    0.529    0.001    0.535    0.001 uncertain_array.py:309(__mul__)\n",
      "      500    0.501    0.001    0.551    0.001 amplitude_measurement.py:111(approximate_posterior)\n",
      "     2000    0.481    0.000    0.488    0.000 numeric.py:1185(roll)\n",
      "      500    0.476    0.001    2.334    0.005 fft_2d_propagator.py:112(compute_belief)\n",
      "      500    0.339    0.001    0.342    0.001 uncertain_array.py:366(damp_with)\n",
      "      500    0.269    0.001    0.423    0.001 uncertain_array_tensor.py:197(combine)\n",
      "      500    0.188    0.000    0.212    0.000 metrics.py:3(mse)\n",
      "     3500    0.179    0.000    0.179    0.000 {method 'reduce' of 'numpy.ufunc' objects}\n",
      "     1500    0.135    0.000    0.142    0.000 uncertain_array_tensor.py:124(__setitem__)\n",
      "      500    0.124    0.000    0.129    0.000 add_const_propagator.py:75(_compute_forward)\n",
      "      500    0.116    0.000    0.119    0.000 add_const_propagator.py:92(_compute_backward)\n",
      "     3000    0.060    0.000    0.061    0.000 factor.py:175(receive_message)\n",
      "     1000    0.054    0.000    0.097    0.000 linalg_utils.py:4(reduce_precision_to_scalar)\n",
      "      500    0.053    0.000    1.419    0.003 amplitude_measurement.py:149(_compute_message)\n",
      "      500    0.050    0.000    1.008    0.002 wave.py:217(compute_belief)\n",
      "     1000    0.038    0.000    1.222    0.001 _pocketfft.py:735(_raw_fftnd)\n",
      "      500    0.035    0.000    0.916    0.002 linalg_utils.py:247(ifft2_centered)\n",
      "      500    0.033    0.000    0.876    0.002 linalg_utils.py:241(fft2_centered)\n",
      "      500    0.020    0.000    2.994    0.006 fft_2d_propagator.py:168(backward)\n",
      "      500    0.020    0.000    4.679    0.009 graph.py:173(backward)\n",
      "      500    0.018    0.000    1.824    0.004 1335870531.py:39(monitor)\n",
      "      500    0.017    0.000    1.475    0.003 base.py:160(backward)\n",
      "     7500    0.013    0.000    0.049    0.000 uncertain_array.py:59(__init__)\n",
      "    15000    0.010    0.000    0.022    0.000 numeric.py:1927(isscalar)\n",
      "     7500    0.010    0.000    0.016    0.000 uncertain_array.py:145(_set_precision_internal)\n",
      "     1500    0.010    0.000    0.048    0.000 _methods.py:118(_mean)\n",
      "     1500    0.008    0.000    0.009    0.000 _methods.py:76(_count_reduce_items)\n",
      "     1000    0.008    0.000    0.021    0.000 _pocketfft.py:698(_cook_nd_args)\n",
      "    31010    0.007    0.000    0.013    0.000 {built-in method builtins.isinstance}\n",
      "     3000    0.005    0.000    0.148    0.000 wave.py:182(receive_message)\n",
      "     1000    0.005    0.000    0.246    0.000 _helper.py:19(fftshift)\n",
      "     1000    0.005    0.000    0.254    0.000 _helper.py:77(ifftshift)\n",
      "     1500    0.005    0.000    0.007    0.000 uncertain_array_tensor.py:89(assert_compatible)\n",
      "     1500    0.004    0.000    0.053    0.000 fromnumeric.py:3735(mean)\n",
      "    13500    0.004    0.000    0.004    0.000 {built-in method numpy.asarray}\n",
      "      500    0.004    0.000    0.006    0.000 _function_base_impl.py:1649(angle)\n",
      "     2500    0.004    0.000    0.008    0.000 uncertain_array.py:285(assert_compatible)\n",
      "     9000    0.004    0.000    0.004    0.000 {built-in method _abc._abc_instancecheck}\n",
      "     1500    0.003    0.000    0.018    0.000 wave.py:257(backward)\n",
      "     6500    0.003    0.000    0.003    0.000 uncertain_array.py:183(precision_mode)\n",
      "     1000    0.003    0.000    0.012    0.000 fromnumeric.py:89(_wrapreduction_any_all)\n",
      "      500    0.003    0.000    0.698    0.001 graph.py:168(forward)\n",
      "     1000    0.003    0.000    0.007    0.000 fromnumeric.py:41(_wrapit)\n",
      "      500    0.003    0.000    0.134    0.000 base.py:107(forward)\n",
      "     2000    0.003    0.000    0.005    0.000 numeric.py:1386(normalize_axis_tuple)\n",
      "     1500    0.003    0.000    0.011    0.000 uncertain_array_tensor.py:224(__getitem__)\n",
      "     1000    0.003    0.000    0.148    0.000 fromnumeric.py:69(_wrapreduction)\n",
      "     1000    0.002    0.000    0.002    0.000 {method 'take' of 'numpy.ndarray' objects}\n",
      "     1000    0.002    0.000    0.010    0.000 fromnumeric.py:51(_wrapfunc)\n",
      "     1500    0.002    0.000    0.060    0.000 wave.py:240(forward)\n",
      "     1000    0.002    0.000    0.150    0.000 fromnumeric.py:2338(sum)\n",
      "     9000    0.002    0.000    0.006    0.000 abc.py:117(__instancecheck__)\n",
      "      500    0.002    0.000    0.172    0.000 base.py:123(backward)\n",
      "     1000    0.002    0.000    0.014    0.000 fromnumeric.py:2477(any)\n",
      "     9000    0.002    0.000    0.002    0.000 {built-in method numpy.lib.array_utils.normalize_axis_index}\n",
      "     4000    0.002    0.000    0.002    0.000 {built-in method numpy.asanyarray}\n",
      "     6500    0.002    0.000    0.002    0.000 uncertain_array.py:195(shape)\n",
      "        1    0.002    0.002    7.202    7.202 graph.py:178(run)\n",
      "     9000    0.002    0.000    0.002    0.000 uncertain_array.py:164(precision)\n",
      "      500    0.002    0.000    0.498    0.001 fft_2d_propagator.py:156(forward)\n",
      "     5000    0.001    0.000    0.001    0.000 {built-in method builtins.issubclass}\n",
      "      500    0.001    0.000    0.002    0.000 support_prior.py:65(_compute_message)\n",
      "     1000    0.001    0.000    0.592    0.001 _pocketfft.py:213(ifft)\n",
      "     1000    0.001    0.000    0.011    0.000 fromnumeric.py:109(take)\n",
      "      500    0.001    0.000    0.002    0.000 graph.py:147(get_wave)\n",
      "     2000    0.001    0.000    0.002    0.000 numeric.py:1435(<listcomp>)\n",
      "      500    0.001    0.000    0.003    0.000 numerictypes.py:471(issubdtype)\n",
      "     1000    0.001    0.000    0.001    0.000 _helper.py:116(<listcomp>)\n",
      "        5    0.001    0.000    0.001    0.000 socket.py:623(send)\n",
      "     1000    0.001    0.000    0.002    0.000 numerictypes.py:289(issubclass_)\n",
      "     1000    0.001    0.000    0.570    0.001 _pocketfft.py:113(fft)\n",
      "     1500    0.001    0.000    0.001    0.000 {built-in method builtins.hasattr}\n",
      "     3500    0.001    0.000    0.001    0.000 {built-in method builtins.getattr}\n",
      "     2000    0.001    0.000    0.001    0.000 numeric.py:1271(<dictcomp>)\n",
      "      500    0.001    0.000    0.003    0.000 base.py:89(forward)\n",
      "      500    0.001    0.000    0.794    0.002 metrics.py:50(pmse)\n",
      "     1000    0.001    0.000    0.046    0.000 uncertain_array.py:400(as_scalar_precision)\n",
      "     6510    0.001    0.000    0.001    0.000 {built-in method builtins.len}\n",
      "      500    0.001    0.000    0.624    0.001 _pocketfft.py:1138(ifft2)\n",
      "     1000    0.001    0.000    0.001    0.000 {built-in method builtins.max}\n",
      "     1000    0.001    0.000    0.001    0.000 fromnumeric.py:91(<dictcomp>)\n",
      "     3500    0.001    0.000    0.001    0.000 {method 'values' of 'dict' objects}\n",
      "      500    0.001    0.000    0.599    0.001 _pocketfft.py:1013(fft2)\n",
      "     1000    0.001    0.000    0.001    0.000 _pocketfft.py:731(<listcomp>)\n",
      "      500    0.001    0.000    0.001    0.000 graph.py:160(<listcomp>)\n",
      "     4510    0.001    0.000    0.001    0.000 {method 'items' of 'dict' objects}\n",
      "     1000    0.001    0.000    0.001    0.000 fromnumeric.py:70(<dictcomp>)\n",
      "     4500    0.001    0.000    0.001    0.000 multiarray.py:690(result_type)\n",
      "     1000    0.001    0.000    0.001    0.000 {method 'as_arrays' of 'numpy._core._multiarray_umath._array_converter' objects}\n",
      "     4000    0.001    0.000    0.001    0.000 multiarray.py:107(empty_like)\n",
      "      500    0.001    0.000    0.001    0.000 {built-in method builtins.all}\n",
      "     2000    0.001    0.000    0.001    0.000 _helper.py:15(_fftshift_dispatcher)\n",
      "     1000    0.001    0.000    0.001    0.000 base.py:109(<genexpr>)\n",
      "     1500    0.001    0.000    0.001    0.000 {method 'index' of 'list' objects}\n",
      "     1000    0.001    0.000    0.001    0.000 _helper.py:68(<listcomp>)\n",
      "     1000    0.000    0.000    0.000    0.000 _pocketfft.py:101(_swap_direction)\n",
      "     1000    0.000    0.000    0.000    0.000 {method 'wrap' of 'numpy._core._multiarray_umath._array_converter' objects}\n",
      "     1500    0.000    0.000    0.000    0.000 uncertain_array_tensor.py:76(precision_mode)\n",
      "     2000    0.000    0.000    0.000    0.000 numeric.py:1181(_roll_dispatcher)\n",
      "     1500    0.000    0.000    0.000    0.000 fromnumeric.py:3730(_mean_dispatcher)\n",
      "      500    0.000    0.000    0.000    0.000 _function_base_impl.py:1645(_angle_dispatcher)\n",
      "      500    0.000    0.000    0.000    0.000 base.py:112(<dictcomp>)\n",
      "     2000    0.000    0.000    0.000    0.000 _pocketfft.py:109(_fft_dispatcher)\n",
      "     1000    0.000    0.000    0.000    0.000 fromnumeric.py:2333(_sum_dispatcher)\n",
      "     1000    0.000    0.000    0.000    0.000 fromnumeric.py:2472(_any_dispatcher)\n",
      "     1000    0.000    0.000    0.000    0.000 base.py:140(precision_mode_enum)\n",
      "      500    0.000    0.000    0.000    0.000 {built-in method builtins.any}\n",
      "     1000    0.000    0.000    0.000    0.000 {method 'get' of 'dict' objects}\n",
      "     1000    0.000    0.000    0.000    0.000 _pocketfft.py:745(_fftn_dispatcher)\n",
      "     1000    0.000    0.000    0.000    0.000 {method 'reverse' of 'list' objects}\n",
      "     1000    0.000    0.000    0.000    0.000 base.py:176(_check_observed)\n",
      "     1000    0.000    0.000    0.000    0.000 fromnumeric.py:105(_take_dispatcher)\n",
      "     1000    0.000    0.000    0.000    0.000 base.py:117(<genexpr>)\n",
      "      500    0.000    0.000    0.000    0.000 wave.py:95(precision_mode_enum)\n",
      "      500    0.000    0.000    0.000    0.000 multiarray.py:856(vdot)\n",
      "      500    0.000    0.000    0.000    0.000 base.py:157(forward)\n",
      "       10    0.000    0.000    0.001    0.000 iostream.py:655(write)\n",
      "      500    0.000    0.000    0.000    0.000 base.py:116(backward)\n",
      "        1    0.000    0.000    7.202    7.202 {built-in method builtins.exec}\n",
      "        5    0.000    0.000    0.001    0.000 iostream.py:259(schedule)\n",
      "        5    0.000    0.000    0.001    0.000 {built-in method builtins.print}\n",
      "       10    0.000    0.000    0.000    0.000 iostream.py:550(_is_master_process)\n",
      "       10    0.000    0.000    0.001    0.000 iostream.py:577(_schedule_flush)\n",
      "       10    0.000    0.000    0.000    0.000 iostream.py:505(parent_header)\n",
      "        5    0.000    0.000    0.000    0.000 threading.py:1169(is_alive)\n",
      "        5    0.000    0.000    0.000    0.000 iostream.py:138(_event_pipe)\n",
      "        5    0.000    0.000    0.000    0.000 threading.py:1102(_wait_for_tstate_lock)\n",
      "       10    0.000    0.000    0.000    0.000 {built-in method nt.getpid}\n",
      "       10    0.000    0.000    0.000    0.000 {method 'write' of '_io.StringIO' objects}\n",
      "        5    0.000    0.000    0.000    0.000 {method 'acquire' of '_thread.lock' objects}\n",
      "       10    0.000    0.000    0.000    0.000 {method '__exit__' of '_thread.RLock' objects}\n",
      "        1    0.000    0.000    7.202    7.202 <string>:1(<module>)\n",
      "       10    0.000    0.000    0.000    0.000 {method 'get' of '_contextvars.ContextVar' objects}\n",
      "        5    0.000    0.000    0.000    0.000 threading.py:553(is_set)\n",
      "        5    0.000    0.000    0.000    0.000 {method 'append' of 'collections.deque' objects}\n",
      "        1    0.000    0.000    0.000    0.000 tz.py:74(utcoffset)\n",
      "        1    0.000    0.000    0.000    0.000 {method 'disable' of '_lsprof.Profiler' objects}"
     ]
    }
   ],
   "source": [
    "%prun g.run(n_iter=500, callback=monitor, verbose=False)"
   ]
  },
  {
   "cell_type": "code",
   "execution_count": null,
   "id": "43d16c5f",
   "metadata": {},
   "outputs": [],
   "source": []
  }
 ],
 "metadata": {
  "kernelspec": {
   "display_name": "cupy-env",
   "language": "python",
   "name": "python3"
  },
  "language_info": {
   "codemirror_mode": {
    "name": "ipython",
    "version": 3
   },
   "file_extension": ".py",
   "mimetype": "text/x-python",
   "name": "python",
   "nbconvert_exporter": "python",
   "pygments_lexer": "ipython3",
   "version": "3.10.5"
  }
 },
 "nbformat": 4,
 "nbformat_minor": 5
}
