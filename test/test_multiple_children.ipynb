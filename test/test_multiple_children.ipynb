{
 "cells": [
  {
   "cell_type": "code",
   "execution_count": 6,
   "id": "18bfccd0",
   "metadata": {},
   "outputs": [
    {
     "name": "stdout",
     "output_type": "stream",
     "text": [
      "PYTHONPATH manually set to: c:\\Users\\ndhaj\\Desktop\n"
     ]
    }
   ],
   "source": [
    "import os, sys\n",
    "\n",
    "project_root = os.path.abspath(os.path.join(os.getcwd(), '..', '..'))\n",
    "os.environ['PYTHONPATH'] = project_root\n",
    "if project_root not in sys.path:\n",
    "    sys.path.insert(0, project_root)\n",
    "\n",
    "print(\"PYTHONPATH manually set to:\", os.environ['PYTHONPATH'])"
   ]
  },
  {
   "cell_type": "markdown",
   "id": "ce05f0f0",
   "metadata": {},
   "source": [
    "## Coded Diffraction Pattern"
   ]
  },
  {
   "cell_type": "code",
   "execution_count": 7,
   "id": "c0cab9dd",
   "metadata": {},
   "outputs": [
    {
     "name": "stdout",
     "output_type": "stream",
     "text": [
      "[t=0] PMSE = 1.21984e+00\n",
      "[t=20] PMSE = 1.00270e+00\n",
      "[t=40] PMSE = 9.75387e-01\n",
      "[t=60] PMSE = 6.39233e-01\n",
      "[t=80] PMSE = 1.82723e-03\n",
      "[t=100] PMSE = 4.08121e-04\n",
      "[t=120] PMSE = 4.05713e-04\n",
      "[t=140] PMSE = 4.05709e-04\n",
      "[t=160] PMSE = 4.05710e-04\n",
      "[t=180] PMSE = 4.05710e-04\n"
     ]
    }
   ],
   "source": [
    "import numpy as np\n",
    "from gpie import Graph, GaussianPrior, fft2, AmplitudeMeasurement, pmse\n",
    "from gpie.core.linalg_utils import random_phase_mask, random_normal_array\n",
    "\n",
    "H, W = 256, 256\n",
    "shape = (H, W)\n",
    "var = 1e-4\n",
    "rng = np.random.default_rng(seed=123)\n",
    "\n",
    "class CDPGraph(Graph):\n",
    "    def __init__(self, num_masks):\n",
    "        super().__init__()\n",
    "        x = ~GaussianPrior(var=1.0, shape=shape, label = \"object\")\n",
    "        for _ in range(num_masks):\n",
    "            mask = random_normal_array(shape = shape, rng = rng)\n",
    "            with self.observe():\n",
    "                meas = AmplitudeMeasurement(var = var, damping = 0.3) @ (fft2(mask * x))\n",
    "        self.compile()\n",
    "\n",
    "g = CDPGraph(num_masks = 3)\n",
    "g.set_init_rng(np.random.default_rng(seed=999))\n",
    "g.generate_sample(rng=np.random.default_rng(seed=100), update_observed=True)\n",
    "true_x = g.get_wave(\"object\").get_sample()\n",
    "\n",
    "def monitor(graph, t):\n",
    "    est = graph.get_wave(\"object\").compute_belief().data\n",
    "    err = pmse(est, true_x)\n",
    "    if t % 20 == 0:\n",
    "        print(f\"[t={t}] PMSE = {err:.5e}\")\n",
    "\n",
    "g.run(n_iter=200, callback=monitor,verbose = False)"
   ]
  }
 ],
 "metadata": {
  "kernelspec": {
   "display_name": "cupy-env",
   "language": "python",
   "name": "python3"
  },
  "language_info": {
   "codemirror_mode": {
    "name": "ipython",
    "version": 3
   },
   "file_extension": ".py",
   "mimetype": "text/x-python",
   "name": "python",
   "nbconvert_exporter": "python",
   "pygments_lexer": "ipython3",
   "version": "3.10.5"
  }
 },
 "nbformat": 4,
 "nbformat_minor": 5
}
