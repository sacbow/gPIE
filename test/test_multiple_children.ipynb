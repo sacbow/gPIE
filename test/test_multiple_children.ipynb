{
 "cells": [
  {
   "cell_type": "code",
   "execution_count": 1,
   "id": "18bfccd0",
   "metadata": {},
   "outputs": [
    {
     "name": "stdout",
     "output_type": "stream",
     "text": [
      "PYTHONPATH manually set to: c:\\Users\\ndhaj\\Desktop\\GraphicalPR\n"
     ]
    }
   ],
   "source": [
    "import os, sys\n",
    "\n",
    "project_root = os.path.abspath(os.path.join(os.getcwd(), '..'))\n",
    "os.environ['PYTHONPATH'] = project_root\n",
    "if project_root not in sys.path:\n",
    "    sys.path.insert(0, project_root)\n",
    "\n",
    "print(\"PYTHONPATH manually set to:\", os.environ['PYTHONPATH'])"
   ]
  },
  {
   "cell_type": "code",
   "execution_count": 2,
   "id": "d759f45d",
   "metadata": {},
   "outputs": [],
   "source": [
    "from graph.structure.graph import Graph\n",
    "from graph.prior.gaussian_prior import GaussianPrior\n",
    "from graph.propagator.unitary_propagator import UnitaryPropagator\n",
    "from graph.measurement.gaussian_measurement import GaussianMeasurement\n",
    "from core.linalg_utils import random_unitary_matrix\n",
    "import numpy as np"
   ]
  },
  {
   "cell_type": "code",
   "execution_count": 3,
   "id": "bdba4fb6",
   "metadata": {},
   "outputs": [],
   "source": [
    "# === パラメータ設定 ===\n",
    "n = 64\n",
    "shape = (n,)\n",
    "var = 1e-4\n",
    "rng = np.random.default_rng(123)\n",
    "\n",
    "U1 = random_unitary_matrix(n, rng=rng)\n",
    "U2 = random_unitary_matrix(n, rng=rng)"
   ]
  },
  {
   "cell_type": "code",
   "execution_count": 4,
   "id": "c3688816",
   "metadata": {},
   "outputs": [],
   "source": [
    "# === グラフ定義 ===\n",
    "class SplitGraph(Graph):\n",
    "    def __init__(self):\n",
    "        super().__init__()\n",
    "        self.X = GaussianPrior(mean=0.0, var=1.0, shape=shape)\n",
    "\n",
    "        self.Y1 = UnitaryPropagator(U1) @ self.X\n",
    "        self.Z1 = GaussianMeasurement(self.Y1, var=var)\n",
    "\n",
    "        self.Y2 = UnitaryPropagator(U2) @ self.X\n",
    "        self.Z2 = GaussianMeasurement(self.Y2, var=var)\n",
    "\n",
    "        self.compile()"
   ]
  },
  {
   "cell_type": "code",
   "execution_count": 5,
   "id": "fe70cb26",
   "metadata": {},
   "outputs": [
    {
     "data": {
      "image/png": "[encoded data removed]",
      "text/plain": [
       "<Figure size 640x480 with 1 Axes>"
      ]
     },
     "metadata": {},
     "output_type": "display_data"
    }
   ],
   "source": [
    "g = SplitGraph()\n",
    "g.visualize(layout=\"kamada_kawai\", font_size=6, scale=2.0)"
   ]
  },
  {
   "cell_type": "code",
   "execution_count": 6,
   "id": "cd48e1bc",
   "metadata": {},
   "outputs": [],
   "source": [
    "g.set_init_rng(np.random.default_rng(1))\n",
    "g.generate_sample(rng=np.random.default_rng(99))\n",
    "\n",
    "true_x = g.X.get_sample()\n",
    "g.Z1.update_observed_from_sample()\n",
    "g.Z2.update_observed_from_sample()"
   ]
  },
  {
   "cell_type": "code",
   "execution_count": 7,
   "id": "0a3510c0",
   "metadata": {},
   "outputs": [
    {
     "data": {
      "text/plain": [
       "0.002066547600578886"
      ]
     },
     "execution_count": 7,
     "metadata": {},
     "output_type": "execute_result"
    }
   ],
   "source": [
    "np.linalg.norm(U1@true_x - g.Z1.get_sample())/64"
   ]
  },
  {
   "cell_type": "code",
   "execution_count": 8,
   "id": "b8f7ffcc",
   "metadata": {},
   "outputs": [
    {
     "data": {
      "text/plain": [
       "0.00027331961506933444"
      ]
     },
     "execution_count": 8,
     "metadata": {},
     "output_type": "execute_result"
    }
   ],
   "source": [
    "np.linalg.norm(U1@true_x - g.Z1.get_sample())**2/64"
   ]
  },
  {
   "cell_type": "code",
   "execution_count": 24,
   "id": "7974b5ef",
   "metadata": {},
   "outputs": [
    {
     "data": {
      "text/plain": [
       "[UProp(gen=3), UProp(gen=3)]"
      ]
     },
     "execution_count": 24,
     "metadata": {},
     "output_type": "execute_result"
    }
   ],
   "source": [
    "g.X.children"
   ]
  },
  {
   "cell_type": "code",
   "execution_count": 28,
   "id": "09dfc296",
   "metadata": {},
   "outputs": [
    {
     "data": {
      "text/plain": [
       "[GPrior(gen=1),\n",
       " Wave(gen=2),\n",
       " UProp(gen=3),\n",
       " UProp(gen=3),\n",
       " Wave(gen=4),\n",
       " Wave(gen=4),\n",
       " GMeas(gen=5),\n",
       " GMeas(gen=5)]"
      ]
     },
     "execution_count": 28,
     "metadata": {},
     "output_type": "execute_result"
    }
   ],
   "source": [
    "g._nodes_sorted"
   ]
  },
  {
   "cell_type": "code",
   "execution_count": 29,
   "id": "20e8ea08",
   "metadata": {},
   "outputs": [
    {
     "data": {
      "text/plain": [
       "[GMeas(gen=5),\n",
       " GMeas(gen=5),\n",
       " Wave(gen=4),\n",
       " Wave(gen=4),\n",
       " UProp(gen=3),\n",
       " UProp(gen=3),\n",
       " Wave(gen=2),\n",
       " GPrior(gen=1)]"
      ]
     },
     "execution_count": 29,
     "metadata": {},
     "output_type": "execute_result"
    }
   ],
   "source": [
    "g._nodes_sorted_reverse"
   ]
  },
  {
   "cell_type": "code",
   "execution_count": 9,
   "id": "12089ea3",
   "metadata": {},
   "outputs": [
    {
     "name": "stdout",
     "output_type": "stream",
     "text": [
      "[t=0] MSE = 1.296e-04\n",
      "[t=10] MSE = 1.294e-04\n",
      "[t=20] MSE = 1.294e-04\n",
      "[t=30] MSE = 1.294e-04\n",
      "[t=40] MSE = 1.294e-04\n"
     ]
    }
   ],
   "source": [
    "def monitor(graph, t):\n",
    "    if t % 10 == 0:\n",
    "        est = graph.X.compute_belief().data\n",
    "        err = np.mean(np.abs(est - true_x)**2)\n",
    "        print(f\"[t={t}] MSE = {err:.3e}\")\n",
    "\n",
    "g.run(n_iter=50, callback=monitor)"
   ]
  },
  {
   "cell_type": "code",
   "execution_count": null,
   "id": "f8d7059b",
   "metadata": {},
   "outputs": [],
   "source": []
  }
 ],
 "metadata": {
  "kernelspec": {
   "display_name": "cupy-env",
   "language": "python",
   "name": "python3"
  },
  "language_info": {
   "codemirror_mode": {
    "name": "ipython",
    "version": 3
   },
   "file_extension": ".py",
   "mimetype": "text/x-python",
   "name": "python",
   "nbconvert_exporter": "python",
   "pygments_lexer": "ipython3",
   "version": "3.10.5"
  }
 },
 "nbformat": 4,
 "nbformat_minor": 5
}
