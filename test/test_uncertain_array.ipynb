{
 "cells": [
  {
   "cell_type": "code",
   "execution_count": 1,
   "id": "4e12f548",
   "metadata": {},
   "outputs": [
    {
     "name": "stdout",
     "output_type": "stream",
     "text": [
      "Type: <class 'core.uncertain_array.UncertainArray'>\n",
      "Shape: (4, 4)\n",
      "Data dtype: complex128\n",
      "Precision shape: (4, 4)\n",
      "Precision values (should all be 1.0):\n",
      "[[1. 1. 1. 1.]\n",
      " [1. 1. 1. 1.]\n",
      " [1. 1. 1. 1.]\n",
      " [1. 1. 1. 1.]]\n"
     ]
    }
   ],
   "source": [
    "import numpy as np\n",
    "import sys\n",
    "import os\n",
    "\n",
    "# --- パスを通してモジュールをインポート可能にする ---\n",
    "# GraphicalPR のルートを sys.path に追加\n",
    "project_root = os.path.abspath(os.path.join(os.getcwd(), \"..\"))\n",
    "if project_root not in sys.path:\n",
    "    sys.path.insert(0, project_root)\n",
    "\n",
    "# --- モジュールのインポート ---\n",
    "from core.uncertain_array import UncertainArray\n",
    "\n",
    "# --- テスト：UncertainArray のランダム生成 ---\n",
    "shape = (4, 4)\n",
    "ua = UncertainArray.random(shape)\n",
    "\n",
    "# --- 確認出力 ---\n",
    "print(\"Type:\", type(ua))\n",
    "print(\"Shape:\", ua.shape)\n",
    "print(\"Data dtype:\", ua.data.dtype)\n",
    "print(\"Precision shape:\", ua.precision.shape)\n",
    "print(\"Precision values (should all be 1.0):\")\n",
    "print(ua.precision)\n",
    "\n",
    "# --- 検証 ---\n",
    "assert ua.shape == shape\n",
    "assert ua.data.shape == shape\n",
    "assert ua.precision.shape == shape\n",
    "assert np.allclose(ua.precision, 1.0)\n"
   ]
  },
  {
   "cell_type": "markdown",
   "id": "743f1c7a",
   "metadata": {},
   "source": [
    "## multiplication"
   ]
  },
  {
   "cell_type": "code",
   "execution_count": 2,
   "id": "8c760e4f",
   "metadata": {},
   "outputs": [
    {
     "name": "stdout",
     "output_type": "stream",
     "text": [
      "ua3.data = [2.5+2.5j 3.5+3.5j]\n",
      "expected = [2.5+2.5j 3.5+3.5j]\n",
      "ua3.precision = [4. 4.]\n",
      "expected precision = 4.0\n",
      "✅ Test passed.\n"
     ]
    }
   ],
   "source": [
    "import sys, os\n",
    "import numpy as np\n",
    "\n",
    "# プロジェクトルートを sys.path に追加して core モジュールを import 可能にする\n",
    "project_root = os.path.abspath(os.path.join(os.getcwd(), \"..\"))\n",
    "if project_root not in sys.path:\n",
    "    sys.path.insert(0, project_root)\n",
    "\n",
    "from core import UncertainArray\n",
    "\n",
    "# --- テスト対象の UncertainArray オブジェクトを生成 ---\n",
    "data1 = np.array([1+1j, 2+2j])\n",
    "data2 = np.array([3+3j, 4+4j])\n",
    "precision1 = 1.0\n",
    "precision2 = 3.0\n",
    "\n",
    "ua1 = UncertainArray(data1, precision=precision1)\n",
    "ua2 = UncertainArray(data2, precision=precision2)\n",
    "\n",
    "# --- 積を計算 ---\n",
    "ua3 = ua1 * ua2\n",
    "\n",
    "# --- 期待値を計算 ---\n",
    "expected_precision = precision1 + precision2\n",
    "expected_data = (precision1 * data1 + precision2 * data2) / expected_precision\n",
    "\n",
    "# --- 結果を出力 ---\n",
    "print(\"ua3.data =\", ua3.data)\n",
    "print(\"expected =\", expected_data)\n",
    "print(\"ua3.precision =\", ua3.precision)\n",
    "print(\"expected precision =\", expected_precision)\n",
    "\n",
    "# --- アサーションで検証 ---\n",
    "assert np.allclose(ua3.data, expected_data), \"Data mismatch\"\n",
    "assert np.allclose(ua3.precision, expected_precision), \"Precision mismatch\"\n",
    "\n",
    "print(\"✅ Test passed.\")"
   ]
  },
  {
   "cell_type": "code",
   "execution_count": 3,
   "id": "339af2aa",
   "metadata": {},
   "outputs": [],
   "source": [
    "ua1 = UncertainArray([4+4j, 6+6j], precision=5.0)\n",
    "ua2 = UncertainArray([2+2j, 3+3j], precision=3.0)\n",
    "ua3 = ua1 / ua2\n",
    "\n",
    "expected_precision = np.clip(5.0 - 3.0, 1.0, None)\n",
    "expected_data = (5.0 * ua1.data - 3.0 * ua2.data) / expected_precision\n",
    "\n",
    "assert np.allclose(ua3.data, expected_data)\n",
    "assert np.allclose(ua3.precision, expected_precision)"
   ]
  },
  {
   "cell_type": "code",
   "execution_count": 4,
   "id": "efdec1d8",
   "metadata": {},
   "outputs": [
    {
     "name": "stdout",
     "output_type": "stream",
     "text": [
      "ua1.data:\n",
      " [[-0.18473339+0.75158219j -1.14224582-0.13616603j]\n",
      " [ 1.48716496+0.11543698j -0.05336433+1.46368189j]]\n",
      "ua2.data:\n",
      " [[ 1.60390635-0.11180553j -0.28440144-1.34360157j]\n",
      " [-0.16927031-0.80521571j -0.39432499+0.17025036j]]\n",
      "ua1 * ua2:\n",
      " [[ 0.88845045+0.23354956j -0.62753919-0.86062736j]\n",
      " [ 0.4933038 -0.43695464j -0.25794073+0.68762297j]]\n",
      "precision (should be 5.0): 5.0\n",
      "ua1 / ua2:\n",
      " [[-5.18118583+1.83858096j -1.43128732+3.75847265j]\n",
      " [ 3.48214086+2.64652109j  1.07624631+2.41661271j]]\n",
      "precision: 1.0\n",
      "ua1 * ua2 with array precision:\n",
      " [[ 0.41147986+0.46378629j -0.85629769-0.53864455j]\n",
      " [ 0.93501987-0.19144725j -0.16701789+1.03253805j]]\n",
      "precision (array):\n",
      " [[ 3.  6.]\n",
      " [ 9. 12.]]\n",
      "Combined data:\n",
      " [[ 0.10626333+0.02051808j -0.5265409 +0.76157581j]\n",
      " [ 0.46305274+0.1011161j   0.33932423+0.32759742j]]\n",
      "Combined precision:\n",
      " [[ 8. 11.]\n",
      " [14. 17.]]\n",
      "ua1.to_scalar_precision(): 3.8400000000000007\n"
     ]
    }
   ],
   "source": [
    "import numpy as np\n",
    "from core.uncertain_array import UncertainArray\n",
    "\n",
    "# --- UA ランダム作成（スカラー精度） ---\n",
    "ua1 = UncertainArray.random(shape=(2, 2), precision=2.0)\n",
    "ua2 = UncertainArray.random(shape=(2, 2), precision=3.0)\n",
    "\n",
    "print(\"ua1.data:\\n\", ua1.data)\n",
    "print(\"ua2.data:\\n\", ua2.data)\n",
    "\n",
    "# --- 掛け算テスト（スカラー精度） ---\n",
    "ua_mul = ua1 * ua2\n",
    "print(\"ua1 * ua2:\\n\", ua_mul.data)\n",
    "print(\"precision (should be 5.0):\", ua_mul.to_scalar_precision())\n",
    "\n",
    "# --- 割り算テスト（スカラー精度） ---\n",
    "ua_div = ua1 / ua2\n",
    "print(\"ua1 / ua2:\\n\", ua_div.data)\n",
    "print(\"precision:\", ua_div.to_scalar_precision())\n",
    "\n",
    "# --- 精度を配列に変更して掛け算 ---\n",
    "ua1.set_precision([[2.0, 4.0], [6.0, 8.0]])\n",
    "ua2.set_precision([[1.0, 2.0], [3.0, 4.0]])\n",
    "\n",
    "ua_mul2 = ua1 * ua2\n",
    "print(\"ua1 * ua2 with array precision:\\n\", ua_mul2.data)\n",
    "print(\"precision (array):\\n\", ua_mul2.precision)\n",
    "\n",
    "# --- combine テスト ---\n",
    "ua3 = UncertainArray.random((2, 2), precision=5.0)\n",
    "combined = UncertainArray.combine([ua1, ua2, ua3])\n",
    "print(\"Combined data:\\n\", combined.data)\n",
    "print(\"Combined precision:\\n\", combined.precision)\n",
    "\n",
    "# --- scalar precision に丸める ---\n",
    "scalar_prec = ua1.to_scalar_precision()\n",
    "print(\"ua1.to_scalar_precision():\", scalar_prec)\n"
   ]
  },
  {
   "cell_type": "code",
   "execution_count": 6,
   "id": "6358152b",
   "metadata": {},
   "outputs": [
    {
     "name": "stdout",
     "output_type": "stream",
     "text": [
      "[[1.18343195 1.18343195 1.18343195 1.18343195]\n",
      " [1.18343195 1.18343195 1.18343195 1.18343195]\n",
      " [1.18343195 1.18343195 1.18343195 1.18343195]\n",
      " [1.18343195 1.18343195 1.18343195 1.18343195]]\n"
     ]
    }
   ],
   "source": [
    "ua1 = UncertainArray.random((4, 4), precision=2.0)\n",
    "ua2 = UncertainArray.zeros((4, 4), precision=0.5)\n",
    "\n",
    "ua_damped = ua1.damp_with(ua2, alpha=0.3)\n",
    "print(ua_damped.precision)"
   ]
  },
  {
   "cell_type": "code",
   "execution_count": null,
   "id": "8d85dc40",
   "metadata": {},
   "outputs": [],
   "source": []
  }
 ],
 "metadata": {
  "kernelspec": {
   "display_name": "cupy-env",
   "language": "python",
   "name": "python3"
  },
  "language_info": {
   "codemirror_mode": {
    "name": "ipython",
    "version": 3
   },
   "file_extension": ".py",
   "mimetype": "text/x-python",
   "name": "python",
   "nbconvert_exporter": "python",
   "pygments_lexer": "ipython3",
   "version": "3.10.5"
  }
 },
 "nbformat": 4,
 "nbformat_minor": 5
}
