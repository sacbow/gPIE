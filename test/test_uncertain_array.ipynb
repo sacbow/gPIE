{
 "cells": [
  {
   "cell_type": "code",
   "execution_count": 2,
   "id": "4e12f548",
   "metadata": {},
   "outputs": [
    {
     "name": "stdout",
     "output_type": "stream",
     "text": [
      "Type: <class 'core.uncertain_array.UncertainArray'>\n",
      "Shape: (4, 4)\n",
      "Data dtype: complex128\n",
      "Precision shape: (4, 4)\n",
      "Precision values (should all be 1.0):\n",
      "[[1. 1. 1. 1.]\n",
      " [1. 1. 1. 1.]\n",
      " [1. 1. 1. 1.]\n",
      " [1. 1. 1. 1.]]\n"
     ]
    }
   ],
   "source": [
    "import numpy as np\n",
    "import sys\n",
    "import os\n",
    "\n",
    "# --- パスを通してモジュールをインポート可能にする ---\n",
    "# GraphicalPR のルートを sys.path に追加\n",
    "project_root = os.path.abspath(os.path.join(os.getcwd(), \"..\"))\n",
    "if project_root not in sys.path:\n",
    "    sys.path.insert(0, project_root)\n",
    "\n",
    "# --- モジュールのインポート ---\n",
    "from core.uncertain_array import UncertainArray\n",
    "\n",
    "# --- テスト：UncertainArray のランダム生成 ---\n",
    "shape = (4, 4)\n",
    "ua = UncertainArray.random(shape)\n",
    "\n",
    "# --- 確認出力 ---\n",
    "print(\"Type:\", type(ua))\n",
    "print(\"Shape:\", ua.shape)\n",
    "print(\"Data dtype:\", ua.data.dtype)\n",
    "print(\"Precision shape:\", ua.precision.shape)\n",
    "print(\"Precision values (should all be 1.0):\")\n",
    "print(ua.precision)\n",
    "\n",
    "# --- 検証 ---\n",
    "assert ua.shape == shape\n",
    "assert ua.data.shape == shape\n",
    "assert ua.precision.shape == shape\n",
    "assert np.allclose(ua.precision, 1.0)\n"
   ]
  },
  {
   "cell_type": "markdown",
   "id": "743f1c7a",
   "metadata": {},
   "source": [
    "## multiplication"
   ]
  },
  {
   "cell_type": "code",
   "execution_count": 3,
   "id": "8c760e4f",
   "metadata": {},
   "outputs": [
    {
     "name": "stdout",
     "output_type": "stream",
     "text": [
      "ua3.data = [2.5+2.5j 3.5+3.5j]\n",
      "expected = [2.5+2.5j 3.5+3.5j]\n",
      "ua3.precision = [4. 4.]\n",
      "expected precision = 4.0\n",
      "✅ Test passed.\n"
     ]
    }
   ],
   "source": [
    "import sys, os\n",
    "import numpy as np\n",
    "\n",
    "# プロジェクトルートを sys.path に追加して core モジュールを import 可能にする\n",
    "project_root = os.path.abspath(os.path.join(os.getcwd(), \"..\"))\n",
    "if project_root not in sys.path:\n",
    "    sys.path.insert(0, project_root)\n",
    "\n",
    "from core import UncertainArray\n",
    "\n",
    "# --- テスト対象の UncertainArray オブジェクトを生成 ---\n",
    "data1 = np.array([1+1j, 2+2j])\n",
    "data2 = np.array([3+3j, 4+4j])\n",
    "precision1 = 1.0\n",
    "precision2 = 3.0\n",
    "\n",
    "ua1 = UncertainArray(data1, precision=precision1)\n",
    "ua2 = UncertainArray(data2, precision=precision2)\n",
    "\n",
    "# --- 積を計算 ---\n",
    "ua3 = ua1 * ua2\n",
    "\n",
    "# --- 期待値を計算 ---\n",
    "expected_precision = precision1 + precision2\n",
    "expected_data = (precision1 * data1 + precision2 * data2) / expected_precision\n",
    "\n",
    "# --- 結果を出力 ---\n",
    "print(\"ua3.data =\", ua3.data)\n",
    "print(\"expected =\", expected_data)\n",
    "print(\"ua3.precision =\", ua3.precision)\n",
    "print(\"expected precision =\", expected_precision)\n",
    "\n",
    "# --- アサーションで検証 ---\n",
    "assert np.allclose(ua3.data, expected_data), \"Data mismatch\"\n",
    "assert np.allclose(ua3.precision, expected_precision), \"Precision mismatch\"\n",
    "\n",
    "print(\"✅ Test passed.\")"
   ]
  },
  {
   "cell_type": "code",
   "execution_count": 4,
   "id": "339af2aa",
   "metadata": {},
   "outputs": [],
   "source": [
    "ua1 = UncertainArray([4+4j, 6+6j], precision=5.0)\n",
    "ua2 = UncertainArray([2+2j, 3+3j], precision=3.0)\n",
    "ua3 = ua1 / ua2\n",
    "\n",
    "expected_precision = np.clip(5.0 - 3.0, 1.0, None)\n",
    "expected_data = (5.0 * ua1.data - 3.0 * ua2.data) / expected_precision\n",
    "\n",
    "assert np.allclose(ua3.data, expected_data)\n",
    "assert np.allclose(ua3.precision, expected_precision)"
   ]
  },
  {
   "cell_type": "code",
   "execution_count": 5,
   "id": "efdec1d8",
   "metadata": {},
   "outputs": [
    {
     "name": "stdout",
     "output_type": "stream",
     "text": [
      "ua1.data:\n",
      " [[-0.67785956-1.47209277j  1.73480338-1.76989144j]\n",
      " [ 1.49005241-0.55972542j -1.55636151-1.01280078j]]\n",
      "ua2.data:\n",
      " [[-0.41436363+0.01008708j  0.17970816+0.35117515j]\n",
      " [ 1.19709114+0.14276567j -0.31259728-0.06748483j]]\n",
      "ua1 * ua2:\n",
      " [[-0.519762  -0.58278486j  0.80174625-0.49725149j]\n",
      " [ 1.31427565-0.13823077j -0.81010297-0.44561121j]]\n",
      "precision (should be 5.0): 5.0\n",
      "ua1 / ua2:\n",
      " [[-0.11262823-2.97444679j  2.93048227-4.59330833j]\n",
      " [-0.61116859-1.54774785j -2.17493116-1.82314706j]]\n",
      "precision: 1.0\n",
      "ua1 * ua2 with array precision:\n",
      " [[-0.59002758-0.97803282j  1.21643831-1.06286924j]\n",
      " [ 1.39239866-0.32556173j -1.14177343-0.69769546j]]\n",
      "precision (array):\n",
      " [[ 3.  6.]\n",
      " [ 9. 12.]]\n",
      "Combined data:\n",
      " [[-1.14883576-0.8740153j   1.01527533-1.28503158j]\n",
      " [ 1.16428626-0.43981924j -0.26954559-0.23316154j]]\n",
      "Combined precision:\n",
      " [[ 8. 11.]\n",
      " [14. 17.]]\n",
      "ua1.to_scalar_precision(): 3.8400000000000007\n"
     ]
    }
   ],
   "source": [
    "import numpy as np\n",
    "from core.uncertain_array import UncertainArray\n",
    "\n",
    "# --- UA ランダム作成（スカラー精度） ---\n",
    "ua1 = UncertainArray.random(shape=(2, 2), precision=2.0)\n",
    "ua2 = UncertainArray.random(shape=(2, 2), precision=3.0)\n",
    "\n",
    "print(\"ua1.data:\\n\", ua1.data)\n",
    "print(\"ua2.data:\\n\", ua2.data)\n",
    "\n",
    "# --- 掛け算テスト（スカラー精度） ---\n",
    "ua_mul = ua1 * ua2\n",
    "print(\"ua1 * ua2:\\n\", ua_mul.data)\n",
    "print(\"precision (should be 5.0):\", ua_mul.to_scalar_precision())\n",
    "\n",
    "# --- 割り算テスト（スカラー精度） ---\n",
    "ua_div = ua1 / ua2\n",
    "print(\"ua1 / ua2:\\n\", ua_div.data)\n",
    "print(\"precision:\", ua_div.to_scalar_precision())\n",
    "\n",
    "# --- 精度を配列に変更して掛け算 ---\n",
    "ua1.set_precision([[2.0, 4.0], [6.0, 8.0]])\n",
    "ua2.set_precision([[1.0, 2.0], [3.0, 4.0]])\n",
    "\n",
    "ua_mul2 = ua1 * ua2\n",
    "print(\"ua1 * ua2 with array precision:\\n\", ua_mul2.data)\n",
    "print(\"precision (array):\\n\", ua_mul2.precision)\n",
    "\n",
    "# --- combine テスト ---\n",
    "ua3 = UncertainArray.random((2, 2), precision=5.0)\n",
    "combined = UncertainArray.combine([ua1, ua2, ua3])\n",
    "print(\"Combined data:\\n\", combined.data)\n",
    "print(\"Combined precision:\\n\", combined.precision)\n",
    "\n",
    "# --- scalar precision に丸める ---\n",
    "scalar_prec = ua1.to_scalar_precision()\n",
    "print(\"ua1.to_scalar_precision():\", scalar_prec)\n"
   ]
  },
  {
   "cell_type": "code",
   "execution_count": null,
   "id": "6358152b",
   "metadata": {},
   "outputs": [],
   "source": []
  }
 ],
 "metadata": {
  "kernelspec": {
   "display_name": "cupy-env",
   "language": "python",
   "name": "python3"
  },
  "language_info": {
   "codemirror_mode": {
    "name": "ipython",
    "version": 3
   },
   "file_extension": ".py",
   "mimetype": "text/x-python",
   "name": "python",
   "nbconvert_exporter": "python",
   "pygments_lexer": "ipython3",
   "version": "3.10.5"
  }
 },
 "nbformat": 4,
 "nbformat_minor": 5
}
