{
 "cells": [
  {
   "cell_type": "code",
   "execution_count": 1,
   "id": "ddf5e4d7",
   "metadata": {},
   "outputs": [
    {
     "name": "stdout",
     "output_type": "stream",
     "text": [
      "PYTHONPATH manually set to: c:\\Users\\ndhaj\\Desktop\\GraphicalPR\n"
     ]
    }
   ],
   "source": [
    "import os, sys\n",
    "\n",
    "project_root = os.path.abspath(os.path.join(os.getcwd(), '..'))\n",
    "os.environ['PYTHONPATH'] = project_root\n",
    "if project_root not in sys.path:\n",
    "    sys.path.insert(0, project_root)\n",
    "\n",
    "print(\"PYTHONPATH manually set to:\", os.environ['PYTHONPATH'])"
   ]
  },
  {
   "cell_type": "code",
   "execution_count": 2,
   "id": "bb11eaee",
   "metadata": {},
   "outputs": [],
   "source": [
    "import numpy as np\n",
    "from graph.structure.graph import Graph\n",
    "from graph.prior.sparse_prior import SparsePrior\n",
    "from graph.propagator.fft_2d_propagator import FFT2DPropagator\n",
    "from graph.measurement.masked_gaussian_measurement import MaskedGaussianMeasurement\n",
    "from core.metrics import mse\n",
    "from core.linalg_utils import random_binary_mask"
   ]
  },
  {
   "cell_type": "code",
   "execution_count": 3,
   "id": "98c6717f",
   "metadata": {},
   "outputs": [],
   "source": [
    "# ==== 1. パラメータ設定 ====\n",
    "H, W = 256, 256\n",
    "rho = 0.1\n",
    "var = 1e-4\n",
    "mask_ratio = 0.2\n",
    "rng = np.random.default_rng(seed=42)\n",
    "\n",
    "# ==== 2. モデル定義（Prior → FFT2D → MaskedGaussian） ====\n",
    "class FFT2DTestGraph(Graph):\n",
    "    def __init__(self):\n",
    "        super().__init__()\n",
    "        self.X = SparsePrior(rho=rho, shape=(H, W), damping = 0.03)\n",
    "        self.Y = FFT2DPropagator(shape=(H, W)) @ self.X\n",
    "        mask = random_binary_mask((H, W), subsampling_rate=mask_ratio, rng=rng)\n",
    "        self.Z = MaskedGaussianMeasurement(self.Y, var=var, mask=mask)\n",
    "        self.compile()"
   ]
  },
  {
   "cell_type": "code",
   "execution_count": 4,
   "id": "77872562",
   "metadata": {},
   "outputs": [],
   "source": [
    "# ==== 3. グラフ構築 ====\n",
    "g = FFT2DTestGraph()\n",
    "\n",
    "# ==== 4. サンプル生成 ====\n",
    "g.set_init_rng(np.random.default_rng(seed=1))\n",
    "g.generate_sample(rng=np.random.default_rng(seed=24))\n",
    "\n",
    "true_x = g.X.get_sample()\n",
    "observed = g.Z.get_sample()"
   ]
  },
  {
   "cell_type": "code",
   "execution_count": 5,
   "id": "0d464dfc",
   "metadata": {},
   "outputs": [
    {
     "name": "stdout",
     "output_type": "stream",
     "text": [
      "[t=0] MSE = 7.08596e-01\n",
      "[t=5] MSE = 3.09726e-02\n",
      "[t=10] MSE = 1.01182e-02\n",
      "[t=15] MSE = 1.48934e-03\n",
      "[t=20] MSE = 2.86555e-04\n",
      "[t=25] MSE = 2.70944e-04\n",
      "Final MSE after 30 iterations: 2.77133e-04\n"
     ]
    }
   ],
   "source": [
    "# ==== 5. 推論実行 ====\n",
    "def monitor(graph, t):\n",
    "    est = graph.X.compute_belief().data\n",
    "    err = mse(est, true_x)\n",
    "    if t % 5 == 0:\n",
    "        print(f\"[t={t}] MSE = {err:.5e}\")\n",
    "\n",
    "g.run(n_iter=30, callback=monitor)\n",
    "\n",
    "# ==== 6. 結果表示 ====\n",
    "final_est = g.X.compute_belief().data\n",
    "print(f\"Final MSE after 30 iterations: {mse(final_est, true_x):.5e}\")"
   ]
  },
  {
   "cell_type": "code",
   "execution_count": 6,
   "id": "c9a3f232",
   "metadata": {},
   "outputs": [
    {
     "data": {
      "image/png": "[encoded data removed]",
      "text/plain": [
       "<Figure size 640x480 with 1 Axes>"
      ]
     },
     "metadata": {},
     "output_type": "display_data"
    }
   ],
   "source": [
    "g.visualize(layout=\"kamada_kawai\", font_size=6, scale=2.0)"
   ]
  },
  {
   "cell_type": "code",
   "execution_count": 7,
   "id": "929dc320",
   "metadata": {},
   "outputs": [
    {
     "name": "stdout",
     "output_type": "stream",
     "text": [
      "[t=0] MSE = 7.05846e-01\n",
      "[t=5] MSE = 2.99622e-02\n",
      "[t=10] MSE = 9.68796e-03\n",
      "[t=15] MSE = 1.48906e-03\n",
      "[t=20] MSE = 2.91001e-04\n",
      "[t=25] MSE = 2.70412e-04\n",
      "[t=30] MSE = 2.71209e-04\n",
      "[t=35] MSE = 2.73041e-04\n",
      "Final MSE after 30 iterations: 2.74010e-04\n"
     ]
    }
   ],
   "source": [
    "import numpy as np\n",
    "from core.metrics import mse\n",
    "from core.linalg_utils import random_binary_mask, random_phase_mask\n",
    "from graph.structure.graph import Graph\n",
    "from graph.prior.sparse_prior import SparsePrior\n",
    "from graph.propagator.phase_mask_propagator import PhaseMaskPropagator\n",
    "from graph.propagator.fft_2d_propagator import FFT2DPropagator\n",
    "from graph.measurement.masked_gaussian_measurement import MaskedGaussianMeasurement\n",
    "\n",
    "# ==== 1. パラメータ設定 ====\n",
    "H, W = 512, 512\n",
    "shape = (H, W)\n",
    "rho = 0.1\n",
    "var = 1e-4\n",
    "mask_ratio = 0.2\n",
    "rng = np.random.default_rng(seed=21)\n",
    "\n",
    "# ==== 2. グラフ定義 ====\n",
    "class PhaseMaskedCSGraph(Graph):\n",
    "    def __init__(self):\n",
    "        super().__init__()\n",
    "\n",
    "        self.X = SparsePrior(rho=rho, shape=shape, damping=0.03)\n",
    "\n",
    "        phase_mask = random_phase_mask(shape, rng=rng)\n",
    "        self.Y = PhaseMaskPropagator(phase_mask) @ self.X\n",
    "\n",
    "        self.F = FFT2DPropagator(shape=shape) @ self.Y\n",
    "\n",
    "        mask = random_binary_mask(shape, subsampling_rate=mask_ratio, rng=rng)\n",
    "        self.Z = MaskedGaussianMeasurement(self.F, var=var, mask=mask)\n",
    "\n",
    "        self.compile()\n",
    "\n",
    "# ==== 3. インスタンス生成と初期化 ====\n",
    "g = PhaseMaskedCSGraph()\n",
    "g.set_init_rng(np.random.default_rng(seed=1))\n",
    "g.generate_sample(rng=np.random.default_rng(seed=35))\n",
    "\n",
    "true_x = g.X.get_sample()\n",
    "observed = g.Z.get_sample()\n",
    "\n",
    "# ==== 4. 推論 ====\n",
    "def monitor(graph, t):\n",
    "    est = graph.X.compute_belief().data\n",
    "    err = mse(est, true_x)\n",
    "    if t % 5 == 0:\n",
    "        print(f\"[t={t}] MSE = {err:.5e}\")\n",
    "        \n",
    "g.run(n_iter=40, callback=monitor)\n",
    "\n",
    "# ==== 5. 結果表示 ====\n",
    "final_est = g.X.compute_belief().data\n",
    "print(f\"Final MSE after 30 iterations: {mse(final_est, true_x):.5e}\")"
   ]
  },
  {
   "cell_type": "code",
   "execution_count": 8,
   "id": "d51cbb4b",
   "metadata": {},
   "outputs": [
    {
     "name": "stdout",
     "output_type": "stream",
     "text": [
      "[t=0] MSE = 2.74047e-04\n",
      "[t=5] MSE = 2.73730e-04\n",
      "[t=10] MSE = 2.73321e-04\n",
      "[t=15] MSE = 2.73862e-04\n",
      "[t=20] MSE = 2.74363e-04\n",
      "[t=25] MSE = 2.74155e-04\n",
      " "
     ]
    },
    {
     "name": "stdout",
     "output_type": "stream",
     "text": [
      "         12941 function calls in 3.891 seconds\n",
      "\n",
      "   Ordered by: cumulative time\n",
      "   List reduced from 149 to 40 due to restriction <40>\n",
      "\n",
      "   ncalls  tottime  percall  cumtime  percall filename:lineno(function)\n",
      "        1    0.000    0.000    3.891    3.891 {built-in method builtins.exec}\n",
      "        1    0.000    0.000    3.891    3.891 <string>:1(<module>)\n",
      "        1    0.000    0.000    3.891    3.891 graph.py:58(run)\n",
      "       30    0.001    0.000    1.910    0.064 graph.py:48(forward)\n",
      "       30    0.000    0.000    1.598    0.053 graph.py:53(backward)\n",
      "       30    0.008    0.000    1.477    0.049 sparse_prior.py:35(forward)\n",
      "       30    0.007    0.000    1.472    0.049 fft_2d_propagator.py:77(backward)\n",
      "       30    0.035    0.001    1.462    0.049 sparse_prior.py:21(_compute_message)\n",
      "       30    0.404    0.013    1.183    0.039 fft_2d_propagator.py:24(compute_belief)\n",
      "       30    1.008    0.034    1.049    0.035 sparse_prior.py:47(approximate_posterior)\n",
      "       90    0.834    0.009    0.861    0.010 uncertain_array.py:121(__truediv__)\n",
      "       60    0.018    0.000    0.509    0.008 _pocketfft.py:701(_raw_fftnd)\n",
      "      120    0.001    0.000    0.486    0.004 _pocketfft.py:49(_raw_fft)\n",
      "      120    0.484    0.004    0.484    0.004 {built-in method numpy.fft._pocketfft_internal.execute}\n",
      "       30    0.000    0.000    0.383    0.013 201413082.py:44(monitor)\n",
      "       30    0.015    0.001    0.369    0.012 fft_2d_propagator.py:21(_ifft2_centered)\n",
      "       30    0.016    0.001    0.365    0.012 fft_2d_propagator.py:18(_fft2_centered)\n",
      "       30    0.004    0.000    0.360    0.012 fft_2d_propagator.py:67(forward)\n",
      "       30    0.000    0.000    0.256    0.009 _pocketfft.py:1017(ifft2)\n",
      "       30    0.000    0.000    0.253    0.008 _pocketfft.py:921(fft2)\n",
      "       30    0.032    0.001    0.252    0.008 wave.py:72(compute_belief)\n",
      "       60    0.000    0.000    0.246    0.004 _pocketfft.py:219(ifft)\n",
      "       60    0.000    0.000    0.243    0.004 _pocketfft.py:122(fft)\n",
      "       30    0.057    0.002    0.220    0.007 uncertain_array.py:153(combine)\n",
      "      120    0.191    0.002    0.192    0.002 numeric.py:1129(roll)\n",
      "       30    0.154    0.005    0.155    0.005 uncertain_array.py:184(damp_with)\n",
      "       30    0.119    0.004    0.127    0.004 metrics.py:3(mse)\n",
      "       30    0.000    0.000    0.108    0.004 base.py:41(backward)\n",
      "       30    0.107    0.004    0.107    0.004 phase_mask_propagator.py:33(_compute_backward)\n",
      "       60    0.001    0.000    0.102    0.002 helper.py:76(ifftshift)\n",
      "       60    0.001    0.000    0.092    0.002 helper.py:19(fftshift)\n",
      "       60    0.064    0.001    0.084    0.001 linalg_utils.py:4(reduce_precision_to_scalar)\n",
      "       30    0.082    0.003    0.084    0.003 numeric.py:932(tensordot)\n",
      "       30    0.077    0.003    0.077    0.003 shape_base.py:372(stack)\n",
      "       30    0.000    0.000    0.051    0.002 base.py:21(forward)\n",
      "       30    0.050    0.002    0.050    0.002 phase_mask_propagator.py:26(_compute_forward)\n",
      "      180    0.037    0.000    0.037    0.000 factor.py:57(receive_message)\n",
      "      210    0.001    0.000    0.026    0.000 fromnumeric.py:53(_wrapfunc)\n",
      "       30    0.000    0.000    0.024    0.001 fromnumeric.py:2100(clip)\n",
      "       90    0.001    0.000    0.023    0.000 fromnumeric.py:3385(mean)"
     ]
    }
   ],
   "source": [
    "%prun -l 40 -s cumulative g.run(n_iter=30, callback=monitor)"
   ]
  },
  {
   "cell_type": "code",
   "execution_count": 9,
   "id": "4f1ac958",
   "metadata": {},
   "outputs": [
    {
     "data": {
      "image/png": "[encoded data removed]",
      "text/plain": [
       "<Figure size 640x480 with 1 Axes>"
      ]
     },
     "metadata": {},
     "output_type": "display_data"
    }
   ],
   "source": [
    "g.visualize(layout=\"kamada_kawai\", font_size=7, scale=2.0)"
   ]
  },
  {
   "cell_type": "code",
   "execution_count": null,
   "id": "9295c6ed",
   "metadata": {},
   "outputs": [],
   "source": []
  }
 ],
 "metadata": {
  "kernelspec": {
   "display_name": "cupy-env",
   "language": "python",
   "name": "python3"
  },
  "language_info": {
   "codemirror_mode": {
    "name": "ipython",
    "version": 3
   },
   "file_extension": ".py",
   "mimetype": "text/x-python",
   "name": "python",
   "nbconvert_exporter": "python",
   "pygments_lexer": "ipython3",
   "version": "3.10.5"
  }
 },
 "nbformat": 4,
 "nbformat_minor": 5
}
