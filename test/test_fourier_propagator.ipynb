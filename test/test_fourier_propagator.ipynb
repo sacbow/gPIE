{
 "cells": [
  {
   "cell_type": "code",
   "execution_count": 1,
   "id": "ddf5e4d7",
   "metadata": {},
   "outputs": [
    {
     "name": "stdout",
     "output_type": "stream",
     "text": [
      "PYTHONPATH manually set to: c:\\Users\\ndhaj\\Desktop\\GraphicalPR\n"
     ]
    }
   ],
   "source": [
    "import os, sys\n",
    "\n",
    "project_root = os.path.abspath(os.path.join(os.getcwd(), '..'))\n",
    "os.environ['PYTHONPATH'] = project_root\n",
    "if project_root not in sys.path:\n",
    "    sys.path.insert(0, project_root)\n",
    "\n",
    "print(\"PYTHONPATH manually set to:\", os.environ['PYTHONPATH'])"
   ]
  },
  {
   "cell_type": "code",
   "execution_count": 2,
   "id": "bb11eaee",
   "metadata": {},
   "outputs": [],
   "source": [
    "import numpy as np\n",
    "from graph.structure.graph import Graph\n",
    "from graph.prior.sparse_prior import SparsePrior\n",
    "from graph.propagator.fft_2d_propagator import FFT2DPropagator\n",
    "from graph.measurement.masked_gaussian_measurement import MaskedGaussianMeasurement\n",
    "from core.metrics import mse\n",
    "from core.linalg_utils import random_binary_mask"
   ]
  },
  {
   "cell_type": "code",
   "execution_count": 8,
   "id": "98c6717f",
   "metadata": {},
   "outputs": [],
   "source": [
    "# ==== 1. パラメータ設定 ====\n",
    "H, W = 128,128\n",
    "rho = 0.1\n",
    "var = 1e-4\n",
    "mask_ratio = 0.2\n",
    "rng = np.random.default_rng(seed=42)\n",
    "\n",
    "# ==== 2. モデル定義（Prior → FFT2D → MaskedGaussian） ====\n",
    "class FFT2DTestGraph(Graph):\n",
    "    def __init__(self):\n",
    "        super().__init__()\n",
    "        self.X = SparsePrior(rho=rho, shape=(H, W))\n",
    "        self.Y = FFT2DPropagator(shape=(H, W)) @ self.X\n",
    "        mask = random_binary_mask((H, W), subsampling_rate=mask_ratio, rng=rng)\n",
    "        self.Z = MaskedGaussianMeasurement(self.Y, var=var, mask=mask)\n",
    "        self.compile()"
   ]
  },
  {
   "cell_type": "code",
   "execution_count": 9,
   "id": "77872562",
   "metadata": {},
   "outputs": [],
   "source": [
    "# ==== 3. グラフ構築 ====\n",
    "g = FFT2DTestGraph()\n",
    "\n",
    "# ==== 4. サンプル生成 ====\n",
    "g.set_init_rng(np.random.default_rng(seed=1))\n",
    "g.generate_sample(rng=np.random.default_rng(seed=99))\n",
    "\n",
    "true_x = g.X.get_sample()\n",
    "observed = g.Z.get_sample()"
   ]
  },
  {
   "cell_type": "code",
   "execution_count": 10,
   "id": "0d464dfc",
   "metadata": {},
   "outputs": [
    {
     "name": "stdout",
     "output_type": "stream",
     "text": [
      "[t=0] MSE = 3.85343e-01\n",
      "[t=5] MSE = 4.07597e-02\n",
      "[t=10] MSE = 1.27936e-02\n",
      "[t=15] MSE = 1.72725e-03\n",
      "[t=20] MSE = 1.75665e-04\n",
      "[t=25] MSE = 9.77017e-05\n",
      "Final MSE after 30 iterations: 9.39765e-05\n"
     ]
    }
   ],
   "source": [
    "# ==== 5. 推論実行 ====\n",
    "def monitor(graph, t):\n",
    "    est = graph.X.compute_belief().data\n",
    "    err = mse(est, true_x)\n",
    "    if t % 5 == 0:\n",
    "        print(f\"[t={t}] MSE = {err:.5e}\")\n",
    "\n",
    "g.run(n_iter=30, callback=monitor)\n",
    "\n",
    "# ==== 6. 結果表示 ====\n",
    "final_est = g.X.compute_belief().data\n",
    "print(f\"Final MSE after 30 iterations: {mse(final_est, true_x):.5e}\")"
   ]
  },
  {
   "cell_type": "code",
   "execution_count": 11,
   "id": "da8f8326",
   "metadata": {},
   "outputs": [
    {
     "name": "stdout",
     "output_type": "stream",
     "text": [
      "[t=0] MSE = 9.39146e-05\n",
      "[t=5] MSE = 9.37539e-05\n",
      "[t=10] MSE = 9.37763e-05\n",
      "[t=15] MSE = 9.37790e-05\n",
      "[t=20] MSE = 9.37789e-05\n",
      "[t=25] MSE = 9.37789e-05\n",
      " "
     ]
    },
    {
     "name": "stdout",
     "output_type": "stream",
     "text": [
      "         11611 function calls in 0.101 seconds\n",
      "\n",
      "   Ordered by: cumulative time\n",
      "   List reduced from 145 to 30 due to restriction <30>\n",
      "\n",
      "   ncalls  tottime  percall  cumtime  percall filename:lineno(function)\n",
      "        1    0.000    0.000    0.101    0.101 {built-in method builtins.exec}\n",
      "        1    0.000    0.000    0.101    0.101 <string>:1(<module>)\n",
      "        1    0.000    0.000    0.101    0.101 graph.py:58(run)\n",
      "       30    0.000    0.000    0.038    0.001 graph.py:48(forward)\n",
      "       30    0.000    0.000    0.034    0.001 82646459.py:2(monitor)\n",
      "       30    0.000    0.000    0.030    0.001 sparse_prior.py:33(forward)\n",
      "       30    0.000    0.000    0.030    0.001 sparse_prior.py:17(_compute_message)\n",
      "       30    0.000    0.000    0.030    0.001 wave.py:62(compute_belief)\n",
      "       30    0.002    0.000    0.029    0.001 uncertain_array.py:131(combine)\n",
      "       30    0.000    0.000    0.029    0.001 graph.py:53(backward)\n",
      "       30    0.000    0.000    0.029    0.001 fft_2d_propagator.py:105(backward)\n",
      "       30    0.024    0.001    0.026    0.001 sparse_prior.py:45(approximate_posterior)\n",
      "       30    0.025    0.001    0.025    0.001 numeric.py:932(tensordot)\n",
      "       30    0.006    0.000    0.025    0.001 fft_2d_propagator.py:59(compute_belief)\n",
      "       90    0.013    0.000    0.015    0.000 uncertain_array.py:103(__truediv__)\n",
      "       60    0.000    0.000    0.013    0.000 _pocketfft.py:701(_raw_fftnd)\n",
      "      120    0.000    0.000    0.011    0.000 _pocketfft.py:49(_raw_fft)\n",
      "      120    0.011    0.000    0.011    0.000 {built-in method numpy.fft._pocketfft_internal.execute}\n",
      "       30    0.000    0.000    0.010    0.000 fft_2d_propagator.py:35(_fft2_centered)\n",
      "       30    0.000    0.000    0.008    0.000 fft_2d_propagator.py:47(_ifft2_centered)\n",
      "       30    0.000    0.000    0.008    0.000 fft_2d_propagator.py:89(forward)\n",
      "       30    0.000    0.000    0.007    0.000 _pocketfft.py:921(fft2)\n",
      "       30    0.000    0.000    0.006    0.000 _pocketfft.py:1017(ifft2)\n",
      "       60    0.000    0.000    0.006    0.000 _pocketfft.py:122(fft)\n",
      "       60    0.000    0.000    0.006    0.000 _pocketfft.py:219(ifft)\n",
      "       30    0.003    0.000    0.004    0.000 metrics.py:3(mse)\n",
      "      120    0.003    0.000    0.004    0.000 numeric.py:1129(roll)\n",
      "       60    0.000    0.000    0.003    0.000 helper.py:76(ifftshift)\n",
      "       30    0.001    0.000    0.002    0.000 linalg_utils.py:3(reduce_precision_to_scalar)\n",
      "       90    0.000    0.000    0.002    0.000 fromnumeric.py:3385(mean)"
     ]
    }
   ],
   "source": [
    "%prun -l 30 -s cumulative g.run(n_iter=30, callback=monitor)"
   ]
  },
  {
   "cell_type": "code",
   "execution_count": 7,
   "id": "c9a3f232",
   "metadata": {},
   "outputs": [
    {
     "data": {
      "image/png": "[encoded data removed]",
      "text/plain": [
       "<Figure size 640x480 with 1 Axes>"
      ]
     },
     "metadata": {},
     "output_type": "display_data"
    }
   ],
   "source": [
    "g.visualize(layout=\"kamada_kawai\", font_size=6, scale=2.0)"
   ]
  },
  {
   "cell_type": "code",
   "execution_count": null,
   "id": "929dc320",
   "metadata": {},
   "outputs": [],
   "source": []
  }
 ],
 "metadata": {
  "kernelspec": {
   "display_name": "cupy-env",
   "language": "python",
   "name": "python3"
  },
  "language_info": {
   "codemirror_mode": {
    "name": "ipython",
    "version": 3
   },
   "file_extension": ".py",
   "mimetype": "text/x-python",
   "name": "python",
   "nbconvert_exporter": "python",
   "pygments_lexer": "ipython3",
   "version": "3.10.5"
  }
 },
 "nbformat": 4,
 "nbformat_minor": 5
}
