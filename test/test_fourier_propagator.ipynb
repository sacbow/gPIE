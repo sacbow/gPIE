{
 "cells": [
  {
   "cell_type": "code",
   "execution_count": 26,
   "id": "ddf5e4d7",
   "metadata": {},
   "outputs": [
    {
     "name": "stdout",
     "output_type": "stream",
     "text": [
      "PYTHONPATH manually set to: c:\\Users\\ndhaj\\Desktop\\GraphicalPR\n"
     ]
    }
   ],
   "source": [
    "import os, sys\n",
    "\n",
    "project_root = os.path.abspath(os.path.join(os.getcwd(), '..'))\n",
    "os.environ['PYTHONPATH'] = project_root\n",
    "if project_root not in sys.path:\n",
    "    sys.path.insert(0, project_root)\n",
    "\n",
    "print(\"PYTHONPATH manually set to:\", os.environ['PYTHONPATH'])"
   ]
  },
  {
   "cell_type": "code",
   "execution_count": 27,
   "id": "bb11eaee",
   "metadata": {},
   "outputs": [],
   "source": [
    "import numpy as np\n",
    "from graph.structure.graph import Graph\n",
    "from graph.prior.sparse_prior import SparsePrior\n",
    "from graph.propagator.fft_2d_propagator import FFT2DPropagator\n",
    "from graph.measurement.masked_gaussian_measurement import MaskedGaussianMeasurement\n",
    "from core.metrics import mse\n",
    "from core.linalg_utils import random_binary_mask"
   ]
  },
  {
   "cell_type": "code",
   "execution_count": 28,
   "id": "98c6717f",
   "metadata": {},
   "outputs": [],
   "source": [
    "# ==== 1. パラメータ設定 ====\n",
    "H, W = 256, 256\n",
    "rho = 0.1\n",
    "var = 1e-4\n",
    "mask_ratio = 0.2\n",
    "rng = np.random.default_rng(seed=42)\n",
    "\n",
    "# ==== 2. モデル定義（Prior → FFT2D → MaskedGaussian） ====\n",
    "class FFT2DTestGraph(Graph):\n",
    "    def __init__(self):\n",
    "        super().__init__()\n",
    "        self.X = SparsePrior(rho=rho, shape=(H, W), damping = 0.03)\n",
    "        self.Y = FFT2DPropagator(shape=(H, W)) @ self.X\n",
    "        mask = random_binary_mask((H, W), subsampling_rate=mask_ratio, rng=rng)\n",
    "        self.Z = MaskedGaussianMeasurement(self.Y, var=var, mask=mask)\n",
    "        self.compile()"
   ]
  },
  {
   "cell_type": "code",
   "execution_count": 29,
   "id": "77872562",
   "metadata": {},
   "outputs": [],
   "source": [
    "# ==== 3. グラフ構築 ====\n",
    "g = FFT2DTestGraph()\n",
    "\n",
    "# ==== 4. サンプル生成 ====\n",
    "g.set_init_rng(np.random.default_rng(seed=1))\n",
    "g.generate_sample(rng=np.random.default_rng(seed=24))\n",
    "\n",
    "true_x = g.X.get_sample()\n",
    "observed = g.Z.get_sample()"
   ]
  },
  {
   "cell_type": "code",
   "execution_count": 30,
   "id": "0d464dfc",
   "metadata": {},
   "outputs": [
    {
     "name": "stdout",
     "output_type": "stream",
     "text": [
      "[t=0] MSE = 7.08596e-01\n",
      "[t=5] MSE = 3.09726e-02\n",
      "[t=10] MSE = 1.01182e-02\n",
      "[t=15] MSE = 1.48934e-03\n",
      "[t=20] MSE = 2.86555e-04\n",
      "[t=25] MSE = 2.70944e-04\n",
      "Final MSE after 30 iterations: 2.77133e-04\n"
     ]
    }
   ],
   "source": [
    "# ==== 5. 推論実行 ====\n",
    "def monitor(graph, t):\n",
    "    est = graph.X.compute_belief().data\n",
    "    err = mse(est, true_x)\n",
    "    if t % 5 == 0:\n",
    "        print(f\"[t={t}] MSE = {err:.5e}\")\n",
    "\n",
    "g.run(n_iter=30, callback=monitor)\n",
    "\n",
    "# ==== 6. 結果表示 ====\n",
    "final_est = g.X.compute_belief().data\n",
    "print(f\"Final MSE after 30 iterations: {mse(final_est, true_x):.5e}\")"
   ]
  },
  {
   "cell_type": "code",
   "execution_count": 31,
   "id": "c9a3f232",
   "metadata": {},
   "outputs": [
    {
     "data": {
      "image/png": "[encoded data removed]",
      "text/plain": [
       "<Figure size 640x480 with 1 Axes>"
      ]
     },
     "metadata": {},
     "output_type": "display_data"
    }
   ],
   "source": [
    "g.visualize(layout=\"kamada_kawai\", font_size=6, scale=2.0)"
   ]
  },
  {
   "cell_type": "code",
   "execution_count": 32,
   "id": "929dc320",
   "metadata": {},
   "outputs": [
    {
     "name": "stdout",
     "output_type": "stream",
     "text": [
      "[t=0] MSE = 7.05656e-01\n",
      "[t=5] MSE = 2.91807e-02\n",
      "[t=10] MSE = 9.59089e-03\n",
      "[t=15] MSE = 1.51434e-03\n",
      "[t=20] MSE = 2.74646e-04\n",
      "[t=25] MSE = 2.48851e-04\n",
      "[t=30] MSE = 2.64363e-04\n",
      "[t=35] MSE = 2.64755e-04\n",
      "Final MSE after 30 iterations: 2.64129e-04\n"
     ]
    }
   ],
   "source": [
    "import numpy as np\n",
    "from core.metrics import mse\n",
    "from core.linalg_utils import random_binary_mask, random_phase_mask\n",
    "from graph.structure.graph import Graph\n",
    "from graph.prior.sparse_prior import SparsePrior\n",
    "from graph.propagator.phase_mask_propagator import PhaseMaskPropagator\n",
    "from graph.propagator.fft_2d_propagator import FFT2DPropagator\n",
    "from graph.measurement.masked_gaussian_measurement import MaskedGaussianMeasurement\n",
    "\n",
    "# ==== 1. パラメータ設定 ====\n",
    "H, W = 256, 256\n",
    "shape = (H, W)\n",
    "rho = 0.1\n",
    "var = 1e-4\n",
    "mask_ratio = 0.2\n",
    "rng = np.random.default_rng(seed=21)\n",
    "\n",
    "# ==== 2. グラフ定義 ====\n",
    "class PhaseMaskedCSGraph(Graph):\n",
    "    def __init__(self):\n",
    "        super().__init__()\n",
    "\n",
    "        self.X = SparsePrior(rho=rho, shape=shape, damping=0.03)\n",
    "\n",
    "        phase_mask = random_phase_mask(shape, rng=rng)\n",
    "        self.Y = PhaseMaskPropagator(phase_mask) @ self.X\n",
    "\n",
    "        self.F = FFT2DPropagator(shape=shape) @ self.Y\n",
    "\n",
    "        mask = random_binary_mask(shape, subsampling_rate=mask_ratio, rng=rng)\n",
    "        self.Z = MaskedGaussianMeasurement(self.F, var=var, mask=mask)\n",
    "\n",
    "        self.compile()\n",
    "\n",
    "# ==== 3. インスタンス生成と初期化 ====\n",
    "g = PhaseMaskedCSGraph()\n",
    "g.set_init_rng(np.random.default_rng(seed=1))\n",
    "g.generate_sample(rng=np.random.default_rng(seed=35))\n",
    "\n",
    "true_x = g.X.get_sample()\n",
    "observed = g.Z.get_sample()\n",
    "\n",
    "# ==== 4. 推論 ====\n",
    "def monitor(graph, t):\n",
    "    est = graph.X.compute_belief().data\n",
    "    err = mse(est, true_x)\n",
    "    if t % 5 == 0:\n",
    "        print(f\"[t={t}] MSE = {err:.5e}\")\n",
    "        \n",
    "g.run(n_iter=40, callback=monitor)\n",
    "\n",
    "# ==== 5. 結果表示 ====\n",
    "final_est = g.X.compute_belief().data\n",
    "print(f\"Final MSE after 30 iterations: {mse(final_est, true_x):.5e}\")"
   ]
  },
  {
   "cell_type": "code",
   "execution_count": 33,
   "id": "d51cbb4b",
   "metadata": {},
   "outputs": [
    {
     "name": "stdout",
     "output_type": "stream",
     "text": [
      "[t=0] MSE = 2.64859e-04\n",
      "[t=5] MSE = 2.66543e-04\n",
      "[t=10] MSE = 2.69351e-04\n",
      "[t=15] MSE = 2.70311e-04\n",
      "[t=20] MSE = 2.70091e-04\n",
      "[t=25] MSE = 2.69840e-04\n",
      " "
     ]
    },
    {
     "name": "stdout",
     "output_type": "stream",
     "text": [
      "         12941 function calls in 0.490 seconds\n",
      "\n",
      "   Ordered by: cumulative time\n",
      "   List reduced from 149 to 40 due to restriction <40>\n",
      "\n",
      "   ncalls  tottime  percall  cumtime  percall filename:lineno(function)\n",
      "        1    0.000    0.000    0.490    0.490 {built-in method builtins.exec}\n",
      "        1    0.000    0.000    0.490    0.490 <string>:1(<module>)\n",
      "        1    0.000    0.000    0.489    0.489 graph.py:58(run)\n",
      "       30    0.000    0.000    0.212    0.007 graph.py:53(backward)\n",
      "       30    0.000    0.000    0.205    0.007 graph.py:48(forward)\n",
      "       30    0.002    0.000    0.193    0.006 fft_2d_propagator.py:77(backward)\n",
      "       30    0.043    0.001    0.154    0.005 fft_2d_propagator.py:24(compute_belief)\n",
      "       30    0.001    0.000    0.147    0.005 sparse_prior.py:35(forward)\n",
      "       30    0.008    0.000    0.144    0.005 sparse_prior.py:21(_compute_message)\n",
      "       90    0.113    0.001    0.115    0.001 uncertain_array.py:121(__truediv__)\n",
      "       30    0.075    0.003    0.082    0.003 sparse_prior.py:47(approximate_posterior)\n",
      "       30    0.000    0.000    0.072    0.002 2175413533.py:44(monitor)\n",
      "       60    0.003    0.000    0.066    0.001 _pocketfft.py:701(_raw_fftnd)\n",
      "      120    0.001    0.000    0.061    0.001 _pocketfft.py:49(_raw_fft)\n",
      "      120    0.060    0.001    0.060    0.001 {built-in method numpy.fft._pocketfft_internal.execute}\n",
      "       30    0.005    0.000    0.055    0.002 wave.py:72(compute_belief)\n",
      "       30    0.003    0.000    0.053    0.002 fft_2d_propagator.py:18(_fft2_centered)\n",
      "       30    0.003    0.000    0.053    0.002 fft_2d_propagator.py:21(_ifft2_centered)\n",
      "       30    0.009    0.000    0.050    0.002 uncertain_array.py:153(combine)\n",
      "       30    0.000    0.000    0.047    0.002 fft_2d_propagator.py:67(forward)\n",
      "       30    0.000    0.000    0.033    0.001 _pocketfft.py:1017(ifft2)\n",
      "       30    0.000    0.000    0.033    0.001 _pocketfft.py:921(fft2)\n",
      "      120    0.032    0.000    0.033    0.000 numeric.py:1129(roll)\n",
      "       60    0.000    0.000    0.031    0.001 _pocketfft.py:219(ifft)\n",
      "       60    0.000    0.000    0.031    0.001 _pocketfft.py:122(fft)\n",
      "       30    0.025    0.001    0.026    0.001 numeric.py:932(tensordot)\n",
      "       30    0.023    0.001    0.023    0.001 uncertain_array.py:184(damp_with)\n",
      "       60    0.000    0.000    0.017    0.000 helper.py:76(ifftshift)\n",
      "       60    0.000    0.000    0.017    0.000 helper.py:19(fftshift)\n",
      "       30    0.000    0.000    0.015    0.001 base.py:41(backward)\n",
      "       30    0.014    0.000    0.015    0.001 metrics.py:3(mse)\n",
      "       30    0.015    0.000    0.015    0.001 phase_mask_propagator.py:33(_compute_backward)\n",
      "       30    0.014    0.000    0.014    0.000 shape_base.py:372(stack)\n",
      "       60    0.007    0.000    0.011    0.000 linalg_utils.py:4(reduce_precision_to_scalar)\n",
      "       30    0.000    0.000    0.008    0.000 base.py:21(forward)\n",
      "       30    0.007    0.000    0.007    0.000 phase_mask_propagator.py:26(_compute_forward)\n",
      "      180    0.006    0.000    0.006    0.000 factor.py:57(receive_message)\n",
      "       90    0.000    0.000    0.004    0.000 fromnumeric.py:3385(mean)\n",
      "       90    0.001    0.000    0.004    0.000 _methods.py:101(_mean)\n",
      "      240    0.003    0.000    0.003    0.000 {method 'reduce' of 'numpy.ufunc' objects}"
     ]
    }
   ],
   "source": [
    "%prun -l 40 -s cumulative g.run(n_iter=30, callback=monitor)"
   ]
  },
  {
   "cell_type": "code",
   "execution_count": 34,
   "id": "4f1ac958",
   "metadata": {},
   "outputs": [
    {
     "data": {
      "image/png": "[encoded data removed]",
      "text/plain": [
       "<Figure size 640x480 with 1 Axes>"
      ]
     },
     "metadata": {},
     "output_type": "display_data"
    }
   ],
   "source": [
    "g.visualize(layout=\"kamada_kawai\", font_size=7, scale=2.0)"
   ]
  },
  {
   "cell_type": "code",
   "execution_count": null,
   "id": "9295c6ed",
   "metadata": {},
   "outputs": [],
   "source": []
  }
 ],
 "metadata": {
  "kernelspec": {
   "display_name": "cupy-env",
   "language": "python",
   "name": "python3"
  },
  "language_info": {
   "codemirror_mode": {
    "name": "ipython",
    "version": 3
   },
   "file_extension": ".py",
   "mimetype": "text/x-python",
   "name": "python",
   "nbconvert_exporter": "python",
   "pygments_lexer": "ipython3",
   "version": "3.10.5"
  }
 },
 "nbformat": 4,
 "nbformat_minor": 5
}
