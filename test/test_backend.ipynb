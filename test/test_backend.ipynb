{
 "cells": [
  {
   "cell_type": "code",
   "execution_count": 1,
   "id": "6db69eec",
   "metadata": {},
   "outputs": [
    {
     "name": "stdout",
     "output_type": "stream",
     "text": [
      "PYTHONPATH manually set to: c:\\Users\\ndhaj\\Desktop\n"
     ]
    }
   ],
   "source": [
    "import os, sys\n",
    "\n",
    "project_root = os.path.abspath(os.path.join(os.getcwd(), '..', '..'))\n",
    "os.environ['PYTHONPATH'] = project_root\n",
    "if project_root not in sys.path:\n",
    "    sys.path.insert(0, project_root)\n",
    "\n",
    "print(\"PYTHONPATH manually set to:\", os.environ['PYTHONPATH'])"
   ]
  },
  {
   "cell_type": "code",
   "execution_count": 2,
   "id": "00ac45d4",
   "metadata": {},
   "outputs": [],
   "source": [
    "from gpie.core import backend\n",
    "from gpie.core.linalg_utils import (\n",
    "    random_normal_array,\n",
    "    complex_normal_random_array,\n",
    "    reduce_precision_to_scalar,\n",
    "    random_unitary_matrix,\n",
    "    random_binary_mask,\n",
    "    random_phase_mask,\n",
    "    circular_aperture,\n",
    "    square_aperture,\n",
    "    fft2_centered,\n",
    "    ifft2_centered,\n",
    "    sparse_complex_array,\n",
    "    masked_random_array,\n",
    "    angular_spectrum_phase_mask,\n",
    ")\n",
    "import numpy as np"
   ]
  },
  {
   "cell_type": "code",
   "execution_count": 3,
   "id": "ed57c027",
   "metadata": {},
   "outputs": [
    {
     "name": "stdout",
     "output_type": "stream",
     "text": [
      "Current backend: numpy\n"
     ]
    }
   ],
   "source": [
    "backend.set_backend(np)\n",
    "print(\"Current backend:\", backend.get_backend().__name__)"
   ]
  },
  {
   "cell_type": "code",
   "execution_count": 4,
   "id": "727507a9",
   "metadata": {},
   "outputs": [
    {
     "name": "stdout",
     "output_type": "stream",
     "text": [
      "Reduced scalar precision: 0.5361998093832389\n"
     ]
    }
   ],
   "source": [
    "precision_array = np.random.uniform(0.1, 2.0, size=(10, 10))\n",
    "scalar_prec = reduce_precision_to_scalar(precision_array)\n",
    "print(\"Reduced scalar precision:\", scalar_prec)"
   ]
  },
  {
   "cell_type": "code",
   "execution_count": 5,
   "id": "c0e73d6d",
   "metadata": {},
   "outputs": [
    {
     "name": "stdout",
     "output_type": "stream",
     "text": [
      "Unitary matrix shape: (8, 8)\n",
      "Is unitary (U.H @ U ≈ I)? True\n"
     ]
    }
   ],
   "source": [
    "U = random_unitary_matrix(8)\n",
    "print(\"Unitary matrix shape:\", U.shape)\n",
    "print(\"Is unitary (U.H @ U ≈ I)?\", np.allclose(U.conj().T @ U, np.eye(8), atol=1e-5))"
   ]
  },
  {
   "cell_type": "code",
   "execution_count": 6,
   "id": "0731462f",
   "metadata": {},
   "outputs": [
    {
     "name": "stdout",
     "output_type": "stream",
     "text": [
      "circular_aperture shape: (64, 64) bool\n",
      "square_aperture True ratio: 0.371337890625\n",
      "random_binary_mask True ratio: 0.25\n"
     ]
    }
   ],
   "source": [
    "circ = circular_aperture((64, 64), radius=0.3)\n",
    "sq = square_aperture((64, 64), radius=0.3)\n",
    "binmask = random_binary_mask((64, 64), subsampling_rate=0.25)\n",
    "phasemask = random_phase_mask((64, 64))\n",
    "\n",
    "print(\"circular_aperture shape:\", circ.shape, circ.dtype)\n",
    "print(\"square_aperture True ratio:\", np.mean(sq))\n",
    "print(\"random_binary_mask True ratio:\", np.mean(binmask))"
   ]
  },
  {
   "cell_type": "code",
   "execution_count": 7,
   "id": "d150791a",
   "metadata": {},
   "outputs": [
    {
     "name": "stdout",
     "output_type": "stream",
     "text": [
      "FFT round-trip error: 1.7763568394002505e-15\n"
     ]
    }
   ],
   "source": [
    "x = np.random.randn(32, 32)\n",
    "y = fft2_centered(x)\n",
    "z = ifft2_centered(y).real\n",
    "\n",
    "print(\"FFT round-trip error:\", np.max(np.abs(x - z)))"
   ]
  },
  {
   "cell_type": "code",
   "execution_count": 8,
   "id": "2badef4a",
   "metadata": {},
   "outputs": [
    {
     "name": "stdout",
     "output_type": "stream",
     "text": [
      "masked_random_array shape: (16, 16)\n",
      "sparse_complex_array non-zero count: 51\n"
     ]
    }
   ],
   "source": [
    "mask = np.random.rand(16, 16) > 0.5\n",
    "masked = masked_random_array(mask)\n",
    "sparse = sparse_complex_array((16, 16), sparsity=0.2)\n",
    "\n",
    "print(\"masked_random_array shape:\", masked.shape)\n",
    "print(\"sparse_complex_array non-zero count:\", np.count_nonzero(sparse))"
   ]
  },
  {
   "cell_type": "code",
   "execution_count": 9,
   "id": "350d81d3",
   "metadata": {},
   "outputs": [
    {
     "name": "stdout",
     "output_type": "stream",
     "text": [
      "angular_spectrum_phase_mask dtype: complex128 (32, 32)\n"
     ]
    }
   ],
   "source": [
    "asp = angular_spectrum_phase_mask(\n",
    "    shape=(32, 32),\n",
    "    wavelength=500e-9,\n",
    "    distance=0.01,\n",
    "    dx=1e-6\n",
    ")\n",
    "print(\"angular_spectrum_phase_mask dtype:\", asp.dtype, asp.shape)"
   ]
  },
  {
   "cell_type": "code",
   "execution_count": 10,
   "id": "04761fb6",
   "metadata": {},
   "outputs": [
    {
     "name": "stdout",
     "output_type": "stream",
     "text": [
      "Switched backend to: cupy\n",
      "CuPy array type: <class 'cupy.ndarray'> shape: (4, 4)\n"
     ]
    }
   ],
   "source": [
    "import cupy as cp\n",
    "backend.set_backend(cp)\n",
    "print(\"Switched backend to:\", backend.get_backend().__name__)\n",
    "\n",
    "ua = random_normal_array((4, 4), dtype=cp.complex128)\n",
    "print(\"CuPy array type:\", type(ua), \"shape:\", ua.shape)"
   ]
  },
  {
   "cell_type": "code",
   "execution_count": 11,
   "id": "db367680",
   "metadata": {},
   "outputs": [
    {
     "name": "stdout",
     "output_type": "stream",
     "text": [
      "13.4.1\n"
     ]
    }
   ],
   "source": [
    "print(cp.__version__)"
   ]
  },
  {
   "cell_type": "code",
   "execution_count": null,
   "id": "4a1c7497",
   "metadata": {},
   "outputs": [],
   "source": []
  }
 ],
 "metadata": {
  "kernelspec": {
   "display_name": "cupy-env",
   "language": "python",
   "name": "python3"
  },
  "language_info": {
   "codemirror_mode": {
    "name": "ipython",
    "version": 3
   },
   "file_extension": ".py",
   "mimetype": "text/x-python",
   "name": "python",
   "nbconvert_exporter": "python",
   "pygments_lexer": "ipython3",
   "version": "3.10.5"
  }
 },
 "nbformat": 4,
 "nbformat_minor": 5
}
