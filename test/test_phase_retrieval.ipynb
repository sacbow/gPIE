{
 "cells": [
  {
   "cell_type": "code",
   "execution_count": 1,
   "id": "b7a20c76",
   "metadata": {},
   "outputs": [
    {
     "name": "stdout",
     "output_type": "stream",
     "text": [
      "PYTHONPATH manually set to: c:\\Users\\ndhaj\\Desktop\n"
     ]
    }
   ],
   "source": [
    "import os, sys\n",
    "\n",
    "project_root = os.path.abspath(os.path.join(os.getcwd(), '..', '..'))\n",
    "os.environ['PYTHONPATH'] = project_root\n",
    "if project_root not in sys.path:\n",
    "    sys.path.insert(0, project_root)\n",
    "\n",
    "print(\"PYTHONPATH manually set to:\", os.environ['PYTHONPATH'])"
   ]
  },
  {
   "cell_type": "code",
   "execution_count": 2,
   "id": "48b8a2ec",
   "metadata": {},
   "outputs": [
    {
     "name": "stdout",
     "output_type": "stream",
     "text": [
      "[t=0] PMSE = 5.50100e-01\n",
      "[t=20] PMSE = 3.24114e-01\n",
      "[t=40] PMSE = 2.47346e-01\n",
      "[t=60] PMSE = 2.19724e-03\n",
      "[t=80] PMSE = 2.99374e-04\n",
      "[t=100] PMSE = 1.99921e-04\n",
      "[t=120] PMSE = 1.95034e-04\n",
      "[t=140] PMSE = 1.95042e-04\n",
      "[t=160] PMSE = 1.95044e-04\n",
      "[t=180] PMSE = 1.95043e-04\n"
     ]
    }
   ],
   "source": [
    "import numpy as np\n",
    "from gpie import Graph, SupportPrior, fft2, PhaseMaskPropagator, AmplitudeMeasurement, pmse\n",
    "from gpie.core.linalg_utils import circular_aperture, random_phase_mask, random_normal_array\n",
    "\n",
    "# ==== 1. パラメータ ====\n",
    "H, W = 128, 128\n",
    "shape = (H, W)\n",
    "var = 1e-4\n",
    "support_radius = 0.3\n",
    "rng = np.random.default_rng(seed=42)\n",
    "support = circular_aperture(shape, radius=support_radius)\n",
    "\n",
    "class StructuredRandomGraph(Graph):\n",
    "    def __init__(self, n_layers=1):\n",
    "        super().__init__()\n",
    "        # Support Prior\n",
    "        x = ~SupportPrior(support=support, label = \"object\")\n",
    "        # Random Structured Matrix\n",
    "        for i in range(n_layers):\n",
    "            phase = random_phase_mask(shape, rng=rng)\n",
    "            x = fft2(phase * x)\n",
    "        with self.observe():\n",
    "            z = AmplitudeMeasurement(var=var, damping=0.2) @ x\n",
    "        self.compile()\n",
    "\n",
    "# ==== 4. 初期化と推論 ====\n",
    "g = StructuredRandomGraph(n_layers=2)\n",
    "g.set_init_rng(np.random.default_rng(seed=1))\n",
    "g.generate_sample(rng=np.random.default_rng(seed=999), update_observed=True)\n",
    "X = g.get_wave(\"object\")\n",
    "true_x = X.get_sample()\n",
    "\n",
    "def monitor(graph, t):\n",
    "    X = graph.get_wave(\"object\")\n",
    "    est = X.compute_belief().data\n",
    "    err = pmse(est, true_x)\n",
    "    if t % 20 == 0:\n",
    "        print(f\"[t={t}] PMSE = {err:.5e}\")\n",
    "\n",
    "g.run(n_iter=200, callback=monitor, verbose = False)"
   ]
  },
  {
   "cell_type": "code",
   "execution_count": null,
   "id": "0638462d",
   "metadata": {},
   "outputs": [],
   "source": []
  }
 ],
 "metadata": {
  "kernelspec": {
   "display_name": "cupy-env",
   "language": "python",
   "name": "python3"
  },
  "language_info": {
   "codemirror_mode": {
    "name": "ipython",
    "version": 3
   },
   "file_extension": ".py",
   "mimetype": "text/x-python",
   "name": "python",
   "nbconvert_exporter": "python",
   "pygments_lexer": "ipython3",
   "version": "3.10.5"
  }
 },
 "nbformat": 4,
 "nbformat_minor": 5
}
