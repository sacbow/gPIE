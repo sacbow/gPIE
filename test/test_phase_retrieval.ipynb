{
 "cells": [
  {
   "cell_type": "code",
   "execution_count": 9,
   "id": "b7a20c76",
   "metadata": {},
   "outputs": [
    {
     "name": "stdout",
     "output_type": "stream",
     "text": [
      "PYTHONPATH manually set to: c:\\Users\\ndhaj\\Desktop\\GraphicalPR\n"
     ]
    }
   ],
   "source": [
    "import os, sys\n",
    "\n",
    "project_root = os.path.abspath(os.path.join(os.getcwd(), '..'))\n",
    "os.environ['PYTHONPATH'] = project_root\n",
    "if project_root not in sys.path:\n",
    "    sys.path.insert(0, project_root)\n",
    "\n",
    "print(\"PYTHONPATH manually set to:\", os.environ['PYTHONPATH'])"
   ]
  },
  {
   "cell_type": "code",
   "execution_count": 10,
   "id": "92b4ba63",
   "metadata": {},
   "outputs": [
    {
     "name": "stdout",
     "output_type": "stream",
     "text": [
      "[t=0] PMSE = 4.714e-01\n",
      "[t=10] PMSE = 4.236e-01\n",
      "[t=20] PMSE = 3.191e-01\n",
      "[t=30] PMSE = 2.684e-01\n",
      "[t=40] PMSE = 2.155e-01\n",
      "[t=50] PMSE = 8.682e-02\n",
      "[t=60] PMSE = 4.601e-03\n",
      "[t=70] PMSE = 3.256e-04\n",
      "[t=80] PMSE = 2.732e-04\n",
      "[t=90] PMSE = 2.735e-04\n",
      "\n",
      "Final PMSE after 30 iterations: 2.736e-04\n"
     ]
    }
   ],
   "source": [
    "import numpy as np\n",
    "from core.metrics import pmse\n",
    "from core.linalg_utils import circular_aperture, random_unitary_matrix\n",
    "from graph.structure.graph import Graph\n",
    "from graph.prior.support_prior import SupportPrior\n",
    "from graph.propagator.unitary_propagator import UnitaryPropagator\n",
    "from graph.measurement.amplitude_measurement import AmplitudeMeasurement\n",
    "\n",
    "# ==== 1. パラメータ ====\n",
    "n = 128\n",
    "shape = (3 * n,)\n",
    "rng = np.random.default_rng(seed=123)\n",
    "var = 1e-4\n",
    "U = random_unitary_matrix(3 * n, rng=rng)\n",
    "\n",
    "# Support mask: center half active\n",
    "support = np.zeros(shape, dtype=bool)\n",
    "support[n:2*n] = True\n",
    "\n",
    "# ==== 2. グラフ定義 ====\n",
    "class SimplePhaseGraph(Graph):\n",
    "    def __init__(self):\n",
    "        super().__init__()\n",
    "\n",
    "        self.X = SupportPrior(support=support)\n",
    "\n",
    "        self.Y = UnitaryPropagator(U) @ self.X\n",
    "\n",
    "        self.Z = AmplitudeMeasurement(self.Y, var=var, damping=0.1)\n",
    "\n",
    "        self.compile()\n",
    "\n",
    "# ==== 3. 初期化とデータ生成 ====\n",
    "g = SimplePhaseGraph()\n",
    "g.set_init_rng(np.random.default_rng(seed=1))\n",
    "\n",
    "g.generate_sample(rng=np.random.default_rng(seed=999))\n",
    "true_x = g.X.get_sample()\n",
    "\n",
    "# 観測データを measurement に設定\n",
    "g.Z.update_observed_from_sample()\n",
    "\n",
    "# ==== 4. 推論（Belief Propagation） ====\n",
    "def monitor(graph, t):\n",
    "    if t % 10 == 0:\n",
    "        est = graph.X.compute_belief().data\n",
    "        err = pmse(est, true_x)\n",
    "        print(f\"[t={t}] PMSE = {err:.3e}\")\n",
    "\n",
    "g.run(n_iter=100, callback=monitor)\n",
    "\n",
    "# ==== 5. 結果 ====\n",
    "final_est = g.X.compute_belief().data\n",
    "final_err = pmse(final_est, true_x)\n",
    "print(f\"\\nFinal PMSE after 30 iterations: {final_err:.3e}\")"
   ]
  },
  {
   "cell_type": "code",
   "execution_count": 11,
   "id": "7abfc598",
   "metadata": {},
   "outputs": [
    {
     "name": "stdout",
     "output_type": "stream",
     "text": [
      "[t=0] PMSE = 2.736e-04\n",
      "[t=10] PMSE = 2.736e-04\n",
      "[t=20] PMSE = 2.736e-04\n",
      "[t=30] PMSE = 2.736e-04\n",
      "[t=40] PMSE = 2.736e-04\n",
      "[t=50] PMSE = 2.736e-04\n",
      "[t=60] PMSE = 2.736e-04\n",
      "[t=70] PMSE = 2.736e-04\n",
      "[t=80] PMSE = 2.736e-04\n",
      "[t=90] PMSE = 2.736e-04\n",
      " "
     ]
    },
    {
     "name": "stdout",
     "output_type": "stream",
     "text": [
      "         20831 function calls in 0.339 seconds\n",
      "\n",
      "   Ordered by: cumulative time\n",
      "   List reduced from 105 to 40 due to restriction <40>\n",
      "\n",
      "   ncalls  tottime  percall  cumtime  percall filename:lineno(function)\n",
      "        1    0.000    0.000    0.339    0.339 {built-in method builtins.exec}\n",
      "        1    0.000    0.000    0.339    0.339 <string>:1(<module>)\n",
      "        1    0.000    0.000    0.339    0.339 graph.py:58(run)\n",
      "      100    0.001    0.000    0.324    0.003 graph.py:53(backward)\n",
      "      100    0.001    0.000    0.279    0.003 unitary_propagator.py:91(backward)\n",
      "      100    0.245    0.002    0.262    0.003 unitary_propagator.py:29(compute_belief)\n",
      "      100    0.001    0.000    0.042    0.000 base.py:50(backward)\n",
      "      100    0.001    0.000    0.041    0.000 amplitude_measurement.py:77(_compute_message)\n",
      "      300    0.015    0.000    0.024    0.000 uncertain_array.py:121(__truediv__)\n",
      "      200    0.006    0.000    0.022    0.000 linalg_utils.py:4(reduce_precision_to_scalar)\n",
      "      100    0.013    0.000    0.021    0.000 amplitude_measurement.py:53(approximate_posterior)\n",
      "      100    0.000    0.000    0.012    0.000 uncertain_array.py:220(as_scalar_precision)\n",
      "      810    0.003    0.000    0.011    0.000 uncertain_array.py:5(__init__)\n",
      "      100    0.000    0.000    0.011    0.000 uncertain_array.py:210(to_scalar_precision)\n",
      "      210    0.001    0.000    0.010    0.000 fromnumeric.py:3385(mean)\n",
      "      210    0.003    0.000    0.009    0.000 _methods.py:101(_mean)\n",
      "      100    0.001    0.000    0.008    0.000 graph.py:48(forward)\n",
      "     1940    0.003    0.000    0.007    0.000 numeric.py:1855(isscalar)\n",
      "      810    0.003    0.000    0.007    0.000 uncertain_array.py:27(_set_precision_internal)\n",
      "      100    0.000    0.000    0.006    0.000 1068074709.py:44(monitor)\n",
      "      200    0.001    0.000    0.006    0.000 fromnumeric.py:2322(any)\n",
      "      220    0.002    0.000    0.006    0.000 fromnumeric.py:71(_wrapreduction)\n",
      "      100    0.000    0.000    0.005    0.000 unitary_propagator.py:81(forward)\n",
      "      430    0.005    0.000    0.005    0.000 {method 'reduce' of 'numpy.ufunc' objects}\n",
      "      110    0.004    0.000    0.004    0.000 function_base.py:1606(angle)\n",
      "     3740    0.002    0.000    0.004    0.000 {built-in method builtins.isinstance}\n",
      "      320    0.001    0.000    0.004    0.000 uncertain_array.py:58(precision)\n",
      "      100    0.001    0.000    0.003    0.000 fromnumeric.py:2100(clip)\n",
      "       10    0.000    0.000    0.003    0.000 wave.py:72(compute_belief)\n",
      "      100    0.003    0.000    0.003    0.000 uncertain_array.py:184(damp_with)\n",
      "       10    0.001    0.000    0.003    0.000 uncertain_array.py:153(combine)\n",
      "      210    0.003    0.000    0.003    0.000 _methods.py:67(_count_reduce_items)\n",
      "      100    0.000    0.000    0.003    0.000 fromnumeric.py:53(_wrapfunc)\n",
      "      200    0.001    0.000    0.002    0.000 wave.py:115(backward)\n",
      "      100    0.000    0.000    0.002    0.000 {method 'clip' of 'numpy.ndarray' objects}\n",
      "      100    0.002    0.000    0.002    0.000 _methods.py:90(_clip)\n",
      "      400    0.002    0.000    0.002    0.000 factor.py:57(receive_message)\n",
      "      100    0.001    0.000    0.002    0.000 numeric.py:274(full)\n",
      "      840    0.001    0.000    0.002    0.000 abc.py:117(__instancecheck__)\n",
      "       10    0.000    0.000    0.001    0.000 {built-in method builtins.print}"
     ]
    }
   ],
   "source": [
    "%prun -l 40 -s cumulative g.run(n_iter=100, callback=monitor)"
   ]
  },
  {
   "cell_type": "code",
   "execution_count": null,
   "id": "71422d23",
   "metadata": {},
   "outputs": [],
   "source": []
  }
 ],
 "metadata": {
  "kernelspec": {
   "display_name": "cupy-env",
   "language": "python",
   "name": "python3"
  },
  "language_info": {
   "codemirror_mode": {
    "name": "ipython",
    "version": 3
   },
   "file_extension": ".py",
   "mimetype": "text/x-python",
   "name": "python",
   "nbconvert_exporter": "python",
   "pygments_lexer": "ipython3",
   "version": "3.10.5"
  }
 },
 "nbformat": 4,
 "nbformat_minor": 5
}
