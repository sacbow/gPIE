{
 "cells": [
  {
   "cell_type": "code",
   "execution_count": 12,
   "id": "b7a20c76",
   "metadata": {},
   "outputs": [
    {
     "name": "stdout",
     "output_type": "stream",
     "text": [
      "PYTHONPATH manually set to: c:\\Users\\ndhaj\\Desktop\\GraphicalPR\n"
     ]
    }
   ],
   "source": [
    "import os, sys\n",
    "\n",
    "project_root = os.path.abspath(os.path.join(os.getcwd(), '..'))\n",
    "os.environ['PYTHONPATH'] = project_root\n",
    "if project_root not in sys.path:\n",
    "    sys.path.insert(0, project_root)\n",
    "\n",
    "print(\"PYTHONPATH manually set to:\", os.environ['PYTHONPATH'])"
   ]
  },
  {
   "cell_type": "code",
   "execution_count": 13,
   "id": "92b4ba63",
   "metadata": {},
   "outputs": [
    {
     "name": "stdout",
     "output_type": "stream",
     "text": [
      "[t=0] PMSE = 7.012e-01\n",
      "[t=20] PMSE = 3.240e-01\n",
      "[t=40] PMSE = 1.971e-03\n",
      "[t=60] PMSE = 2.514e-04\n",
      "[t=80] PMSE = 2.516e-04\n",
      "\n",
      "Final PMSE after 100 iterations: 2.516e-04\n"
     ]
    }
   ],
   "source": [
    "import numpy as np\n",
    "from core.metrics import pmse\n",
    "from core.linalg_utils import circular_aperture, random_unitary_matrix\n",
    "from graph.structure.graph import Graph\n",
    "from graph.prior.support_prior import SupportPrior\n",
    "from graph.propagator.unitary_propagator import UnitaryPropagator\n",
    "from graph.measurement.amplitude_measurement import AmplitudeMeasurement\n",
    "\n",
    "# ==== 1. パラメータ ====\n",
    "n = 256\n",
    "m = int(3*n)\n",
    "shape = (m,)\n",
    "rng = np.random.default_rng(seed=123)\n",
    "var = 1e-4\n",
    "U = random_unitary_matrix(m, rng=rng)\n",
    "\n",
    "# Support mask: center half active\n",
    "support = np.zeros(shape, dtype=bool)\n",
    "support[n:2*n] = True\n",
    "\n",
    "# ==== 2. グラフ定義 ====\n",
    "class SimplePhaseGraph(Graph):\n",
    "    def __init__(self):\n",
    "        super().__init__()\n",
    "\n",
    "        self.X = SupportPrior(support=support)\n",
    "\n",
    "        self.Y = UnitaryPropagator(U) @ self.X\n",
    "\n",
    "        self.Z = AmplitudeMeasurement(self.Y, var=var, damping=0.1)\n",
    "\n",
    "        self.compile()\n",
    "\n",
    "# ==== 3. 初期化とデータ生成 ====\n",
    "g = SimplePhaseGraph()\n",
    "g.set_init_rng(np.random.default_rng(seed=11))\n",
    "\n",
    "g.generate_sample(rng=np.random.default_rng(seed=999))\n",
    "true_x = g.X.get_sample()\n",
    "\n",
    "# 観測データを measurement に設定\n",
    "g.Z.update_observed_from_sample()\n",
    "\n",
    "# ==== 4. 推論（Belief Propagation） ====\n",
    "def monitor(graph, t):\n",
    "    if t % 20 == 0:\n",
    "        est = graph.X.compute_belief().data\n",
    "        err = pmse(est, true_x)\n",
    "        print(f\"[t={t}] PMSE = {err:.3e}\")\n",
    "\n",
    "g.run(n_iter=100, callback=monitor)\n",
    "\n",
    "# ==== 5. 結果 ====\n",
    "final_est = g.X.compute_belief().data\n",
    "final_err = pmse(final_est, true_x)\n",
    "print(f\"\\nFinal PMSE after 100 iterations: {final_err:.3e}\")"
   ]
  },
  {
   "cell_type": "code",
   "execution_count": 14,
   "id": "7abfc598",
   "metadata": {},
   "outputs": [
    {
     "name": "stdout",
     "output_type": "stream",
     "text": [
      "[t=0] PMSE = 2.516e-04\n",
      "[t=20] PMSE = 2.516e-04\n",
      "[t=40] PMSE = 2.516e-04\n",
      "[t=60] PMSE = 2.516e-04\n",
      "[t=80] PMSE = 2.516e-04\n",
      " "
     ]
    },
    {
     "name": "stdout",
     "output_type": "stream",
     "text": [
      "         20218 function calls in 0.072 seconds\n",
      "\n",
      "   Ordered by: cumulative time\n",
      "   List reduced from 105 to 40 due to restriction <40>\n",
      "\n",
      "   ncalls  tottime  percall  cumtime  percall filename:lineno(function)\n",
      "        1    0.000    0.000    0.072    0.072 {built-in method builtins.exec}\n",
      "        1    0.000    0.000    0.072    0.072 <string>:1(<module>)\n",
      "        1    0.000    0.000    0.072    0.072 graph.py:58(run)\n",
      "      100    0.000    0.000    0.068    0.001 graph.py:53(backward)\n",
      "      100    0.000    0.000    0.054    0.001 unitary_propagator.py:91(backward)\n",
      "      100    0.045    0.000    0.050    0.001 unitary_propagator.py:29(compute_belief)\n",
      "      100    0.000    0.000    0.014    0.000 base.py:50(backward)\n",
      "      100    0.000    0.000    0.013    0.000 amplitude_measurement.py:77(_compute_message)\n",
      "      100    0.005    0.000    0.008    0.000 amplitude_measurement.py:53(approximate_posterior)\n",
      "      300    0.004    0.000    0.006    0.000 uncertain_array.py:121(__truediv__)\n",
      "      200    0.002    0.000    0.006    0.000 linalg_utils.py:4(reduce_precision_to_scalar)\n",
      "      100    0.000    0.000    0.003    0.000 uncertain_array.py:220(as_scalar_precision)\n",
      "      100    0.000    0.000    0.003    0.000 uncertain_array.py:210(to_scalar_precision)\n",
      "      805    0.001    0.000    0.003    0.000 uncertain_array.py:5(__init__)\n",
      "      205    0.000    0.000    0.003    0.000 fromnumeric.py:3385(mean)\n",
      "      100    0.000    0.000    0.002    0.000 graph.py:48(forward)\n",
      "      205    0.001    0.000    0.002    0.000 _methods.py:101(_mean)\n",
      "     1920    0.001    0.000    0.002    0.000 numeric.py:1855(isscalar)\n",
      "      105    0.002    0.000    0.002    0.000 function_base.py:1606(angle)\n",
      "      805    0.001    0.000    0.002    0.000 uncertain_array.py:27(_set_precision_internal)\n",
      "      100    0.000    0.000    0.002    0.000 unitary_propagator.py:81(forward)\n",
      "      200    0.000    0.000    0.002    0.000 fromnumeric.py:2322(any)\n",
      "      210    0.000    0.000    0.001    0.000 fromnumeric.py:71(_wrapreduction)\n",
      "      415    0.001    0.000    0.001    0.000 {method 'reduce' of 'numpy.ufunc' objects}\n",
      "      100    0.000    0.000    0.001    0.000 3522700336.py:45(monitor)\n",
      "      100    0.001    0.000    0.001    0.000 uncertain_array.py:184(damp_with)\n",
      "     3670    0.001    0.000    0.001    0.000 {built-in method builtins.isinstance}\n",
      "      310    0.000    0.000    0.001    0.000 uncertain_array.py:58(precision)\n",
      "      100    0.000    0.000    0.001    0.000 fromnumeric.py:2100(clip)\n",
      "      205    0.001    0.000    0.001    0.000 _methods.py:67(_count_reduce_items)\n",
      "      100    0.000    0.000    0.001    0.000 fromnumeric.py:53(_wrapfunc)\n",
      "      200    0.000    0.000    0.001    0.000 wave.py:115(backward)\n",
      "      100    0.000    0.000    0.001    0.000 {method 'clip' of 'numpy.ndarray' objects}\n",
      "        5    0.000    0.000    0.000    0.000 wave.py:72(compute_belief)\n",
      "        5    0.000    0.000    0.000    0.000 uncertain_array.py:153(combine)\n",
      "      400    0.000    0.000    0.000    0.000 factor.py:57(receive_message)\n",
      "      820    0.000    0.000    0.000    0.000 abc.py:117(__instancecheck__)\n",
      "      100    0.000    0.000    0.000    0.000 _methods.py:90(_clip)\n",
      "      100    0.000    0.000    0.000    0.000 numeric.py:274(full)\n",
      "        5    0.000    0.000    0.000    0.000 {built-in method builtins.print}"
     ]
    }
   ],
   "source": [
    "%prun -l 40 -s cumulative g.run(n_iter=100, callback=monitor)"
   ]
  },
  {
   "cell_type": "code",
   "execution_count": 15,
   "id": "71422d23",
   "metadata": {},
   "outputs": [
    {
     "data": {
      "image/png": "[encoded data removed]",
      "text/plain": [
       "<Figure size 640x480 with 1 Axes>"
      ]
     },
     "metadata": {},
     "output_type": "display_data"
    }
   ],
   "source": [
    "g.visualize(layout=\"kamada_kawai\", font_size=6.5, scale=2.0)"
   ]
  },
  {
   "cell_type": "markdown",
   "id": "94d45b18",
   "metadata": {},
   "source": [
    "## Sparse Phase Retrieval"
   ]
  },
  {
   "cell_type": "code",
   "execution_count": 62,
   "id": "366d0cb0",
   "metadata": {},
   "outputs": [
    {
     "name": "stdout",
     "output_type": "stream",
     "text": [
      "[t=0] PMSE = 3.311e-01\n",
      "[t=100] PMSE = 1.804e-01\n",
      "[t=200] PMSE = 1.804e-01\n",
      "[t=300] PMSE = 1.804e-01\n",
      "[t=400] PMSE = 1.804e-01\n",
      "[t=500] PMSE = 1.804e-01\n",
      "[t=600] PMSE = 1.804e-01\n",
      "[t=700] PMSE = 1.804e-01\n",
      "[t=800] PMSE = 1.804e-01\n",
      "[t=900] PMSE = 1.804e-01\n",
      "\n",
      "Final PMSE after 1000 iterations: 1.804e-01\n"
     ]
    }
   ],
   "source": [
    "import numpy as np\n",
    "from core.metrics import pmse\n",
    "from core.linalg_utils import random_unitary_matrix\n",
    "from graph.structure.graph import Graph\n",
    "from graph.prior.sparse_prior import SparsePrior\n",
    "from graph.propagator.unitary_propagator import UnitaryPropagator\n",
    "from graph.measurement.amplitude_measurement import AmplitudeMeasurement\n",
    "\n",
    "# ==== 1. パラメータ ====\n",
    "n = 128\n",
    "rho = 0.2\n",
    "var = 1e-4\n",
    "rng = np.random.default_rng(seed=43)\n",
    "U = random_unitary_matrix(n, rng=rng)\n",
    "\n",
    "# ==== 2. グラフ定義 ====\n",
    "class SparsePhaseGraph(Graph):\n",
    "    def __init__(self):\n",
    "        super().__init__()\n",
    "        self.X = SparsePrior(rho=rho, shape=(n,), damping=0.3)\n",
    "        self.Y = UnitaryPropagator(U) @ self.X\n",
    "        self.Z = AmplitudeMeasurement(self.Y, var=var, damping=0.3)\n",
    "        self.compile()\n",
    "\n",
    "# ==== 3. 実行 ====\n",
    "g = SparsePhaseGraph()\n",
    "g.set_init_rng(np.random.default_rng(seed=15))\n",
    "g.generate_sample(rng=np.random.default_rng(seed=99))\n",
    "true_x = g.X.get_sample()\n",
    "g.Z.update_observed_from_sample()\n",
    "\n",
    "# ==== 4. 推論 ====\n",
    "def monitor(graph, t):\n",
    "    if t % 100 == 0:\n",
    "        est = graph.X.compute_belief().data\n",
    "        err = pmse(est, true_x)\n",
    "        print(f\"[t={t}] PMSE = {err:.3e}\")\n",
    "\n",
    "g.run(n_iter=1000, callback=monitor)\n",
    "\n",
    "final_est = g.X.compute_belief().data\n",
    "final_err = pmse(final_est, true_x)\n",
    "print(f\"\\nFinal PMSE after 1000 iterations: {final_err:.3e}\")"
   ]
  },
  {
   "cell_type": "markdown",
   "id": "8471d288",
   "metadata": {},
   "source": [
    "## Fourier Phase Retrieval"
   ]
  },
  {
   "cell_type": "code",
   "execution_count": 72,
   "id": "a797500a",
   "metadata": {},
   "outputs": [
    {
     "name": "stdout",
     "output_type": "stream",
     "text": [
      "[t=0] PMSE = 5.80475e-01\n",
      "[t=40] PMSE = 4.11579e-01\n",
      "[t=80] PMSE = 4.39472e-01\n",
      "[t=120] PMSE = 4.75846e-01\n",
      "[t=160] PMSE = 4.96459e-01\n",
      "[t=200] PMSE = 5.12192e-01\n",
      "[t=240] PMSE = 5.22924e-01\n",
      "[t=280] PMSE = 5.31951e-01\n",
      "[t=320] PMSE = 5.37430e-01\n",
      "[t=360] PMSE = 5.40362e-01\n",
      "3.53677651315323\n"
     ]
    }
   ],
   "source": [
    "import numpy as np\n",
    "import matplotlib.pyplot as plt\n",
    "\n",
    "from core.metrics import pmse\n",
    "from core.linalg_utils import circular_aperture\n",
    "from graph.structure.graph import Graph\n",
    "from graph.prior.support_prior import SupportPrior\n",
    "from graph.propagator.fft_2d_propagator import FFT2DPropagator\n",
    "from graph.measurement.amplitude_measurement import AmplitudeMeasurement\n",
    "\n",
    "# ==== 1. パラメータ設定 ====\n",
    "H, W = 128, 128\n",
    "shape = (H, W)\n",
    "var = 1e-6\n",
    "support_radius = 0.3\n",
    "rng = np.random.default_rng(seed=42)\n",
    "\n",
    "# ==== 2. グラフ定義 ====\n",
    "class PhaseRetrievalGraph(Graph):\n",
    "    def __init__(self):\n",
    "        super().__init__()\n",
    "        # 2.1 Support mask\n",
    "        support = circular_aperture(shape, radius=support_radius)\n",
    "        self.X = SupportPrior(support=support, scalar_precision=False)\n",
    "        # 2.2 Forward model: FFT only\n",
    "        self.Y = FFT2DPropagator(shape=shape) @ self.X\n",
    "        # 2.3 AmplitudeMeasurement (nonlinear)\n",
    "        self.Z = AmplitudeMeasurement(self.Y, var=var, damping=0.05)\n",
    "        self.compile()\n",
    "\n",
    "# ==== 3. 初期化とデータ生成 ====\n",
    "g = PhaseRetrievalGraph()\n",
    "g.set_init_rng(np.random.default_rng(seed=1))\n",
    "g.generate_sample(rng=np.random.default_rng(seed=11))\n",
    "\n",
    "true_x = g.X.get_sample()\n",
    "g.Z.update_observed_from_sample()\n",
    "\n",
    "# ==== 4. 推論（Belief Propagation）====\n",
    "def monitor(graph, t):\n",
    "    est = graph.X.compute_belief().data\n",
    "    err = pmse(est, true_x)\n",
    "    if t % 40 == 0:\n",
    "        print(f\"[t={t}] PMSE = {err:.5e}\")\n",
    "\n",
    "g.run(n_iter=400, callback=monitor)\n",
    "print(1/(support_radius**2 * np.pi))"
   ]
  },
  {
   "cell_type": "code",
   "execution_count": 75,
   "id": "5cd4b797",
   "metadata": {},
   "outputs": [
    {
     "name": "stdout",
     "output_type": "stream",
     "text": [
      "[t=0] PMSE = 5.58730e-01\n",
      "[t=10] PMSE = 4.96965e-01\n",
      "[t=20] PMSE = 5.34579e-01\n",
      "[t=30] PMSE = 5.36787e-01\n",
      "[t=40] PMSE = 5.37293e-01\n",
      "[t=50] PMSE = 5.37473e-01\n",
      "[t=60] PMSE = 5.37626e-01\n",
      "[t=70] PMSE = 5.37613e-01\n",
      "[t=80] PMSE = 5.37653e-01\n",
      "[t=90] PMSE = 5.38025e-01\n"
     ]
    }
   ],
   "source": [
    "import numpy as np\n",
    "import matplotlib.pyplot as plt\n",
    "\n",
    "from core.metrics import pmse\n",
    "from core.linalg_utils import circular_aperture, random_phase_mask\n",
    "from graph.structure.graph import Graph\n",
    "from graph.prior.support_prior import SupportPrior\n",
    "from graph.propagator.phase_mask_propagator import PhaseMaskPropagator\n",
    "from graph.propagator.fft_2d_propagator import FFT2DPropagator\n",
    "from graph.measurement.amplitude_measurement import AmplitudeMeasurement\n",
    "\n",
    "# ==== 1. パラメータ ====\n",
    "H, W = 128, 128\n",
    "shape = (H, W)\n",
    "var = 1e-4\n",
    "support_radius = 0.3\n",
    "rng = np.random.default_rng(seed=42)\n",
    "\n",
    "# ==== 2. グラフ定義 ====\n",
    "class PhaseCodedCDIGraph(Graph):\n",
    "    def __init__(self):\n",
    "        super().__init__()\n",
    "\n",
    "        support = circular_aperture(shape, radius=support_radius)\n",
    "        self.X = SupportPrior(support=support, scalar_precision=False)\n",
    "\n",
    "        # Phase mask (adds randomness before FFT)\n",
    "        phase_mask = random_phase_mask(shape, rng=rng)\n",
    "        self.Y = PhaseMaskPropagator(phase_mask) @ self.X\n",
    "\n",
    "        self.F = FFT2DPropagator(shape=shape) @ self.Y\n",
    "\n",
    "        # Amplitude measurement with Laplace approximation\n",
    "        self.Z = AmplitudeMeasurement(self.F, var=var, damping=0.3)\n",
    "\n",
    "        self.compile()\n",
    "\n",
    "# ==== 3. 初期化とデータ生成 ====\n",
    "g = PhaseCodedCDIGraph()\n",
    "g.set_init_rng(np.random.default_rng(seed=1))\n",
    "g.generate_sample(rng=np.random.default_rng(seed=999))\n",
    "true_x = g.X.get_sample()\n",
    "g.Z.update_observed_from_sample()\n",
    "\n",
    "# ==== 4. 推論 ====\n",
    "def monitor(graph, t):\n",
    "    est = graph.X.compute_belief().data\n",
    "    err = pmse(est, true_x)\n",
    "    if t % 10 == 0:\n",
    "        print(f\"[t={t}] PMSE = {err:.5e}\")\n",
    "\n",
    "g.run(n_iter=100, callback=monitor)"
   ]
  },
  {
   "cell_type": "code",
   "execution_count": 88,
   "id": "48b8a2ec",
   "metadata": {},
   "outputs": [
    {
     "name": "stdout",
     "output_type": "stream",
     "text": [
      "[t=0] PMSE = 6.38548e-01\n",
      "[t=20] PMSE = 3.28026e-01\n",
      "[t=40] PMSE = 3.17932e-01\n",
      "[t=60] PMSE = 3.13583e-01\n",
      "[t=80] PMSE = 3.11989e-01\n",
      "[t=100] PMSE = 2.93001e-01\n",
      "[t=120] PMSE = 3.23965e-03\n",
      "[t=140] PMSE = 2.50348e-04\n",
      "[t=160] PMSE = 2.49270e-04\n",
      "[t=180] PMSE = 2.49244e-04\n",
      "Oversampling Ration =  3.108494982263581\n"
     ]
    }
   ],
   "source": [
    "# ==== 1. パラメータ ====\n",
    "H, W = 256, 256\n",
    "shape = (H, W)\n",
    "var = 1e-4\n",
    "support_radius = 0.32\n",
    "rng = np.random.default_rng(seed=42)\n",
    "\n",
    "class StructuredRandomGraph(Graph):\n",
    "    def __init__(self):\n",
    "        super().__init__()\n",
    "        support = circular_aperture(shape, radius=support_radius)\n",
    "        self.X = SupportPrior(support=support, scalar_precision=False)\n",
    "\n",
    "        # Structured random layers (D₁F D₂F D₃F)\n",
    "        phase1 = random_phase_mask(shape, rng=rng)\n",
    "        self.Y1 = PhaseMaskPropagator(phase1) @ self.X\n",
    "\n",
    "        self.Y2 = FFT2DPropagator(shape=shape) @ self.Y1\n",
    "\n",
    "        phase2 = random_phase_mask(shape, rng=rng)\n",
    "        self.Y3 = PhaseMaskPropagator(phase2) @ self.Y2\n",
    "\n",
    "        self.Y4 = FFT2DPropagator(shape=shape) @ self.Y3\n",
    "\n",
    "        # Final measurement\n",
    "        self.Z = AmplitudeMeasurement(self.Y4, var=var, damping=0.3)\n",
    "\n",
    "        self.compile()\n",
    "\n",
    "# ==== 3. 初期化とデータ生成 ====\n",
    "g = StructuredRandomGraph()\n",
    "g.set_init_rng(np.random.default_rng(seed=1))\n",
    "g.generate_sample(rng=np.random.default_rng(seed=999))\n",
    "true_x = g.X.get_sample()\n",
    "g.Z.update_observed_from_sample()\n",
    "\n",
    "# ==== 4. 推論 ====\n",
    "def monitor(graph, t):\n",
    "    est = graph.X.compute_belief().data\n",
    "    err = pmse(est, true_x)\n",
    "    if t % 20 == 0:\n",
    "        print(f\"[t={t}] PMSE = {err:.5e}\")\n",
    "\n",
    "g.run(n_iter=200, callback=monitor)\n",
    "print(\"Oversampling Ration = \", 1/(support_radius**2 * np.pi))"
   ]
  },
  {
   "cell_type": "code",
   "execution_count": 89,
   "id": "427e8918",
   "metadata": {},
   "outputs": [
    {
     "name": "stdout",
     "output_type": "stream",
     "text": [
      "[t=0] PMSE = 2.49245e-04\n",
      "[t=20] PMSE = 2.49245e-04\n",
      "[t=40] PMSE = 2.49245e-04\n",
      "[t=60] PMSE = 2.49245e-04\n",
      "[t=80] PMSE = 2.49245e-04\n",
      "[t=100] PMSE = 2.49245e-04\n",
      "[t=120] PMSE = 2.49245e-04\n",
      "[t=140] PMSE = 2.49245e-04\n",
      "[t=160] PMSE = 2.49245e-04\n",
      "[t=180] PMSE = 2.49245e-04\n",
      " "
     ]
    },
    {
     "name": "stdout",
     "output_type": "stream",
     "text": [
      "         141915 function calls in 4.654 seconds\n",
      "\n",
      "   Ordered by: cumulative time\n",
      "   List reduced from 146 to 40 due to restriction <40>\n",
      "\n",
      "   ncalls  tottime  percall  cumtime  percall filename:lineno(function)\n",
      "        1    0.000    0.000    4.654    4.654 {built-in method builtins.exec}\n",
      "        1    0.000    0.000    4.654    4.654 <string>:1(<module>)\n",
      "        1    0.001    0.001    4.654    4.654 graph.py:58(run)\n",
      "      200    0.002    0.000    3.570    0.018 graph.py:53(backward)\n",
      "      400    0.016    0.000    2.147    0.005 fft_2d_propagator.py:77(backward)\n",
      "      400    0.454    0.001    1.682    0.004 fft_2d_propagator.py:24(compute_belief)\n",
      "      200    0.020    0.000    1.201    0.006 base.py:50(backward)\n",
      "      200    0.008    0.000    1.180    0.006 amplitude_measurement.py:77(_compute_message)\n",
      "     1000    1.032    0.001    1.046    0.001 uncertain_array.py:121(__truediv__)\n",
      "      200    0.554    0.003    0.823    0.004 amplitude_measurement.py:53(approximate_posterior)\n",
      "      800    0.033    0.000    0.755    0.001 _pocketfft.py:701(_raw_fftnd)\n",
      "     1600    0.005    0.000    0.699    0.000 _pocketfft.py:49(_raw_fft)\n",
      "     1600    0.690    0.000    0.690    0.000 {built-in method numpy.fft._pocketfft_internal.execute}\n",
      "      400    0.030    0.000    0.605    0.002 fft_2d_propagator.py:18(_fft2_centered)\n",
      "      400    0.029    0.000    0.593    0.001 fft_2d_propagator.py:21(_ifft2_centered)\n",
      "      200    0.002    0.000    0.544    0.003 graph.py:48(forward)\n",
      "      200    0.008    0.000    0.539    0.003 3959857621.py:38(monitor)\n",
      "      400    0.001    0.000    0.420    0.001 fft_2d_propagator.py:67(forward)\n",
      "      200    0.033    0.000    0.391    0.002 wave.py:72(compute_belief)\n",
      "      400    0.001    0.000    0.379    0.001 _pocketfft.py:921(fft2)\n",
      "      400    0.000    0.000    0.377    0.001 _pocketfft.py:1017(ifft2)\n",
      "     1600    0.367    0.000    0.372    0.000 numeric.py:1129(roll)\n",
      "      200    0.157    0.001    0.357    0.002 uncertain_array.py:153(combine)\n",
      "      800    0.001    0.000    0.354    0.000 _pocketfft.py:122(fft)\n",
      "      800    0.001    0.000    0.353    0.000 _pocketfft.py:219(ifft)\n",
      "      400    0.261    0.001    0.261    0.001 function_base.py:1606(angle)\n",
      "      800    0.004    0.000    0.196    0.000 helper.py:76(ifftshift)\n",
      "      800    0.004    0.000    0.186    0.000 helper.py:19(fftshift)\n",
      "      400    0.001    0.000    0.179    0.000 base.py:41(backward)\n",
      "      400    0.175    0.000    0.177    0.000 phase_mask_propagator.py:33(_compute_backward)\n",
      "      200    0.138    0.001    0.139    0.001 uncertain_array.py:184(damp_with)\n",
      "      200    0.000    0.000    0.138    0.001 metrics.py:50(pmse)\n",
      "      400    0.124    0.000    0.125    0.000 shape_base.py:372(stack)\n",
      "      400    0.002    0.000    0.095    0.000 base.py:21(forward)\n",
      "      400    0.090    0.000    0.092    0.000 phase_mask_propagator.py:26(_compute_forward)\n",
      "     1400    0.083    0.000    0.083    0.000 {method 'reduce' of 'numpy.ufunc' objects}\n",
      "      200    0.072    0.000    0.080    0.000 metrics.py:3(mse)\n",
      "      800    0.003    0.000    0.075    0.000 fromnumeric.py:71(_wrapreduction)\n",
      "      400    0.001    0.000    0.071    0.000 fromnumeric.py:2177(sum)\n",
      "     2000    0.064    0.000    0.064    0.000 factor.py:57(receive_message)"
     ]
    }
   ],
   "source": [
    "%prun -l 40 -s cumulative g.run(n_iter=200, callback=monitor)"
   ]
  },
  {
   "cell_type": "code",
   "execution_count": 91,
   "id": "31f8511e",
   "metadata": {},
   "outputs": [
    {
     "data": {
      "image/png": "[encoded data removed]",
      "text/plain": [
       "<Figure size 640x480 with 1 Axes>"
      ]
     },
     "metadata": {},
     "output_type": "display_data"
    }
   ],
   "source": [
    "g.visualize(layout=\"kamada_kawai\", font_size=6.5, scale=2.0)"
   ]
  },
  {
   "cell_type": "code",
   "execution_count": null,
   "id": "b370c5e0",
   "metadata": {},
   "outputs": [],
   "source": []
  }
 ],
 "metadata": {
  "kernelspec": {
   "display_name": "cupy-env",
   "language": "python",
   "name": "python3"
  },
  "language_info": {
   "codemirror_mode": {
    "name": "ipython",
    "version": 3
   },
   "file_extension": ".py",
   "mimetype": "text/x-python",
   "name": "python",
   "nbconvert_exporter": "python",
   "pygments_lexer": "ipython3",
   "version": "3.10.5"
  }
 },
 "nbformat": 4,
 "nbformat_minor": 5
}
