{
 "cells": [
  {
   "cell_type": "code",
   "execution_count": 1,
   "id": "b7a20c76",
   "metadata": {},
   "outputs": [
    {
     "name": "stdout",
     "output_type": "stream",
     "text": [
      "PYTHONPATH manually set to: c:\\Users\\ndhaj\\Desktop\\gpie\n"
     ]
    }
   ],
   "source": [
    "import os, sys\n",
    "\n",
    "project_root = os.path.abspath(os.path.join(os.getcwd(), '..'))\n",
    "os.environ['PYTHONPATH'] = project_root\n",
    "if project_root not in sys.path:\n",
    "    sys.path.insert(0, project_root)\n",
    "\n",
    "print(\"PYTHONPATH manually set to:\", os.environ['PYTHONPATH'])"
   ]
  },
  {
   "cell_type": "code",
   "execution_count": 2,
   "id": "92b4ba63",
   "metadata": {},
   "outputs": [
    {
     "name": "stdout",
     "output_type": "stream",
     "text": [
      "[t=0] PMSE = 7.386e-01\n",
      "[t=20] PMSE = 3.376e-01\n",
      "[t=40] PMSE = 9.361e-04\n",
      "[t=60] PMSE = 2.423e-04\n",
      "[t=80] PMSE = 2.407e-04\n",
      "\n",
      "Final PMSE after 100 iterations: 2.407e-04\n"
     ]
    }
   ],
   "source": [
    "import numpy as np\n",
    "from core.metrics import pmse\n",
    "from core.linalg_utils import circular_aperture, random_unitary_matrix\n",
    "from graph.structure.graph import Graph\n",
    "from graph.prior.support_prior import SupportPrior\n",
    "from graph.propagator.unitary_propagator import UnitaryPropagator\n",
    "from graph.measurement.amplitude_measurement import AmplitudeMeasurement\n",
    "\n",
    "# ==== 1. パラメータ ====\n",
    "n = 256\n",
    "m = int(3*n)\n",
    "shape = (m,)\n",
    "rng = np.random.default_rng(seed=123)\n",
    "var = 1e-4\n",
    "U = random_unitary_matrix(m, rng=rng)\n",
    "\n",
    "# Support mask: center half active\n",
    "support = np.zeros(shape, dtype=bool)\n",
    "support[n:2*n] = True\n",
    "\n",
    "# ==== 2. グラフ定義 ====\n",
    "class SimplePhaseGraph(Graph):\n",
    "    def __init__(self):\n",
    "        super().__init__()\n",
    "        x = ~SupportPrior(support=support, label = \"x\")\n",
    "        y = UnitaryPropagator(U) @ x\n",
    "        with self.observe():\n",
    "            z = AmplitudeMeasurement(var=var, damping=0.3) @ y\n",
    "        self.compile()\n",
    "\n",
    "# ==== 3. 初期化とデータ生成 ====\n",
    "g = SimplePhaseGraph()\n",
    "g.set_init_rng(np.random.default_rng(seed=11))\n",
    "\n",
    "g.generate_sample(rng=np.random.default_rng(seed=999), update_observed = True)\n",
    "X = g.get_wave(\"x\")\n",
    "true_x = X.get_sample()\n",
    "\n",
    "# ==== 4. 推論（Belief Propagation） ====\n",
    "def monitor(graph, t):\n",
    "    if t % 20 == 0:\n",
    "        est = X.compute_belief().data\n",
    "        err = pmse(est, true_x)\n",
    "        print(f\"[t={t}] PMSE = {err:.3e}\")\n",
    "\n",
    "g.run(n_iter=100, callback=monitor, verbose = False)\n",
    "\n",
    "# ==== 5. 結果 ====\n",
    "final_est = X.compute_belief().data\n",
    "final_err = pmse(final_est, true_x)\n",
    "print(f\"\\nFinal PMSE after 100 iterations: {final_err:.3e}\")"
   ]
  },
  {
   "cell_type": "code",
   "execution_count": 3,
   "id": "71422d23",
   "metadata": {},
   "outputs": [
    {
     "data": {
      "image/png": "[encoded data removed]",
      "text/plain": [
       "<Figure size 640x480 with 1 Axes>"
      ]
     },
     "metadata": {},
     "output_type": "display_data"
    }
   ],
   "source": [
    "g.visualize(layout=\"kamada_kawai\", font_size=6.5, scale=2.0)"
   ]
  },
  {
   "cell_type": "code",
   "execution_count": 4,
   "id": "0882c5a7",
   "metadata": {},
   "outputs": [
    {
     "data": {
      "text/html": [
       "    <style>\n",
       "        .bk-notebook-logo {\n",
       "            display: block;\n",
       "            width: 20px;\n",
       "            height: 20px;\n",
       "            background-image: url(data:image/png;base64,iVBORw0KGgoAAAANSUhEUgAAABQAAAAUCAYAAACNiR0NAAAABHNCSVQICAgIfAhkiAAAAAlwSFlzAAALEgAACxIB0t1+/AAAABx0RVh0U29mdHdhcmUAQWRvYmUgRmlyZXdvcmtzIENTNui8sowAAAOkSURBVDiNjZRtaJVlGMd/1/08zzln5zjP1LWcU9N0NkN8m2CYjpgQYQXqSs0I84OLIC0hkEKoPtiH3gmKoiJDU7QpLgoLjLIQCpEsNJ1vqUOdO7ppbuec5+V+rj4ctwzd8IIbbi6u+8f1539dt3A78eXC7QizUF7gyV1fD1Yqg4JWz84yffhm0qkFqBogB9rM8tZdtwVsPUhWhGcFJngGeWrPzHm5oaMmkfEg1usvLFyc8jLRqDOMru7AyC8saQr7GG7f5fvDeH7Ej8CM66nIF+8yngt6HWaKh7k49Soy9nXurCi1o3qUbS3zWfrYeQDTB/Qj6kX6Ybhw4B+bOYoLKCC9H3Nu/leUTZ1JdRWkkn2ldcCamzrcf47KKXdAJllSlxAOkRgyHsGC/zRday5Qld9DyoM4/q/rUoy/CXh3jzOu3bHUVZeU+DEn8FInkPBFlu3+nW3Nw0mk6vCDiWg8CeJaxEwuHS3+z5RgY+YBR6V1Z1nxSOfoaPa4LASWxxdNp+VWTk7+4vzaou8v8PN+xo+KY2xsw6une2frhw05CTYOmQvsEhjhWjn0bmXPjpE1+kplmmkP3suftwTubK9Vq22qKmrBhpY4jvd5afdRA3wGjFAgcnTK2s4hY0/GPNIb0nErGMCRxWOOX64Z8RAC4oCXdklmEvcL8o0BfkNK4lUg9HTl+oPlQxdNo3Mg4Nv175e/1LDGzZen30MEjRUtmXSfiTVu1kK8W4txyV6BMKlbgk3lMwYCiusNy9fVfvvwMxv8Ynl6vxoByANLTWplvuj/nF9m2+PDtt1eiHPBr1oIfhCChQMBw6Aw0UulqTKZdfVvfG7VcfIqLG9bcldL/+pdWTLxLUy8Qq38heUIjh4XlzZxzQm19lLFlr8vdQ97rjZVOLf8nclzckbcD4wxXMidpX30sFd37Fv/GtwwhzhxGVAprjbg0gCAEeIgwCZyTV2Z1REEW8O4py0wsjeloKoMr6iCY6dP92H6Vw/oTyICIthibxjm/DfN9lVz8IqtqKYLUXfoKVMVQVVJOElGjrnnUt9T9wbgp8AyYKaGlqingHZU/uG2NTZSVqwHQTWkx9hxjkpWDaCg6Ckj5qebgBVbT3V3NNXMSiWSDdGV3hrtzla7J+duwPOToIg42ChPQOQjspnSlp1V+Gjdged7+8UN5CRAV7a5EdFNwCjEaBR27b3W890TE7g24NAP/mMDXRWrGoFPQI9ls/MWO2dWFAar/xcOIImbbpA3zgAAAABJRU5ErkJggg==);\n",
       "        }\n",
       "    </style>\n",
       "    <div>\n",
       "        <a href=\"https://bokeh.org\" target=\"_blank\" class=\"bk-notebook-logo\"></a>\n",
       "        <span id=\"a0144289-ebf1-4bac-b331-a21a0cffa08f\">Loading BokehJS ...</span>\n",
       "    </div>\n"
      ]
     },
     "metadata": {},
     "output_type": "display_data"
    },
    {
     "data": {
      "application/javascript": "'use strict';\n(function(root) {\n  function now() {\n    return new Date();\n  }\n\n  const force = true;\n\n  if (typeof root._bokeh_onload_callbacks === \"undefined\" || force === true) {\n    root._bokeh_onload_callbacks = [];\n    root._bokeh_is_loading = undefined;\n  }\n\nconst JS_MIME_TYPE = 'application/javascript';\n  const HTML_MIME_TYPE = 'text/html';\n  const EXEC_MIME_TYPE = 'application/vnd.bokehjs_exec.v0+json';\n  const CLASS_NAME = 'output_bokeh rendered_html';\n\n  /**\n   * Render data to the DOM node\n   */\n  function render(props, node) {\n    const script = document.createElement(\"script\");\n    node.appendChild(script);\n  }\n\n  /**\n   * Handle when an output is cleared or removed\n   */\n  function handleClearOutput(event, handle) {\n    function drop(id) {\n      const view = Bokeh.index.get_by_id(id)\n      if (view != null) {\n        view.model.document.clear()\n        Bokeh.index.delete(view)\n      }\n    }\n\n    const cell = handle.cell;\n\n    const id = cell.output_area._bokeh_element_id;\n    const server_id = cell.output_area._bokeh_server_id;\n\n    // Clean up Bokeh references\n    if (id != null) {\n      drop(id)\n    }\n\n    if (server_id !== undefined) {\n      // Clean up Bokeh references\n      const cmd_clean = \"from bokeh.io.state import curstate; print(curstate().uuid_to_server['\" + server_id + \"'].get_sessions()[0].document.roots[0]._id)\";\n      cell.notebook.kernel.execute(cmd_clean, {\n        iopub: {\n          output: function(msg) {\n            const id = msg.content.text.trim()\n            drop(id)\n          }\n        }\n      });\n      // Destroy server and session\n      const cmd_destroy = \"import bokeh.io.notebook as ion; ion.destroy_server('\" + server_id + \"')\";\n      cell.notebook.kernel.execute(cmd_destroy);\n    }\n  }\n\n  /**\n   * Handle when a new output is added\n   */\n  function handleAddOutput(event, handle) {\n    const output_area = handle.output_area;\n    const output = handle.output;\n\n    // limit handleAddOutput to display_data with EXEC_MIME_TYPE content only\n    if ((output.output_type != \"display_data\") || (!Object.prototype.hasOwnProperty.call(output.data, EXEC_MIME_TYPE))) {\n      return\n    }\n\n    const toinsert = output_area.element.find(\".\" + CLASS_NAME.split(' ')[0]);\n\n    if (output.metadata[EXEC_MIME_TYPE][\"id\"] !== undefined) {\n      toinsert[toinsert.length - 1].firstChild.textContent = output.data[JS_MIME_TYPE];\n      // store reference to embed id on output_area\n      output_area._bokeh_element_id = output.metadata[EXEC_MIME_TYPE][\"id\"];\n    }\n    if (output.metadata[EXEC_MIME_TYPE][\"server_id\"] !== undefined) {\n      const bk_div = document.createElement(\"div\");\n      bk_div.innerHTML = output.data[HTML_MIME_TYPE];\n      const script_attrs = bk_div.children[0].attributes;\n      for (let i = 0; i < script_attrs.length; i++) {\n        toinsert[toinsert.length - 1].firstChild.setAttribute(script_attrs[i].name, script_attrs[i].value);\n        toinsert[toinsert.length - 1].firstChild.textContent = bk_div.children[0].textContent\n      }\n      // store reference to server id on output_area\n      output_area._bokeh_server_id = output.metadata[EXEC_MIME_TYPE][\"server_id\"];\n    }\n  }\n\n  function register_renderer(events, OutputArea) {\n\n    function append_mime(data, metadata, element) {\n      // create a DOM node to render to\n      const toinsert = this.create_output_subarea(\n        metadata,\n        CLASS_NAME,\n        EXEC_MIME_TYPE\n      );\n      this.keyboard_manager.register_events(toinsert);\n      // Render to node\n      const props = {data: data, metadata: metadata[EXEC_MIME_TYPE]};\n      render(props, toinsert[toinsert.length - 1]);\n      element.append(toinsert);\n      return toinsert\n    }\n\n    /* Handle when an output is cleared or removed */\n    events.on('clear_output.CodeCell', handleClearOutput);\n    events.on('delete.Cell', handleClearOutput);\n\n    /* Handle when a new output is added */\n    events.on('output_added.OutputArea', handleAddOutput);\n\n    /**\n     * Register the mime type and append_mime function with output_area\n     */\n    OutputArea.prototype.register_mime_type(EXEC_MIME_TYPE, append_mime, {\n      /* Is output safe? */\n      safe: true,\n      /* Index of renderer in `output_area.display_order` */\n      index: 0\n    });\n  }\n\n  // register the mime type if in Jupyter Notebook environment and previously unregistered\n  if (root.Jupyter !== undefined) {\n    const events = require('base/js/events');\n    const OutputArea = require('notebook/js/outputarea').OutputArea;\n\n    if (OutputArea.prototype.mime_types().indexOf(EXEC_MIME_TYPE) == -1) {\n      register_renderer(events, OutputArea);\n    }\n  }\n  if (typeof (root._bokeh_timeout) === \"undefined\" || force === true) {\n    root._bokeh_timeout = Date.now() + 5000;\n    root._bokeh_failed_load = false;\n  }\n\n  const NB_LOAD_WARNING = {'data': {'text/html':\n     \"<div style='background-color: #fdd'>\\n\"+\n     \"<p>\\n\"+\n     \"BokehJS does not appear to have successfully loaded. If loading BokehJS from CDN, this \\n\"+\n     \"may be due to a slow or bad network connection. Possible fixes:\\n\"+\n     \"</p>\\n\"+\n     \"<ul>\\n\"+\n     \"<li>re-rerun `output_notebook()` to attempt to load from CDN again, or</li>\\n\"+\n     \"<li>use INLINE resources instead, as so:</li>\\n\"+\n     \"</ul>\\n\"+\n     \"<code>\\n\"+\n     \"from bokeh.resources import INLINE\\n\"+\n     \"output_notebook(resources=INLINE)\\n\"+\n     \"</code>\\n\"+\n     \"</div>\"}};\n\n  function display_loaded(error = null) {\n    const el = document.getElementById(\"a0144289-ebf1-4bac-b331-a21a0cffa08f\");\n    if (el != null) {\n      const html = (() => {\n        if (typeof root.Bokeh === \"undefined\") {\n          if (error == null) {\n            return \"BokehJS is loading ...\";\n          } else {\n            return \"BokehJS failed to load.\";\n          }\n        } else {\n          const prefix = `BokehJS ${root.Bokeh.version}`;\n          if (error == null) {\n            return `${prefix} successfully loaded.`;\n          } else {\n            return `${prefix} <b>encountered errors</b> while loading and may not function as expected.`;\n          }\n        }\n      })();\n      el.innerHTML = html;\n\n      if (error != null) {\n        const wrapper = document.createElement(\"div\");\n        wrapper.style.overflow = \"auto\";\n        wrapper.style.height = \"5em\";\n        wrapper.style.resize = \"vertical\";\n        const content = document.createElement(\"div\");\n        content.style.fontFamily = \"monospace\";\n        content.style.whiteSpace = \"pre-wrap\";\n        content.style.backgroundColor = \"rgb(255, 221, 221)\";\n        content.textContent = error.stack ?? error.toString();\n        wrapper.append(content);\n        el.append(wrapper);\n      }\n    } else if (Date.now() < root._bokeh_timeout) {\n      setTimeout(() => display_loaded(error), 100);\n    }\n  }\n\n  function run_callbacks() {\n    try {\n      root._bokeh_onload_callbacks.forEach(function(callback) {\n        if (callback != null)\n          callback();\n      });\n    } finally {\n      delete root._bokeh_onload_callbacks\n    }\n    console.debug(\"Bokeh: all callbacks have finished\");\n  }\n\n  function load_libs(css_urls, js_urls, callback) {\n    if (css_urls == null) css_urls = [];\n    if (js_urls == null) js_urls = [];\n\n    root._bokeh_onload_callbacks.push(callback);\n    if (root._bokeh_is_loading > 0) {\n      console.debug(\"Bokeh: BokehJS is being loaded, scheduling callback at\", now());\n      return null;\n    }\n    if (js_urls == null || js_urls.length === 0) {\n      run_callbacks();\n      return null;\n    }\n    console.debug(\"Bokeh: BokehJS not loaded, scheduling load and callback at\", now());\n    root._bokeh_is_loading = css_urls.length + js_urls.length;\n\n    function on_load() {\n      root._bokeh_is_loading--;\n      if (root._bokeh_is_loading === 0) {\n        console.debug(\"Bokeh: all BokehJS libraries/stylesheets loaded\");\n        run_callbacks()\n      }\n    }\n\n    function on_error(url) {\n      console.error(\"failed to load \" + url);\n    }\n\n    for (let i = 0; i < css_urls.length; i++) {\n      const url = css_urls[i];\n      const element = document.createElement(\"link\");\n      element.onload = on_load;\n      element.onerror = on_error.bind(null, url);\n      element.rel = \"stylesheet\";\n      element.type = \"text/css\";\n      element.href = url;\n      console.debug(\"Bokeh: injecting link tag for BokehJS stylesheet: \", url);\n      document.body.appendChild(element);\n    }\n\n    for (let i = 0; i < js_urls.length; i++) {\n      const url = js_urls[i];\n      const element = document.createElement('script');\n      element.onload = on_load;\n      element.onerror = on_error.bind(null, url);\n      element.async = false;\n      element.src = url;\n      console.debug(\"Bokeh: injecting script tag for BokehJS library: \", url);\n      document.head.appendChild(element);\n    }\n  };\n\n  function inject_raw_css(css) {\n    const element = document.createElement(\"style\");\n    element.appendChild(document.createTextNode(css));\n    document.body.appendChild(element);\n  }\n\n  const js_urls = [\"https://cdn.bokeh.org/bokeh/release/bokeh-3.7.3.min.js\", \"https://cdn.bokeh.org/bokeh/release/bokeh-gl-3.7.3.min.js\", \"https://cdn.bokeh.org/bokeh/release/bokeh-widgets-3.7.3.min.js\", \"https://cdn.bokeh.org/bokeh/release/bokeh-tables-3.7.3.min.js\", \"https://cdn.bokeh.org/bokeh/release/bokeh-mathjax-3.7.3.min.js\"];\n  const css_urls = [];\n\n  const inline_js = [    function(Bokeh) {\n      Bokeh.set_log_level(\"info\");\n    },\nfunction(Bokeh) {\n    }\n  ];\n\n  function run_inline_js() {\n    if (root.Bokeh !== undefined || force === true) {\n      try {\n            for (let i = 0; i < inline_js.length; i++) {\n      inline_js[i].call(root, root.Bokeh);\n    }\n\n      } catch (error) {display_loaded(error);throw error;\n      }if (force === true) {\n        display_loaded();\n      }} else if (Date.now() < root._bokeh_timeout) {\n      setTimeout(run_inline_js, 100);\n    } else if (!root._bokeh_failed_load) {\n      console.log(\"Bokeh: BokehJS failed to load within specified timeout.\");\n      root._bokeh_failed_load = true;\n    } else if (force !== true) {\n      const cell = $(document.getElementById(\"a0144289-ebf1-4bac-b331-a21a0cffa08f\")).parents('.cell').data().cell;\n      cell.output_area.append_execute_result(NB_LOAD_WARNING)\n    }\n  }\n\n  if (root._bokeh_is_loading === 0) {\n    console.debug(\"Bokeh: BokehJS loaded, going straight to plotting\");\n    run_inline_js();\n  } else {\n    load_libs(css_urls, js_urls, function() {\n      console.debug(\"Bokeh: BokehJS plotting callback run at\", now());\n      run_inline_js();\n    });\n  }\n}(window));",
      "application/vnd.bokehjs_load.v0+json": ""
     },
     "metadata": {},
     "output_type": "display_data"
    },
    {
     "data": {
      "text/html": [
       "\n",
       "  <div id=\"ba57c160-57c7-42b0-8183-9e70101790ac\" data-root-id=\"p1012\" style=\"display: contents;\"></div>\n"
      ]
     },
     "metadata": {},
     "output_type": "display_data"
    },
    {
     "data": {
      "application/javascript": "(function(root) {\n  function embed_document(root) {\n  const docs_json = {\"8d355a41-fcc4-4d90-a8d1-f4db9d52dbaf\":{\"version\":\"3.7.3\",\"title\":\"Bokeh Application\",\"roots\":[{\"type\":\"object\",\"name\":\"Figure\",\"id\":\"p1012\",\"attributes\":{\"width\":800,\"x_range\":{\"type\":\"object\",\"name\":\"Range1d\",\"id\":\"p1022\",\"attributes\":{\"start\":0.5,\"end\":8.5}},\"y_range\":{\"type\":\"object\",\"name\":\"Range1d\",\"id\":\"p1023\",\"attributes\":{\"start\":-1.0}},\"x_scale\":{\"type\":\"object\",\"name\":\"LinearScale\",\"id\":\"p1024\"},\"y_scale\":{\"type\":\"object\",\"name\":\"LinearScale\",\"id\":\"p1025\"},\"title\":{\"type\":\"object\",\"name\":\"Title\",\"id\":\"p1015\",\"attributes\":{\"text\":\"Computational Factor Graph\"}},\"renderers\":[{\"type\":\"object\",\"name\":\"GlyphRenderer\",\"id\":\"p1047\",\"attributes\":{\"data_source\":{\"type\":\"object\",\"name\":\"ColumnDataSource\",\"id\":\"p1003\",\"attributes\":{\"selected\":{\"type\":\"object\",\"name\":\"Selection\",\"id\":\"p1004\",\"attributes\":{\"indices\":[],\"line_indices\":[]}},\"selection_policy\":{\"type\":\"object\",\"name\":\"UnionRenderers\",\"id\":\"p1005\"},\"data\":{\"type\":\"map\",\"entries\":[[\"id\",[3008612678288,3008612678192]],[\"label\",[\"Wave\",\"x\"]],[\"type\",[\"wave\",\"wave\"]],[\"x\",[6.0,3.0]],[\"y\",[0.0,0.0]],[\"generation\",[4,2]]]}}},\"view\":{\"type\":\"object\",\"name\":\"CDSView\",\"id\":\"p1048\",\"attributes\":{\"filter\":{\"type\":\"object\",\"name\":\"AllIndices\",\"id\":\"p1049\"}}},\"glyph\":{\"type\":\"object\",\"name\":\"Scatter\",\"id\":\"p1044\",\"attributes\":{\"x\":{\"type\":\"field\",\"field\":\"x\"},\"y\":{\"type\":\"field\",\"field\":\"y\"},\"size\":{\"type\":\"value\",\"value\":20},\"line_color\":{\"type\":\"value\",\"value\":\"skyblue\"},\"fill_color\":{\"type\":\"value\",\"value\":\"skyblue\"},\"hatch_color\":{\"type\":\"value\",\"value\":\"skyblue\"}}},\"nonselection_glyph\":{\"type\":\"object\",\"name\":\"Scatter\",\"id\":\"p1045\",\"attributes\":{\"x\":{\"type\":\"field\",\"field\":\"x\"},\"y\":{\"type\":\"field\",\"field\":\"y\"},\"size\":{\"type\":\"value\",\"value\":20},\"line_color\":{\"type\":\"value\",\"value\":\"skyblue\"},\"line_alpha\":{\"type\":\"value\",\"value\":0.1},\"fill_color\":{\"type\":\"value\",\"value\":\"skyblue\"},\"fill_alpha\":{\"type\":\"value\",\"value\":0.1},\"hatch_color\":{\"type\":\"value\",\"value\":\"skyblue\"},\"hatch_alpha\":{\"type\":\"value\",\"value\":0.1}}},\"muted_glyph\":{\"type\":\"object\",\"name\":\"Scatter\",\"id\":\"p1046\",\"attributes\":{\"x\":{\"type\":\"field\",\"field\":\"x\"},\"y\":{\"type\":\"field\",\"field\":\"y\"},\"size\":{\"type\":\"value\",\"value\":20},\"line_color\":{\"type\":\"value\",\"value\":\"skyblue\"},\"line_alpha\":{\"type\":\"value\",\"value\":0.2},\"fill_color\":{\"type\":\"value\",\"value\":\"skyblue\"},\"fill_alpha\":{\"type\":\"value\",\"value\":0.2},\"hatch_color\":{\"type\":\"value\",\"value\":\"skyblue\"},\"hatch_alpha\":{\"type\":\"value\",\"value\":0.2}}}}},{\"type\":\"object\",\"name\":\"GlyphRenderer\",\"id\":\"p1058\",\"attributes\":{\"data_source\":{\"type\":\"object\",\"name\":\"ColumnDataSource\",\"id\":\"p1006\",\"attributes\":{\"selected\":{\"type\":\"object\",\"name\":\"Selection\",\"id\":\"p1007\",\"attributes\":{\"indices\":[],\"line_indices\":[]}},\"selection_policy\":{\"type\":\"object\",\"name\":\"UnionRenderers\",\"id\":\"p1008\"},\"data\":{\"type\":\"map\",\"entries\":[[\"id\",[3008238364672,3008612677904,3008612678384]],[\"label\",[\"SupportPrior\",\"UnitaryPropagator\",\"measurement_0\"]],[\"type\",[\"factor\",\"factor\",\"factor\"]],[\"x\",[1.5,4.5,7.5]],[\"y\",[0.0,0.0,0.0]],[\"generation\",[1,3,5]]]}}},\"view\":{\"type\":\"object\",\"name\":\"CDSView\",\"id\":\"p1059\",\"attributes\":{\"filter\":{\"type\":\"object\",\"name\":\"AllIndices\",\"id\":\"p1060\"}}},\"glyph\":{\"type\":\"object\",\"name\":\"Scatter\",\"id\":\"p1055\",\"attributes\":{\"x\":{\"type\":\"field\",\"field\":\"x\"},\"y\":{\"type\":\"field\",\"field\":\"y\"},\"size\":{\"type\":\"value\",\"value\":20},\"line_color\":{\"type\":\"value\",\"value\":\"lightgreen\"},\"fill_color\":{\"type\":\"value\",\"value\":\"lightgreen\"},\"hatch_color\":{\"type\":\"value\",\"value\":\"lightgreen\"},\"marker\":{\"type\":\"value\",\"value\":\"square\"}}},\"nonselection_glyph\":{\"type\":\"object\",\"name\":\"Scatter\",\"id\":\"p1056\",\"attributes\":{\"x\":{\"type\":\"field\",\"field\":\"x\"},\"y\":{\"type\":\"field\",\"field\":\"y\"},\"size\":{\"type\":\"value\",\"value\":20},\"line_color\":{\"type\":\"value\",\"value\":\"lightgreen\"},\"line_alpha\":{\"type\":\"value\",\"value\":0.1},\"fill_color\":{\"type\":\"value\",\"value\":\"lightgreen\"},\"fill_alpha\":{\"type\":\"value\",\"value\":0.1},\"hatch_color\":{\"type\":\"value\",\"value\":\"lightgreen\"},\"hatch_alpha\":{\"type\":\"value\",\"value\":0.1},\"marker\":{\"type\":\"value\",\"value\":\"square\"}}},\"muted_glyph\":{\"type\":\"object\",\"name\":\"Scatter\",\"id\":\"p1057\",\"attributes\":{\"x\":{\"type\":\"field\",\"field\":\"x\"},\"y\":{\"type\":\"field\",\"field\":\"y\"},\"size\":{\"type\":\"value\",\"value\":20},\"line_color\":{\"type\":\"value\",\"value\":\"lightgreen\"},\"line_alpha\":{\"type\":\"value\",\"value\":0.2},\"fill_color\":{\"type\":\"value\",\"value\":\"lightgreen\"},\"fill_alpha\":{\"type\":\"value\",\"value\":0.2},\"hatch_color\":{\"type\":\"value\",\"value\":\"lightgreen\"},\"hatch_alpha\":{\"type\":\"value\",\"value\":0.2},\"marker\":{\"type\":\"value\",\"value\":\"square\"}}}}}],\"toolbar\":{\"type\":\"object\",\"name\":\"Toolbar\",\"id\":\"p1021\",\"attributes\":{\"tools\":[{\"type\":\"object\",\"name\":\"PanTool\",\"id\":\"p1036\"},{\"type\":\"object\",\"name\":\"ZoomInTool\",\"id\":\"p1037\",\"attributes\":{\"renderers\":\"auto\"}},{\"type\":\"object\",\"name\":\"ZoomOutTool\",\"id\":\"p1038\",\"attributes\":{\"renderers\":\"auto\"}},{\"type\":\"object\",\"name\":\"ResetTool\",\"id\":\"p1039\"},{\"type\":\"object\",\"name\":\"SaveTool\",\"id\":\"p1040\"}]}},\"left\":[{\"type\":\"object\",\"name\":\"LinearAxis\",\"id\":\"p1031\",\"attributes\":{\"visible\":false,\"ticker\":{\"type\":\"object\",\"name\":\"BasicTicker\",\"id\":\"p1032\",\"attributes\":{\"mantissas\":[1,2,5]}},\"formatter\":{\"type\":\"object\",\"name\":\"BasicTickFormatter\",\"id\":\"p1033\"},\"major_label_policy\":{\"type\":\"object\",\"name\":\"AllLabels\",\"id\":\"p1034\"}}}],\"below\":[{\"type\":\"object\",\"name\":\"LinearAxis\",\"id\":\"p1026\",\"attributes\":{\"visible\":false,\"ticker\":{\"type\":\"object\",\"name\":\"BasicTicker\",\"id\":\"p1027\",\"attributes\":{\"mantissas\":[1,2,5]}},\"formatter\":{\"type\":\"object\",\"name\":\"BasicTickFormatter\",\"id\":\"p1028\"},\"major_label_policy\":{\"type\":\"object\",\"name\":\"AllLabels\",\"id\":\"p1029\"}}}],\"center\":[{\"type\":\"object\",\"name\":\"Grid\",\"id\":\"p1030\",\"attributes\":{\"visible\":false,\"axis\":{\"id\":\"p1026\"}}},{\"type\":\"object\",\"name\":\"Grid\",\"id\":\"p1035\",\"attributes\":{\"visible\":false,\"dimension\":1,\"axis\":{\"id\":\"p1031\"}}},{\"type\":\"object\",\"name\":\"Legend\",\"id\":\"p1050\",\"attributes\":{\"items\":[{\"type\":\"object\",\"name\":\"LegendItem\",\"id\":\"p1051\",\"attributes\":{\"label\":{\"type\":\"value\",\"value\":\"Wave\"},\"renderers\":[{\"id\":\"p1047\"}]}},{\"type\":\"object\",\"name\":\"LegendItem\",\"id\":\"p1061\",\"attributes\":{\"label\":{\"type\":\"value\",\"value\":\"Factor\"},\"renderers\":[{\"id\":\"p1058\"}]}}]}},{\"type\":\"object\",\"name\":\"LabelSet\",\"id\":\"p1062\",\"attributes\":{\"source\":{\"type\":\"object\",\"name\":\"ColumnDataSource\",\"id\":\"p1009\",\"attributes\":{\"selected\":{\"type\":\"object\",\"name\":\"Selection\",\"id\":\"p1010\",\"attributes\":{\"indices\":[],\"line_indices\":[]}},\"selection_policy\":{\"type\":\"object\",\"name\":\"UnionRenderers\",\"id\":\"p1011\"},\"data\":{\"type\":\"map\",\"entries\":[[\"id\",[3008612678288,3008612678192,3008238364672,3008612677904,3008612678384]],[\"label\",[\"Wave\",\"x\",\"SupportPrior\",\"UnitaryPropagator\",\"measurement_0\"]],[\"type\",[\"wave\",\"wave\",\"factor\",\"factor\",\"factor\"]],[\"x\",[6.0,3.0,1.5,4.5,7.5]],[\"y\",[0.0,0.0,0.0,0.0,0.0]],[\"generation\",[4,2,1,3,5]]]}}},\"x\":{\"type\":\"field\",\"field\":\"x\"},\"y\":{\"type\":\"field\",\"field\":\"y\"},\"text\":{\"type\":\"field\",\"field\":\"label\"},\"y_offset\":{\"type\":\"value\",\"value\":10},\"text_font_size\":{\"type\":\"value\",\"value\":\"9pt\"},\"text_align\":{\"type\":\"value\",\"value\":\"center\"}}},{\"type\":\"object\",\"name\":\"Arrow\",\"id\":\"p1067\",\"attributes\":{\"source\":{\"type\":\"object\",\"name\":\"ColumnDataSource\",\"id\":\"p1069\",\"attributes\":{\"selected\":{\"type\":\"object\",\"name\":\"Selection\",\"id\":\"p1070\",\"attributes\":{\"indices\":[],\"line_indices\":[]}},\"selection_policy\":{\"type\":\"object\",\"name\":\"UnionRenderers\",\"id\":\"p1071\"},\"data\":{\"type\":\"map\"}}},\"x_start\":{\"type\":\"value\",\"value\":1.5},\"y_start\":{\"type\":\"value\",\"value\":0.0},\"x_end\":{\"type\":\"value\",\"value\":3.0},\"y_end\":{\"type\":\"value\",\"value\":0.0},\"end\":{\"type\":\"object\",\"name\":\"NormalHead\",\"id\":\"p1066\",\"attributes\":{\"size\":{\"type\":\"value\",\"value\":8}}},\"line_color\":{\"type\":\"value\",\"value\":\"gray\"},\"line_width\":{\"type\":\"value\",\"value\":1.5}}},{\"type\":\"object\",\"name\":\"Arrow\",\"id\":\"p1073\",\"attributes\":{\"source\":{\"type\":\"object\",\"name\":\"ColumnDataSource\",\"id\":\"p1075\",\"attributes\":{\"selected\":{\"type\":\"object\",\"name\":\"Selection\",\"id\":\"p1076\",\"attributes\":{\"indices\":[],\"line_indices\":[]}},\"selection_policy\":{\"type\":\"object\",\"name\":\"UnionRenderers\",\"id\":\"p1077\"},\"data\":{\"type\":\"map\"}}},\"x_start\":{\"type\":\"value\",\"value\":3.0},\"y_start\":{\"type\":\"value\",\"value\":0.0},\"x_end\":{\"type\":\"value\",\"value\":4.5},\"y_end\":{\"type\":\"value\",\"value\":0.0},\"end\":{\"type\":\"object\",\"name\":\"NormalHead\",\"id\":\"p1072\",\"attributes\":{\"size\":{\"type\":\"value\",\"value\":8}}},\"line_color\":{\"type\":\"value\",\"value\":\"gray\"},\"line_width\":{\"type\":\"value\",\"value\":1.5}}},{\"type\":\"object\",\"name\":\"Arrow\",\"id\":\"p1079\",\"attributes\":{\"source\":{\"type\":\"object\",\"name\":\"ColumnDataSource\",\"id\":\"p1081\",\"attributes\":{\"selected\":{\"type\":\"object\",\"name\":\"Selection\",\"id\":\"p1082\",\"attributes\":{\"indices\":[],\"line_indices\":[]}},\"selection_policy\":{\"type\":\"object\",\"name\":\"UnionRenderers\",\"id\":\"p1083\"},\"data\":{\"type\":\"map\"}}},\"x_start\":{\"type\":\"value\",\"value\":4.5},\"y_start\":{\"type\":\"value\",\"value\":0.0},\"x_end\":{\"type\":\"value\",\"value\":6.0},\"y_end\":{\"type\":\"value\",\"value\":0.0},\"end\":{\"type\":\"object\",\"name\":\"NormalHead\",\"id\":\"p1078\",\"attributes\":{\"size\":{\"type\":\"value\",\"value\":8}}},\"line_color\":{\"type\":\"value\",\"value\":\"gray\"},\"line_width\":{\"type\":\"value\",\"value\":1.5}}},{\"type\":\"object\",\"name\":\"Arrow\",\"id\":\"p1085\",\"attributes\":{\"source\":{\"type\":\"object\",\"name\":\"ColumnDataSource\",\"id\":\"p1087\",\"attributes\":{\"selected\":{\"type\":\"object\",\"name\":\"Selection\",\"id\":\"p1088\",\"attributes\":{\"indices\":[],\"line_indices\":[]}},\"selection_policy\":{\"type\":\"object\",\"name\":\"UnionRenderers\",\"id\":\"p1089\"},\"data\":{\"type\":\"map\"}}},\"x_start\":{\"type\":\"value\",\"value\":6.0},\"y_start\":{\"type\":\"value\",\"value\":0.0},\"x_end\":{\"type\":\"value\",\"value\":7.5},\"y_end\":{\"type\":\"value\",\"value\":0.0},\"end\":{\"type\":\"object\",\"name\":\"NormalHead\",\"id\":\"p1084\",\"attributes\":{\"size\":{\"type\":\"value\",\"value\":8}}},\"line_color\":{\"type\":\"value\",\"value\":\"gray\"},\"line_width\":{\"type\":\"value\",\"value\":1.5}}}]}}]}};\n  const render_items = [{\"docid\":\"8d355a41-fcc4-4d90-a8d1-f4db9d52dbaf\",\"roots\":{\"p1012\":\"ba57c160-57c7-42b0-8183-9e70101790ac\"},\"root_ids\":[\"p1012\"]}];\n  void root.Bokeh.embed.embed_items_notebook(docs_json, render_items);\n  }\n  if (root.Bokeh !== undefined) {\n    embed_document(root);\n  } else {\n    let attempts = 0;\n    const timer = setInterval(function(root) {\n      if (root.Bokeh !== undefined) {\n        clearInterval(timer);\n        embed_document(root);\n      } else {\n        attempts++;\n        if (attempts > 100) {\n          clearInterval(timer);\n          console.log(\"Bokeh: ERROR: Unable to run BokehJS code because BokehJS library is missing\");\n        }\n      }\n    }, 10, root)\n  }\n})(window);",
      "application/vnd.bokehjs_exec.v0+json": ""
     },
     "metadata": {
      "application/vnd.bokehjs_exec.v0+json": {
       "id": "p1012"
      }
     },
     "output_type": "display_data"
    }
   ],
   "source": [
    "g.visualize_bokeh()"
   ]
  },
  {
   "cell_type": "markdown",
   "id": "8471d288",
   "metadata": {},
   "source": [
    "## Fourier Phase Retrieval"
   ]
  },
  {
   "cell_type": "code",
   "execution_count": 5,
   "id": "48b8a2ec",
   "metadata": {},
   "outputs": [
    {
     "name": "stdout",
     "output_type": "stream",
     "text": [
      "[t=0] PMSE = 2.47071e-01\n",
      "[t=50] PMSE = 9.20200e-04\n",
      "[t=100] PMSE = 5.85127e-05\n",
      "[t=150] PMSE = 5.58583e-05\n",
      "[t=200] PMSE = 5.58663e-05\n",
      "[t=250] PMSE = 5.58657e-05\n"
     ]
    }
   ],
   "source": [
    "import numpy as np\n",
    "import matplotlib.pyplot as plt\n",
    "\n",
    "from core.metrics import pmse\n",
    "from core.linalg_utils import circular_aperture, random_phase_mask\n",
    "from graph.structure.graph import Graph\n",
    "from graph.prior.support_prior import SupportPrior\n",
    "from graph.propagator.phase_mask_propagator import PhaseMaskPropagator\n",
    "from graph.propagator.fft_2d_propagator import FFT2DPropagator\n",
    "from graph.measurement.amplitude_measurement import AmplitudeMeasurement\n",
    "\n",
    "# ==== 1. パラメータ ====\n",
    "H, W = 128, 128\n",
    "shape = (H, W)\n",
    "var = 1e-4\n",
    "support_radius = 0.2\n",
    "rng = np.random.default_rng(seed=42)\n",
    "support = circular_aperture(shape, radius=support_radius)\n",
    "\n",
    "class StructuredRandomGraph(Graph):\n",
    "    def __init__(self, n_layers=1):\n",
    "        super().__init__()\n",
    "        # Support Prior\n",
    "        x = ~SupportPrior(support=support, label = \"object\")\n",
    "        # Random Structured Matrix\n",
    "        for i in range(n_layers):\n",
    "            phase = random_phase_mask(shape, rng=rng)\n",
    "            x = FFT2DPropagator() @ (PhaseMaskPropagator(phase) @ x)\n",
    "        with self.observe():\n",
    "            z = AmplitudeMeasurement(var=var, damping=0.3) @ x\n",
    "        self.compile()\n",
    "\n",
    "# ==== 4. 初期化と推論 ====\n",
    "g = StructuredRandomGraph(n_layers=3)\n",
    "g.set_init_rng(np.random.default_rng(seed=1))\n",
    "g.generate_sample(rng=np.random.default_rng(seed=999), update_observed=True)\n",
    "X = g.get_wave(\"object\")\n",
    "true_x = X.get_sample()\n",
    "\n",
    "def monitor(graph, t):\n",
    "    X = graph.get_wave(\"object\")\n",
    "    est = X.compute_belief().data\n",
    "    err = pmse(est, true_x)\n",
    "    if t % 50 == 0:\n",
    "        print(f\"[t={t}] PMSE = {err:.5e}\")\n",
    "\n",
    "g.run(n_iter=300, callback=monitor, verbose = False)"
   ]
  },
  {
   "cell_type": "code",
   "execution_count": 6,
   "id": "427e8918",
   "metadata": {},
   "outputs": [
    {
     "name": "stderr",
     "output_type": "stream",
     "text": [
      "BP Iteration: 100%|██████████| 100/100 [00:00<00:00, 303.43it/s]"
     ]
    },
    {
     "name": "stdout",
     "output_type": "stream",
     "text": [
      " "
     ]
    },
    {
     "name": "stderr",
     "output_type": "stream",
     "text": [
      "\n"
     ]
    },
    {
     "name": "stdout",
     "output_type": "stream",
     "text": [
      "         109590 function calls (109430 primitive calls) in 0.357 seconds\n",
      "\n",
      "   Ordered by: cumulative time\n",
      "   List reduced from 557 to 40 due to restriction <40>\n",
      "\n",
      "   ncalls  tottime  percall  cumtime  percall filename:lineno(function)\n",
      "     16/1    0.000    0.000    0.357    0.357 {built-in method builtins.exec}\n",
      "        1    0.000    0.000    0.357    0.357 <string>:1(<module>)\n",
      "        1    0.000    0.000    0.357    0.357 graph.py:160(run)\n",
      "      100    0.001    0.000    0.281    0.003 graph.py:155(backward)\n",
      "      300    0.001    0.000    0.204    0.001 fft_2d_propagator.py:130(backward)\n",
      "      300    0.024    0.000    0.169    0.001 fft_2d_propagator.py:77(compute_belief)\n",
      "      600    0.002    0.000    0.105    0.000 _pocketfft.py:701(_raw_fftnd)\n",
      "     1200    0.002    0.000    0.094    0.000 _pocketfft.py:49(_raw_fft)\n",
      "     1200    0.089    0.000    0.089    0.000 {built-in method numpy.fft._pocketfft_internal.execute}\n",
      "      700    0.065    0.000    0.069    0.000 uncertain_array.py:332(__truediv__)\n",
      "      300    0.001    0.000    0.069    0.000 linalg_utils.py:247(ifft2_centered)\n",
      "      300    0.001    0.000    0.067    0.000 linalg_utils.py:241(fft2_centered)\n",
      "      300    0.000    0.000    0.053    0.000 _pocketfft.py:1017(ifft2)\n",
      "      300    0.000    0.000    0.053    0.000 _pocketfft.py:921(fft2)\n",
      "      600    0.001    0.000    0.049    0.000 _pocketfft.py:219(ifft)\n",
      "      600    0.001    0.000    0.048    0.000 _pocketfft.py:122(fft)\n",
      "      100    0.001    0.000    0.046    0.000 graph.py:150(forward)\n",
      "      100    0.000    0.000    0.036    0.000 base.py:140(backward)\n",
      "      300    0.001    0.000    0.035    0.000 base.py:94(backward)\n",
      "      300    0.000    0.000    0.035    0.000 fft_2d_propagator.py:121(forward)\n",
      "      100    0.001    0.000    0.035    0.000 amplitude_measurement.py:106(_compute_message)\n",
      "      300    0.027    0.000    0.028    0.000 phase_mask_propagator.py:75(_compute_backward)\n",
      "     16/3    0.000    0.000    0.025    0.008 <frozen importlib._bootstrap>:1022(_find_and_load)\n",
      "     16/3    0.000    0.000    0.025    0.008 <frozen importlib._bootstrap>:987(_find_and_load_unlocked)\n",
      "     1200    0.022    0.000    0.025    0.000 numeric.py:1129(roll)\n",
      "     16/3    0.000    0.000    0.024    0.008 <frozen importlib._bootstrap>:664(_load_unlocked)\n",
      "     15/3    0.000    0.000    0.024    0.008 <frozen importlib._bootstrap_external>:877(exec_module)\n",
      "      100    0.017    0.000    0.023    0.000 amplitude_measurement.py:68(approximate_posterior)\n",
      "     22/3    0.000    0.000    0.021    0.007 <frozen importlib._bootstrap>:233(_call_with_frames_removed)\n",
      "        2    0.000    0.000    0.016    0.008 __init__.py:1(<module>)\n",
      "      600    0.002    0.000    0.016    0.000 helper.py:76(ifftshift)\n",
      "       15    0.000    0.000    0.016    0.001 <frozen importlib._bootstrap_external>:950(get_code)\n",
      "     1400    0.001    0.000    0.015    0.000 wave.py:170(receive_message)\n",
      "       15    0.000    0.000    0.014    0.001 <frozen importlib._bootstrap_external>:1070(get_data)\n",
      "      700    0.011    0.000    0.013    0.000 uncertain_array_tensor.py:120(__setitem__)\n",
      "      600    0.001    0.000    0.013    0.000 helper.py:19(fftshift)\n",
      "        1    0.000    0.000    0.013    0.013 std.py:663(__new__)\n",
      "       15    0.012    0.001    0.012    0.001 {built-in method io.open_code}\n",
      "        1    0.000    0.000    0.012    0.012 std.py:760(get_lock)\n",
      "        1    0.000    0.000    0.012    0.012 std.py:90(__init__)"
     ]
    }
   ],
   "source": [
    "%prun -l 40 -s cumulative g.run(n_iter=100, callback=None)"
   ]
  },
  {
   "cell_type": "code",
   "execution_count": null,
   "id": "8ab62ea1",
   "metadata": {},
   "outputs": [],
   "source": []
  }
 ],
 "metadata": {
  "kernelspec": {
   "display_name": "cupy-env",
   "language": "python",
   "name": "python3"
  },
  "language_info": {
   "codemirror_mode": {
    "name": "ipython",
    "version": 3
   },
   "file_extension": ".py",
   "mimetype": "text/x-python",
   "name": "python",
   "nbconvert_exporter": "python",
   "pygments_lexer": "ipython3",
   "version": "3.10.5"
  }
 },
 "nbformat": 4,
 "nbformat_minor": 5
}
