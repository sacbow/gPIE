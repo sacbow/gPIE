{
 "cells": [
  {
   "cell_type": "code",
   "execution_count": 1,
   "id": "b7a20c76",
   "metadata": {},
   "outputs": [
    {
     "name": "stdout",
     "output_type": "stream",
     "text": [
      "PYTHONPATH manually set to: c:\\Users\\ndhaj\\Desktop\\GraphicalPR\n"
     ]
    }
   ],
   "source": [
    "import os, sys\n",
    "\n",
    "project_root = os.path.abspath(os.path.join(os.getcwd(), '..'))\n",
    "os.environ['PYTHONPATH'] = project_root\n",
    "if project_root not in sys.path:\n",
    "    sys.path.insert(0, project_root)\n",
    "\n",
    "print(\"PYTHONPATH manually set to:\", os.environ['PYTHONPATH'])"
   ]
  },
  {
   "cell_type": "code",
   "execution_count": 2,
   "id": "92b4ba63",
   "metadata": {},
   "outputs": [
    {
     "name": "stdout",
     "output_type": "stream",
     "text": [
      "[t=0] PMSE = 7.012e-01\n",
      "[t=20] PMSE = 3.239e-01\n",
      "[t=40] PMSE = 9.617e-03\n",
      "[t=60] PMSE = 2.529e-04\n",
      "[t=80] PMSE = 2.516e-04\n",
      "\n",
      "Final PMSE after 100 iterations: 2.516e-04\n"
     ]
    }
   ],
   "source": [
    "import numpy as np\n",
    "from core.metrics import pmse\n",
    "from core.linalg_utils import circular_aperture, random_unitary_matrix\n",
    "from graph.structure.graph import Graph\n",
    "from graph.prior.support_prior import SupportPrior\n",
    "from graph.propagator.unitary_propagator import UnitaryPropagator\n",
    "from graph.measurement.amplitude_measurement import AmplitudeMeasurement\n",
    "\n",
    "# ==== 1. パラメータ ====\n",
    "n = 256\n",
    "m = int(3*n)\n",
    "shape = (m,)\n",
    "rng = np.random.default_rng(seed=123)\n",
    "var = 1e-4\n",
    "U = random_unitary_matrix(m, rng=rng)\n",
    "\n",
    "# Support mask: center half active\n",
    "support = np.zeros(shape, dtype=bool)\n",
    "support[n:2*n] = True\n",
    "\n",
    "# ==== 2. グラフ定義 ====\n",
    "class SimplePhaseGraph(Graph):\n",
    "    def __init__(self):\n",
    "        super().__init__()\n",
    "        self.X = SupportPrior(support=support)\n",
    "        self.Y = UnitaryPropagator(U) @ self.X\n",
    "        self.Z = AmplitudeMeasurement(self.Y, var=var, damping=0.1)\n",
    "        self.compile()\n",
    "\n",
    "# ==== 3. 初期化とデータ生成 ====\n",
    "g = SimplePhaseGraph()\n",
    "g.set_init_rng(np.random.default_rng(seed=11))\n",
    "\n",
    "g.generate_sample(rng=np.random.default_rng(seed=999))\n",
    "true_x = g.X.get_sample()\n",
    "\n",
    "# 観測データを measurement に設定\n",
    "g.Z.update_observed_from_sample()\n",
    "\n",
    "# ==== 4. 推論（Belief Propagation） ====\n",
    "def monitor(graph, t):\n",
    "    if t % 20 == 0:\n",
    "        est = graph.X.compute_belief().data\n",
    "        err = pmse(est, true_x)\n",
    "        print(f\"[t={t}] PMSE = {err:.3e}\")\n",
    "\n",
    "g.run(n_iter=100, callback=monitor)\n",
    "\n",
    "# ==== 5. 結果 ====\n",
    "final_est = g.X.compute_belief().data\n",
    "final_err = pmse(final_est, true_x)\n",
    "print(f\"\\nFinal PMSE after 100 iterations: {final_err:.3e}\")"
   ]
  },
  {
   "cell_type": "code",
   "execution_count": 3,
   "id": "7abfc598",
   "metadata": {},
   "outputs": [
    {
     "name": "stdout",
     "output_type": "stream",
     "text": [
      "[t=0] PMSE = 2.516e-04\n",
      "[t=20] PMSE = 2.516e-04\n",
      "[t=40] PMSE = 2.516e-04\n",
      "[t=60] PMSE = 2.516e-04\n",
      "[t=80] PMSE = 2.516e-04\n",
      " "
     ]
    },
    {
     "name": "stdout",
     "output_type": "stream",
     "text": [
      "         19933 function calls in 0.061 seconds\n",
      "\n",
      "   Ordered by: cumulative time\n",
      "   List reduced from 94 to 40 due to restriction <40>\n",
      "\n",
      "   ncalls  tottime  percall  cumtime  percall filename:lineno(function)\n",
      "        1    0.000    0.000    0.061    0.061 {built-in method builtins.exec}\n",
      "        1    0.000    0.000    0.061    0.061 <string>:1(<module>)\n",
      "        1    0.000    0.000    0.061    0.061 graph.py:84(run)\n",
      "      100    0.000    0.000    0.058    0.001 graph.py:79(backward)\n",
      "      100    0.000    0.000    0.047    0.000 unitary_propagator.py:112(backward)\n",
      "      100    0.040    0.000    0.044    0.000 unitary_propagator.py:63(compute_belief)\n",
      "      100    0.000    0.000    0.009    0.000 base.py:70(backward)\n",
      "      100    0.000    0.000    0.009    0.000 amplitude_measurement.py:76(_compute_message)\n",
      "      200    0.002    0.000    0.005    0.000 linalg_utils.py:4(reduce_precision_to_scalar)\n",
      "      300    0.004    0.000    0.005    0.000 uncertain_array.py:164(__truediv__)\n",
      "      100    0.003    0.000    0.003    0.000 amplitude_measurement.py:55(approximate_posterior)\n",
      "      100    0.000    0.000    0.003    0.000 uncertain_array.py:234(as_scalar_precision)\n",
      "     1010    0.001    0.000    0.003    0.000 uncertain_array.py:35(__init__)\n",
      "      205    0.000    0.000    0.002    0.000 fromnumeric.py:3385(mean)\n",
      "      100    0.000    0.000    0.002    0.000 graph.py:74(forward)\n",
      "      205    0.001    0.000    0.002    0.000 _methods.py:101(_mean)\n",
      "     1010    0.001    0.000    0.002    0.000 uncertain_array.py:72(_set_precision_internal)\n",
      "     1910    0.001    0.000    0.002    0.000 numeric.py:1855(isscalar)\n",
      "      100    0.000    0.000    0.002    0.000 unitary_propagator.py:102(forward)\n",
      "      200    0.000    0.000    0.001    0.000 fromnumeric.py:2322(any)\n",
      "      210    0.000    0.000    0.001    0.000 fromnumeric.py:71(_wrapreduction)\n",
      "      200    0.000    0.000    0.001    0.000 wave.py:179(backward)\n",
      "      100    0.001    0.000    0.001    0.000 uncertain_array.py:200(damp_with)\n",
      "      415    0.001    0.000    0.001    0.000 {method 'reduce' of 'numpy.ufunc' objects}\n",
      "     3760    0.001    0.000    0.001    0.000 {built-in method builtins.isinstance}\n",
      "      100    0.000    0.000    0.001    0.000 2897558074.py:41(monitor)\n",
      "      300    0.000    0.000    0.001    0.000 uncertain_array.py:89(precision)\n",
      "      205    0.001    0.000    0.001    0.000 _methods.py:67(_count_reduce_items)\n",
      "      400    0.001    0.000    0.001    0.000 wave.py:113(receive_message)\n",
      "      200    0.000    0.000    0.001    0.000 uncertain_array_tensor.py:110(__getitem__)\n",
      "      100    0.000    0.000    0.000    0.000 numeric.py:274(full)\n",
      "      810    0.000    0.000    0.000    0.000 abc.py:117(__instancecheck__)\n",
      "      400    0.000    0.000    0.000    0.000 factor.py:93(receive_message)\n",
      "        5    0.000    0.000    0.000    0.000 {built-in method builtins.print}\n",
      "       10    0.000    0.000    0.000    0.000 iostream.py:655(write)\n",
      "      200    0.000    0.000    0.000    0.000 wave.py:157(forward)\n",
      "     1210    0.000    0.000    0.000    0.000 {built-in method numpy.asarray}\n",
      "        5    0.000    0.000    0.000    0.000 wave.py:137(compute_belief)\n",
      "       10    0.000    0.000    0.000    0.000 iostream.py:577(_schedule_flush)\n",
      "        1    0.000    0.000    0.000    0.000 iostream.py:259(schedule)"
     ]
    }
   ],
   "source": [
    "%prun -l 40 -s cumulative g.run(n_iter=100, callback=monitor)"
   ]
  },
  {
   "cell_type": "code",
   "execution_count": 4,
   "id": "71422d23",
   "metadata": {},
   "outputs": [
    {
     "data": {
      "image/png": "[encoded data removed]",
      "text/plain": [
       "<Figure size 640x480 with 1 Axes>"
      ]
     },
     "metadata": {},
     "output_type": "display_data"
    }
   ],
   "source": [
    "g.visualize(layout=\"kamada_kawai\", font_size=6.5, scale=2.0)"
   ]
  },
  {
   "cell_type": "markdown",
   "id": "94d45b18",
   "metadata": {},
   "source": [
    "## Sparse Phase Retrieval"
   ]
  },
  {
   "cell_type": "code",
   "execution_count": 5,
   "id": "366d0cb0",
   "metadata": {},
   "outputs": [
    {
     "name": "stdout",
     "output_type": "stream",
     "text": [
      "[t=0] PMSE = 3.311e-01\n",
      "[t=100] PMSE = 1.804e-01\n",
      "[t=200] PMSE = 1.804e-01\n",
      "[t=300] PMSE = 1.804e-01\n",
      "[t=400] PMSE = 1.804e-01\n",
      "[t=500] PMSE = 1.804e-01\n",
      "[t=600] PMSE = 1.804e-01\n",
      "[t=700] PMSE = 1.804e-01\n",
      "[t=800] PMSE = 1.804e-01\n",
      "[t=900] PMSE = 1.804e-01\n",
      "\n",
      "Final PMSE after 1000 iterations: 1.804e-01\n"
     ]
    }
   ],
   "source": [
    "import numpy as np\n",
    "from core.metrics import pmse\n",
    "from core.linalg_utils import random_unitary_matrix\n",
    "from graph.structure.graph import Graph\n",
    "from graph.prior.sparse_prior import SparsePrior\n",
    "from graph.propagator.unitary_propagator import UnitaryPropagator\n",
    "from graph.measurement.amplitude_measurement import AmplitudeMeasurement\n",
    "\n",
    "# ==== 1. パラメータ ====\n",
    "n = 128\n",
    "rho = 0.2\n",
    "var = 1e-4\n",
    "rng = np.random.default_rng(seed=43)\n",
    "U = random_unitary_matrix(n, rng=rng)\n",
    "\n",
    "# ==== 2. グラフ定義 ====\n",
    "class SparsePhaseGraph(Graph):\n",
    "    def __init__(self):\n",
    "        super().__init__()\n",
    "        self.X = SparsePrior(rho=rho, shape=(n,), damping=0.3)\n",
    "        self.Y = UnitaryPropagator(U) @ self.X\n",
    "        self.Z = AmplitudeMeasurement(self.Y, var=var, damping=0.3)\n",
    "        self.compile()\n",
    "\n",
    "# ==== 3. 実行 ====\n",
    "g = SparsePhaseGraph()\n",
    "g.set_init_rng(np.random.default_rng(seed=15))\n",
    "g.generate_sample(rng=np.random.default_rng(seed=99))\n",
    "true_x = g.X.get_sample()\n",
    "g.Z.update_observed_from_sample()\n",
    "\n",
    "# ==== 4. 推論 ====\n",
    "def monitor(graph, t):\n",
    "    if t % 100 == 0:\n",
    "        est = graph.X.compute_belief().data\n",
    "        err = pmse(est, true_x)\n",
    "        print(f\"[t={t}] PMSE = {err:.3e}\")\n",
    "\n",
    "g.run(n_iter=1000, callback=monitor)\n",
    "\n",
    "final_est = g.X.compute_belief().data\n",
    "final_err = pmse(final_est, true_x)\n",
    "print(f\"\\nFinal PMSE after 1000 iterations: {final_err:.3e}\")"
   ]
  },
  {
   "cell_type": "markdown",
   "id": "8471d288",
   "metadata": {},
   "source": [
    "## Fourier Phase Retrieval"
   ]
  },
  {
   "cell_type": "code",
   "execution_count": 6,
   "id": "48b8a2ec",
   "metadata": {},
   "outputs": [
    {
     "name": "stdout",
     "output_type": "stream",
     "text": [
      "[t=0] PMSE = 6.38548e-01\n",
      "[t=20] PMSE = 3.28026e-01\n",
      "[t=40] PMSE = 3.17933e-01\n",
      "[t=60] PMSE = 3.13003e-01\n",
      "[t=80] PMSE = 3.08306e-01\n",
      "[t=100] PMSE = 2.38245e-01\n",
      "[t=120] PMSE = 4.00014e-04\n",
      "[t=140] PMSE = 2.49607e-04\n",
      "[t=160] PMSE = 2.49254e-04\n",
      "[t=180] PMSE = 2.49246e-04\n",
      "Oversampling Ration =  3.108494982263581\n"
     ]
    }
   ],
   "source": [
    "import numpy as np\n",
    "import matplotlib.pyplot as plt\n",
    "\n",
    "from core.metrics import pmse\n",
    "from core.linalg_utils import circular_aperture, random_phase_mask\n",
    "from graph.structure.graph import Graph\n",
    "from graph.prior.support_prior import SupportPrior\n",
    "from graph.propagator.phase_mask_propagator import PhaseMaskPropagator\n",
    "from graph.propagator.fft_2d_propagator import FFT2DPropagator\n",
    "from graph.measurement.amplitude_measurement import AmplitudeMeasurement\n",
    "# ==== 1. パラメータ ====\n",
    "H, W = 256, 256\n",
    "shape = (H, W)\n",
    "var = 1e-4\n",
    "support_radius = 0.32\n",
    "rng = np.random.default_rng(seed=42)\n",
    "\n",
    "class StructuredRandomGraph(Graph):\n",
    "    def __init__(self):\n",
    "        super().__init__()\n",
    "        support = circular_aperture(shape, radius=support_radius)\n",
    "        self.X = SupportPrior(support=support)\n",
    "        # Structured random layers (D₁F D₂F D₃F)\n",
    "        phase1 = random_phase_mask(shape, rng=rng)\n",
    "        self.Y1 = PhaseMaskPropagator(phase1) @ self.X\n",
    "        self.Y2 = FFT2DPropagator(shape=shape) @ self.Y1\n",
    "        phase2 = random_phase_mask(shape, rng=rng)\n",
    "        self.Y3 = PhaseMaskPropagator(phase2) @ self.Y2\n",
    "        self.Y4 = FFT2DPropagator(shape=shape) @ self.Y3\n",
    "        # Final measurement\n",
    "        self.Z = AmplitudeMeasurement(self.Y4, var=var, damping=0.3)\n",
    "\n",
    "        self.compile()\n",
    "\n",
    "# ==== 3. 初期化とデータ生成 ====\n",
    "g = StructuredRandomGraph()\n",
    "g.set_init_rng(np.random.default_rng(seed=1))\n",
    "g.generate_sample(rng=np.random.default_rng(seed=999))\n",
    "true_x = g.X.get_sample()\n",
    "g.Z.update_observed_from_sample()\n",
    "\n",
    "# ==== 4. 推論 ====\n",
    "def monitor(graph, t):\n",
    "    est = graph.X.compute_belief().data\n",
    "    err = pmse(est, true_x)\n",
    "    if t % 20 == 0:\n",
    "        print(f\"[t={t}] PMSE = {err:.5e}\")\n",
    "\n",
    "g.run(n_iter=200, callback=monitor)\n",
    "print(\"Oversampling Ration = \", 1/(support_radius**2 * np.pi))"
   ]
  },
  {
   "cell_type": "code",
   "execution_count": 7,
   "id": "427e8918",
   "metadata": {},
   "outputs": [
    {
     "name": "stdout",
     "output_type": "stream",
     "text": [
      "[t=0] PMSE = 2.49245e-04\n",
      "[t=20] PMSE = 2.49245e-04\n",
      "[t=40] PMSE = 2.49245e-04\n",
      "[t=60] PMSE = 2.49245e-04\n",
      "[t=80] PMSE = 2.49245e-04\n",
      "[t=100] PMSE = 2.49245e-04\n",
      "[t=120] PMSE = 2.49245e-04\n",
      "[t=140] PMSE = 2.49245e-04\n",
      "[t=160] PMSE = 2.49245e-04\n",
      "[t=180] PMSE = 2.49245e-04\n",
      " "
     ]
    },
    {
     "name": "stdout",
     "output_type": "stream",
     "text": [
      "         137915 function calls in 4.357 seconds\n",
      "\n",
      "   Ordered by: cumulative time\n",
      "   List reduced from 136 to 40 due to restriction <40>\n",
      "\n",
      "   ncalls  tottime  percall  cumtime  percall filename:lineno(function)\n",
      "        1    0.000    0.000    4.357    4.357 {built-in method builtins.exec}\n",
      "        1    0.000    0.000    4.357    4.357 <string>:1(<module>)\n",
      "        1    0.001    0.001    4.357    4.357 graph.py:84(run)\n",
      "      200    0.015    0.000    3.183    0.016 graph.py:79(backward)\n",
      "      400    0.015    0.000    2.140    0.005 fft_2d_propagator.py:110(backward)\n",
      "      400    0.426    0.001    1.651    0.004 fft_2d_propagator.py:61(compute_belief)\n",
      "     1000    1.078    0.001    1.085    0.001 uncertain_array.py:164(__truediv__)\n",
      "      200    0.007    0.000    0.803    0.004 base.py:70(backward)\n",
      "      200    0.074    0.000    0.782    0.004 amplitude_measurement.py:76(_compute_message)\n",
      "      800    0.031    0.000    0.755    0.001 _pocketfft.py:701(_raw_fftnd)\n",
      "     1600    0.005    0.000    0.703    0.000 _pocketfft.py:49(_raw_fft)\n",
      "     1600    0.695    0.000    0.695    0.000 {built-in method numpy.fft._pocketfft_internal.execute}\n",
      "      400    0.028    0.000    0.603    0.002 fft_2d_propagator.py:23(_ifft2_centered)\n",
      "      200    0.002    0.000    0.600    0.003 graph.py:74(forward)\n",
      "      400    0.027    0.000    0.595    0.001 fft_2d_propagator.py:20(_fft2_centered)\n",
      "      200    0.007    0.000    0.573    0.003 2294734757.py:43(monitor)\n",
      "      400    0.001    0.000    0.459    0.001 fft_2d_propagator.py:100(forward)\n",
      "      200    0.020    0.000    0.428    0.002 wave.py:137(compute_belief)\n",
      "      400    0.001    0.000    0.379    0.001 _pocketfft.py:1017(ifft2)\n",
      "      400    0.001    0.000    0.377    0.001 _pocketfft.py:921(fft2)\n",
      "     1600    0.372    0.000    0.376    0.000 numeric.py:1129(roll)\n",
      "      800    0.001    0.000    0.356    0.000 _pocketfft.py:219(ifft)\n",
      "      800    0.001    0.000    0.355    0.000 _pocketfft.py:122(fft)\n",
      "      200    0.322    0.002    0.331    0.002 amplitude_measurement.py:55(approximate_posterior)\n",
      "      200    0.220    0.001    0.221    0.001 uncertain_array.py:141(__mul__)\n",
      "      400    0.002    0.000    0.215    0.001 base.py:73(backward)\n",
      "      800    0.004    0.000    0.197    0.000 helper.py:76(ifftshift)\n",
      "      800    0.004    0.000    0.189    0.000 helper.py:19(fftshift)\n",
      "      200    0.111    0.001    0.187    0.001 uncertain_array_tensor.py:81(combine)\n",
      "      400    0.180    0.000    0.181    0.000 phase_mask_propagator.py:73(_compute_backward)\n",
      "      200    0.141    0.001    0.142    0.001 uncertain_array.py:200(damp_with)\n",
      "      200    0.000    0.000    0.136    0.001 metrics.py:50(pmse)\n",
      "      400    0.002    0.000    0.099    0.000 base.py:54(forward)\n",
      "      400    0.094    0.000    0.096    0.000 phase_mask_propagator.py:66(_compute_forward)\n",
      "     2000    0.088    0.000    0.089    0.000 wave.py:113(receive_message)\n",
      "      200    0.070    0.000    0.078    0.000 metrics.py:3(mse)\n",
      "     1400    0.071    0.000    0.071    0.000 {method 'reduce' of 'numpy.ufunc' objects}\n",
      "      800    0.002    0.000    0.064    0.000 fromnumeric.py:71(_wrapreduction)\n",
      "      400    0.041    0.000    0.061    0.000 linalg_utils.py:4(reduce_precision_to_scalar)\n",
      "      400    0.001    0.000    0.060    0.000 fromnumeric.py:2177(sum)"
     ]
    }
   ],
   "source": [
    "%prun -l 40 -s cumulative g.run(n_iter=200, callback=monitor)"
   ]
  },
  {
   "cell_type": "code",
   "execution_count": 8,
   "id": "31f8511e",
   "metadata": {},
   "outputs": [
    {
     "data": {
      "image/png": "[encoded data removed]",
      "text/plain": [
       "<Figure size 640x480 with 1 Axes>"
      ]
     },
     "metadata": {},
     "output_type": "display_data"
    }
   ],
   "source": [
    "g.visualize(layout=\"kamada_kawai\", font_size=6.5, scale=2.0)"
   ]
  },
  {
   "cell_type": "code",
   "execution_count": null,
   "id": "b370c5e0",
   "metadata": {},
   "outputs": [],
   "source": []
  }
 ],
 "metadata": {
  "kernelspec": {
   "display_name": "cupy-env",
   "language": "python",
   "name": "python3"
  },
  "language_info": {
   "codemirror_mode": {
    "name": "ipython",
    "version": 3
   },
   "file_extension": ".py",
   "mimetype": "text/x-python",
   "name": "python",
   "nbconvert_exporter": "python",
   "pygments_lexer": "ipython3",
   "version": "3.10.5"
  }
 },
 "nbformat": 4,
 "nbformat_minor": 5
}
