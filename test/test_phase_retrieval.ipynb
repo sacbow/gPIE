{
 "cells": [
  {
   "cell_type": "code",
   "execution_count": 1,
   "id": "b7a20c76",
   "metadata": {},
   "outputs": [
    {
     "name": "stdout",
     "output_type": "stream",
     "text": [
      "PYTHONPATH manually set to: c:\\Users\\ndhaj\\Desktop\\GraphicalPR\n"
     ]
    }
   ],
   "source": [
    "import os, sys\n",
    "\n",
    "project_root = os.path.abspath(os.path.join(os.getcwd(), '..'))\n",
    "os.environ['PYTHONPATH'] = project_root\n",
    "if project_root not in sys.path:\n",
    "    sys.path.insert(0, project_root)\n",
    "\n",
    "print(\"PYTHONPATH manually set to:\", os.environ['PYTHONPATH'])"
   ]
  },
  {
   "cell_type": "code",
   "execution_count": 2,
   "id": "92b4ba63",
   "metadata": {},
   "outputs": [
    {
     "name": "stdout",
     "output_type": "stream",
     "text": [
      "[t=0] PMSE = 7.012e-01\n",
      "[t=20] PMSE = 3.239e-01\n",
      "[t=40] PMSE = 1.996e-01\n",
      "[t=60] PMSE = 1.354e-03\n",
      "[t=80] PMSE = 2.521e-04\n",
      "\n",
      "Final PMSE after 100 iterations: 2.516e-04\n"
     ]
    }
   ],
   "source": [
    "import numpy as np\n",
    "from core.metrics import pmse\n",
    "from core.linalg_utils import circular_aperture, random_unitary_matrix\n",
    "from graph.structure.graph import Graph\n",
    "from graph.prior.support_prior import SupportPrior\n",
    "from graph.propagator.unitary_propagator import UnitaryPropagator\n",
    "from graph.measurement.amplitude_measurement import AmplitudeMeasurement\n",
    "\n",
    "# ==== 1. パラメータ ====\n",
    "n = 256\n",
    "m = int(3*n)\n",
    "shape = (m,)\n",
    "rng = np.random.default_rng(seed=123)\n",
    "var = 1e-4\n",
    "U = random_unitary_matrix(m, rng=rng)\n",
    "\n",
    "# Support mask: center half active\n",
    "support = np.zeros(shape, dtype=bool)\n",
    "support[n:2*n] = True\n",
    "\n",
    "# ==== 2. グラフ定義 ====\n",
    "class SimplePhaseGraph(Graph):\n",
    "    def __init__(self):\n",
    "        super().__init__()\n",
    "        self.X = SupportPrior(support=support)\n",
    "        self.Y = UnitaryPropagator(U) @ self.X\n",
    "        self.Z = AmplitudeMeasurement(self.Y, var=var, damping=0.1)\n",
    "        self.compile()\n",
    "\n",
    "# ==== 3. 初期化とデータ生成 ====\n",
    "g = SimplePhaseGraph()\n",
    "g.set_init_rng(np.random.default_rng(seed=11))\n",
    "\n",
    "g.generate_sample(rng=np.random.default_rng(seed=999))\n",
    "true_x = g.X.get_sample()\n",
    "\n",
    "# 観測データを measurement に設定\n",
    "g.Z.update_observed_from_sample()\n",
    "\n",
    "# ==== 4. 推論（Belief Propagation） ====\n",
    "def monitor(graph, t):\n",
    "    if t % 20 == 0:\n",
    "        est = graph.X.compute_belief().data\n",
    "        err = pmse(est, true_x)\n",
    "        print(f\"[t={t}] PMSE = {err:.3e}\")\n",
    "\n",
    "g.run(n_iter=100, callback=monitor)\n",
    "\n",
    "# ==== 5. 結果 ====\n",
    "final_est = g.X.compute_belief().data\n",
    "final_err = pmse(final_est, true_x)\n",
    "print(f\"\\nFinal PMSE after 100 iterations: {final_err:.3e}\")"
   ]
  },
  {
   "cell_type": "code",
   "execution_count": 3,
   "id": "7abfc598",
   "metadata": {},
   "outputs": [
    {
     "name": "stdout",
     "output_type": "stream",
     "text": [
      "[t=0] PMSE = 2.516e-04\n",
      "[t=20] PMSE = 2.516e-04\n",
      "[t=40] PMSE = 2.516e-04\n",
      "[t=60] PMSE = 2.516e-04\n",
      "[t=80] PMSE = 2.516e-04\n",
      " "
     ]
    },
    {
     "name": "stdout",
     "output_type": "stream",
     "text": [
      "         44333 function calls in 0.089 seconds\n",
      "\n",
      "   Ordered by: cumulative time\n",
      "   List reduced from 92 to 40 due to restriction <40>\n",
      "\n",
      "   ncalls  tottime  percall  cumtime  percall filename:lineno(function)\n",
      "        1    0.000    0.000    0.089    0.089 {built-in method builtins.exec}\n",
      "        1    0.000    0.000    0.089    0.089 <string>:1(<module>)\n",
      "        1    0.000    0.000    0.089    0.089 graph.py:62(run)\n",
      "      100    0.000    0.000    0.071    0.001 graph.py:57(backward)\n",
      "      100    0.000    0.000    0.057    0.001 unitary_propagator.py:75(backward)\n",
      "      100    0.049    0.000    0.053    0.001 unitary_propagator.py:31(compute_belief)\n",
      "      100    0.000    0.000    0.017    0.000 graph.py:52(forward)\n",
      "      200    0.000    0.000    0.014    0.000 wave.py:120(forward)\n",
      "      500    0.006    0.000    0.012    0.000 uncertain_array.py:164(__truediv__)\n",
      "      100    0.000    0.000    0.012    0.000 base.py:50(backward)\n",
      "      100    0.000    0.000    0.011    0.000 amplitude_measurement.py:78(_compute_message)\n",
      "      205    0.000    0.000    0.009    0.000 wave.py:100(compute_belief)\n",
      "      205    0.002    0.000    0.006    0.000 uncertain_array_tensor.py:78(combine)\n",
      "      200    0.002    0.000    0.006    0.000 linalg_utils.py:4(reduce_precision_to_scalar)\n",
      "     1810    0.001    0.000    0.006    0.000 uncertain_array.py:35(__init__)\n",
      "     3910    0.002    0.000    0.004    0.000 numeric.py:1855(isscalar)\n",
      "     1810    0.002    0.000    0.004    0.000 uncertain_array.py:72(_set_precision_internal)\n",
      "      100    0.003    0.000    0.003    0.000 amplitude_measurement.py:53(approximate_posterior)\n",
      "      705    0.000    0.000    0.003    0.000 fromnumeric.py:2100(clip)\n",
      "      610    0.001    0.000    0.003    0.000 fromnumeric.py:71(_wrapreduction)\n",
      "      100    0.000    0.000    0.003    0.000 uncertain_array.py:234(as_scalar_precision)\n",
      "      100    0.000    0.000    0.003    0.000 unitary_propagator.py:65(forward)\n",
      "     1300    0.001    0.000    0.003    0.000 uncertain_array.py:89(precision)\n",
      "      705    0.000    0.000    0.003    0.000 fromnumeric.py:53(_wrapfunc)\n",
      "    10260    0.001    0.000    0.003    0.000 {built-in method builtins.isinstance}\n",
      "      205    0.002    0.000    0.003    0.000 uncertain_array.py:141(__mul__)\n",
      "      205    0.000    0.000    0.003    0.000 fromnumeric.py:3385(mean)\n",
      "      410    0.000    0.000    0.002    0.000 fromnumeric.py:2177(sum)\n",
      "      205    0.001    0.000    0.002    0.000 _methods.py:101(_mean)\n",
      "      815    0.002    0.000    0.002    0.000 {method 'reduce' of 'numpy.ufunc' objects}\n",
      "      100    0.002    0.000    0.002    0.000 uncertain_array.py:200(damp_with)\n",
      "      705    0.000    0.000    0.002    0.000 {method 'clip' of 'numpy.ndarray' objects}\n",
      "      705    0.002    0.000    0.002    0.000 _methods.py:90(_clip)\n",
      "      400    0.000    0.000    0.001    0.000 uncertain_array_tensor.py:98(__getitem__)\n",
      "      200    0.000    0.000    0.001    0.000 wave.py:136(backward)\n",
      "      200    0.000    0.000    0.001    0.000 fromnumeric.py:2322(any)\n",
      "     3310    0.001    0.000    0.001    0.000 abc.py:117(__instancecheck__)\n",
      "      400    0.001    0.000    0.001    0.000 wave.py:76(receive_message)\n",
      "      100    0.000    0.000    0.001    0.000 2897558074.py:41(monitor)\n",
      "      205    0.001    0.000    0.001    0.000 _methods.py:67(_count_reduce_items)"
     ]
    }
   ],
   "source": [
    "%prun -l 40 -s cumulative g.run(n_iter=100, callback=monitor)"
   ]
  },
  {
   "cell_type": "code",
   "execution_count": 4,
   "id": "71422d23",
   "metadata": {},
   "outputs": [
    {
     "data": {
      "image/png": "[encoded data removed]",
      "text/plain": [
       "<Figure size 640x480 with 1 Axes>"
      ]
     },
     "metadata": {},
     "output_type": "display_data"
    }
   ],
   "source": [
    "g.visualize(layout=\"kamada_kawai\", font_size=6.5, scale=2.0)"
   ]
  },
  {
   "cell_type": "markdown",
   "id": "94d45b18",
   "metadata": {},
   "source": [
    "## Sparse Phase Retrieval"
   ]
  },
  {
   "cell_type": "code",
   "execution_count": 5,
   "id": "366d0cb0",
   "metadata": {},
   "outputs": [
    {
     "name": "stdout",
     "output_type": "stream",
     "text": [
      "[t=0] PMSE = 3.311e-01\n",
      "[t=100] PMSE = 1.804e-01\n",
      "[t=200] PMSE = 1.804e-01\n",
      "[t=300] PMSE = 1.804e-01\n",
      "[t=400] PMSE = 1.804e-01\n",
      "[t=500] PMSE = 1.804e-01\n",
      "[t=600] PMSE = 1.804e-01\n",
      "[t=700] PMSE = 1.804e-01\n",
      "[t=800] PMSE = 1.804e-01\n",
      "[t=900] PMSE = 1.804e-01\n",
      "\n",
      "Final PMSE after 1000 iterations: 1.804e-01\n"
     ]
    }
   ],
   "source": [
    "import numpy as np\n",
    "from core.metrics import pmse\n",
    "from core.linalg_utils import random_unitary_matrix\n",
    "from graph.structure.graph import Graph\n",
    "from graph.prior.sparse_prior import SparsePrior\n",
    "from graph.propagator.unitary_propagator import UnitaryPropagator\n",
    "from graph.measurement.amplitude_measurement import AmplitudeMeasurement\n",
    "\n",
    "# ==== 1. パラメータ ====\n",
    "n = 128\n",
    "rho = 0.2\n",
    "var = 1e-4\n",
    "rng = np.random.default_rng(seed=43)\n",
    "U = random_unitary_matrix(n, rng=rng)\n",
    "\n",
    "# ==== 2. グラフ定義 ====\n",
    "class SparsePhaseGraph(Graph):\n",
    "    def __init__(self):\n",
    "        super().__init__()\n",
    "        self.X = SparsePrior(rho=rho, shape=(n,), damping=0.3)\n",
    "        self.Y = UnitaryPropagator(U) @ self.X\n",
    "        self.Z = AmplitudeMeasurement(self.Y, var=var, damping=0.3)\n",
    "        self.compile()\n",
    "\n",
    "# ==== 3. 実行 ====\n",
    "g = SparsePhaseGraph()\n",
    "g.set_init_rng(np.random.default_rng(seed=15))\n",
    "g.generate_sample(rng=np.random.default_rng(seed=99))\n",
    "true_x = g.X.get_sample()\n",
    "g.Z.update_observed_from_sample()\n",
    "\n",
    "# ==== 4. 推論 ====\n",
    "def monitor(graph, t):\n",
    "    if t % 100 == 0:\n",
    "        est = graph.X.compute_belief().data\n",
    "        err = pmse(est, true_x)\n",
    "        print(f\"[t={t}] PMSE = {err:.3e}\")\n",
    "\n",
    "g.run(n_iter=1000, callback=monitor)\n",
    "\n",
    "final_est = g.X.compute_belief().data\n",
    "final_err = pmse(final_est, true_x)\n",
    "print(f\"\\nFinal PMSE after 1000 iterations: {final_err:.3e}\")"
   ]
  },
  {
   "cell_type": "markdown",
   "id": "8471d288",
   "metadata": {},
   "source": [
    "## Fourier Phase Retrieval"
   ]
  },
  {
   "cell_type": "code",
   "execution_count": 6,
   "id": "a797500a",
   "metadata": {},
   "outputs": [
    {
     "name": "stdout",
     "output_type": "stream",
     "text": [
      "[t=0] PMSE = 5.80475e-01\n",
      "[t=40] PMSE = 4.11582e-01\n",
      "[t=80] PMSE = 4.44008e-01\n",
      "[t=120] PMSE = 4.75951e-01\n",
      "[t=160] PMSE = 4.98497e-01\n",
      "[t=200] PMSE = 5.13834e-01\n",
      "[t=240] PMSE = 5.24253e-01\n",
      "[t=280] PMSE = 5.32283e-01\n",
      "[t=320] PMSE = 5.37397e-01\n",
      "[t=360] PMSE = 5.40366e-01\n",
      "3.53677651315323\n"
     ]
    }
   ],
   "source": [
    "import numpy as np\n",
    "import matplotlib.pyplot as plt\n",
    "\n",
    "from core.metrics import pmse\n",
    "from core.linalg_utils import circular_aperture\n",
    "from graph.structure.graph import Graph\n",
    "from graph.prior.support_prior import SupportPrior\n",
    "from graph.propagator.fft_2d_propagator import FFT2DPropagator\n",
    "from graph.measurement.amplitude_measurement import AmplitudeMeasurement\n",
    "\n",
    "# ==== 1. パラメータ設定 ====\n",
    "H, W = 128, 128\n",
    "shape = (H, W)\n",
    "var = 1e-6\n",
    "support_radius = 0.3\n",
    "rng = np.random.default_rng(seed=42)\n",
    "\n",
    "# ==== 2. グラフ定義 ====\n",
    "class PhaseRetrievalGraph(Graph):\n",
    "    def __init__(self):\n",
    "        super().__init__()\n",
    "        # 2.1 Support mask\n",
    "        support = circular_aperture(shape, radius=support_radius)\n",
    "        self.X = SupportPrior(support=support, scalar_precision=False)\n",
    "        # 2.2 Forward model: FFT only\n",
    "        self.Y = FFT2DPropagator(shape=shape) @ self.X\n",
    "        # 2.3 AmplitudeMeasurement (nonlinear)\n",
    "        self.Z = AmplitudeMeasurement(self.Y, var=var, damping=0.05)\n",
    "        self.compile()\n",
    "\n",
    "# ==== 3. 初期化とデータ生成 ====\n",
    "g = PhaseRetrievalGraph()\n",
    "g.set_init_rng(np.random.default_rng(seed=1))\n",
    "g.generate_sample(rng=np.random.default_rng(seed=11))\n",
    "\n",
    "true_x = g.X.get_sample()\n",
    "g.Z.update_observed_from_sample()\n",
    "\n",
    "# ==== 4. 推論（Belief Propagation）====\n",
    "def monitor(graph, t):\n",
    "    est = graph.X.compute_belief().data\n",
    "    err = pmse(est, true_x)\n",
    "    if t % 40 == 0:\n",
    "        print(f\"[t={t}] PMSE = {err:.5e}\")\n",
    "\n",
    "g.run(n_iter=400, callback=monitor)\n",
    "print(1/(support_radius**2 * np.pi))"
   ]
  },
  {
   "cell_type": "code",
   "execution_count": 7,
   "id": "5cd4b797",
   "metadata": {},
   "outputs": [
    {
     "name": "stdout",
     "output_type": "stream",
     "text": [
      "[t=0] PMSE = 5.58730e-01\n",
      "[t=10] PMSE = 4.96965e-01\n",
      "[t=20] PMSE = 5.34579e-01\n",
      "[t=30] PMSE = 5.36787e-01\n",
      "[t=40] PMSE = 5.37293e-01\n",
      "[t=50] PMSE = 5.37473e-01\n",
      "[t=60] PMSE = 5.37626e-01\n",
      "[t=70] PMSE = 5.37613e-01\n",
      "[t=80] PMSE = 5.37653e-01\n",
      "[t=90] PMSE = 5.38025e-01\n"
     ]
    }
   ],
   "source": [
    "import numpy as np\n",
    "import matplotlib.pyplot as plt\n",
    "\n",
    "from core.metrics import pmse\n",
    "from core.linalg_utils import circular_aperture, random_phase_mask\n",
    "from graph.structure.graph import Graph\n",
    "from graph.prior.support_prior import SupportPrior\n",
    "from graph.propagator.phase_mask_propagator import PhaseMaskPropagator\n",
    "from graph.propagator.fft_2d_propagator import FFT2DPropagator\n",
    "from graph.measurement.amplitude_measurement import AmplitudeMeasurement\n",
    "\n",
    "# ==== 1. パラメータ ====\n",
    "H, W = 128, 128\n",
    "shape = (H, W)\n",
    "var = 1e-4\n",
    "support_radius = 0.3\n",
    "rng = np.random.default_rng(seed=42)\n",
    "\n",
    "# ==== 2. グラフ定義 ====\n",
    "class PhaseCodedCDIGraph(Graph):\n",
    "    def __init__(self):\n",
    "        super().__init__()\n",
    "\n",
    "        support = circular_aperture(shape, radius=support_radius)\n",
    "        self.X = SupportPrior(support=support, scalar_precision=False)\n",
    "\n",
    "        # Phase mask (adds randomness before FFT)\n",
    "        phase_mask = random_phase_mask(shape, rng=rng)\n",
    "        self.Y = PhaseMaskPropagator(phase_mask) @ self.X\n",
    "\n",
    "        self.F = FFT2DPropagator(shape=shape) @ self.Y\n",
    "\n",
    "        # Amplitude measurement with Laplace approximation\n",
    "        self.Z = AmplitudeMeasurement(self.F, var=var, damping=0.3)\n",
    "\n",
    "        self.compile()\n",
    "\n",
    "# ==== 3. 初期化とデータ生成 ====\n",
    "g = PhaseCodedCDIGraph()\n",
    "g.set_init_rng(np.random.default_rng(seed=1))\n",
    "g.generate_sample(rng=np.random.default_rng(seed=999))\n",
    "true_x = g.X.get_sample()\n",
    "g.Z.update_observed_from_sample()\n",
    "\n",
    "# ==== 4. 推論 ====\n",
    "def monitor(graph, t):\n",
    "    est = graph.X.compute_belief().data\n",
    "    err = pmse(est, true_x)\n",
    "    if t % 10 == 0:\n",
    "        print(f\"[t={t}] PMSE = {err:.5e}\")\n",
    "\n",
    "g.run(n_iter=100, callback=monitor)"
   ]
  },
  {
   "cell_type": "code",
   "execution_count": 11,
   "id": "48b8a2ec",
   "metadata": {},
   "outputs": [
    {
     "name": "stdout",
     "output_type": "stream",
     "text": [
      "[t=0] PMSE = 6.38548e-01\n",
      "[t=20] PMSE = 3.28026e-01\n",
      "[t=40] PMSE = 3.17933e-01\n",
      "[t=60] PMSE = 3.12909e-01\n",
      "[t=80] PMSE = 3.08295e-01\n",
      "[t=100] PMSE = 2.45706e-01\n",
      "[t=120] PMSE = 3.35101e-04\n",
      "[t=140] PMSE = 2.49502e-04\n",
      "[t=160] PMSE = 2.49245e-04\n",
      "[t=180] PMSE = 2.49245e-04\n",
      "Oversampling Ration =  3.108494982263581\n"
     ]
    }
   ],
   "source": [
    "# ==== 1. パラメータ ====\n",
    "H, W = 256, 256\n",
    "shape = (H, W)\n",
    "var = 1e-4\n",
    "support_radius = 0.32\n",
    "rng = np.random.default_rng(seed=42)\n",
    "\n",
    "class StructuredRandomGraph(Graph):\n",
    "    def __init__(self):\n",
    "        super().__init__()\n",
    "        support = circular_aperture(shape, radius=support_radius)\n",
    "        self.X = SupportPrior(support=support, scalar_precision=False)\n",
    "\n",
    "        # Structured random layers (D₁F D₂F D₃F)\n",
    "        phase1 = random_phase_mask(shape, rng=rng)\n",
    "        self.Y1 = PhaseMaskPropagator(phase1) @ self.X\n",
    "        self.Y2 = FFT2DPropagator(shape=shape) @ self.Y1\n",
    "        phase2 = random_phase_mask(shape, rng=rng)\n",
    "        self.Y3 = PhaseMaskPropagator(phase2) @ self.Y2\n",
    "        self.Y4 = FFT2DPropagator(shape=shape) @ self.Y3\n",
    "        # Final measurement\n",
    "        self.Z = AmplitudeMeasurement(self.Y4, var=var, damping=0.3)\n",
    "\n",
    "        self.compile()\n",
    "\n",
    "# ==== 3. 初期化とデータ生成 ====\n",
    "g = StructuredRandomGraph()\n",
    "g.set_init_rng(np.random.default_rng(seed=1))\n",
    "g.generate_sample(rng=np.random.default_rng(seed=999))\n",
    "true_x = g.X.get_sample()\n",
    "g.Z.update_observed_from_sample()\n",
    "\n",
    "# ==== 4. 推論 ====\n",
    "def monitor(graph, t):\n",
    "    est = graph.X.compute_belief().data\n",
    "    err = pmse(est, true_x)\n",
    "    if t % 20 == 0:\n",
    "        print(f\"[t={t}] PMSE = {err:.5e}\")\n",
    "\n",
    "g.run(n_iter=200, callback=monitor)\n",
    "print(\"Oversampling Ration = \", 1/(support_radius**2 * np.pi))"
   ]
  },
  {
   "cell_type": "code",
   "execution_count": 9,
   "id": "427e8918",
   "metadata": {},
   "outputs": [
    {
     "name": "stdout",
     "output_type": "stream",
     "text": [
      "[t=0] PMSE = 2.49245e-04\n",
      "[t=20] PMSE = 2.49245e-04\n",
      "[t=40] PMSE = 2.49245e-04\n",
      "[t=60] PMSE = 2.49245e-04\n",
      "[t=80] PMSE = 2.49245e-04\n",
      "[t=100] PMSE = 2.49245e-04\n",
      "[t=120] PMSE = 2.49245e-04\n",
      "[t=140] PMSE = 2.49245e-04\n",
      "[t=160] PMSE = 2.49245e-04\n",
      "[t=180] PMSE = 2.49245e-04\n",
      " "
     ]
    },
    {
     "name": "stdout",
     "output_type": "stream",
     "text": [
      "         263515 function calls in 7.993 seconds\n",
      "\n",
      "   Ordered by: cumulative time\n",
      "   List reduced from 134 to 40 due to restriction <40>\n",
      "\n",
      "   ncalls  tottime  percall  cumtime  percall filename:lineno(function)\n",
      "        1    0.000    0.000    7.993    7.993 {built-in method builtins.exec}\n",
      "        1    0.000    0.000    7.993    7.993 <string>:1(<module>)\n",
      "        1    0.001    0.001    7.993    7.993 graph.py:62(run)\n",
      "      200    0.002    0.000    4.055    0.020 graph.py:52(forward)\n",
      "      200    0.017    0.000    3.349    0.017 graph.py:57(backward)\n",
      "     1000    0.007    0.000    3.345    0.003 wave.py:120(forward)\n",
      "     1200    0.134    0.000    2.591    0.002 wave.py:100(compute_belief)\n",
      "     2000    2.299    0.001    2.411    0.001 uncertain_array.py:164(__truediv__)\n",
      "      400    0.017    0.000    2.265    0.006 fft_2d_propagator.py:67(backward)\n",
      "      400    0.443    0.001    1.729    0.004 fft_2d_propagator.py:25(compute_belief)\n",
      "     1200    1.303    0.001    1.311    0.001 uncertain_array.py:141(__mul__)\n",
      "     1200    0.680    0.001    1.146    0.001 uncertain_array_tensor.py:78(combine)\n",
      "      200    0.016    0.000    0.814    0.004 base.py:50(backward)\n",
      "      200    0.037    0.000    0.779    0.004 amplitude_measurement.py:78(_compute_message)\n",
      "      800    0.035    0.000    0.773    0.001 _pocketfft.py:701(_raw_fftnd)\n",
      "     1600    0.005    0.000    0.715    0.000 _pocketfft.py:49(_raw_fft)\n",
      "     1600    0.706    0.000    0.706    0.000 {built-in method numpy.fft._pocketfft_internal.execute}\n",
      "      400    0.031    0.000    0.624    0.002 fft_2d_propagator.py:22(_ifft2_centered)\n",
      "      400    0.031    0.000    0.609    0.002 fft_2d_propagator.py:19(_fft2_centered)\n",
      "      400    0.002    0.000    0.591    0.001 fft_2d_propagator.py:57(forward)\n",
      "      200    0.008    0.000    0.589    0.003 2730552577.py:34(monitor)\n",
      "      400    0.001    0.000    0.391    0.001 _pocketfft.py:1017(ifft2)\n",
      "     1600    0.381    0.000    0.386    0.000 numeric.py:1129(roll)\n",
      "      400    0.001    0.000    0.384    0.001 _pocketfft.py:921(fft2)\n",
      "     3800    0.375    0.000    0.375    0.000 {method 'reduce' of 'numpy.ufunc' objects}\n",
      "     3000    0.008    0.000    0.373    0.000 fromnumeric.py:71(_wrapreduction)\n",
      "     2400    0.005    0.000    0.371    0.000 fromnumeric.py:2177(sum)\n",
      "      800    0.001    0.000    0.364    0.000 _pocketfft.py:219(ifft)\n",
      "      800    0.001    0.000    0.360    0.000 _pocketfft.py:122(fft)\n",
      "      200    0.275    0.001    0.277    0.001 amplitude_measurement.py:53(approximate_posterior)\n",
      "      400    0.018    0.000    0.241    0.001 base.py:41(backward)\n",
      "      200    0.215    0.001    0.217    0.001 uncertain_array.py:200(damp_with)\n",
      "      800    0.004    0.000    0.201    0.000 helper.py:76(ifftshift)\n",
      "      800    0.004    0.000    0.196    0.000 helper.py:19(fftshift)\n",
      "      400    0.179    0.000    0.181    0.000 phase_mask_propagator.py:33(_compute_backward)\n",
      "     5600    0.006    0.000    0.166    0.000 fromnumeric.py:53(_wrapfunc)\n",
      "     3200    0.004    0.000    0.159    0.000 fromnumeric.py:2100(clip)\n",
      "     3200    0.003    0.000    0.151    0.000 {method 'clip' of 'numpy.ndarray' objects}\n",
      "     3200    0.149    0.000    0.149    0.000 _methods.py:90(_clip)\n",
      "      200    0.000    0.000    0.140    0.001 metrics.py:50(pmse)"
     ]
    }
   ],
   "source": [
    "%prun -l 40 -s cumulative g.run(n_iter=200, callback=monitor)"
   ]
  },
  {
   "cell_type": "code",
   "execution_count": 10,
   "id": "31f8511e",
   "metadata": {},
   "outputs": [
    {
     "data": {
      "image/png": "[encoded data removed]",
      "text/plain": [
       "<Figure size 640x480 with 1 Axes>"
      ]
     },
     "metadata": {},
     "output_type": "display_data"
    }
   ],
   "source": [
    "g.visualize(layout=\"kamada_kawai\", font_size=6.5, scale=2.0)"
   ]
  },
  {
   "cell_type": "code",
   "execution_count": null,
   "id": "b370c5e0",
   "metadata": {},
   "outputs": [],
   "source": []
  }
 ],
 "metadata": {
  "kernelspec": {
   "display_name": "cupy-env",
   "language": "python",
   "name": "python3"
  },
  "language_info": {
   "codemirror_mode": {
    "name": "ipython",
    "version": 3
   },
   "file_extension": ".py",
   "mimetype": "text/x-python",
   "name": "python",
   "nbconvert_exporter": "python",
   "pygments_lexer": "ipython3",
   "version": "3.10.5"
  }
 },
 "nbformat": 4,
 "nbformat_minor": 5
}
